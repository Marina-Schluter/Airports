rea un gráfico de barras que muestre el número de pasajeros en 2016 para los 10 aeropuertos más concurridos.

Genera un gráfico de líneas para comparar la cantidad de pasajeros entre 2015 y 2016 para los 5 aeropuertos principales, asignando un color distinto a cada aeropuerto.

Elabora un histograma para analizar la distribución del cambio porcentual en el número de pasajeros entre 2015 y 2016.

Desarrolla un diagrama de dispersión que compare el ranking en 2016 con el número de pasajeros en 2016 e incluye una línea de tendencia.

Crea un mapa de calor que muestre la correlación entre las variables numéricas del dataset.

Construye un gráfico circular para mostrar la distribución porcentual de pasajeros entre los cinco principales países con aeropuertos en la lista.

Diseña un gráfico de cajas para analizar la distribución del número de pasajeros en 2016 entre los aeropuertos.

Realiza un pairplot para mostrar las relaciones bivariadas entre el "Rank2016", "Passengers2016" y "Passengers2015".

Produce un gráfico de barras apiladas para comparar el número de pasajeros en 2015 y 2016 para los 10 principales aeropuertos.

Elabora un gráfico de líneas para mostrar la tendencia del número de pasajeros desde el aeropuerto más concurrido hasta el menos concurrido en 2016.

Crea un diagrama de violín para comparar la distribución del cambio de pasajeros (2016-2015) entre los países representados en el dataset.

Genera un gráfico de áreas que ilustre cómo cambia el número de pasajeros entre los aeropuertos del top 5 en 2016.

Implementa un mapa interactivo que muestre la ubicación de cada aeropuerto junto con su volumen de pasajeros en 2016.

Crea un gráfico de regresión para analizar la relación entre el ranking de 2016 y el cambio numérico de pasajeros de 2015 a 2016.

Diseña un gráfico de barras horizontales que muestre el cambio porcentual de pasajeros para cada aeropuerto entre 2015 y 2016.
