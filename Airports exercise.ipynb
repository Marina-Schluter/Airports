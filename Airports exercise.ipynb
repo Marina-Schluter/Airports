{
 "cells": [
  {
   "cell_type": "markdown",
   "metadata": {},
   "source": [
    "# Uso de gráficos para interpretar la información de un archivo csv"
   ]
  },
  {
   "cell_type": "markdown",
   "metadata": {},
   "source": [
    "## 1. Preprocesamiento de los datos"
   ]
  },
  {
   "cell_type": "code",
   "execution_count": 4,
   "metadata": {},
   "outputs": [],
   "source": [
    "#Importación de bibliotecas\n",
    "\n",
    "import pandas as pd\n",
    "import numpy as np\n",
    "import matplotlib.pyplot as plt\n",
    "import os\n",
    "import sys\n",
    "import seaborn as sns\n",
    "import plotly\n",
    "import plotly.express as px\n",
    "import plotly.graph_objects as go\n",
    "import plotly.figure_factory as ff"
   ]
  },
  {
   "cell_type": "code",
   "execution_count": 5,
   "metadata": {},
   "outputs": [
    {
     "name": "stdout",
     "output_type": "stream",
     "text": [
      "Requirement already satisfied: plotly in c:\\users\\mayin\\appdata\\local\\programs\\python\\python310\\lib\\site-packages (5.19.0)\n",
      "Requirement already satisfied: tenacity>=6.2.0 in c:\\users\\mayin\\appdata\\local\\programs\\python\\python310\\lib\\site-packages (from plotly) (8.2.3)\n",
      "Requirement already satisfied: packaging in c:\\users\\mayin\\appdata\\local\\programs\\python\\python310\\lib\\site-packages (from plotly) (23.2)\n",
      "Requirement already satisfied: plotly in c:\\users\\mayin\\appdata\\local\\programs\\python\\python310\\lib\\site-packages (5.19.0)\n",
      "Requirement already satisfied: tenacity>=6.2.0 in c:\\users\\mayin\\appdata\\local\\programs\\python\\python310\\lib\\site-packages (from plotly) (8.2.3)\n",
      "Requirement already satisfied: packaging in c:\\users\\mayin\\appdata\\local\\programs\\python\\python310\\lib\\site-packages (from plotly) (23.2)\n"
     ]
    }
   ],
   "source": [
    "#Instalación de plotly\n",
    "\n",
    "!pip install plotly \n",
    "!pip install plotly --upgrade\n",
    "!pip install nbformat>=4.2.0\n"
   ]
  },
  {
   "cell_type": "code",
   "execution_count": 6,
   "metadata": {},
   "outputs": [],
   "source": [
    "#creación del DataFrame\n",
    "\n",
    "df= pd.read_csv(r\"C:\\Users\\mayin\\Documents\\GitHub\\Airports\\Busiest-European-Airports-2016.csv\")"
   ]
  },
  {
   "cell_type": "code",
   "execution_count": 7,
   "metadata": {},
   "outputs": [
    {
     "data": {
      "text/plain": [
       "(100, 8)"
      ]
     },
     "execution_count": 7,
     "metadata": {},
     "output_type": "execute_result"
    }
   ],
   "source": [
    "#Visualización de la forma del df\n",
    "\n",
    "df.shape"
   ]
  },
  {
   "cell_type": "code",
   "execution_count": 8,
   "metadata": {},
   "outputs": [
    {
     "name": "stdout",
     "output_type": "stream",
     "text": [
      "<class 'pandas.core.frame.DataFrame'>\n",
      "RangeIndex: 100 entries, 0 to 99\n",
      "Data columns (total 8 columns):\n",
      " #   Column                Non-Null Count  Dtype \n",
      "---  ------                --------------  ----- \n",
      " 0   Rank2016              100 non-null    int64 \n",
      " 1   Airport               100 non-null    object\n",
      " 2   City served           100 non-null    object\n",
      " 3   Country               100 non-null    object\n",
      " 4   Passengers2016        100 non-null    int64 \n",
      " 5   Passengers2015        100 non-null    int64 \n",
      " 6   Change 2016-2015-Num  100 non-null    int64 \n",
      " 7   Change 2016-2015-%    100 non-null    object\n",
      "dtypes: int64(4), object(4)\n",
      "memory usage: 6.4+ KB\n"
     ]
    }
   ],
   "source": [
    "#Visualización general del tipo y forma del df\n",
    "\n",
    "df.info()"
   ]
  },
  {
   "cell_type": "code",
   "execution_count": 9,
   "metadata": {},
   "outputs": [
    {
     "data": {
      "text/plain": [
       "Index(['Rank2016', 'Airport', 'City served', 'Country', 'Passengers2016',\n",
       "       'Passengers2015', 'Change 2016-2015-Num', 'Change 2016-2015-%'],\n",
       "      dtype='object')"
      ]
     },
     "execution_count": 9,
     "metadata": {},
     "output_type": "execute_result"
    }
   ],
   "source": [
    "#Consulta de columnas. En este caso no para espacios\n",
    "\n",
    "df.columns"
   ]
  },
  {
   "cell_type": "code",
   "execution_count": 10,
   "metadata": {},
   "outputs": [
    {
     "data": {
      "text/html": [
       "<div>\n",
       "<style scoped>\n",
       "    .dataframe tbody tr th:only-of-type {\n",
       "        vertical-align: middle;\n",
       "    }\n",
       "\n",
       "    .dataframe tbody tr th {\n",
       "        vertical-align: top;\n",
       "    }\n",
       "\n",
       "    .dataframe thead th {\n",
       "        text-align: right;\n",
       "    }\n",
       "</style>\n",
       "<table border=\"1\" class=\"dataframe\">\n",
       "  <thead>\n",
       "    <tr style=\"text-align: right;\">\n",
       "      <th></th>\n",
       "      <th>Rank2016</th>\n",
       "      <th>Airport</th>\n",
       "      <th>City served</th>\n",
       "      <th>Country</th>\n",
       "      <th>Passengers2016</th>\n",
       "      <th>Passengers2015</th>\n",
       "      <th>Change 2016-2015-Num</th>\n",
       "      <th>Change 2016-2015-%</th>\n",
       "    </tr>\n",
       "  </thead>\n",
       "  <tbody>\n",
       "    <tr>\n",
       "      <th>0</th>\n",
       "      <td>1</td>\n",
       "      <td>Heathrow Airport</td>\n",
       "      <td>London</td>\n",
       "      <td>United Kingdom</td>\n",
       "      <td>75711130</td>\n",
       "      <td>74985475</td>\n",
       "      <td>725655</td>\n",
       "      <td>%0,97</td>\n",
       "    </tr>\n",
       "    <tr>\n",
       "      <th>1</th>\n",
       "      <td>2</td>\n",
       "      <td>Charles de Gaulle Airport</td>\n",
       "      <td>Paris</td>\n",
       "      <td>France</td>\n",
       "      <td>65933145</td>\n",
       "      <td>65766986</td>\n",
       "      <td>166159</td>\n",
       "      <td>%0,25</td>\n",
       "    </tr>\n",
       "    <tr>\n",
       "      <th>2</th>\n",
       "      <td>3</td>\n",
       "      <td>Amsterdam Airport Schiphol</td>\n",
       "      <td>Amsterdam</td>\n",
       "      <td>Netherlands</td>\n",
       "      <td>63625664</td>\n",
       "      <td>58284848</td>\n",
       "      <td>5340816</td>\n",
       "      <td>%9,16</td>\n",
       "    </tr>\n",
       "    <tr>\n",
       "      <th>3</th>\n",
       "      <td>4</td>\n",
       "      <td>Frankfurt Airport</td>\n",
       "      <td>Frankfurt</td>\n",
       "      <td>Germany</td>\n",
       "      <td>60786937</td>\n",
       "      <td>61032022</td>\n",
       "      <td>-245085</td>\n",
       "      <td>-%0,40</td>\n",
       "    </tr>\n",
       "    <tr>\n",
       "      <th>4</th>\n",
       "      <td>5</td>\n",
       "      <td>Istanbul Atatürk Airport</td>\n",
       "      <td>Istanbul</td>\n",
       "      <td>Turkey</td>\n",
       "      <td>60415470</td>\n",
       "      <td>61322729</td>\n",
       "      <td>-907259</td>\n",
       "      <td>-%1,48</td>\n",
       "    </tr>\n",
       "  </tbody>\n",
       "</table>\n",
       "</div>"
      ],
      "text/plain": [
       "   Rank2016                     Airport City served         Country  \\\n",
       "0         1            Heathrow Airport      London  United Kingdom   \n",
       "1         2   Charles de Gaulle Airport       Paris          France   \n",
       "2         3  Amsterdam Airport Schiphol   Amsterdam     Netherlands   \n",
       "3         4           Frankfurt Airport   Frankfurt         Germany   \n",
       "4         5    Istanbul Atatürk Airport    Istanbul          Turkey   \n",
       "\n",
       "   Passengers2016  Passengers2015  Change 2016-2015-Num Change 2016-2015-%  \n",
       "0        75711130        74985475                725655              %0,97  \n",
       "1        65933145        65766986                166159              %0,25  \n",
       "2        63625664        58284848               5340816              %9,16  \n",
       "3        60786937        61032022               -245085             -%0,40  \n",
       "4        60415470        61322729               -907259             -%1,48  "
      ]
     },
     "execution_count": 10,
     "metadata": {},
     "output_type": "execute_result"
    }
   ],
   "source": [
    "#Impresión de las 5 primeras filas para ver qué tipo de información hay dentro de las columnas\n",
    "\n",
    "df.head(5)"
   ]
  },
  {
   "cell_type": "code",
   "execution_count": 11,
   "metadata": {},
   "outputs": [
    {
     "data": {
      "text/plain": [
       "<bound method NDFrame._add_numeric_operations.<locals>.sum of 0     False\n",
       "1     False\n",
       "2     False\n",
       "3     False\n",
       "4     False\n",
       "      ...  \n",
       "95    False\n",
       "96    False\n",
       "97    False\n",
       "98    False\n",
       "99    False\n",
       "Length: 100, dtype: bool>"
      ]
     },
     "execution_count": 11,
     "metadata": {},
     "output_type": "execute_result"
    }
   ],
   "source": [
    "#Búsqueda de valores nulos. En este caso no hay duplicados\n",
    "\n",
    "df.duplicated().sum"
   ]
  },
  {
   "cell_type": "code",
   "execution_count": 12,
   "metadata": {},
   "outputs": [
    {
     "data": {
      "text/plain": [
       "Rank2016                0.0\n",
       "Airport                 0.0\n",
       "City served             0.0\n",
       "Country                 0.0\n",
       "Passengers2016          0.0\n",
       "Passengers2015          0.0\n",
       "Change 2016-2015-Num    0.0\n",
       "Change 2016-2015-%      0.0\n",
       "dtype: float64"
      ]
     },
     "execution_count": 12,
     "metadata": {},
     "output_type": "execute_result"
    }
   ],
   "source": [
    "#Comprobación de existencia de valores nulos. En este caso no hay\n",
    "\n",
    "df.isnull().sum()/len(df)*100"
   ]
  },
  {
   "cell_type": "code",
   "execution_count": 13,
   "metadata": {},
   "outputs": [
    {
     "data": {
      "text/plain": [
       "<Axes: >"
      ]
     },
     "execution_count": 13,
     "metadata": {},
     "output_type": "execute_result"
    },
    {
     "data": {
      "image/png": "[encoded data removed]",
      "text/plain": [
       "<Figure size 640x480 with 2 Axes>"
      ]
     },
     "metadata": {},
     "output_type": "display_data"
    }
   ],
   "source": [
    "#Visualización de valores nulos en un mapa de calor. En este caso no hay valores nulos\n",
    "\n",
    "sns.heatmap(df.isnull(), cbar=True, cmap=\"Blues\")"
   ]
  },
  {
   "cell_type": "code",
   "execution_count": 14,
   "metadata": {},
   "outputs": [
    {
     "data": {
      "text/html": [
       "<div>\n",
       "<style scoped>\n",
       "    .dataframe tbody tr th:only-of-type {\n",
       "        vertical-align: middle;\n",
       "    }\n",
       "\n",
       "    .dataframe tbody tr th {\n",
       "        vertical-align: top;\n",
       "    }\n",
       "\n",
       "    .dataframe thead th {\n",
       "        text-align: right;\n",
       "    }\n",
       "</style>\n",
       "<table border=\"1\" class=\"dataframe\">\n",
       "  <thead>\n",
       "    <tr style=\"text-align: right;\">\n",
       "      <th></th>\n",
       "      <th>Rank2016</th>\n",
       "      <th>Airport</th>\n",
       "      <th>City served</th>\n",
       "      <th>Country</th>\n",
       "      <th>Passengers2016</th>\n",
       "      <th>Passengers2015</th>\n",
       "      <th>Change 2016-2015-Num</th>\n",
       "      <th>Change 2016-2015-%</th>\n",
       "    </tr>\n",
       "  </thead>\n",
       "  <tbody>\n",
       "    <tr>\n",
       "      <th>0</th>\n",
       "      <td>1</td>\n",
       "      <td>Heathrow Airport</td>\n",
       "      <td>London</td>\n",
       "      <td>United Kingdom</td>\n",
       "      <td>75711130</td>\n",
       "      <td>74985475</td>\n",
       "      <td>725655</td>\n",
       "      <td>%0,97</td>\n",
       "    </tr>\n",
       "    <tr>\n",
       "      <th>1</th>\n",
       "      <td>2</td>\n",
       "      <td>Charles de Gaulle Airport</td>\n",
       "      <td>Paris</td>\n",
       "      <td>France</td>\n",
       "      <td>65933145</td>\n",
       "      <td>65766986</td>\n",
       "      <td>166159</td>\n",
       "      <td>%0,25</td>\n",
       "    </tr>\n",
       "    <tr>\n",
       "      <th>2</th>\n",
       "      <td>3</td>\n",
       "      <td>Amsterdam Airport Schiphol</td>\n",
       "      <td>Amsterdam</td>\n",
       "      <td>Netherlands</td>\n",
       "      <td>63625664</td>\n",
       "      <td>58284848</td>\n",
       "      <td>5340816</td>\n",
       "      <td>%9,16</td>\n",
       "    </tr>\n",
       "    <tr>\n",
       "      <th>3</th>\n",
       "      <td>4</td>\n",
       "      <td>Frankfurt Airport</td>\n",
       "      <td>Frankfurt</td>\n",
       "      <td>Germany</td>\n",
       "      <td>60786937</td>\n",
       "      <td>61032022</td>\n",
       "      <td>-245085</td>\n",
       "      <td>-%0,40</td>\n",
       "    </tr>\n",
       "    <tr>\n",
       "      <th>4</th>\n",
       "      <td>5</td>\n",
       "      <td>Istanbul Atatürk Airport</td>\n",
       "      <td>Istanbul</td>\n",
       "      <td>Turkey</td>\n",
       "      <td>60415470</td>\n",
       "      <td>61322729</td>\n",
       "      <td>-907259</td>\n",
       "      <td>-%1,48</td>\n",
       "    </tr>\n",
       "    <tr>\n",
       "      <th>...</th>\n",
       "      <td>...</td>\n",
       "      <td>...</td>\n",
       "      <td>...</td>\n",
       "      <td>...</td>\n",
       "      <td>...</td>\n",
       "      <td>...</td>\n",
       "      <td>...</td>\n",
       "      <td>...</td>\n",
       "    </tr>\n",
       "    <tr>\n",
       "      <th>95</th>\n",
       "      <td>96</td>\n",
       "      <td>Turin Airport</td>\n",
       "      <td>Turin</td>\n",
       "      <td>Italy</td>\n",
       "      <td>3943298</td>\n",
       "      <td>3659312</td>\n",
       "      <td>283986</td>\n",
       "      <td>%7,76</td>\n",
       "    </tr>\n",
       "    <tr>\n",
       "      <th>96</th>\n",
       "      <td>97</td>\n",
       "      <td>Vilnius Airport</td>\n",
       "      <td>Vilnius</td>\n",
       "      <td>Lithuania</td>\n",
       "      <td>3934891</td>\n",
       "      <td>3814001</td>\n",
       "      <td>120890</td>\n",
       "      <td>%3,17</td>\n",
       "    </tr>\n",
       "    <tr>\n",
       "      <th>97</th>\n",
       "      <td>98</td>\n",
       "      <td>Cagliari Airport</td>\n",
       "      <td>Cagliari</td>\n",
       "      <td>Italy</td>\n",
       "      <td>3689747</td>\n",
       "      <td>3714174</td>\n",
       "      <td>-24427</td>\n",
       "      <td>-%0,66</td>\n",
       "    </tr>\n",
       "    <tr>\n",
       "      <th>98</th>\n",
       "      <td>99</td>\n",
       "      <td>Leeds Bradford Airport</td>\n",
       "      <td>Leeds</td>\n",
       "      <td>United Kingdom</td>\n",
       "      <td>3612061</td>\n",
       "      <td>3446831</td>\n",
       "      <td>165230</td>\n",
       "      <td>%4,79</td>\n",
       "    </tr>\n",
       "    <tr>\n",
       "      <th>99</th>\n",
       "      <td>100</td>\n",
       "      <td>Nuremberg Airport</td>\n",
       "      <td>Nuremberg</td>\n",
       "      <td>Germany</td>\n",
       "      <td>3485372</td>\n",
       "      <td>3381681</td>\n",
       "      <td>103691</td>\n",
       "      <td>%3,07</td>\n",
       "    </tr>\n",
       "  </tbody>\n",
       "</table>\n",
       "<p>100 rows × 8 columns</p>\n",
       "</div>"
      ],
      "text/plain": [
       "    Rank2016                     Airport City served         Country  \\\n",
       "0          1            Heathrow Airport      London  United Kingdom   \n",
       "1          2   Charles de Gaulle Airport       Paris          France   \n",
       "2          3  Amsterdam Airport Schiphol   Amsterdam     Netherlands   \n",
       "3          4           Frankfurt Airport   Frankfurt         Germany   \n",
       "4          5    Istanbul Atatürk Airport    Istanbul          Turkey   \n",
       "..       ...                         ...         ...             ...   \n",
       "95        96               Turin Airport       Turin           Italy   \n",
       "96        97             Vilnius Airport     Vilnius       Lithuania   \n",
       "97        98            Cagliari Airport    Cagliari           Italy   \n",
       "98        99      Leeds Bradford Airport       Leeds  United Kingdom   \n",
       "99       100           Nuremberg Airport   Nuremberg         Germany   \n",
       "\n",
       "    Passengers2016  Passengers2015  Change 2016-2015-Num Change 2016-2015-%  \n",
       "0         75711130        74985475                725655              %0,97  \n",
       "1         65933145        65766986                166159              %0,25  \n",
       "2         63625664        58284848               5340816              %9,16  \n",
       "3         60786937        61032022               -245085             -%0,40  \n",
       "4         60415470        61322729               -907259             -%1,48  \n",
       "..             ...             ...                   ...                ...  \n",
       "95         3943298         3659312                283986              %7,76  \n",
       "96         3934891         3814001                120890              %3,17  \n",
       "97         3689747         3714174                -24427             -%0,66  \n",
       "98         3612061         3446831                165230              %4,79  \n",
       "99         3485372         3381681                103691              %3,07  \n",
       "\n",
       "[100 rows x 8 columns]"
      ]
     },
     "execution_count": 14,
     "metadata": {},
     "output_type": "execute_result"
    }
   ],
   "source": [
    "df"
   ]
  },
  {
   "cell_type": "markdown",
   "metadata": {},
   "source": [
    "## 2. Gráficos"
   ]
  },
  {
   "cell_type": "markdown",
   "metadata": {},
   "source": [
    "2.1- Crea un gráfico de barras que muestre el número de pasajeros en 2016 para los 10 aeropuertos más concurridos."
   ]
  },
  {
   "cell_type": "code",
   "execution_count": 15,
   "metadata": {},
   "outputs": [
    {
     "data": {
      "text/html": [
       "<div>\n",
       "<style scoped>\n",
       "    .dataframe tbody tr th:only-of-type {\n",
       "        vertical-align: middle;\n",
       "    }\n",
       "\n",
       "    .dataframe tbody tr th {\n",
       "        vertical-align: top;\n",
       "    }\n",
       "\n",
       "    .dataframe thead th {\n",
       "        text-align: right;\n",
       "    }\n",
       "</style>\n",
       "<table border=\"1\" class=\"dataframe\">\n",
       "  <thead>\n",
       "    <tr style=\"text-align: right;\">\n",
       "      <th></th>\n",
       "      <th>Rank2016</th>\n",
       "      <th>Airport</th>\n",
       "      <th>City served</th>\n",
       "      <th>Country</th>\n",
       "      <th>Passengers2016</th>\n",
       "      <th>Passengers2015</th>\n",
       "      <th>Change 2016-2015-Num</th>\n",
       "      <th>Change 2016-2015-%</th>\n",
       "    </tr>\n",
       "  </thead>\n",
       "  <tbody>\n",
       "    <tr>\n",
       "      <th>0</th>\n",
       "      <td>1</td>\n",
       "      <td>Heathrow Airport</td>\n",
       "      <td>London</td>\n",
       "      <td>United Kingdom</td>\n",
       "      <td>75711130</td>\n",
       "      <td>74985475</td>\n",
       "      <td>725655</td>\n",
       "      <td>%0,97</td>\n",
       "    </tr>\n",
       "    <tr>\n",
       "      <th>1</th>\n",
       "      <td>2</td>\n",
       "      <td>Charles de Gaulle Airport</td>\n",
       "      <td>Paris</td>\n",
       "      <td>France</td>\n",
       "      <td>65933145</td>\n",
       "      <td>65766986</td>\n",
       "      <td>166159</td>\n",
       "      <td>%0,25</td>\n",
       "    </tr>\n",
       "    <tr>\n",
       "      <th>2</th>\n",
       "      <td>3</td>\n",
       "      <td>Amsterdam Airport Schiphol</td>\n",
       "      <td>Amsterdam</td>\n",
       "      <td>Netherlands</td>\n",
       "      <td>63625664</td>\n",
       "      <td>58284848</td>\n",
       "      <td>5340816</td>\n",
       "      <td>%9,16</td>\n",
       "    </tr>\n",
       "    <tr>\n",
       "      <th>3</th>\n",
       "      <td>4</td>\n",
       "      <td>Frankfurt Airport</td>\n",
       "      <td>Frankfurt</td>\n",
       "      <td>Germany</td>\n",
       "      <td>60786937</td>\n",
       "      <td>61032022</td>\n",
       "      <td>-245085</td>\n",
       "      <td>-%0,40</td>\n",
       "    </tr>\n",
       "    <tr>\n",
       "      <th>4</th>\n",
       "      <td>5</td>\n",
       "      <td>Istanbul Atatürk Airport</td>\n",
       "      <td>Istanbul</td>\n",
       "      <td>Turkey</td>\n",
       "      <td>60415470</td>\n",
       "      <td>61322729</td>\n",
       "      <td>-907259</td>\n",
       "      <td>-%1,48</td>\n",
       "    </tr>\n",
       "    <tr>\n",
       "      <th>5</th>\n",
       "      <td>6</td>\n",
       "      <td>Adolfo Suárez Madrid–Barajas Airport</td>\n",
       "      <td>Madrid</td>\n",
       "      <td>Spain</td>\n",
       "      <td>50420583</td>\n",
       "      <td>46824838</td>\n",
       "      <td>3595745</td>\n",
       "      <td>%7,68</td>\n",
       "    </tr>\n",
       "    <tr>\n",
       "      <th>6</th>\n",
       "      <td>7</td>\n",
       "      <td>Barcelona–El Prat Josep Tarradellas Airport</td>\n",
       "      <td>Barcelona</td>\n",
       "      <td>Spain</td>\n",
       "      <td>44154693</td>\n",
       "      <td>39711237</td>\n",
       "      <td>4443456</td>\n",
       "      <td>%11,19</td>\n",
       "    </tr>\n",
       "    <tr>\n",
       "      <th>7</th>\n",
       "      <td>8</td>\n",
       "      <td>Gatwick Airport</td>\n",
       "      <td>London</td>\n",
       "      <td>United Kingdom</td>\n",
       "      <td>43119628</td>\n",
       "      <td>40269087</td>\n",
       "      <td>2850541</td>\n",
       "      <td>%7,08</td>\n",
       "    </tr>\n",
       "    <tr>\n",
       "      <th>8</th>\n",
       "      <td>9</td>\n",
       "      <td>Munich Airport</td>\n",
       "      <td>Munich</td>\n",
       "      <td>Germany</td>\n",
       "      <td>42261309</td>\n",
       "      <td>40981522</td>\n",
       "      <td>1279787</td>\n",
       "      <td>%3,12</td>\n",
       "    </tr>\n",
       "    <tr>\n",
       "      <th>9</th>\n",
       "      <td>10</td>\n",
       "      <td>Leonardo da Vinci–Fiumicino Airport</td>\n",
       "      <td>Rome</td>\n",
       "      <td>Italy</td>\n",
       "      <td>41744769</td>\n",
       "      <td>40463208</td>\n",
       "      <td>1281561</td>\n",
       "      <td>%3,17</td>\n",
       "    </tr>\n",
       "  </tbody>\n",
       "</table>\n",
       "</div>"
      ],
      "text/plain": [
       "   Rank2016                                      Airport City served  \\\n",
       "0         1                             Heathrow Airport      London   \n",
       "1         2                    Charles de Gaulle Airport       Paris   \n",
       "2         3                   Amsterdam Airport Schiphol   Amsterdam   \n",
       "3         4                            Frankfurt Airport   Frankfurt   \n",
       "4         5                     Istanbul Atatürk Airport    Istanbul   \n",
       "5         6         Adolfo Suárez Madrid–Barajas Airport      Madrid   \n",
       "6         7  Barcelona–El Prat Josep Tarradellas Airport   Barcelona   \n",
       "7         8                              Gatwick Airport      London   \n",
       "8         9                               Munich Airport      Munich   \n",
       "9        10          Leonardo da Vinci–Fiumicino Airport        Rome   \n",
       "\n",
       "          Country  Passengers2016  Passengers2015  Change 2016-2015-Num  \\\n",
       "0  United Kingdom        75711130        74985475                725655   \n",
       "1          France        65933145        65766986                166159   \n",
       "2     Netherlands        63625664        58284848               5340816   \n",
       "3         Germany        60786937        61032022               -245085   \n",
       "4          Turkey        60415470        61322729               -907259   \n",
       "5           Spain        50420583        46824838               3595745   \n",
       "6           Spain        44154693        39711237               4443456   \n",
       "7  United Kingdom        43119628        40269087               2850541   \n",
       "8         Germany        42261309        40981522               1279787   \n",
       "9           Italy        41744769        40463208               1281561   \n",
       "\n",
       "  Change 2016-2015-%  \n",
       "0              %0,97  \n",
       "1              %0,25  \n",
       "2              %9,16  \n",
       "3             -%0,40  \n",
       "4             -%1,48  \n",
       "5              %7,68  \n",
       "6             %11,19  \n",
       "7              %7,08  \n",
       "8              %3,12  \n",
       "9              %3,17  "
      ]
     },
     "execution_count": 15,
     "metadata": {},
     "output_type": "execute_result"
    }
   ],
   "source": [
    "top10_aropuertos=df.nlargest(10,\"Passengers2016\" )\n",
    "top10_aropuertos"
   ]
  },
  {
   "cell_type": "code",
   "execution_count": 16,
   "metadata": {},
   "outputs": [
    {
     "data": {
      "application/vnd.plotly.v1+json": {
       "config": {
        "plotlyServerURL": "https://plot.ly"
       },
       "data": [
        {
         "alignmentgroup": "True",
         "hovertemplate": "Airport=%{x}<br>Passengers2016=%{y}<extra></extra>",
         "legendgroup": "Heathrow Airport",
         "marker": {
          "color": "#636efa",
          "pattern": {
           "shape": ""
          }
         },
         "name": "Heathrow Airport",
         "offsetgroup": "Heathrow Airport",
         "orientation": "v",
         "showlegend": true,
         "textposition": "auto",
         "type": "bar",
         "x": [
          "Heathrow Airport"
         ],
         "xaxis": "x",
         "y": [
          75711130
         ],
         "yaxis": "y"
        },
        {
         "alignmentgroup": "True",
         "hovertemplate": "Airport=%{x}<br>Passengers2016=%{y}<extra></extra>",
         "legendgroup": "Charles de Gaulle Airport",
         "marker": {
          "color": "#EF553B",
          "pattern": {
           "shape": ""
          }
         },
         "name": "Charles de Gaulle Airport",
         "offsetgroup": "Charles de Gaulle Airport",
         "orientation": "v",
         "showlegend": true,
         "textposition": "auto",
         "type": "bar",
         "x": [
          "Charles de Gaulle Airport"
         ],
         "xaxis": "x",
         "y": [
          65933145
         ],
         "yaxis": "y"
        },
        {
         "alignmentgroup": "True",
         "hovertemplate": "Airport=%{x}<br>Passengers2016=%{y}<extra></extra>",
         "legendgroup": "Amsterdam Airport Schiphol",
         "marker": {
          "color": "#00cc96",
          "pattern": {
           "shape": ""
          }
         },
         "name": "Amsterdam Airport Schiphol",
         "offsetgroup": "Amsterdam Airport Schiphol",
         "orientation": "v",
         "showlegend": true,
         "textposition": "auto",
         "type": "bar",
         "x": [
          "Amsterdam Airport Schiphol"
         ],
         "xaxis": "x",
         "y": [
          63625664
         ],
         "yaxis": "y"
        },
        {
         "alignmentgroup": "True",
         "hovertemplate": "Airport=%{x}<br>Passengers2016=%{y}<extra></extra>",
         "legendgroup": "Frankfurt Airport",
         "marker": {
          "color": "#ab63fa",
          "pattern": {
           "shape": ""
          }
         },
         "name": "Frankfurt Airport",
         "offsetgroup": "Frankfurt Airport",
         "orientation": "v",
         "showlegend": true,
         "textposition": "auto",
         "type": "bar",
         "x": [
          "Frankfurt Airport"
         ],
         "xaxis": "x",
         "y": [
          60786937
         ],
         "yaxis": "y"
        },
        {
         "alignmentgroup": "True",
         "hovertemplate": "Airport=%{x}<br>Passengers2016=%{y}<extra></extra>",
         "legendgroup": "Istanbul Atatürk Airport",
         "marker": {
          "color": "#FFA15A",
          "pattern": {
           "shape": ""
          }
         },
         "name": "Istanbul Atatürk Airport",
         "offsetgroup": "Istanbul Atatürk Airport",
         "orientation": "v",
         "showlegend": true,
         "textposition": "auto",
         "type": "bar",
         "x": [
          "Istanbul Atatürk Airport"
         ],
         "xaxis": "x",
         "y": [
          60415470
         ],
         "yaxis": "y"
        },
        {
         "alignmentgroup": "True",
         "hovertemplate": "Airport=%{x}<br>Passengers2016=%{y}<extra></extra>",
         "legendgroup": "Adolfo Suárez Madrid–Barajas Airport",
         "marker": {
          "color": "#19d3f3",
          "pattern": {
           "shape": ""
          }
         },
         "name": "Adolfo Suárez Madrid–Barajas Airport",
         "offsetgroup": "Adolfo Suárez Madrid–Barajas Airport",
         "orientation": "v",
         "showlegend": true,
         "textposition": "auto",
         "type": "bar",
         "x": [
          "Adolfo Suárez Madrid–Barajas Airport"
         ],
         "xaxis": "x",
         "y": [
          50420583
         ],
         "yaxis": "y"
        },
        {
         "alignmentgroup": "True",
         "hovertemplate": "Airport=%{x}<br>Passengers2016=%{y}<extra></extra>",
         "legendgroup": "Barcelona–El Prat Josep Tarradellas Airport",
         "marker": {
          "color": "#FF6692",
          "pattern": {
           "shape": ""
          }
         },
         "name": "Barcelona–El Prat Josep Tarradellas Airport",
         "offsetgroup": "Barcelona–El Prat Josep Tarradellas Airport",
         "orientation": "v",
         "showlegend": true,
         "textposition": "auto",
         "type": "bar",
         "x": [
          "Barcelona–El Prat Josep Tarradellas Airport"
         ],
         "xaxis": "x",
         "y": [
          44154693
         ],
         "yaxis": "y"
        },
        {
         "alignmentgroup": "True",
         "hovertemplate": "Airport=%{x}<br>Passengers2016=%{y}<extra></extra>",
         "legendgroup": "Gatwick Airport",
         "marker": {
          "color": "#B6E880",
          "pattern": {
           "shape": ""
          }
         },
         "name": "Gatwick Airport",
         "offsetgroup": "Gatwick Airport",
         "orientation": "v",
         "showlegend": true,
         "textposition": "auto",
         "type": "bar",
         "x": [
          "Gatwick Airport"
         ],
         "xaxis": "x",
         "y": [
          43119628
         ],
         "yaxis": "y"
        },
        {
         "alignmentgroup": "True",
         "hovertemplate": "Airport=%{x}<br>Passengers2016=%{y}<extra></extra>",
         "legendgroup": "Munich Airport",
         "marker": {
          "color": "#FF97FF",
          "pattern": {
           "shape": ""
          }
         },
         "name": "Munich Airport",
         "offsetgroup": "Munich Airport",
         "orientation": "v",
         "showlegend": true,
         "textposition": "auto",
         "type": "bar",
         "x": [
          "Munich Airport"
         ],
         "xaxis": "x",
         "y": [
          42261309
         ],
         "yaxis": "y"
        },
        {
         "alignmentgroup": "True",
         "hovertemplate": "Airport=%{x}<br>Passengers2016=%{y}<extra></extra>",
         "legendgroup": "Leonardo da Vinci–Fiumicino Airport",
         "marker": {
          "color": "#FECB52",
          "pattern": {
           "shape": ""
          }
         },
         "name": "Leonardo da Vinci–Fiumicino Airport",
         "offsetgroup": "Leonardo da Vinci–Fiumicino Airport",
         "orientation": "v",
         "showlegend": true,
         "textposition": "auto",
         "type": "bar",
         "x": [
          "Leonardo da Vinci–Fiumicino Airport"
         ],
         "xaxis": "x",
         "y": [
          41744769
         ],
         "yaxis": "y"
        }
       ],
       "layout": {
        "barmode": "relative",
        "legend": {
         "title": {
          "text": "Airport"
         },
         "tracegroupgap": 0
        },
        "template": {
         "data": {
          "bar": [
           {
            "error_x": {
             "color": "#f2f5fa"
            },
            "error_y": {
             "color": "#f2f5fa"
            },
            "marker": {
             "line": {
              "color": "rgb(17,17,17)",
              "width": 0.5
             },
             "pattern": {
              "fillmode": "overlay",
              "size": 10,
              "solidity": 0.2
             }
            },
            "type": "bar"
           }
          ],
          "barpolar": [
           {
            "marker": {
             "line": {
              "color": "rgb(17,17,17)",
              "width": 0.5
             },
             "pattern": {
              "fillmode": "overlay",
              "size": 10,
              "solidity": 0.2
             }
            },
            "type": "barpolar"
           }
          ],
          "carpet": [
           {
            "aaxis": {
             "endlinecolor": "#A2B1C6",
             "gridcolor": "#506784",
             "linecolor": "#506784",
             "minorgridcolor": "#506784",
             "startlinecolor": "#A2B1C6"
            },
            "baxis": {
             "endlinecolor": "#A2B1C6",
             "gridcolor": "#506784",
             "linecolor": "#506784",
             "minorgridcolor": "#506784",
             "startlinecolor": "#A2B1C6"
            },
            "type": "carpet"
           }
          ],
          "choropleth": [
           {
            "colorbar": {
             "outlinewidth": 0,
             "ticks": ""
            },
            "type": "choropleth"
           }
          ],
          "contour": [
           {
            "colorbar": {
             "outlinewidth": 0,
             "ticks": ""
            },
            "colorscale": [
             [
              0,
              "#0d0887"
             ],
             [
              0.1111111111111111,
              "#46039f"
             ],
             [
              0.2222222222222222,
              "#7201a8"
             ],
             [
              0.3333333333333333,
              "#9c179e"
             ],
             [
              0.4444444444444444,
              "#bd3786"
             ],
             [
              0.5555555555555556,
              "#d8576b"
             ],
             [
              0.6666666666666666,
              "#ed7953"
             ],
             [
              0.7777777777777778,
              "#fb9f3a"
             ],
             [
              0.8888888888888888,
              "#fdca26"
             ],
             [
              1,
              "#f0f921"
             ]
            ],
            "type": "contour"
           }
          ],
          "contourcarpet": [
           {
            "colorbar": {
             "outlinewidth": 0,
             "ticks": ""
            },
            "type": "contourcarpet"
           }
          ],
          "heatmap": [
           {
            "colorbar": {
             "outlinewidth": 0,
             "ticks": ""
            },
            "colorscale": [
             [
              0,
              "#0d0887"
             ],
             [
              0.1111111111111111,
              "#46039f"
             ],
             [
              0.2222222222222222,
              "#7201a8"
             ],
             [
              0.3333333333333333,
              "#9c179e"
             ],
             [
              0.4444444444444444,
              "#bd3786"
             ],
             [
              0.5555555555555556,
              "#d8576b"
             ],
             [
              0.6666666666666666,
              "#ed7953"
             ],
             [
              0.7777777777777778,
              "#fb9f3a"
             ],
             [
              0.8888888888888888,
              "#fdca26"
             ],
             [
              1,
              "#f0f921"
             ]
            ],
            "type": "heatmap"
           }
          ],
          "heatmapgl": [
           {
            "colorbar": {
             "outlinewidth": 0,
             "ticks": ""
            },
            "colorscale": [
             [
              0,
              "#0d0887"
             ],
             [
              0.1111111111111111,
              "#46039f"
             ],
             [
              0.2222222222222222,
              "#7201a8"
             ],
             [
              0.3333333333333333,
              "#9c179e"
             ],
             [
              0.4444444444444444,
              "#bd3786"
             ],
             [
              0.5555555555555556,
              "#d8576b"
             ],
             [
              0.6666666666666666,
              "#ed7953"
             ],
             [
              0.7777777777777778,
              "#fb9f3a"
             ],
             [
              0.8888888888888888,
              "#fdca26"
             ],
             [
              1,
              "#f0f921"
             ]
            ],
            "type": "heatmapgl"
           }
          ],
          "histogram": [
           {
            "marker": {
             "pattern": {
              "fillmode": "overlay",
              "size": 10,
              "solidity": 0.2
             }
            },
            "type": "histogram"
           }
          ],
          "histogram2d": [
           {
            "colorbar": {
             "outlinewidth": 0,
             "ticks": ""
            },
            "colorscale": [
             [
              0,
              "#0d0887"
             ],
             [
              0.1111111111111111,
              "#46039f"
             ],
             [
              0.2222222222222222,
              "#7201a8"
             ],
             [
              0.3333333333333333,
              "#9c179e"
             ],
             [
              0.4444444444444444,
              "#bd3786"
             ],
             [
              0.5555555555555556,
              "#d8576b"
             ],
             [
              0.6666666666666666,
              "#ed7953"
             ],
             [
              0.7777777777777778,
              "#fb9f3a"
             ],
             [
              0.8888888888888888,
              "#fdca26"
             ],
             [
              1,
              "#f0f921"
             ]
            ],
            "type": "histogram2d"
           }
          ],
          "histogram2dcontour": [
           {
            "colorbar": {
             "outlinewidth": 0,
             "ticks": ""
            },
            "colorscale": [
             [
              0,
              "#0d0887"
             ],
             [
              0.1111111111111111,
              "#46039f"
             ],
             [
              0.2222222222222222,
              "#7201a8"
             ],
             [
              0.3333333333333333,
              "#9c179e"
             ],
             [
              0.4444444444444444,
              "#bd3786"
             ],
             [
              0.5555555555555556,
              "#d8576b"
             ],
             [
              0.6666666666666666,
              "#ed7953"
             ],
             [
              0.7777777777777778,
              "#fb9f3a"
             ],
             [
              0.8888888888888888,
              "#fdca26"
             ],
             [
              1,
              "#f0f921"
             ]
            ],
            "type": "histogram2dcontour"
           }
          ],
          "mesh3d": [
           {
            "colorbar": {
             "outlinewidth": 0,
             "ticks": ""
            },
            "type": "mesh3d"
           }
          ],
          "parcoords": [
           {
            "line": {
             "colorbar": {
              "outlinewidth": 0,
              "ticks": ""
             }
            },
            "type": "parcoords"
           }
          ],
          "pie": [
           {
            "automargin": true,
            "type": "pie"
           }
          ],
          "scatter": [
           {
            "marker": {
             "line": {
              "color": "#283442"
             }
            },
            "type": "scatter"
           }
          ],
          "scatter3d": [
           {
            "line": {
             "colorbar": {
              "outlinewidth": 0,
              "ticks": ""
             }
            },
            "marker": {
             "colorbar": {
              "outlinewidth": 0,
              "ticks": ""
             }
            },
            "type": "scatter3d"
           }
          ],
          "scattercarpet": [
           {
            "marker": {
             "colorbar": {
              "outlinewidth": 0,
              "ticks": ""
             }
            },
            "type": "scattercarpet"
           }
          ],
          "scattergeo": [
           {
            "marker": {
             "colorbar": {
              "outlinewidth": 0,
              "ticks": ""
             }
            },
            "type": "scattergeo"
           }
          ],
          "scattergl": [
           {
            "marker": {
             "line": {
              "color": "#283442"
             }
            },
            "type": "scattergl"
           }
          ],
          "scattermapbox": [
           {
            "marker": {
             "colorbar": {
              "outlinewidth": 0,
              "ticks": ""
             }
            },
            "type": "scattermapbox"
           }
          ],
          "scatterpolar": [
           {
            "marker": {
             "colorbar": {
              "outlinewidth": 0,
              "ticks": ""
             }
            },
            "type": "scatterpolar"
           }
          ],
          "scatterpolargl": [
           {
            "marker": {
             "colorbar": {
              "outlinewidth": 0,
              "ticks": ""
             }
            },
            "type": "scatterpolargl"
           }
          ],
          "scatterternary": [
           {
            "marker": {
             "colorbar": {
              "outlinewidth": 0,
              "ticks": ""
             }
            },
            "type": "scatterternary"
           }
          ],
          "surface": [
           {
            "colorbar": {
             "outlinewidth": 0,
             "ticks": ""
            },
            "colorscale": [
             [
              0,
              "#0d0887"
             ],
             [
              0.1111111111111111,
              "#46039f"
             ],
             [
              0.2222222222222222,
              "#7201a8"
             ],
             [
              0.3333333333333333,
              "#9c179e"
             ],
             [
              0.4444444444444444,
              "#bd3786"
             ],
             [
              0.5555555555555556,
              "#d8576b"
             ],
             [
              0.6666666666666666,
              "#ed7953"
             ],
             [
              0.7777777777777778,
              "#fb9f3a"
             ],
             [
              0.8888888888888888,
              "#fdca26"
             ],
             [
              1,
              "#f0f921"
             ]
            ],
            "type": "surface"
           }
          ],
          "table": [
           {
            "cells": {
             "fill": {
              "color": "#506784"
             },
             "line": {
              "color": "rgb(17,17,17)"
             }
            },
            "header": {
             "fill": {
              "color": "#2a3f5f"
             },
             "line": {
              "color": "rgb(17,17,17)"
             }
            },
            "type": "table"
           }
          ]
         },
         "layout": {
          "annotationdefaults": {
           "arrowcolor": "#f2f5fa",
           "arrowhead": 0,
           "arrowwidth": 1
          },
          "autotypenumbers": "strict",
          "coloraxis": {
           "colorbar": {
            "outlinewidth": 0,
            "ticks": ""
           }
          },
          "colorscale": {
           "diverging": [
            [
             0,
             "#8e0152"
            ],
            [
             0.1,
             "#c51b7d"
            ],
            [
             0.2,
             "#de77ae"
            ],
            [
             0.3,
             "#f1b6da"
            ],
            [
             0.4,
             "#fde0ef"
            ],
            [
             0.5,
             "#f7f7f7"
            ],
            [
             0.6,
             "#e6f5d0"
            ],
            [
             0.7,
             "#b8e186"
            ],
            [
             0.8,
             "#7fbc41"
            ],
            [
             0.9,
             "#4d9221"
            ],
            [
             1,
             "#276419"
            ]
           ],
           "sequential": [
            [
             0,
             "#0d0887"
            ],
            [
             0.1111111111111111,
             "#46039f"
            ],
            [
             0.2222222222222222,
             "#7201a8"
            ],
            [
             0.3333333333333333,
             "#9c179e"
            ],
            [
             0.4444444444444444,
             "#bd3786"
            ],
            [
             0.5555555555555556,
             "#d8576b"
            ],
            [
             0.6666666666666666,
             "#ed7953"
            ],
            [
             0.7777777777777778,
             "#fb9f3a"
            ],
            [
             0.8888888888888888,
             "#fdca26"
            ],
            [
             1,
             "#f0f921"
            ]
           ],
           "sequentialminus": [
            [
             0,
             "#0d0887"
            ],
            [
             0.1111111111111111,
             "#46039f"
            ],
            [
             0.2222222222222222,
             "#7201a8"
            ],
            [
             0.3333333333333333,
             "#9c179e"
            ],
            [
             0.4444444444444444,
             "#bd3786"
            ],
            [
             0.5555555555555556,
             "#d8576b"
            ],
            [
             0.6666666666666666,
             "#ed7953"
            ],
            [
             0.7777777777777778,
             "#fb9f3a"
            ],
            [
             0.8888888888888888,
             "#fdca26"
            ],
            [
             1,
             "#f0f921"
            ]
           ]
          },
          "colorway": [
           "#636efa",
           "#EF553B",
           "#00cc96",
           "#ab63fa",
           "#FFA15A",
           "#19d3f3",
           "#FF6692",
           "#B6E880",
           "#FF97FF",
           "#FECB52"
          ],
          "font": {
           "color": "#f2f5fa"
          },
          "geo": {
           "bgcolor": "rgb(17,17,17)",
           "lakecolor": "rgb(17,17,17)",
           "landcolor": "rgb(17,17,17)",
           "showlakes": true,
           "showland": true,
           "subunitcolor": "#506784"
          },
          "hoverlabel": {
           "align": "left"
          },
          "hovermode": "closest",
          "mapbox": {
           "style": "dark"
          },
          "paper_bgcolor": "rgb(17,17,17)",
          "plot_bgcolor": "rgb(17,17,17)",
          "polar": {
           "angularaxis": {
            "gridcolor": "#506784",
            "linecolor": "#506784",
            "ticks": ""
           },
           "bgcolor": "rgb(17,17,17)",
           "radialaxis": {
            "gridcolor": "#506784",
            "linecolor": "#506784",
            "ticks": ""
           }
          },
          "scene": {
           "xaxis": {
            "backgroundcolor": "rgb(17,17,17)",
            "gridcolor": "#506784",
            "gridwidth": 2,
            "linecolor": "#506784",
            "showbackground": true,
            "ticks": "",
            "zerolinecolor": "#C8D4E3"
           },
           "yaxis": {
            "backgroundcolor": "rgb(17,17,17)",
            "gridcolor": "#506784",
            "gridwidth": 2,
            "linecolor": "#506784",
            "showbackground": true,
            "ticks": "",
            "zerolinecolor": "#C8D4E3"
           },
           "zaxis": {
            "backgroundcolor": "rgb(17,17,17)",
            "gridcolor": "#506784",
            "gridwidth": 2,
            "linecolor": "#506784",
            "showbackground": true,
            "ticks": "",
            "zerolinecolor": "#C8D4E3"
           }
          },
          "shapedefaults": {
           "line": {
            "color": "#f2f5fa"
           }
          },
          "sliderdefaults": {
           "bgcolor": "#C8D4E3",
           "bordercolor": "rgb(17,17,17)",
           "borderwidth": 1,
           "tickwidth": 0
          },
          "ternary": {
           "aaxis": {
            "gridcolor": "#506784",
            "linecolor": "#506784",
            "ticks": ""
           },
           "baxis": {
            "gridcolor": "#506784",
            "linecolor": "#506784",
            "ticks": ""
           },
           "bgcolor": "rgb(17,17,17)",
           "caxis": {
            "gridcolor": "#506784",
            "linecolor": "#506784",
            "ticks": ""
           }
          },
          "title": {
           "x": 0.05
          },
          "updatemenudefaults": {
           "bgcolor": "#506784",
           "borderwidth": 0
          },
          "xaxis": {
           "automargin": true,
           "gridcolor": "#283442",
           "linecolor": "#506784",
           "ticks": "",
           "title": {
            "standoff": 15
           },
           "zerolinecolor": "#283442",
           "zerolinewidth": 2
          },
          "yaxis": {
           "automargin": true,
           "gridcolor": "#283442",
           "linecolor": "#506784",
           "ticks": "",
           "title": {
            "standoff": 15
           },
           "zerolinecolor": "#283442",
           "zerolinewidth": 2
          }
         }
        },
        "title": {
         "text": "Aeropuertos más concurridos en 2016"
        },
        "xaxis": {
         "anchor": "y",
         "categoryarray": [
          "Heathrow Airport",
          "Charles de Gaulle Airport",
          "Amsterdam Airport Schiphol",
          "Frankfurt Airport",
          "Istanbul Atatürk Airport",
          "Adolfo Suárez Madrid–Barajas Airport",
          "Barcelona–El Prat Josep Tarradellas Airport",
          "Gatwick Airport",
          "Munich Airport",
          "Leonardo da Vinci–Fiumicino Airport"
         ],
         "categoryorder": "array",
         "domain": [
          0,
          1
         ],
         "title": {
          "text": "Airport"
         }
        },
        "yaxis": {
         "anchor": "x",
         "domain": [
          0,
          1
         ],
         "title": {
          "text": "Passengers2016"
         }
        }
       }
      }
     },
     "metadata": {},
     "output_type": "display_data"
    }
   ],
   "source": [
    "px.bar(top10_aropuertos, x=\"Airport\", y=\"Passengers2016\", color=\"Airport\", title=\"Aeropuertos más concurridos en 2016\", template=\"plotly_dark\")"
   ]
  },
  {
   "cell_type": "code",
   "execution_count": 56,
   "metadata": {},
   "outputs": [],
   "source": [
    "fig=px.bar(top10_aropuertos, x=\"Airport\", y=\"Passengers2016\", color=\"Airport\", title=\"Aeropuertos más concurridos en 2016\", template=\"plotly_dark\")\n",
    "fig.write_html(\"Aeropuertos más concurridos de 2016.html\")"
   ]
  },
  {
   "cell_type": "markdown",
   "metadata": {},
   "source": [
    "2.2- Genera un gráfico de líneas para comparar la cantidad de pasajeros entre 2015 y 2016 para los 5 aeropuertos principales, asignando un color distinto a cada aeropuerto."
   ]
  },
  {
   "cell_type": "code",
   "execution_count": 18,
   "metadata": {},
   "outputs": [
    {
     "data": {
      "text/html": [
       "<div>\n",
       "<style scoped>\n",
       "    .dataframe tbody tr th:only-of-type {\n",
       "        vertical-align: middle;\n",
       "    }\n",
       "\n",
       "    .dataframe tbody tr th {\n",
       "        vertical-align: top;\n",
       "    }\n",
       "\n",
       "    .dataframe thead th {\n",
       "        text-align: right;\n",
       "    }\n",
       "</style>\n",
       "<table border=\"1\" class=\"dataframe\">\n",
       "  <thead>\n",
       "    <tr style=\"text-align: right;\">\n",
       "      <th></th>\n",
       "      <th>Rank2016</th>\n",
       "      <th>Airport</th>\n",
       "      <th>City served</th>\n",
       "      <th>Country</th>\n",
       "      <th>Passengers2016</th>\n",
       "      <th>Passengers2015</th>\n",
       "      <th>Change 2016-2015-Num</th>\n",
       "      <th>Change 2016-2015-%</th>\n",
       "    </tr>\n",
       "  </thead>\n",
       "  <tbody>\n",
       "    <tr>\n",
       "      <th>0</th>\n",
       "      <td>1</td>\n",
       "      <td>Heathrow Airport</td>\n",
       "      <td>London</td>\n",
       "      <td>United Kingdom</td>\n",
       "      <td>75711130</td>\n",
       "      <td>74985475</td>\n",
       "      <td>725655</td>\n",
       "      <td>%0,97</td>\n",
       "    </tr>\n",
       "    <tr>\n",
       "      <th>1</th>\n",
       "      <td>2</td>\n",
       "      <td>Charles de Gaulle Airport</td>\n",
       "      <td>Paris</td>\n",
       "      <td>France</td>\n",
       "      <td>65933145</td>\n",
       "      <td>65766986</td>\n",
       "      <td>166159</td>\n",
       "      <td>%0,25</td>\n",
       "    </tr>\n",
       "    <tr>\n",
       "      <th>4</th>\n",
       "      <td>5</td>\n",
       "      <td>Istanbul Atatürk Airport</td>\n",
       "      <td>Istanbul</td>\n",
       "      <td>Turkey</td>\n",
       "      <td>60415470</td>\n",
       "      <td>61322729</td>\n",
       "      <td>-907259</td>\n",
       "      <td>-%1,48</td>\n",
       "    </tr>\n",
       "    <tr>\n",
       "      <th>3</th>\n",
       "      <td>4</td>\n",
       "      <td>Frankfurt Airport</td>\n",
       "      <td>Frankfurt</td>\n",
       "      <td>Germany</td>\n",
       "      <td>60786937</td>\n",
       "      <td>61032022</td>\n",
       "      <td>-245085</td>\n",
       "      <td>-%0,40</td>\n",
       "    </tr>\n",
       "    <tr>\n",
       "      <th>2</th>\n",
       "      <td>3</td>\n",
       "      <td>Amsterdam Airport Schiphol</td>\n",
       "      <td>Amsterdam</td>\n",
       "      <td>Netherlands</td>\n",
       "      <td>63625664</td>\n",
       "      <td>58284848</td>\n",
       "      <td>5340816</td>\n",
       "      <td>%9,16</td>\n",
       "    </tr>\n",
       "  </tbody>\n",
       "</table>\n",
       "</div>"
      ],
      "text/plain": [
       "   Rank2016                     Airport City served         Country  \\\n",
       "0         1            Heathrow Airport      London  United Kingdom   \n",
       "1         2   Charles de Gaulle Airport       Paris          France   \n",
       "4         5    Istanbul Atatürk Airport    Istanbul          Turkey   \n",
       "3         4           Frankfurt Airport   Frankfurt         Germany   \n",
       "2         3  Amsterdam Airport Schiphol   Amsterdam     Netherlands   \n",
       "\n",
       "   Passengers2016  Passengers2015  Change 2016-2015-Num Change 2016-2015-%  \n",
       "0        75711130        74985475                725655              %0,97  \n",
       "1        65933145        65766986                166159              %0,25  \n",
       "4        60415470        61322729               -907259             -%1,48  \n",
       "3        60786937        61032022               -245085             -%0,40  \n",
       "2        63625664        58284848               5340816              %9,16  "
      ]
     },
     "execution_count": 18,
     "metadata": {},
     "output_type": "execute_result"
    }
   ],
   "source": [
    "top5_aropuertos2015=df.nlargest(5,\"Passengers2015\" )\n",
    "top5_aropuertos2015"
   ]
  },
  {
   "cell_type": "code",
   "execution_count": 19,
   "metadata": {},
   "outputs": [
    {
     "data": {
      "text/html": [
       "<div>\n",
       "<style scoped>\n",
       "    .dataframe tbody tr th:only-of-type {\n",
       "        vertical-align: middle;\n",
       "    }\n",
       "\n",
       "    .dataframe tbody tr th {\n",
       "        vertical-align: top;\n",
       "    }\n",
       "\n",
       "    .dataframe thead th {\n",
       "        text-align: right;\n",
       "    }\n",
       "</style>\n",
       "<table border=\"1\" class=\"dataframe\">\n",
       "  <thead>\n",
       "    <tr style=\"text-align: right;\">\n",
       "      <th></th>\n",
       "      <th>Rank2016</th>\n",
       "      <th>Airport</th>\n",
       "      <th>City served</th>\n",
       "      <th>Country</th>\n",
       "      <th>Passengers2016</th>\n",
       "      <th>Passengers2015</th>\n",
       "      <th>Change 2016-2015-Num</th>\n",
       "      <th>Change 2016-2015-%</th>\n",
       "    </tr>\n",
       "  </thead>\n",
       "  <tbody>\n",
       "    <tr>\n",
       "      <th>0</th>\n",
       "      <td>1</td>\n",
       "      <td>Heathrow Airport</td>\n",
       "      <td>London</td>\n",
       "      <td>United Kingdom</td>\n",
       "      <td>75711130</td>\n",
       "      <td>74985475</td>\n",
       "      <td>725655</td>\n",
       "      <td>%0,97</td>\n",
       "    </tr>\n",
       "    <tr>\n",
       "      <th>1</th>\n",
       "      <td>2</td>\n",
       "      <td>Charles de Gaulle Airport</td>\n",
       "      <td>Paris</td>\n",
       "      <td>France</td>\n",
       "      <td>65933145</td>\n",
       "      <td>65766986</td>\n",
       "      <td>166159</td>\n",
       "      <td>%0,25</td>\n",
       "    </tr>\n",
       "    <tr>\n",
       "      <th>2</th>\n",
       "      <td>3</td>\n",
       "      <td>Amsterdam Airport Schiphol</td>\n",
       "      <td>Amsterdam</td>\n",
       "      <td>Netherlands</td>\n",
       "      <td>63625664</td>\n",
       "      <td>58284848</td>\n",
       "      <td>5340816</td>\n",
       "      <td>%9,16</td>\n",
       "    </tr>\n",
       "    <tr>\n",
       "      <th>3</th>\n",
       "      <td>4</td>\n",
       "      <td>Frankfurt Airport</td>\n",
       "      <td>Frankfurt</td>\n",
       "      <td>Germany</td>\n",
       "      <td>60786937</td>\n",
       "      <td>61032022</td>\n",
       "      <td>-245085</td>\n",
       "      <td>-%0,40</td>\n",
       "    </tr>\n",
       "    <tr>\n",
       "      <th>4</th>\n",
       "      <td>5</td>\n",
       "      <td>Istanbul Atatürk Airport</td>\n",
       "      <td>Istanbul</td>\n",
       "      <td>Turkey</td>\n",
       "      <td>60415470</td>\n",
       "      <td>61322729</td>\n",
       "      <td>-907259</td>\n",
       "      <td>-%1,48</td>\n",
       "    </tr>\n",
       "  </tbody>\n",
       "</table>\n",
       "</div>"
      ],
      "text/plain": [
       "   Rank2016                     Airport City served         Country  \\\n",
       "0         1            Heathrow Airport      London  United Kingdom   \n",
       "1         2   Charles de Gaulle Airport       Paris          France   \n",
       "2         3  Amsterdam Airport Schiphol   Amsterdam     Netherlands   \n",
       "3         4           Frankfurt Airport   Frankfurt         Germany   \n",
       "4         5    Istanbul Atatürk Airport    Istanbul          Turkey   \n",
       "\n",
       "   Passengers2016  Passengers2015  Change 2016-2015-Num Change 2016-2015-%  \n",
       "0        75711130        74985475                725655              %0,97  \n",
       "1        65933145        65766986                166159              %0,25  \n",
       "2        63625664        58284848               5340816              %9,16  \n",
       "3        60786937        61032022               -245085             -%0,40  \n",
       "4        60415470        61322729               -907259             -%1,48  "
      ]
     },
     "execution_count": 19,
     "metadata": {},
     "output_type": "execute_result"
    }
   ],
   "source": [
    "top5_aropuertos2016=df.nlargest(5,\"Passengers2016\" )\n",
    "top5_aropuertos2016"
   ]
  },
  {
   "cell_type": "code",
   "execution_count": 20,
   "metadata": {},
   "outputs": [
    {
     "data": {
      "application/vnd.plotly.v1+json": {
       "config": {
        "plotlyServerURL": "https://plot.ly"
       },
       "data": [
        {
         "hovertemplate": "variable=Passengers2016<br>Airport=%{x}<br>value=%{y}<extra></extra>",
         "legendgroup": "Passengers2016",
         "line": {
          "color": "#636efa",
          "dash": "solid"
         },
         "marker": {
          "symbol": "circle"
         },
         "mode": "lines",
         "name": "Passengers2016",
         "orientation": "v",
         "showlegend": true,
         "type": "scatter",
         "x": [
          "Heathrow Airport",
          "Charles de Gaulle Airport",
          "Amsterdam Airport Schiphol",
          "Frankfurt Airport",
          "Istanbul Atatürk Airport"
         ],
         "xaxis": "x",
         "y": [
          75711130,
          65933145,
          63625664,
          60786937,
          60415470
         ],
         "yaxis": "y"
        },
        {
         "hovertemplate": "variable=Passengers2015<br>Airport=%{x}<br>value=%{y}<extra></extra>",
         "legendgroup": "Passengers2015",
         "line": {
          "color": "#EF553B",
          "dash": "solid"
         },
         "marker": {
          "symbol": "circle"
         },
         "mode": "lines",
         "name": "Passengers2015",
         "orientation": "v",
         "showlegend": true,
         "type": "scatter",
         "x": [
          "Heathrow Airport",
          "Charles de Gaulle Airport",
          "Amsterdam Airport Schiphol",
          "Frankfurt Airport",
          "Istanbul Atatürk Airport"
         ],
         "xaxis": "x",
         "y": [
          74985475,
          65766986,
          58284848,
          61032022,
          61322729
         ],
         "yaxis": "y"
        }
       ],
       "layout": {
        "legend": {
         "title": {
          "text": "variable"
         },
         "tracegroupgap": 0
        },
        "template": {
         "data": {
          "bar": [
           {
            "error_x": {
             "color": "#f2f5fa"
            },
            "error_y": {
             "color": "#f2f5fa"
            },
            "marker": {
             "line": {
              "color": "rgb(17,17,17)",
              "width": 0.5
             },
             "pattern": {
              "fillmode": "overlay",
              "size": 10,
              "solidity": 0.2
             }
            },
            "type": "bar"
           }
          ],
          "barpolar": [
           {
            "marker": {
             "line": {
              "color": "rgb(17,17,17)",
              "width": 0.5
             },
             "pattern": {
              "fillmode": "overlay",
              "size": 10,
              "solidity": 0.2
             }
            },
            "type": "barpolar"
           }
          ],
          "carpet": [
           {
            "aaxis": {
             "endlinecolor": "#A2B1C6",
             "gridcolor": "#506784",
             "linecolor": "#506784",
             "minorgridcolor": "#506784",
             "startlinecolor": "#A2B1C6"
            },
            "baxis": {
             "endlinecolor": "#A2B1C6",
             "gridcolor": "#506784",
             "linecolor": "#506784",
             "minorgridcolor": "#506784",
             "startlinecolor": "#A2B1C6"
            },
            "type": "carpet"
           }
          ],
          "choropleth": [
           {
            "colorbar": {
             "outlinewidth": 0,
             "ticks": ""
            },
            "type": "choropleth"
           }
          ],
          "contour": [
           {
            "colorbar": {
             "outlinewidth": 0,
             "ticks": ""
            },
            "colorscale": [
             [
              0,
              "#0d0887"
             ],
             [
              0.1111111111111111,
              "#46039f"
             ],
             [
              0.2222222222222222,
              "#7201a8"
             ],
             [
              0.3333333333333333,
              "#9c179e"
             ],
             [
              0.4444444444444444,
              "#bd3786"
             ],
             [
              0.5555555555555556,
              "#d8576b"
             ],
             [
              0.6666666666666666,
              "#ed7953"
             ],
             [
              0.7777777777777778,
              "#fb9f3a"
             ],
             [
              0.8888888888888888,
              "#fdca26"
             ],
             [
              1,
              "#f0f921"
             ]
            ],
            "type": "contour"
           }
          ],
          "contourcarpet": [
           {
            "colorbar": {
             "outlinewidth": 0,
             "ticks": ""
            },
            "type": "contourcarpet"
           }
          ],
          "heatmap": [
           {
            "colorbar": {
             "outlinewidth": 0,
             "ticks": ""
            },
            "colorscale": [
             [
              0,
              "#0d0887"
             ],
             [
              0.1111111111111111,
              "#46039f"
             ],
             [
              0.2222222222222222,
              "#7201a8"
             ],
             [
              0.3333333333333333,
              "#9c179e"
             ],
             [
              0.4444444444444444,
              "#bd3786"
             ],
             [
              0.5555555555555556,
              "#d8576b"
             ],
             [
              0.6666666666666666,
              "#ed7953"
             ],
             [
              0.7777777777777778,
              "#fb9f3a"
             ],
             [
              0.8888888888888888,
              "#fdca26"
             ],
             [
              1,
              "#f0f921"
             ]
            ],
            "type": "heatmap"
           }
          ],
          "heatmapgl": [
           {
            "colorbar": {
             "outlinewidth": 0,
             "ticks": ""
            },
            "colorscale": [
             [
              0,
              "#0d0887"
             ],
             [
              0.1111111111111111,
              "#46039f"
             ],
             [
              0.2222222222222222,
              "#7201a8"
             ],
             [
              0.3333333333333333,
              "#9c179e"
             ],
             [
              0.4444444444444444,
              "#bd3786"
             ],
             [
              0.5555555555555556,
              "#d8576b"
             ],
             [
              0.6666666666666666,
              "#ed7953"
             ],
             [
              0.7777777777777778,
              "#fb9f3a"
             ],
             [
              0.8888888888888888,
              "#fdca26"
             ],
             [
              1,
              "#f0f921"
             ]
            ],
            "type": "heatmapgl"
           }
          ],
          "histogram": [
           {
            "marker": {
             "pattern": {
              "fillmode": "overlay",
              "size": 10,
              "solidity": 0.2
             }
            },
            "type": "histogram"
           }
          ],
          "histogram2d": [
           {
            "colorbar": {
             "outlinewidth": 0,
             "ticks": ""
            },
            "colorscale": [
             [
              0,
              "#0d0887"
             ],
             [
              0.1111111111111111,
              "#46039f"
             ],
             [
              0.2222222222222222,
              "#7201a8"
             ],
             [
              0.3333333333333333,
              "#9c179e"
             ],
             [
              0.4444444444444444,
              "#bd3786"
             ],
             [
              0.5555555555555556,
              "#d8576b"
             ],
             [
              0.6666666666666666,
              "#ed7953"
             ],
             [
              0.7777777777777778,
              "#fb9f3a"
             ],
             [
              0.8888888888888888,
              "#fdca26"
             ],
             [
              1,
              "#f0f921"
             ]
            ],
            "type": "histogram2d"
           }
          ],
          "histogram2dcontour": [
           {
            "colorbar": {
             "outlinewidth": 0,
             "ticks": ""
            },
            "colorscale": [
             [
              0,
              "#0d0887"
             ],
             [
              0.1111111111111111,
              "#46039f"
             ],
             [
              0.2222222222222222,
              "#7201a8"
             ],
             [
              0.3333333333333333,
              "#9c179e"
             ],
             [
              0.4444444444444444,
              "#bd3786"
             ],
             [
              0.5555555555555556,
              "#d8576b"
             ],
             [
              0.6666666666666666,
              "#ed7953"
             ],
             [
              0.7777777777777778,
              "#fb9f3a"
             ],
             [
              0.8888888888888888,
              "#fdca26"
             ],
             [
              1,
              "#f0f921"
             ]
            ],
            "type": "histogram2dcontour"
           }
          ],
          "mesh3d": [
           {
            "colorbar": {
             "outlinewidth": 0,
             "ticks": ""
            },
            "type": "mesh3d"
           }
          ],
          "parcoords": [
           {
            "line": {
             "colorbar": {
              "outlinewidth": 0,
              "ticks": ""
             }
            },
            "type": "parcoords"
           }
          ],
          "pie": [
           {
            "automargin": true,
            "type": "pie"
           }
          ],
          "scatter": [
           {
            "marker": {
             "line": {
              "color": "#283442"
             }
            },
            "type": "scatter"
           }
          ],
          "scatter3d": [
           {
            "line": {
             "colorbar": {
              "outlinewidth": 0,
              "ticks": ""
             }
            },
            "marker": {
             "colorbar": {
              "outlinewidth": 0,
              "ticks": ""
             }
            },
            "type": "scatter3d"
           }
          ],
          "scattercarpet": [
           {
            "marker": {
             "colorbar": {
              "outlinewidth": 0,
              "ticks": ""
             }
            },
            "type": "scattercarpet"
           }
          ],
          "scattergeo": [
           {
            "marker": {
             "colorbar": {
              "outlinewidth": 0,
              "ticks": ""
             }
            },
            "type": "scattergeo"
           }
          ],
          "scattergl": [
           {
            "marker": {
             "line": {
              "color": "#283442"
             }
            },
            "type": "scattergl"
           }
          ],
          "scattermapbox": [
           {
            "marker": {
             "colorbar": {
              "outlinewidth": 0,
              "ticks": ""
             }
            },
            "type": "scattermapbox"
           }
          ],
          "scatterpolar": [
           {
            "marker": {
             "colorbar": {
              "outlinewidth": 0,
              "ticks": ""
             }
            },
            "type": "scatterpolar"
           }
          ],
          "scatterpolargl": [
           {
            "marker": {
             "colorbar": {
              "outlinewidth": 0,
              "ticks": ""
             }
            },
            "type": "scatterpolargl"
           }
          ],
          "scatterternary": [
           {
            "marker": {
             "colorbar": {
              "outlinewidth": 0,
              "ticks": ""
             }
            },
            "type": "scatterternary"
           }
          ],
          "surface": [
           {
            "colorbar": {
             "outlinewidth": 0,
             "ticks": ""
            },
            "colorscale": [
             [
              0,
              "#0d0887"
             ],
             [
              0.1111111111111111,
              "#46039f"
             ],
             [
              0.2222222222222222,
              "#7201a8"
             ],
             [
              0.3333333333333333,
              "#9c179e"
             ],
             [
              0.4444444444444444,
              "#bd3786"
             ],
             [
              0.5555555555555556,
              "#d8576b"
             ],
             [
              0.6666666666666666,
              "#ed7953"
             ],
             [
              0.7777777777777778,
              "#fb9f3a"
             ],
             [
              0.8888888888888888,
              "#fdca26"
             ],
             [
              1,
              "#f0f921"
             ]
            ],
            "type": "surface"
           }
          ],
          "table": [
           {
            "cells": {
             "fill": {
              "color": "#506784"
             },
             "line": {
              "color": "rgb(17,17,17)"
             }
            },
            "header": {
             "fill": {
              "color": "#2a3f5f"
             },
             "line": {
              "color": "rgb(17,17,17)"
             }
            },
            "type": "table"
           }
          ]
         },
         "layout": {
          "annotationdefaults": {
           "arrowcolor": "#f2f5fa",
           "arrowhead": 0,
           "arrowwidth": 1
          },
          "autotypenumbers": "strict",
          "coloraxis": {
           "colorbar": {
            "outlinewidth": 0,
            "ticks": ""
           }
          },
          "colorscale": {
           "diverging": [
            [
             0,
             "#8e0152"
            ],
            [
             0.1,
             "#c51b7d"
            ],
            [
             0.2,
             "#de77ae"
            ],
            [
             0.3,
             "#f1b6da"
            ],
            [
             0.4,
             "#fde0ef"
            ],
            [
             0.5,
             "#f7f7f7"
            ],
            [
             0.6,
             "#e6f5d0"
            ],
            [
             0.7,
             "#b8e186"
            ],
            [
             0.8,
             "#7fbc41"
            ],
            [
             0.9,
             "#4d9221"
            ],
            [
             1,
             "#276419"
            ]
           ],
           "sequential": [
            [
             0,
             "#0d0887"
            ],
            [
             0.1111111111111111,
             "#46039f"
            ],
            [
             0.2222222222222222,
             "#7201a8"
            ],
            [
             0.3333333333333333,
             "#9c179e"
            ],
            [
             0.4444444444444444,
             "#bd3786"
            ],
            [
             0.5555555555555556,
             "#d8576b"
            ],
            [
             0.6666666666666666,
             "#ed7953"
            ],
            [
             0.7777777777777778,
             "#fb9f3a"
            ],
            [
             0.8888888888888888,
             "#fdca26"
            ],
            [
             1,
             "#f0f921"
            ]
           ],
           "sequentialminus": [
            [
             0,
             "#0d0887"
            ],
            [
             0.1111111111111111,
             "#46039f"
            ],
            [
             0.2222222222222222,
             "#7201a8"
            ],
            [
             0.3333333333333333,
             "#9c179e"
            ],
            [
             0.4444444444444444,
             "#bd3786"
            ],
            [
             0.5555555555555556,
             "#d8576b"
            ],
            [
             0.6666666666666666,
             "#ed7953"
            ],
            [
             0.7777777777777778,
             "#fb9f3a"
            ],
            [
             0.8888888888888888,
             "#fdca26"
            ],
            [
             1,
             "#f0f921"
            ]
           ]
          },
          "colorway": [
           "#636efa",
           "#EF553B",
           "#00cc96",
           "#ab63fa",
           "#FFA15A",
           "#19d3f3",
           "#FF6692",
           "#B6E880",
           "#FF97FF",
           "#FECB52"
          ],
          "font": {
           "color": "#f2f5fa"
          },
          "geo": {
           "bgcolor": "rgb(17,17,17)",
           "lakecolor": "rgb(17,17,17)",
           "landcolor": "rgb(17,17,17)",
           "showlakes": true,
           "showland": true,
           "subunitcolor": "#506784"
          },
          "hoverlabel": {
           "align": "left"
          },
          "hovermode": "closest",
          "mapbox": {
           "style": "dark"
          },
          "paper_bgcolor": "rgb(17,17,17)",
          "plot_bgcolor": "rgb(17,17,17)",
          "polar": {
           "angularaxis": {
            "gridcolor": "#506784",
            "linecolor": "#506784",
            "ticks": ""
           },
           "bgcolor": "rgb(17,17,17)",
           "radialaxis": {
            "gridcolor": "#506784",
            "linecolor": "#506784",
            "ticks": ""
           }
          },
          "scene": {
           "xaxis": {
            "backgroundcolor": "rgb(17,17,17)",
            "gridcolor": "#506784",
            "gridwidth": 2,
            "linecolor": "#506784",
            "showbackground": true,
            "ticks": "",
            "zerolinecolor": "#C8D4E3"
           },
           "yaxis": {
            "backgroundcolor": "rgb(17,17,17)",
            "gridcolor": "#506784",
            "gridwidth": 2,
            "linecolor": "#506784",
            "showbackground": true,
            "ticks": "",
            "zerolinecolor": "#C8D4E3"
           },
           "zaxis": {
            "backgroundcolor": "rgb(17,17,17)",
            "gridcolor": "#506784",
            "gridwidth": 2,
            "linecolor": "#506784",
            "showbackground": true,
            "ticks": "",
            "zerolinecolor": "#C8D4E3"
           }
          },
          "shapedefaults": {
           "line": {
            "color": "#f2f5fa"
           }
          },
          "sliderdefaults": {
           "bgcolor": "#C8D4E3",
           "bordercolor": "rgb(17,17,17)",
           "borderwidth": 1,
           "tickwidth": 0
          },
          "ternary": {
           "aaxis": {
            "gridcolor": "#506784",
            "linecolor": "#506784",
            "ticks": ""
           },
           "baxis": {
            "gridcolor": "#506784",
            "linecolor": "#506784",
            "ticks": ""
           },
           "bgcolor": "rgb(17,17,17)",
           "caxis": {
            "gridcolor": "#506784",
            "linecolor": "#506784",
            "ticks": ""
           }
          },
          "title": {
           "x": 0.05
          },
          "updatemenudefaults": {
           "bgcolor": "#506784",
           "borderwidth": 0
          },
          "xaxis": {
           "automargin": true,
           "gridcolor": "#283442",
           "linecolor": "#506784",
           "ticks": "",
           "title": {
            "standoff": 15
           },
           "zerolinecolor": "#283442",
           "zerolinewidth": 2
          },
          "yaxis": {
           "automargin": true,
           "gridcolor": "#283442",
           "linecolor": "#506784",
           "ticks": "",
           "title": {
            "standoff": 15
           },
           "zerolinecolor": "#283442",
           "zerolinewidth": 2
          }
         }
        },
        "title": {
         "text": "Pasajeros 2015 vs 2016. Aeropuertos más concurridos"
        },
        "xaxis": {
         "anchor": "y",
         "domain": [
          0,
          1
         ],
         "title": {
          "text": "Airport"
         }
        },
        "yaxis": {
         "anchor": "x",
         "domain": [
          0,
          1
         ],
         "title": {
          "text": "value"
         }
        }
       }
      }
     },
     "metadata": {},
     "output_type": "display_data"
    }
   ],
   "source": [
    "px.line(top5_aropuertos2016, y=[\"Passengers2016\", \"Passengers2015\"], x=\"Airport\", title=\"Pasajeros 2015 vs 2016. Aeropuertos más concurridos\", template=\"plotly_dark\")"
   ]
  },
  {
   "cell_type": "code",
   "execution_count": 58,
   "metadata": {},
   "outputs": [],
   "source": [
    "fig=px.line(top5_aropuertos2016, y=[\"Passengers2016\", \"Passengers2015\"], x=\"Airport\", title=\"Pasajeros 2015 vs 2016. Aeropuertos más concurridos\", template=\"plotly_dark\")\n",
    "fig.write_html(\"Pasajeros 2015 vs 2016.html\")"
   ]
  },
  {
   "cell_type": "markdown",
   "metadata": {},
   "source": [
    "2.3- Elabora un histograma para analizar la distribución del cambio porcentual en el número de pasajeros entre 2015 y 2016."
   ]
  },
  {
   "cell_type": "code",
   "execution_count": 21,
   "metadata": {},
   "outputs": [
    {
     "data": {
      "text/html": [
       "<div>\n",
       "<style scoped>\n",
       "    .dataframe tbody tr th:only-of-type {\n",
       "        vertical-align: middle;\n",
       "    }\n",
       "\n",
       "    .dataframe tbody tr th {\n",
       "        vertical-align: top;\n",
       "    }\n",
       "\n",
       "    .dataframe thead th {\n",
       "        text-align: right;\n",
       "    }\n",
       "</style>\n",
       "<table border=\"1\" class=\"dataframe\">\n",
       "  <thead>\n",
       "    <tr style=\"text-align: right;\">\n",
       "      <th></th>\n",
       "      <th>Rank2016</th>\n",
       "      <th>Airport</th>\n",
       "      <th>City served</th>\n",
       "      <th>Country</th>\n",
       "      <th>Passengers2016</th>\n",
       "      <th>Passengers2015</th>\n",
       "      <th>Change 2016-2015-Num</th>\n",
       "      <th>Change 2016-2015-%</th>\n",
       "    </tr>\n",
       "  </thead>\n",
       "  <tbody>\n",
       "    <tr>\n",
       "      <th>0</th>\n",
       "      <td>1</td>\n",
       "      <td>Heathrow Airport</td>\n",
       "      <td>London</td>\n",
       "      <td>United Kingdom</td>\n",
       "      <td>75711130</td>\n",
       "      <td>74985475</td>\n",
       "      <td>725655</td>\n",
       "      <td>0.97</td>\n",
       "    </tr>\n",
       "    <tr>\n",
       "      <th>1</th>\n",
       "      <td>2</td>\n",
       "      <td>Charles de Gaulle Airport</td>\n",
       "      <td>Paris</td>\n",
       "      <td>France</td>\n",
       "      <td>65933145</td>\n",
       "      <td>65766986</td>\n",
       "      <td>166159</td>\n",
       "      <td>0.25</td>\n",
       "    </tr>\n",
       "    <tr>\n",
       "      <th>2</th>\n",
       "      <td>3</td>\n",
       "      <td>Amsterdam Airport Schiphol</td>\n",
       "      <td>Amsterdam</td>\n",
       "      <td>Netherlands</td>\n",
       "      <td>63625664</td>\n",
       "      <td>58284848</td>\n",
       "      <td>5340816</td>\n",
       "      <td>9.16</td>\n",
       "    </tr>\n",
       "    <tr>\n",
       "      <th>3</th>\n",
       "      <td>4</td>\n",
       "      <td>Frankfurt Airport</td>\n",
       "      <td>Frankfurt</td>\n",
       "      <td>Germany</td>\n",
       "      <td>60786937</td>\n",
       "      <td>61032022</td>\n",
       "      <td>-245085</td>\n",
       "      <td>-0.40</td>\n",
       "    </tr>\n",
       "    <tr>\n",
       "      <th>4</th>\n",
       "      <td>5</td>\n",
       "      <td>Istanbul Atatürk Airport</td>\n",
       "      <td>Istanbul</td>\n",
       "      <td>Turkey</td>\n",
       "      <td>60415470</td>\n",
       "      <td>61322729</td>\n",
       "      <td>-907259</td>\n",
       "      <td>-1.48</td>\n",
       "    </tr>\n",
       "    <tr>\n",
       "      <th>...</th>\n",
       "      <td>...</td>\n",
       "      <td>...</td>\n",
       "      <td>...</td>\n",
       "      <td>...</td>\n",
       "      <td>...</td>\n",
       "      <td>...</td>\n",
       "      <td>...</td>\n",
       "      <td>...</td>\n",
       "    </tr>\n",
       "    <tr>\n",
       "      <th>95</th>\n",
       "      <td>96</td>\n",
       "      <td>Turin Airport</td>\n",
       "      <td>Turin</td>\n",
       "      <td>Italy</td>\n",
       "      <td>3943298</td>\n",
       "      <td>3659312</td>\n",
       "      <td>283986</td>\n",
       "      <td>7.76</td>\n",
       "    </tr>\n",
       "    <tr>\n",
       "      <th>96</th>\n",
       "      <td>97</td>\n",
       "      <td>Vilnius Airport</td>\n",
       "      <td>Vilnius</td>\n",
       "      <td>Lithuania</td>\n",
       "      <td>3934891</td>\n",
       "      <td>3814001</td>\n",
       "      <td>120890</td>\n",
       "      <td>3.17</td>\n",
       "    </tr>\n",
       "    <tr>\n",
       "      <th>97</th>\n",
       "      <td>98</td>\n",
       "      <td>Cagliari Airport</td>\n",
       "      <td>Cagliari</td>\n",
       "      <td>Italy</td>\n",
       "      <td>3689747</td>\n",
       "      <td>3714174</td>\n",
       "      <td>-24427</td>\n",
       "      <td>-0.66</td>\n",
       "    </tr>\n",
       "    <tr>\n",
       "      <th>98</th>\n",
       "      <td>99</td>\n",
       "      <td>Leeds Bradford Airport</td>\n",
       "      <td>Leeds</td>\n",
       "      <td>United Kingdom</td>\n",
       "      <td>3612061</td>\n",
       "      <td>3446831</td>\n",
       "      <td>165230</td>\n",
       "      <td>4.79</td>\n",
       "    </tr>\n",
       "    <tr>\n",
       "      <th>99</th>\n",
       "      <td>100</td>\n",
       "      <td>Nuremberg Airport</td>\n",
       "      <td>Nuremberg</td>\n",
       "      <td>Germany</td>\n",
       "      <td>3485372</td>\n",
       "      <td>3381681</td>\n",
       "      <td>103691</td>\n",
       "      <td>3.07</td>\n",
       "    </tr>\n",
       "  </tbody>\n",
       "</table>\n",
       "<p>100 rows × 8 columns</p>\n",
       "</div>"
      ],
      "text/plain": [
       "    Rank2016                     Airport City served         Country  \\\n",
       "0          1            Heathrow Airport      London  United Kingdom   \n",
       "1          2   Charles de Gaulle Airport       Paris          France   \n",
       "2          3  Amsterdam Airport Schiphol   Amsterdam     Netherlands   \n",
       "3          4           Frankfurt Airport   Frankfurt         Germany   \n",
       "4          5    Istanbul Atatürk Airport    Istanbul          Turkey   \n",
       "..       ...                         ...         ...             ...   \n",
       "95        96               Turin Airport       Turin           Italy   \n",
       "96        97             Vilnius Airport     Vilnius       Lithuania   \n",
       "97        98            Cagliari Airport    Cagliari           Italy   \n",
       "98        99      Leeds Bradford Airport       Leeds  United Kingdom   \n",
       "99       100           Nuremberg Airport   Nuremberg         Germany   \n",
       "\n",
       "    Passengers2016  Passengers2015  Change 2016-2015-Num  Change 2016-2015-%  \n",
       "0         75711130        74985475                725655                0.97  \n",
       "1         65933145        65766986                166159                0.25  \n",
       "2         63625664        58284848               5340816                9.16  \n",
       "3         60786937        61032022               -245085               -0.40  \n",
       "4         60415470        61322729               -907259               -1.48  \n",
       "..             ...             ...                   ...                 ...  \n",
       "95         3943298         3659312                283986                7.76  \n",
       "96         3934891         3814001                120890                3.17  \n",
       "97         3689747         3714174                -24427               -0.66  \n",
       "98         3612061         3446831                165230                4.79  \n",
       "99         3485372         3381681                103691                3.07  \n",
       "\n",
       "[100 rows x 8 columns]"
      ]
     },
     "execution_count": 21,
     "metadata": {},
     "output_type": "execute_result"
    }
   ],
   "source": [
    "#Como los valores de esta columna eran \"object\", se han de cambiar primero a \"float. Los sobreescribiremos en la tabla del df\n",
    "\n",
    "df[\"Change 2016-2015-%\"]=df[\"Change 2016-2015-%\"].str.replace(\"%\",\"\").str.replace(\",\",\"\")    #Reemplazamos. La extracción redondeó los números, esta opción es mejor\n",
    "df[\"Change 2016-2015-%\"]=df[\"Change 2016-2015-%\"].astype(float)                              #Convertimos en float\n",
    "df[\"Change 2016-2015-%\"]=df[\"Change 2016-2015-%\"]/100                                        #Dividimos por 100 para conseguir el porcentaje de nuevo\n",
    "df"
   ]
  },
  {
   "cell_type": "code",
   "execution_count": 22,
   "metadata": {},
   "outputs": [
    {
     "data": {
      "text/plain": [
       "0     0.97\n",
       "1     0.25\n",
       "2     9.16\n",
       "3    -0.40\n",
       "4    -1.48\n",
       "      ... \n",
       "95    7.76\n",
       "96    3.17\n",
       "97   -0.66\n",
       "98    4.79\n",
       "99    3.07\n",
       "Name: Change 2016-2015-%, Length: 100, dtype: float64"
      ]
     },
     "execution_count": 22,
     "metadata": {},
     "output_type": "execute_result"
    }
   ],
   "source": [
    "df[\"Change 2016-2015-%\"]"
   ]
  },
  {
   "cell_type": "code",
   "execution_count": 48,
   "metadata": {},
   "outputs": [
    {
     "data": {
      "application/vnd.plotly.v1+json": {
       "config": {
        "plotlyServerURL": "https://plot.ly"
       },
       "data": [
        {
         "alignmentgroup": "True",
         "bingroup": "x",
         "hovertemplate": "Change 2016-2015-%=%{x}<br>count=%{y}<extra></extra>",
         "legendgroup": "",
         "marker": {
          "color": "yellowgreen",
          "opacity": 0.5,
          "pattern": {
           "shape": ""
          }
         },
         "name": "",
         "offsetgroup": "",
         "orientation": "v",
         "showlegend": false,
         "texttemplate": "%{value}",
         "type": "histogram",
         "x": [
          0.97,
          0.25,
          9.16,
          -0.4,
          -1.48,
          7.68,
          11.19,
          7.08,
          3.12,
          3.17,
          7.59,
          5.3,
          9.14,
          -6.57,
          11.41,
          5.27,
          10.57,
          4.5,
          10.81,
          6.65,
          8,
          4.65,
          2.53,
          11.74,
          -7,
          1.18,
          10.67,
          4.51,
          4.64,
          15.75,
          4.82,
          3.93,
          18.66,
          -11.81,
          -1.75,
          8.67,
          14.38,
          3.42,
          11.1,
          16.73,
          15.2,
          36.67,
          14.31,
          11.1,
          7.26,
          18.42,
          1.09,
          -0.08,
          9.98,
          9.77,
          15.95,
          7.25,
          18.87,
          2.59,
          5.37,
          11.38,
          11.48,
          18.55,
          12.14,
          14.5,
          3.59,
          4.99,
          40.49,
          9.94,
          11.32,
          3.43,
          -1.19,
          14.72,
          8.57,
          6.48,
          -0.8,
          4.61,
          -7.52,
          8.45,
          3.67,
          17.22,
          9.99,
          3.84,
          18.06,
          21.8,
          7.94,
          3.12,
          5.37,
          9.29,
          8.74,
          11.1,
          4.56,
          7.32,
          7.26,
          5.08,
          1.49,
          8.83,
          -6.8,
          8.04,
          -7.67,
          7.76,
          3.17,
          -0.66,
          4.79,
          3.07
         ],
         "xaxis": "x",
         "yaxis": "y"
        }
       ],
       "layout": {
        "barmode": "relative",
        "legend": {
         "tracegroupgap": 0
        },
        "template": {
         "data": {
          "bar": [
           {
            "error_x": {
             "color": "#f2f5fa"
            },
            "error_y": {
             "color": "#f2f5fa"
            },
            "marker": {
             "line": {
              "color": "rgb(17,17,17)",
              "width": 0.5
             },
             "pattern": {
              "fillmode": "overlay",
              "size": 10,
              "solidity": 0.2
             }
            },
            "type": "bar"
           }
          ],
          "barpolar": [
           {
            "marker": {
             "line": {
              "color": "rgb(17,17,17)",
              "width": 0.5
             },
             "pattern": {
              "fillmode": "overlay",
              "size": 10,
              "solidity": 0.2
             }
            },
            "type": "barpolar"
           }
          ],
          "carpet": [
           {
            "aaxis": {
             "endlinecolor": "#A2B1C6",
             "gridcolor": "#506784",
             "linecolor": "#506784",
             "minorgridcolor": "#506784",
             "startlinecolor": "#A2B1C6"
            },
            "baxis": {
             "endlinecolor": "#A2B1C6",
             "gridcolor": "#506784",
             "linecolor": "#506784",
             "minorgridcolor": "#506784",
             "startlinecolor": "#A2B1C6"
            },
            "type": "carpet"
           }
          ],
          "choropleth": [
           {
            "colorbar": {
             "outlinewidth": 0,
             "ticks": ""
            },
            "type": "choropleth"
           }
          ],
          "contour": [
           {
            "colorbar": {
             "outlinewidth": 0,
             "ticks": ""
            },
            "colorscale": [
             [
              0,
              "#0d0887"
             ],
             [
              0.1111111111111111,
              "#46039f"
             ],
             [
              0.2222222222222222,
              "#7201a8"
             ],
             [
              0.3333333333333333,
              "#9c179e"
             ],
             [
              0.4444444444444444,
              "#bd3786"
             ],
             [
              0.5555555555555556,
              "#d8576b"
             ],
             [
              0.6666666666666666,
              "#ed7953"
             ],
             [
              0.7777777777777778,
              "#fb9f3a"
             ],
             [
              0.8888888888888888,
              "#fdca26"
             ],
             [
              1,
              "#f0f921"
             ]
            ],
            "type": "contour"
           }
          ],
          "contourcarpet": [
           {
            "colorbar": {
             "outlinewidth": 0,
             "ticks": ""
            },
            "type": "contourcarpet"
           }
          ],
          "heatmap": [
           {
            "colorbar": {
             "outlinewidth": 0,
             "ticks": ""
            },
            "colorscale": [
             [
              0,
              "#0d0887"
             ],
             [
              0.1111111111111111,
              "#46039f"
             ],
             [
              0.2222222222222222,
              "#7201a8"
             ],
             [
              0.3333333333333333,
              "#9c179e"
             ],
             [
              0.4444444444444444,
              "#bd3786"
             ],
             [
              0.5555555555555556,
              "#d8576b"
             ],
             [
              0.6666666666666666,
              "#ed7953"
             ],
             [
              0.7777777777777778,
              "#fb9f3a"
             ],
             [
              0.8888888888888888,
              "#fdca26"
             ],
             [
              1,
              "#f0f921"
             ]
            ],
            "type": "heatmap"
           }
          ],
          "heatmapgl": [
           {
            "colorbar": {
             "outlinewidth": 0,
             "ticks": ""
            },
            "colorscale": [
             [
              0,
              "#0d0887"
             ],
             [
              0.1111111111111111,
              "#46039f"
             ],
             [
              0.2222222222222222,
              "#7201a8"
             ],
             [
              0.3333333333333333,
              "#9c179e"
             ],
             [
              0.4444444444444444,
              "#bd3786"
             ],
             [
              0.5555555555555556,
              "#d8576b"
             ],
             [
              0.6666666666666666,
              "#ed7953"
             ],
             [
              0.7777777777777778,
              "#fb9f3a"
             ],
             [
              0.8888888888888888,
              "#fdca26"
             ],
             [
              1,
              "#f0f921"
             ]
            ],
            "type": "heatmapgl"
           }
          ],
          "histogram": [
           {
            "marker": {
             "pattern": {
              "fillmode": "overlay",
              "size": 10,
              "solidity": 0.2
             }
            },
            "type": "histogram"
           }
          ],
          "histogram2d": [
           {
            "colorbar": {
             "outlinewidth": 0,
             "ticks": ""
            },
            "colorscale": [
             [
              0,
              "#0d0887"
             ],
             [
              0.1111111111111111,
              "#46039f"
             ],
             [
              0.2222222222222222,
              "#7201a8"
             ],
             [
              0.3333333333333333,
              "#9c179e"
             ],
             [
              0.4444444444444444,
              "#bd3786"
             ],
             [
              0.5555555555555556,
              "#d8576b"
             ],
             [
              0.6666666666666666,
              "#ed7953"
             ],
             [
              0.7777777777777778,
              "#fb9f3a"
             ],
             [
              0.8888888888888888,
              "#fdca26"
             ],
             [
              1,
              "#f0f921"
             ]
            ],
            "type": "histogram2d"
           }
          ],
          "histogram2dcontour": [
           {
            "colorbar": {
             "outlinewidth": 0,
             "ticks": ""
            },
            "colorscale": [
             [
              0,
              "#0d0887"
             ],
             [
              0.1111111111111111,
              "#46039f"
             ],
             [
              0.2222222222222222,
              "#7201a8"
             ],
             [
              0.3333333333333333,
              "#9c179e"
             ],
             [
              0.4444444444444444,
              "#bd3786"
             ],
             [
              0.5555555555555556,
              "#d8576b"
             ],
             [
              0.6666666666666666,
              "#ed7953"
             ],
             [
              0.7777777777777778,
              "#fb9f3a"
             ],
             [
              0.8888888888888888,
              "#fdca26"
             ],
             [
              1,
              "#f0f921"
             ]
            ],
            "type": "histogram2dcontour"
           }
          ],
          "mesh3d": [
           {
            "colorbar": {
             "outlinewidth": 0,
             "ticks": ""
            },
            "type": "mesh3d"
           }
          ],
          "parcoords": [
           {
            "line": {
             "colorbar": {
              "outlinewidth": 0,
              "ticks": ""
             }
            },
            "type": "parcoords"
           }
          ],
          "pie": [
           {
            "automargin": true,
            "type": "pie"
           }
          ],
          "scatter": [
           {
            "marker": {
             "line": {
              "color": "#283442"
             }
            },
            "type": "scatter"
           }
          ],
          "scatter3d": [
           {
            "line": {
             "colorbar": {
              "outlinewidth": 0,
              "ticks": ""
             }
            },
            "marker": {
             "colorbar": {
              "outlinewidth": 0,
              "ticks": ""
             }
            },
            "type": "scatter3d"
           }
          ],
          "scattercarpet": [
           {
            "marker": {
             "colorbar": {
              "outlinewidth": 0,
              "ticks": ""
             }
            },
            "type": "scattercarpet"
           }
          ],
          "scattergeo": [
           {
            "marker": {
             "colorbar": {
              "outlinewidth": 0,
              "ticks": ""
             }
            },
            "type": "scattergeo"
           }
          ],
          "scattergl": [
           {
            "marker": {
             "line": {
              "color": "#283442"
             }
            },
            "type": "scattergl"
           }
          ],
          "scattermapbox": [
           {
            "marker": {
             "colorbar": {
              "outlinewidth": 0,
              "ticks": ""
             }
            },
            "type": "scattermapbox"
           }
          ],
          "scatterpolar": [
           {
            "marker": {
             "colorbar": {
              "outlinewidth": 0,
              "ticks": ""
             }
            },
            "type": "scatterpolar"
           }
          ],
          "scatterpolargl": [
           {
            "marker": {
             "colorbar": {
              "outlinewidth": 0,
              "ticks": ""
             }
            },
            "type": "scatterpolargl"
           }
          ],
          "scatterternary": [
           {
            "marker": {
             "colorbar": {
              "outlinewidth": 0,
              "ticks": ""
             }
            },
            "type": "scatterternary"
           }
          ],
          "surface": [
           {
            "colorbar": {
             "outlinewidth": 0,
             "ticks": ""
            },
            "colorscale": [
             [
              0,
              "#0d0887"
             ],
             [
              0.1111111111111111,
              "#46039f"
             ],
             [
              0.2222222222222222,
              "#7201a8"
             ],
             [
              0.3333333333333333,
              "#9c179e"
             ],
             [
              0.4444444444444444,
              "#bd3786"
             ],
             [
              0.5555555555555556,
              "#d8576b"
             ],
             [
              0.6666666666666666,
              "#ed7953"
             ],
             [
              0.7777777777777778,
              "#fb9f3a"
             ],
             [
              0.8888888888888888,
              "#fdca26"
             ],
             [
              1,
              "#f0f921"
             ]
            ],
            "type": "surface"
           }
          ],
          "table": [
           {
            "cells": {
             "fill": {
              "color": "#506784"
             },
             "line": {
              "color": "rgb(17,17,17)"
             }
            },
            "header": {
             "fill": {
              "color": "#2a3f5f"
             },
             "line": {
              "color": "rgb(17,17,17)"
             }
            },
            "type": "table"
           }
          ]
         },
         "layout": {
          "annotationdefaults": {
           "arrowcolor": "#f2f5fa",
           "arrowhead": 0,
           "arrowwidth": 1
          },
          "autotypenumbers": "strict",
          "coloraxis": {
           "colorbar": {
            "outlinewidth": 0,
            "ticks": ""
           }
          },
          "colorscale": {
           "diverging": [
            [
             0,
             "#8e0152"
            ],
            [
             0.1,
             "#c51b7d"
            ],
            [
             0.2,
             "#de77ae"
            ],
            [
             0.3,
             "#f1b6da"
            ],
            [
             0.4,
             "#fde0ef"
            ],
            [
             0.5,
             "#f7f7f7"
            ],
            [
             0.6,
             "#e6f5d0"
            ],
            [
             0.7,
             "#b8e186"
            ],
            [
             0.8,
             "#7fbc41"
            ],
            [
             0.9,
             "#4d9221"
            ],
            [
             1,
             "#276419"
            ]
           ],
           "sequential": [
            [
             0,
             "#0d0887"
            ],
            [
             0.1111111111111111,
             "#46039f"
            ],
            [
             0.2222222222222222,
             "#7201a8"
            ],
            [
             0.3333333333333333,
             "#9c179e"
            ],
            [
             0.4444444444444444,
             "#bd3786"
            ],
            [
             0.5555555555555556,
             "#d8576b"
            ],
            [
             0.6666666666666666,
             "#ed7953"
            ],
            [
             0.7777777777777778,
             "#fb9f3a"
            ],
            [
             0.8888888888888888,
             "#fdca26"
            ],
            [
             1,
             "#f0f921"
            ]
           ],
           "sequentialminus": [
            [
             0,
             "#0d0887"
            ],
            [
             0.1111111111111111,
             "#46039f"
            ],
            [
             0.2222222222222222,
             "#7201a8"
            ],
            [
             0.3333333333333333,
             "#9c179e"
            ],
            [
             0.4444444444444444,
             "#bd3786"
            ],
            [
             0.5555555555555556,
             "#d8576b"
            ],
            [
             0.6666666666666666,
             "#ed7953"
            ],
            [
             0.7777777777777778,
             "#fb9f3a"
            ],
            [
             0.8888888888888888,
             "#fdca26"
            ],
            [
             1,
             "#f0f921"
            ]
           ]
          },
          "colorway": [
           "#636efa",
           "#EF553B",
           "#00cc96",
           "#ab63fa",
           "#FFA15A",
           "#19d3f3",
           "#FF6692",
           "#B6E880",
           "#FF97FF",
           "#FECB52"
          ],
          "font": {
           "color": "#f2f5fa"
          },
          "geo": {
           "bgcolor": "rgb(17,17,17)",
           "lakecolor": "rgb(17,17,17)",
           "landcolor": "rgb(17,17,17)",
           "showlakes": true,
           "showland": true,
           "subunitcolor": "#506784"
          },
          "hoverlabel": {
           "align": "left"
          },
          "hovermode": "closest",
          "mapbox": {
           "style": "dark"
          },
          "paper_bgcolor": "rgb(17,17,17)",
          "plot_bgcolor": "rgb(17,17,17)",
          "polar": {
           "angularaxis": {
            "gridcolor": "#506784",
            "linecolor": "#506784",
            "ticks": ""
           },
           "bgcolor": "rgb(17,17,17)",
           "radialaxis": {
            "gridcolor": "#506784",
            "linecolor": "#506784",
            "ticks": ""
           }
          },
          "scene": {
           "xaxis": {
            "backgroundcolor": "rgb(17,17,17)",
            "gridcolor": "#506784",
            "gridwidth": 2,
            "linecolor": "#506784",
            "showbackground": true,
            "ticks": "",
            "zerolinecolor": "#C8D4E3"
           },
           "yaxis": {
            "backgroundcolor": "rgb(17,17,17)",
            "gridcolor": "#506784",
            "gridwidth": 2,
            "linecolor": "#506784",
            "showbackground": true,
            "ticks": "",
            "zerolinecolor": "#C8D4E3"
           },
           "zaxis": {
            "backgroundcolor": "rgb(17,17,17)",
            "gridcolor": "#506784",
            "gridwidth": 2,
            "linecolor": "#506784",
            "showbackground": true,
            "ticks": "",
            "zerolinecolor": "#C8D4E3"
           }
          },
          "shapedefaults": {
           "line": {
            "color": "#f2f5fa"
           }
          },
          "sliderdefaults": {
           "bgcolor": "#C8D4E3",
           "bordercolor": "rgb(17,17,17)",
           "borderwidth": 1,
           "tickwidth": 0
          },
          "ternary": {
           "aaxis": {
            "gridcolor": "#506784",
            "linecolor": "#506784",
            "ticks": ""
           },
           "baxis": {
            "gridcolor": "#506784",
            "linecolor": "#506784",
            "ticks": ""
           },
           "bgcolor": "rgb(17,17,17)",
           "caxis": {
            "gridcolor": "#506784",
            "linecolor": "#506784",
            "ticks": ""
           }
          },
          "title": {
           "x": 0.05
          },
          "updatemenudefaults": {
           "bgcolor": "#506784",
           "borderwidth": 0
          },
          "xaxis": {
           "automargin": true,
           "gridcolor": "#283442",
           "linecolor": "#506784",
           "ticks": "",
           "title": {
            "standoff": 15
           },
           "zerolinecolor": "#283442",
           "zerolinewidth": 2
          },
          "yaxis": {
           "automargin": true,
           "gridcolor": "#283442",
           "linecolor": "#506784",
           "ticks": "",
           "title": {
            "standoff": 15
           },
           "zerolinecolor": "#283442",
           "zerolinewidth": 2
          }
         }
        },
        "title": {
         "text": "Distribución del cambio porcentual en el número de pasajeros entre 2015 y 2016"
        },
        "xaxis": {
         "anchor": "y",
         "domain": [
          0,
          1
         ],
         "title": {
          "text": "Change 2016-2015-%"
         }
        },
        "yaxis": {
         "anchor": "x",
         "domain": [
          0,
          1
         ],
         "title": {
          "text": "count"
         }
        }
       }
      }
     },
     "metadata": {},
     "output_type": "display_data"
    }
   ],
   "source": [
    "px.histogram(df, x=\"Change 2016-2015-%\", title=\"Distribución del cambio porcentual en el número de pasajeros entre 2015 y 2016\", template=\"plotly_dark\", text_auto=True, opacity=0.5, color_discrete_sequence=[\"yellowgreen\"])"
   ]
  },
  {
   "cell_type": "code",
   "execution_count": 65,
   "metadata": {},
   "outputs": [],
   "source": [
    "fig=px.histogram(df, x=\"Change 2016-2015-%\", title=\"Distribución del cambio porcentual en el número de pasajeros entre 2015 y 2016\", template=\"plotly_dark\", text_auto=True, opacity=0.5, color_discrete_sequence=[\"yellowgreen\"])\n",
    "fig.write_html(\"Distribución del cambio porcentual en el número de pasajeros entre 2015 y 2016.html\")"
   ]
  },
  {
   "cell_type": "markdown",
   "metadata": {},
   "source": [
    "2.4- Desarrolla un diagrama de dispersión que compare el ranking en 2016 con el número de pasajeros en 2016 e incluye una línea de tendencia."
   ]
  },
  {
   "cell_type": "code",
   "execution_count": 59,
   "metadata": {},
   "outputs": [
    {
     "data": {
      "application/vnd.plotly.v1+json": {
       "config": {
        "plotlyServerURL": "https://plot.ly"
       },
       "data": [
        {
         "hovertemplate": "Rank2016=%{x}<br>Passengers2016=%{marker.color}<extra></extra>",
         "legendgroup": "",
         "marker": {
          "color": [
           75711130,
           65933145,
           63625664,
           60786937,
           60415470,
           50420583,
           44154693,
           43119628,
           42261309,
           41744769,
           33679052,
           31237865,
           29043287,
           28500259,
           27907384,
           27666428,
           26253882,
           25787691,
           25637054,
           24682466,
           24320071,
           23521919,
           23352016,
           22449289,
           21818418,
           21253959,
           20017530,
           19420690,
           17184681,
           16672776,
           16532690,
           16224154,
           14551774,
           13946688,
           13265037,
           13074517,
           12795356,
           12427427,
           12348425,
           12344945,
           11910138,
           11652922,
           11645334,
           11441999,
           11159631,
           10982967,
           10626430,
           9682264,
           9624748,
           9553250,
           9378082,
           9346245,
           8650000,
           8475809,
           8081179,
           7914117,
           7680992,
           7630909,
           7610780,
           7416368,
           7314269,
           7303720,
           6821358,
           6775988,
           6742746,
           6369396,
           5949060,
           5799104,
           5779569,
           5687325,
           5408814,
           5400243,
           5395699,
           5325559,
           5201690,
           5147546,
           5080071,
           4989496,
           4983645,
           4980387,
           4942386,
           4924992,
           4807906,
           4780197,
           4778967,
           4778939,
           4653818,
           4624038,
           4588265,
           4538913,
           4417490,
           4322797,
           4193665,
           4004081,
           3997856,
           3943298,
           3934891,
           3689747,
           3612061,
           3485372
          ],
          "coloraxis": "coloraxis",
          "symbol": "circle"
         },
         "mode": "markers",
         "name": "",
         "orientation": "v",
         "showlegend": false,
         "type": "scatter",
         "x": [
          1,
          2,
          3,
          4,
          5,
          6,
          7,
          8,
          9,
          10,
          11,
          12,
          13,
          14,
          15,
          16,
          17,
          18,
          19,
          20,
          21,
          22,
          23,
          24,
          25,
          26,
          27,
          28,
          29,
          30,
          31,
          32,
          33,
          34,
          35,
          36,
          37,
          38,
          39,
          40,
          41,
          42,
          43,
          44,
          45,
          46,
          47,
          48,
          49,
          50,
          51,
          52,
          53,
          54,
          55,
          56,
          57,
          58,
          59,
          60,
          61,
          62,
          63,
          64,
          65,
          66,
          67,
          68,
          69,
          70,
          71,
          72,
          73,
          74,
          75,
          76,
          77,
          78,
          79,
          80,
          81,
          82,
          83,
          84,
          85,
          86,
          87,
          88,
          89,
          90,
          91,
          92,
          93,
          94,
          95,
          96,
          97,
          98,
          99,
          100
         ],
         "xaxis": "x",
         "y": [
          75711130,
          65933145,
          63625664,
          60786937,
          60415470,
          50420583,
          44154693,
          43119628,
          42261309,
          41744769,
          33679052,
          31237865,
          29043287,
          28500259,
          27907384,
          27666428,
          26253882,
          25787691,
          25637054,
          24682466,
          24320071,
          23521919,
          23352016,
          22449289,
          21818418,
          21253959,
          20017530,
          19420690,
          17184681,
          16672776,
          16532690,
          16224154,
          14551774,
          13946688,
          13265037,
          13074517,
          12795356,
          12427427,
          12348425,
          12344945,
          11910138,
          11652922,
          11645334,
          11441999,
          11159631,
          10982967,
          10626430,
          9682264,
          9624748,
          9553250,
          9378082,
          9346245,
          8650000,
          8475809,
          8081179,
          7914117,
          7680992,
          7630909,
          7610780,
          7416368,
          7314269,
          7303720,
          6821358,
          6775988,
          6742746,
          6369396,
          5949060,
          5799104,
          5779569,
          5687325,
          5408814,
          5400243,
          5395699,
          5325559,
          5201690,
          5147546,
          5080071,
          4989496,
          4983645,
          4980387,
          4942386,
          4924992,
          4807906,
          4780197,
          4778967,
          4778939,
          4653818,
          4624038,
          4588265,
          4538913,
          4417490,
          4322797,
          4193665,
          4004081,
          3997856,
          3943298,
          3934891,
          3689747,
          3612061,
          3485372
         ],
         "yaxis": "y"
        },
        {
         "hovertemplate": "<b>OLS trendline</b><br>Passengers2016 = -441545 * Rank2016 + 3.79983e+07<br>R<sup>2</sup>=0.678250<br><br>Rank2016=%{x}<br>Passengers2016=%{y} <b>(trend)</b><extra></extra>",
         "legendgroup": "",
         "marker": {
          "symbol": "circle"
         },
         "mode": "lines",
         "name": "",
         "showlegend": false,
         "type": "scatter",
         "x": [
          1,
          2,
          3,
          4,
          5,
          6,
          7,
          8,
          9,
          10,
          11,
          12,
          13,
          14,
          15,
          16,
          17,
          18,
          19,
          20,
          21,
          22,
          23,
          24,
          25,
          26,
          27,
          28,
          29,
          30,
          31,
          32,
          33,
          34,
          35,
          36,
          37,
          38,
          39,
          40,
          41,
          42,
          43,
          44,
          45,
          46,
          47,
          48,
          49,
          50,
          51,
          52,
          53,
          54,
          55,
          56,
          57,
          58,
          59,
          60,
          61,
          62,
          63,
          64,
          65,
          66,
          67,
          68,
          69,
          70,
          71,
          72,
          73,
          74,
          75,
          76,
          77,
          78,
          79,
          80,
          81,
          82,
          83,
          84,
          85,
          86,
          87,
          88,
          89,
          90,
          91,
          92,
          93,
          94,
          95,
          96,
          97,
          98,
          99,
          100
         ],
         "xaxis": "x",
         "y": [
          37556771.56376238,
          37115226.80207021,
          36673682.04037804,
          36232137.278685875,
          35790592.5169937,
          35349047.755301535,
          34907502.99360937,
          34465958.231917195,
          34024413.47022503,
          33582868.708532855,
          33141323.94684069,
          32699779.185148522,
          32258234.423456352,
          31816689.661764182,
          31375144.900072016,
          30933600.138379846,
          30492055.376687676,
          30050510.61499551,
          29608965.85330334,
          29167421.09161117,
          28725876.329919003,
          28284331.568226833,
          27842786.806534663,
          27401242.044842497,
          26959697.283150326,
          26518152.521458156,
          26076607.75976599,
          25635062.99807382,
          25193518.23638165,
          24751973.474689484,
          24310428.71299731,
          23868883.951305144,
          23427339.189612977,
          22985794.427920803,
          22544249.666228637,
          22102704.904536467,
          21661160.142844297,
          21219615.38115213,
          20778070.61945996,
          20336525.85776779,
          19894981.096075624,
          19453436.334383454,
          19011891.572691284,
          18570346.810999118,
          18128802.049306948,
          17687257.287614778,
          17245712.52592261,
          16804167.76423044,
          16362623.002538271,
          15921078.240846105,
          15479533.479153935,
          15037988.717461765,
          14596443.955769598,
          14154899.194077428,
          13713354.432385258,
          13271809.670693092,
          12830264.909000922,
          12388720.147308752,
          11947175.385616582,
          11505630.623924416,
          11064085.862232246,
          10622541.100540075,
          10180996.33884791,
          9739451.57715574,
          9297906.815463569,
          8856362.053771403,
          8414817.292079233,
          7973272.530387063,
          7531727.768694896,
          7090183.007002726,
          6648638.245310556,
          6207093.483618386,
          5765548.72192622,
          5324003.96023405,
          4882459.19854188,
          4440914.436849713,
          3999369.675157547,
          3557824.913465373,
          3116280.151773207,
          2674735.390081033,
          2233190.628388867,
          1791645.8666967005,
          1350101.1050045267,
          908556.3433123603,
          467011.581620194,
          25466.81992802024,
          -416077.9417641461,
          -857622.7034563124,
          -1299167.4651484862,
          -1740712.2268406525,
          -2182256.988532819,
          -2623801.7502249926,
          -3065346.511917159,
          -3506891.2736093253,
          -3948436.035301499,
          -4389980.796993665,
          -4831525.558685832,
          -5273070.3203780055,
          -5714615.082070172,
          -6156159.843762338
         ],
         "yaxis": "y"
        }
       ],
       "layout": {
        "coloraxis": {
         "colorbar": {
          "title": {
           "text": "Passengers2016"
          }
         },
         "colorscale": [
          [
           0,
           "#0d0887"
          ],
          [
           0.1111111111111111,
           "#46039f"
          ],
          [
           0.2222222222222222,
           "#7201a8"
          ],
          [
           0.3333333333333333,
           "#9c179e"
          ],
          [
           0.4444444444444444,
           "#bd3786"
          ],
          [
           0.5555555555555556,
           "#d8576b"
          ],
          [
           0.6666666666666666,
           "#ed7953"
          ],
          [
           0.7777777777777778,
           "#fb9f3a"
          ],
          [
           0.8888888888888888,
           "#fdca26"
          ],
          [
           1,
           "#f0f921"
          ]
         ]
        },
        "legend": {
         "tracegroupgap": 0
        },
        "template": {
         "data": {
          "bar": [
           {
            "error_x": {
             "color": "#f2f5fa"
            },
            "error_y": {
             "color": "#f2f5fa"
            },
            "marker": {
             "line": {
              "color": "rgb(17,17,17)",
              "width": 0.5
             },
             "pattern": {
              "fillmode": "overlay",
              "size": 10,
              "solidity": 0.2
             }
            },
            "type": "bar"
           }
          ],
          "barpolar": [
           {
            "marker": {
             "line": {
              "color": "rgb(17,17,17)",
              "width": 0.5
             },
             "pattern": {
              "fillmode": "overlay",
              "size": 10,
              "solidity": 0.2
             }
            },
            "type": "barpolar"
           }
          ],
          "carpet": [
           {
            "aaxis": {
             "endlinecolor": "#A2B1C6",
             "gridcolor": "#506784",
             "linecolor": "#506784",
             "minorgridcolor": "#506784",
             "startlinecolor": "#A2B1C6"
            },
            "baxis": {
             "endlinecolor": "#A2B1C6",
             "gridcolor": "#506784",
             "linecolor": "#506784",
             "minorgridcolor": "#506784",
             "startlinecolor": "#A2B1C6"
            },
            "type": "carpet"
           }
          ],
          "choropleth": [
           {
            "colorbar": {
             "outlinewidth": 0,
             "ticks": ""
            },
            "type": "choropleth"
           }
          ],
          "contour": [
           {
            "colorbar": {
             "outlinewidth": 0,
             "ticks": ""
            },
            "colorscale": [
             [
              0,
              "#0d0887"
             ],
             [
              0.1111111111111111,
              "#46039f"
             ],
             [
              0.2222222222222222,
              "#7201a8"
             ],
             [
              0.3333333333333333,
              "#9c179e"
             ],
             [
              0.4444444444444444,
              "#bd3786"
             ],
             [
              0.5555555555555556,
              "#d8576b"
             ],
             [
              0.6666666666666666,
              "#ed7953"
             ],
             [
              0.7777777777777778,
              "#fb9f3a"
             ],
             [
              0.8888888888888888,
              "#fdca26"
             ],
             [
              1,
              "#f0f921"
             ]
            ],
            "type": "contour"
           }
          ],
          "contourcarpet": [
           {
            "colorbar": {
             "outlinewidth": 0,
             "ticks": ""
            },
            "type": "contourcarpet"
           }
          ],
          "heatmap": [
           {
            "colorbar": {
             "outlinewidth": 0,
             "ticks": ""
            },
            "colorscale": [
             [
              0,
              "#0d0887"
             ],
             [
              0.1111111111111111,
              "#46039f"
             ],
             [
              0.2222222222222222,
              "#7201a8"
             ],
             [
              0.3333333333333333,
              "#9c179e"
             ],
             [
              0.4444444444444444,
              "#bd3786"
             ],
             [
              0.5555555555555556,
              "#d8576b"
             ],
             [
              0.6666666666666666,
              "#ed7953"
             ],
             [
              0.7777777777777778,
              "#fb9f3a"
             ],
             [
              0.8888888888888888,
              "#fdca26"
             ],
             [
              1,
              "#f0f921"
             ]
            ],
            "type": "heatmap"
           }
          ],
          "heatmapgl": [
           {
            "colorbar": {
             "outlinewidth": 0,
             "ticks": ""
            },
            "colorscale": [
             [
              0,
              "#0d0887"
             ],
             [
              0.1111111111111111,
              "#46039f"
             ],
             [
              0.2222222222222222,
              "#7201a8"
             ],
             [
              0.3333333333333333,
              "#9c179e"
             ],
             [
              0.4444444444444444,
              "#bd3786"
             ],
             [
              0.5555555555555556,
              "#d8576b"
             ],
             [
              0.6666666666666666,
              "#ed7953"
             ],
             [
              0.7777777777777778,
              "#fb9f3a"
             ],
             [
              0.8888888888888888,
              "#fdca26"
             ],
             [
              1,
              "#f0f921"
             ]
            ],
            "type": "heatmapgl"
           }
          ],
          "histogram": [
           {
            "marker": {
             "pattern": {
              "fillmode": "overlay",
              "size": 10,
              "solidity": 0.2
             }
            },
            "type": "histogram"
           }
          ],
          "histogram2d": [
           {
            "colorbar": {
             "outlinewidth": 0,
             "ticks": ""
            },
            "colorscale": [
             [
              0,
              "#0d0887"
             ],
             [
              0.1111111111111111,
              "#46039f"
             ],
             [
              0.2222222222222222,
              "#7201a8"
             ],
             [
              0.3333333333333333,
              "#9c179e"
             ],
             [
              0.4444444444444444,
              "#bd3786"
             ],
             [
              0.5555555555555556,
              "#d8576b"
             ],
             [
              0.6666666666666666,
              "#ed7953"
             ],
             [
              0.7777777777777778,
              "#fb9f3a"
             ],
             [
              0.8888888888888888,
              "#fdca26"
             ],
             [
              1,
              "#f0f921"
             ]
            ],
            "type": "histogram2d"
           }
          ],
          "histogram2dcontour": [
           {
            "colorbar": {
             "outlinewidth": 0,
             "ticks": ""
            },
            "colorscale": [
             [
              0,
              "#0d0887"
             ],
             [
              0.1111111111111111,
              "#46039f"
             ],
             [
              0.2222222222222222,
              "#7201a8"
             ],
             [
              0.3333333333333333,
              "#9c179e"
             ],
             [
              0.4444444444444444,
              "#bd3786"
             ],
             [
              0.5555555555555556,
              "#d8576b"
             ],
             [
              0.6666666666666666,
              "#ed7953"
             ],
             [
              0.7777777777777778,
              "#fb9f3a"
             ],
             [
              0.8888888888888888,
              "#fdca26"
             ],
             [
              1,
              "#f0f921"
             ]
            ],
            "type": "histogram2dcontour"
           }
          ],
          "mesh3d": [
           {
            "colorbar": {
             "outlinewidth": 0,
             "ticks": ""
            },
            "type": "mesh3d"
           }
          ],
          "parcoords": [
           {
            "line": {
             "colorbar": {
              "outlinewidth": 0,
              "ticks": ""
             }
            },
            "type": "parcoords"
           }
          ],
          "pie": [
           {
            "automargin": true,
            "type": "pie"
           }
          ],
          "scatter": [
           {
            "marker": {
             "line": {
              "color": "#283442"
             }
            },
            "type": "scatter"
           }
          ],
          "scatter3d": [
           {
            "line": {
             "colorbar": {
              "outlinewidth": 0,
              "ticks": ""
             }
            },
            "marker": {
             "colorbar": {
              "outlinewidth": 0,
              "ticks": ""
             }
            },
            "type": "scatter3d"
           }
          ],
          "scattercarpet": [
           {
            "marker": {
             "colorbar": {
              "outlinewidth": 0,
              "ticks": ""
             }
            },
            "type": "scattercarpet"
           }
          ],
          "scattergeo": [
           {
            "marker": {
             "colorbar": {
              "outlinewidth": 0,
              "ticks": ""
             }
            },
            "type": "scattergeo"
           }
          ],
          "scattergl": [
           {
            "marker": {
             "line": {
              "color": "#283442"
             }
            },
            "type": "scattergl"
           }
          ],
          "scattermapbox": [
           {
            "marker": {
             "colorbar": {
              "outlinewidth": 0,
              "ticks": ""
             }
            },
            "type": "scattermapbox"
           }
          ],
          "scatterpolar": [
           {
            "marker": {
             "colorbar": {
              "outlinewidth": 0,
              "ticks": ""
             }
            },
            "type": "scatterpolar"
           }
          ],
          "scatterpolargl": [
           {
            "marker": {
             "colorbar": {
              "outlinewidth": 0,
              "ticks": ""
             }
            },
            "type": "scatterpolargl"
           }
          ],
          "scatterternary": [
           {
            "marker": {
             "colorbar": {
              "outlinewidth": 0,
              "ticks": ""
             }
            },
            "type": "scatterternary"
           }
          ],
          "surface": [
           {
            "colorbar": {
             "outlinewidth": 0,
             "ticks": ""
            },
            "colorscale": [
             [
              0,
              "#0d0887"
             ],
             [
              0.1111111111111111,
              "#46039f"
             ],
             [
              0.2222222222222222,
              "#7201a8"
             ],
             [
              0.3333333333333333,
              "#9c179e"
             ],
             [
              0.4444444444444444,
              "#bd3786"
             ],
             [
              0.5555555555555556,
              "#d8576b"
             ],
             [
              0.6666666666666666,
              "#ed7953"
             ],
             [
              0.7777777777777778,
              "#fb9f3a"
             ],
             [
              0.8888888888888888,
              "#fdca26"
             ],
             [
              1,
              "#f0f921"
             ]
            ],
            "type": "surface"
           }
          ],
          "table": [
           {
            "cells": {
             "fill": {
              "color": "#506784"
             },
             "line": {
              "color": "rgb(17,17,17)"
             }
            },
            "header": {
             "fill": {
              "color": "#2a3f5f"
             },
             "line": {
              "color": "rgb(17,17,17)"
             }
            },
            "type": "table"
           }
          ]
         },
         "layout": {
          "annotationdefaults": {
           "arrowcolor": "#f2f5fa",
           "arrowhead": 0,
           "arrowwidth": 1
          },
          "autotypenumbers": "strict",
          "coloraxis": {
           "colorbar": {
            "outlinewidth": 0,
            "ticks": ""
           }
          },
          "colorscale": {
           "diverging": [
            [
             0,
             "#8e0152"
            ],
            [
             0.1,
             "#c51b7d"
            ],
            [
             0.2,
             "#de77ae"
            ],
            [
             0.3,
             "#f1b6da"
            ],
            [
             0.4,
             "#fde0ef"
            ],
            [
             0.5,
             "#f7f7f7"
            ],
            [
             0.6,
             "#e6f5d0"
            ],
            [
             0.7,
             "#b8e186"
            ],
            [
             0.8,
             "#7fbc41"
            ],
            [
             0.9,
             "#4d9221"
            ],
            [
             1,
             "#276419"
            ]
           ],
           "sequential": [
            [
             0,
             "#0d0887"
            ],
            [
             0.1111111111111111,
             "#46039f"
            ],
            [
             0.2222222222222222,
             "#7201a8"
            ],
            [
             0.3333333333333333,
             "#9c179e"
            ],
            [
             0.4444444444444444,
             "#bd3786"
            ],
            [
             0.5555555555555556,
             "#d8576b"
            ],
            [
             0.6666666666666666,
             "#ed7953"
            ],
            [
             0.7777777777777778,
             "#fb9f3a"
            ],
            [
             0.8888888888888888,
             "#fdca26"
            ],
            [
             1,
             "#f0f921"
            ]
           ],
           "sequentialminus": [
            [
             0,
             "#0d0887"
            ],
            [
             0.1111111111111111,
             "#46039f"
            ],
            [
             0.2222222222222222,
             "#7201a8"
            ],
            [
             0.3333333333333333,
             "#9c179e"
            ],
            [
             0.4444444444444444,
             "#bd3786"
            ],
            [
             0.5555555555555556,
             "#d8576b"
            ],
            [
             0.6666666666666666,
             "#ed7953"
            ],
            [
             0.7777777777777778,
             "#fb9f3a"
            ],
            [
             0.8888888888888888,
             "#fdca26"
            ],
            [
             1,
             "#f0f921"
            ]
           ]
          },
          "colorway": [
           "#636efa",
           "#EF553B",
           "#00cc96",
           "#ab63fa",
           "#FFA15A",
           "#19d3f3",
           "#FF6692",
           "#B6E880",
           "#FF97FF",
           "#FECB52"
          ],
          "font": {
           "color": "#f2f5fa"
          },
          "geo": {
           "bgcolor": "rgb(17,17,17)",
           "lakecolor": "rgb(17,17,17)",
           "landcolor": "rgb(17,17,17)",
           "showlakes": true,
           "showland": true,
           "subunitcolor": "#506784"
          },
          "hoverlabel": {
           "align": "left"
          },
          "hovermode": "closest",
          "mapbox": {
           "style": "dark"
          },
          "paper_bgcolor": "rgb(17,17,17)",
          "plot_bgcolor": "rgb(17,17,17)",
          "polar": {
           "angularaxis": {
            "gridcolor": "#506784",
            "linecolor": "#506784",
            "ticks": ""
           },
           "bgcolor": "rgb(17,17,17)",
           "radialaxis": {
            "gridcolor": "#506784",
            "linecolor": "#506784",
            "ticks": ""
           }
          },
          "scene": {
           "xaxis": {
            "backgroundcolor": "rgb(17,17,17)",
            "gridcolor": "#506784",
            "gridwidth": 2,
            "linecolor": "#506784",
            "showbackground": true,
            "ticks": "",
            "zerolinecolor": "#C8D4E3"
           },
           "yaxis": {
            "backgroundcolor": "rgb(17,17,17)",
            "gridcolor": "#506784",
            "gridwidth": 2,
            "linecolor": "#506784",
            "showbackground": true,
            "ticks": "",
            "zerolinecolor": "#C8D4E3"
           },
           "zaxis": {
            "backgroundcolor": "rgb(17,17,17)",
            "gridcolor": "#506784",
            "gridwidth": 2,
            "linecolor": "#506784",
            "showbackground": true,
            "ticks": "",
            "zerolinecolor": "#C8D4E3"
           }
          },
          "shapedefaults": {
           "line": {
            "color": "#f2f5fa"
           }
          },
          "sliderdefaults": {
           "bgcolor": "#C8D4E3",
           "bordercolor": "rgb(17,17,17)",
           "borderwidth": 1,
           "tickwidth": 0
          },
          "ternary": {
           "aaxis": {
            "gridcolor": "#506784",
            "linecolor": "#506784",
            "ticks": ""
           },
           "baxis": {
            "gridcolor": "#506784",
            "linecolor": "#506784",
            "ticks": ""
           },
           "bgcolor": "rgb(17,17,17)",
           "caxis": {
            "gridcolor": "#506784",
            "linecolor": "#506784",
            "ticks": ""
           }
          },
          "title": {
           "x": 0.05
          },
          "updatemenudefaults": {
           "bgcolor": "#506784",
           "borderwidth": 0
          },
          "xaxis": {
           "automargin": true,
           "gridcolor": "#283442",
           "linecolor": "#506784",
           "ticks": "",
           "title": {
            "standoff": 15
           },
           "zerolinecolor": "#283442",
           "zerolinewidth": 2
          },
          "yaxis": {
           "automargin": true,
           "gridcolor": "#283442",
           "linecolor": "#506784",
           "ticks": "",
           "title": {
            "standoff": 15
           },
           "zerolinecolor": "#283442",
           "zerolinewidth": 2
          }
         }
        },
        "title": {
         "text": "Ranking 2016 vs Pasajeros 2016"
        },
        "xaxis": {
         "anchor": "y",
         "domain": [
          0,
          1
         ],
         "title": {
          "text": "Rank2016"
         }
        },
        "yaxis": {
         "anchor": "x",
         "domain": [
          0,
          1
         ],
         "title": {
          "text": "Passengers2016"
         }
        }
       }
      }
     },
     "metadata": {},
     "output_type": "display_data"
    }
   ],
   "source": [
    "px.scatter(df, y=\"Passengers2016\", x=\"Rank2016\", trendline=\"ols\", title= \"Ranking 2016 vs Pasajeros 2016\", template=\"plotly_dark\", color=\"Passengers2016\")"
   ]
  },
  {
   "cell_type": "code",
   "execution_count": 64,
   "metadata": {},
   "outputs": [],
   "source": [
    "fig=px.scatter(df, y=\"Passengers2016\", x=\"Rank2016\", trendline=\"ols\", title= \"Ranking 2016 vs Pasajeros 2016\", template=\"plotly_dark\", color=\"Passengers2016\")\n",
    "fig.write_html(\"Ranking 2016 vs Pasajeros 2016.html\")"
   ]
  },
  {
   "cell_type": "markdown",
   "metadata": {},
   "source": [
    "2.5- Crea un mapa de calor que muestre la correlación entre las variables numéricas del dataset."
   ]
  },
  {
   "cell_type": "code",
   "execution_count": 25,
   "metadata": {},
   "outputs": [
    {
     "data": {
      "text/html": [
       "<div>\n",
       "<style scoped>\n",
       "    .dataframe tbody tr th:only-of-type {\n",
       "        vertical-align: middle;\n",
       "    }\n",
       "\n",
       "    .dataframe tbody tr th {\n",
       "        vertical-align: top;\n",
       "    }\n",
       "\n",
       "    .dataframe thead th {\n",
       "        text-align: right;\n",
       "    }\n",
       "</style>\n",
       "<table border=\"1\" class=\"dataframe\">\n",
       "  <thead>\n",
       "    <tr style=\"text-align: right;\">\n",
       "      <th></th>\n",
       "      <th>Rank2016</th>\n",
       "      <th>Passengers2016</th>\n",
       "      <th>Passengers2015</th>\n",
       "      <th>Change 2016-2015-Num</th>\n",
       "      <th>Change 2016-2015-%</th>\n",
       "    </tr>\n",
       "  </thead>\n",
       "  <tbody>\n",
       "    <tr>\n",
       "      <th>Rank2016</th>\n",
       "      <td>1.00</td>\n",
       "      <td>-0.82</td>\n",
       "      <td>-0.81</td>\n",
       "      <td>-0.45</td>\n",
       "      <td>0.03</td>\n",
       "    </tr>\n",
       "    <tr>\n",
       "      <th>Passengers2016</th>\n",
       "      <td>-0.82</td>\n",
       "      <td>1.00</td>\n",
       "      <td>1.00</td>\n",
       "      <td>0.37</td>\n",
       "      <td>-0.17</td>\n",
       "    </tr>\n",
       "    <tr>\n",
       "      <th>Passengers2015</th>\n",
       "      <td>-0.81</td>\n",
       "      <td>1.00</td>\n",
       "      <td>1.00</td>\n",
       "      <td>0.31</td>\n",
       "      <td>-0.22</td>\n",
       "    </tr>\n",
       "    <tr>\n",
       "      <th>Change 2016-2015-Num</th>\n",
       "      <td>-0.45</td>\n",
       "      <td>0.37</td>\n",
       "      <td>0.31</td>\n",
       "      <td>1.00</td>\n",
       "      <td>0.59</td>\n",
       "    </tr>\n",
       "    <tr>\n",
       "      <th>Change 2016-2015-%</th>\n",
       "      <td>0.03</td>\n",
       "      <td>-0.17</td>\n",
       "      <td>-0.22</td>\n",
       "      <td>0.59</td>\n",
       "      <td>1.00</td>\n",
       "    </tr>\n",
       "  </tbody>\n",
       "</table>\n",
       "</div>"
      ],
      "text/plain": [
       "                      Rank2016  Passengers2016  Passengers2015  \\\n",
       "Rank2016                  1.00           -0.82           -0.81   \n",
       "Passengers2016           -0.82            1.00            1.00   \n",
       "Passengers2015           -0.81            1.00            1.00   \n",
       "Change 2016-2015-Num     -0.45            0.37            0.31   \n",
       "Change 2016-2015-%        0.03           -0.17           -0.22   \n",
       "\n",
       "                      Change 2016-2015-Num  Change 2016-2015-%  \n",
       "Rank2016                             -0.45                0.03  \n",
       "Passengers2016                        0.37               -0.17  \n",
       "Passengers2015                        0.31               -0.22  \n",
       "Change 2016-2015-Num                  1.00                0.59  \n",
       "Change 2016-2015-%                    0.59                1.00  "
      ]
     },
     "execution_count": 25,
     "metadata": {},
     "output_type": "execute_result"
    }
   ],
   "source": [
    "correlacion= df[[\"Rank2016\", \"Passengers2016\", \"Passengers2015\", \"Change 2016-2015-Num\", \"Change 2016-2015-%\"]].corr() \n",
    "correlacion_round= correlacion.round(2)\n",
    "correlacion_round\n"
   ]
  },
  {
   "cell_type": "code",
   "execution_count": 61,
   "metadata": {},
   "outputs": [
    {
     "data": {
      "application/vnd.plotly.v1+json": {
       "config": {
        "plotlyServerURL": "https://plot.ly"
       },
       "data": [
        {
         "coloraxis": "coloraxis",
         "hovertemplate": "x: %{x}<br>y: %{y}<br>color: %{z}<extra></extra>",
         "name": "0",
         "texttemplate": "%{z}",
         "type": "heatmap",
         "x": [
          "Rank2016",
          "Passengers2016",
          "Passengers2015",
          "Change 2016-2015-Num",
          "Change 2016-2015-%"
         ],
         "xaxis": "x",
         "y": [
          "Rank2016",
          "Passengers2016",
          "Passengers2015",
          "Change 2016-2015-Num",
          "Change 2016-2015-%"
         ],
         "yaxis": "y",
         "z": [
          [
           1,
           -0.82,
           -0.81,
           -0.45,
           0.03
          ],
          [
           -0.82,
           1,
           1,
           0.37,
           -0.17
          ],
          [
           -0.81,
           1,
           1,
           0.31,
           -0.22
          ],
          [
           -0.45,
           0.37,
           0.31,
           1,
           0.59
          ],
          [
           0.03,
           -0.17,
           -0.22,
           0.59,
           1
          ]
         ]
        }
       ],
       "layout": {
        "coloraxis": {
         "colorscale": [
          [
           0,
           "rgb(5,48,97)"
          ],
          [
           0.1,
           "rgb(33,102,172)"
          ],
          [
           0.2,
           "rgb(67,147,195)"
          ],
          [
           0.3,
           "rgb(146,197,222)"
          ],
          [
           0.4,
           "rgb(209,229,240)"
          ],
          [
           0.5,
           "rgb(247,247,247)"
          ],
          [
           0.6,
           "rgb(253,219,199)"
          ],
          [
           0.7,
           "rgb(244,165,130)"
          ],
          [
           0.8,
           "rgb(214,96,77)"
          ],
          [
           0.9,
           "rgb(178,24,43)"
          ],
          [
           1,
           "rgb(103,0,31)"
          ]
         ]
        },
        "template": {
         "data": {
          "bar": [
           {
            "error_x": {
             "color": "#f2f5fa"
            },
            "error_y": {
             "color": "#f2f5fa"
            },
            "marker": {
             "line": {
              "color": "rgb(17,17,17)",
              "width": 0.5
             },
             "pattern": {
              "fillmode": "overlay",
              "size": 10,
              "solidity": 0.2
             }
            },
            "type": "bar"
           }
          ],
          "barpolar": [
           {
            "marker": {
             "line": {
              "color": "rgb(17,17,17)",
              "width": 0.5
             },
             "pattern": {
              "fillmode": "overlay",
              "size": 10,
              "solidity": 0.2
             }
            },
            "type": "barpolar"
           }
          ],
          "carpet": [
           {
            "aaxis": {
             "endlinecolor": "#A2B1C6",
             "gridcolor": "#506784",
             "linecolor": "#506784",
             "minorgridcolor": "#506784",
             "startlinecolor": "#A2B1C6"
            },
            "baxis": {
             "endlinecolor": "#A2B1C6",
             "gridcolor": "#506784",
             "linecolor": "#506784",
             "minorgridcolor": "#506784",
             "startlinecolor": "#A2B1C6"
            },
            "type": "carpet"
           }
          ],
          "choropleth": [
           {
            "colorbar": {
             "outlinewidth": 0,
             "ticks": ""
            },
            "type": "choropleth"
           }
          ],
          "contour": [
           {
            "colorbar": {
             "outlinewidth": 0,
             "ticks": ""
            },
            "colorscale": [
             [
              0,
              "#0d0887"
             ],
             [
              0.1111111111111111,
              "#46039f"
             ],
             [
              0.2222222222222222,
              "#7201a8"
             ],
             [
              0.3333333333333333,
              "#9c179e"
             ],
             [
              0.4444444444444444,
              "#bd3786"
             ],
             [
              0.5555555555555556,
              "#d8576b"
             ],
             [
              0.6666666666666666,
              "#ed7953"
             ],
             [
              0.7777777777777778,
              "#fb9f3a"
             ],
             [
              0.8888888888888888,
              "#fdca26"
             ],
             [
              1,
              "#f0f921"
             ]
            ],
            "type": "contour"
           }
          ],
          "contourcarpet": [
           {
            "colorbar": {
             "outlinewidth": 0,
             "ticks": ""
            },
            "type": "contourcarpet"
           }
          ],
          "heatmap": [
           {
            "colorbar": {
             "outlinewidth": 0,
             "ticks": ""
            },
            "colorscale": [
             [
              0,
              "#0d0887"
             ],
             [
              0.1111111111111111,
              "#46039f"
             ],
             [
              0.2222222222222222,
              "#7201a8"
             ],
             [
              0.3333333333333333,
              "#9c179e"
             ],
             [
              0.4444444444444444,
              "#bd3786"
             ],
             [
              0.5555555555555556,
              "#d8576b"
             ],
             [
              0.6666666666666666,
              "#ed7953"
             ],
             [
              0.7777777777777778,
              "#fb9f3a"
             ],
             [
              0.8888888888888888,
              "#fdca26"
             ],
             [
              1,
              "#f0f921"
             ]
            ],
            "type": "heatmap"
           }
          ],
          "heatmapgl": [
           {
            "colorbar": {
             "outlinewidth": 0,
             "ticks": ""
            },
            "colorscale": [
             [
              0,
              "#0d0887"
             ],
             [
              0.1111111111111111,
              "#46039f"
             ],
             [
              0.2222222222222222,
              "#7201a8"
             ],
             [
              0.3333333333333333,
              "#9c179e"
             ],
             [
              0.4444444444444444,
              "#bd3786"
             ],
             [
              0.5555555555555556,
              "#d8576b"
             ],
             [
              0.6666666666666666,
              "#ed7953"
             ],
             [
              0.7777777777777778,
              "#fb9f3a"
             ],
             [
              0.8888888888888888,
              "#fdca26"
             ],
             [
              1,
              "#f0f921"
             ]
            ],
            "type": "heatmapgl"
           }
          ],
          "histogram": [
           {
            "marker": {
             "pattern": {
              "fillmode": "overlay",
              "size": 10,
              "solidity": 0.2
             }
            },
            "type": "histogram"
           }
          ],
          "histogram2d": [
           {
            "colorbar": {
             "outlinewidth": 0,
             "ticks": ""
            },
            "colorscale": [
             [
              0,
              "#0d0887"
             ],
             [
              0.1111111111111111,
              "#46039f"
             ],
             [
              0.2222222222222222,
              "#7201a8"
             ],
             [
              0.3333333333333333,
              "#9c179e"
             ],
             [
              0.4444444444444444,
              "#bd3786"
             ],
             [
              0.5555555555555556,
              "#d8576b"
             ],
             [
              0.6666666666666666,
              "#ed7953"
             ],
             [
              0.7777777777777778,
              "#fb9f3a"
             ],
             [
              0.8888888888888888,
              "#fdca26"
             ],
             [
              1,
              "#f0f921"
             ]
            ],
            "type": "histogram2d"
           }
          ],
          "histogram2dcontour": [
           {
            "colorbar": {
             "outlinewidth": 0,
             "ticks": ""
            },
            "colorscale": [
             [
              0,
              "#0d0887"
             ],
             [
              0.1111111111111111,
              "#46039f"
             ],
             [
              0.2222222222222222,
              "#7201a8"
             ],
             [
              0.3333333333333333,
              "#9c179e"
             ],
             [
              0.4444444444444444,
              "#bd3786"
             ],
             [
              0.5555555555555556,
              "#d8576b"
             ],
             [
              0.6666666666666666,
              "#ed7953"
             ],
             [
              0.7777777777777778,
              "#fb9f3a"
             ],
             [
              0.8888888888888888,
              "#fdca26"
             ],
             [
              1,
              "#f0f921"
             ]
            ],
            "type": "histogram2dcontour"
           }
          ],
          "mesh3d": [
           {
            "colorbar": {
             "outlinewidth": 0,
             "ticks": ""
            },
            "type": "mesh3d"
           }
          ],
          "parcoords": [
           {
            "line": {
             "colorbar": {
              "outlinewidth": 0,
              "ticks": ""
             }
            },
            "type": "parcoords"
           }
          ],
          "pie": [
           {
            "automargin": true,
            "type": "pie"
           }
          ],
          "scatter": [
           {
            "marker": {
             "line": {
              "color": "#283442"
             }
            },
            "type": "scatter"
           }
          ],
          "scatter3d": [
           {
            "line": {
             "colorbar": {
              "outlinewidth": 0,
              "ticks": ""
             }
            },
            "marker": {
             "colorbar": {
              "outlinewidth": 0,
              "ticks": ""
             }
            },
            "type": "scatter3d"
           }
          ],
          "scattercarpet": [
           {
            "marker": {
             "colorbar": {
              "outlinewidth": 0,
              "ticks": ""
             }
            },
            "type": "scattercarpet"
           }
          ],
          "scattergeo": [
           {
            "marker": {
             "colorbar": {
              "outlinewidth": 0,
              "ticks": ""
             }
            },
            "type": "scattergeo"
           }
          ],
          "scattergl": [
           {
            "marker": {
             "line": {
              "color": "#283442"
             }
            },
            "type": "scattergl"
           }
          ],
          "scattermapbox": [
           {
            "marker": {
             "colorbar": {
              "outlinewidth": 0,
              "ticks": ""
             }
            },
            "type": "scattermapbox"
           }
          ],
          "scatterpolar": [
           {
            "marker": {
             "colorbar": {
              "outlinewidth": 0,
              "ticks": ""
             }
            },
            "type": "scatterpolar"
           }
          ],
          "scatterpolargl": [
           {
            "marker": {
             "colorbar": {
              "outlinewidth": 0,
              "ticks": ""
             }
            },
            "type": "scatterpolargl"
           }
          ],
          "scatterternary": [
           {
            "marker": {
             "colorbar": {
              "outlinewidth": 0,
              "ticks": ""
             }
            },
            "type": "scatterternary"
           }
          ],
          "surface": [
           {
            "colorbar": {
             "outlinewidth": 0,
             "ticks": ""
            },
            "colorscale": [
             [
              0,
              "#0d0887"
             ],
             [
              0.1111111111111111,
              "#46039f"
             ],
             [
              0.2222222222222222,
              "#7201a8"
             ],
             [
              0.3333333333333333,
              "#9c179e"
             ],
             [
              0.4444444444444444,
              "#bd3786"
             ],
             [
              0.5555555555555556,
              "#d8576b"
             ],
             [
              0.6666666666666666,
              "#ed7953"
             ],
             [
              0.7777777777777778,
              "#fb9f3a"
             ],
             [
              0.8888888888888888,
              "#fdca26"
             ],
             [
              1,
              "#f0f921"
             ]
            ],
            "type": "surface"
           }
          ],
          "table": [
           {
            "cells": {
             "fill": {
              "color": "#506784"
             },
             "line": {
              "color": "rgb(17,17,17)"
             }
            },
            "header": {
             "fill": {
              "color": "#2a3f5f"
             },
             "line": {
              "color": "rgb(17,17,17)"
             }
            },
            "type": "table"
           }
          ]
         },
         "layout": {
          "annotationdefaults": {
           "arrowcolor": "#f2f5fa",
           "arrowhead": 0,
           "arrowwidth": 1
          },
          "autotypenumbers": "strict",
          "coloraxis": {
           "colorbar": {
            "outlinewidth": 0,
            "ticks": ""
           }
          },
          "colorscale": {
           "diverging": [
            [
             0,
             "#8e0152"
            ],
            [
             0.1,
             "#c51b7d"
            ],
            [
             0.2,
             "#de77ae"
            ],
            [
             0.3,
             "#f1b6da"
            ],
            [
             0.4,
             "#fde0ef"
            ],
            [
             0.5,
             "#f7f7f7"
            ],
            [
             0.6,
             "#e6f5d0"
            ],
            [
             0.7,
             "#b8e186"
            ],
            [
             0.8,
             "#7fbc41"
            ],
            [
             0.9,
             "#4d9221"
            ],
            [
             1,
             "#276419"
            ]
           ],
           "sequential": [
            [
             0,
             "#0d0887"
            ],
            [
             0.1111111111111111,
             "#46039f"
            ],
            [
             0.2222222222222222,
             "#7201a8"
            ],
            [
             0.3333333333333333,
             "#9c179e"
            ],
            [
             0.4444444444444444,
             "#bd3786"
            ],
            [
             0.5555555555555556,
             "#d8576b"
            ],
            [
             0.6666666666666666,
             "#ed7953"
            ],
            [
             0.7777777777777778,
             "#fb9f3a"
            ],
            [
             0.8888888888888888,
             "#fdca26"
            ],
            [
             1,
             "#f0f921"
            ]
           ],
           "sequentialminus": [
            [
             0,
             "#0d0887"
            ],
            [
             0.1111111111111111,
             "#46039f"
            ],
            [
             0.2222222222222222,
             "#7201a8"
            ],
            [
             0.3333333333333333,
             "#9c179e"
            ],
            [
             0.4444444444444444,
             "#bd3786"
            ],
            [
             0.5555555555555556,
             "#d8576b"
            ],
            [
             0.6666666666666666,
             "#ed7953"
            ],
            [
             0.7777777777777778,
             "#fb9f3a"
            ],
            [
             0.8888888888888888,
             "#fdca26"
            ],
            [
             1,
             "#f0f921"
            ]
           ]
          },
          "colorway": [
           "#636efa",
           "#EF553B",
           "#00cc96",
           "#ab63fa",
           "#FFA15A",
           "#19d3f3",
           "#FF6692",
           "#B6E880",
           "#FF97FF",
           "#FECB52"
          ],
          "font": {
           "color": "#f2f5fa"
          },
          "geo": {
           "bgcolor": "rgb(17,17,17)",
           "lakecolor": "rgb(17,17,17)",
           "landcolor": "rgb(17,17,17)",
           "showlakes": true,
           "showland": true,
           "subunitcolor": "#506784"
          },
          "hoverlabel": {
           "align": "left"
          },
          "hovermode": "closest",
          "mapbox": {
           "style": "dark"
          },
          "paper_bgcolor": "rgb(17,17,17)",
          "plot_bgcolor": "rgb(17,17,17)",
          "polar": {
           "angularaxis": {
            "gridcolor": "#506784",
            "linecolor": "#506784",
            "ticks": ""
           },
           "bgcolor": "rgb(17,17,17)",
           "radialaxis": {
            "gridcolor": "#506784",
            "linecolor": "#506784",
            "ticks": ""
           }
          },
          "scene": {
           "xaxis": {
            "backgroundcolor": "rgb(17,17,17)",
            "gridcolor": "#506784",
            "gridwidth": 2,
            "linecolor": "#506784",
            "showbackground": true,
            "ticks": "",
            "zerolinecolor": "#C8D4E3"
           },
           "yaxis": {
            "backgroundcolor": "rgb(17,17,17)",
            "gridcolor": "#506784",
            "gridwidth": 2,
            "linecolor": "#506784",
            "showbackground": true,
            "ticks": "",
            "zerolinecolor": "#C8D4E3"
           },
           "zaxis": {
            "backgroundcolor": "rgb(17,17,17)",
            "gridcolor": "#506784",
            "gridwidth": 2,
            "linecolor": "#506784",
            "showbackground": true,
            "ticks": "",
            "zerolinecolor": "#C8D4E3"
           }
          },
          "shapedefaults": {
           "line": {
            "color": "#f2f5fa"
           }
          },
          "sliderdefaults": {
           "bgcolor": "#C8D4E3",
           "bordercolor": "rgb(17,17,17)",
           "borderwidth": 1,
           "tickwidth": 0
          },
          "ternary": {
           "aaxis": {
            "gridcolor": "#506784",
            "linecolor": "#506784",
            "ticks": ""
           },
           "baxis": {
            "gridcolor": "#506784",
            "linecolor": "#506784",
            "ticks": ""
           },
           "bgcolor": "rgb(17,17,17)",
           "caxis": {
            "gridcolor": "#506784",
            "linecolor": "#506784",
            "ticks": ""
           }
          },
          "title": {
           "x": 0.05
          },
          "updatemenudefaults": {
           "bgcolor": "#506784",
           "borderwidth": 0
          },
          "xaxis": {
           "automargin": true,
           "gridcolor": "#283442",
           "linecolor": "#506784",
           "ticks": "",
           "title": {
            "standoff": 15
           },
           "zerolinecolor": "#283442",
           "zerolinewidth": 2
          },
          "yaxis": {
           "automargin": true,
           "gridcolor": "#283442",
           "linecolor": "#506784",
           "ticks": "",
           "title": {
            "standoff": 15
           },
           "zerolinecolor": "#283442",
           "zerolinewidth": 2
          }
         }
        },
        "title": {
         "text": "Correlación entre variables numéricas"
        },
        "xaxis": {
         "anchor": "y",
         "constrain": "domain",
         "domain": [
          0,
          1
         ],
         "scaleanchor": "y"
        },
        "yaxis": {
         "anchor": "x",
         "autorange": "reversed",
         "constrain": "domain",
         "domain": [
          0,
          1
         ]
        }
       }
      }
     },
     "metadata": {},
     "output_type": "display_data"
    }
   ],
   "source": [
    "px.imshow(correlacion_round, text_auto=True, title=\"Correlación entre variables numéricas\", template=\"plotly_dark\", color_continuous_scale=\"RdBu_r\")"
   ]
  },
  {
   "cell_type": "code",
   "execution_count": 63,
   "metadata": {},
   "outputs": [],
   "source": [
    "fig=px.imshow(correlacion_round, text_auto=True, title=\"Correlación entre variables numéricas\", template=\"plotly_dark\", color_continuous_scale=\"RdBu_r\")\n",
    "fig.write_html(\"Correlación entre variables numéricas.html\")"
   ]
  },
  {
   "cell_type": "markdown",
   "metadata": {},
   "source": [
    "2.6- Construye un gráfico circular para mostrar la distribución porcentual de pasajeros entre los cinco principales países con aeropuertos en la lista."
   ]
  },
  {
   "cell_type": "code",
   "execution_count": 27,
   "metadata": {},
   "outputs": [
    {
     "data": {
      "text/html": [
       "<div>\n",
       "<style scoped>\n",
       "    .dataframe tbody tr th:only-of-type {\n",
       "        vertical-align: middle;\n",
       "    }\n",
       "\n",
       "    .dataframe tbody tr th {\n",
       "        vertical-align: top;\n",
       "    }\n",
       "\n",
       "    .dataframe thead th {\n",
       "        text-align: right;\n",
       "    }\n",
       "</style>\n",
       "<table border=\"1\" class=\"dataframe\">\n",
       "  <thead>\n",
       "    <tr style=\"text-align: right;\">\n",
       "      <th></th>\n",
       "      <th>Passengers2016</th>\n",
       "    </tr>\n",
       "    <tr>\n",
       "      <th>Country</th>\n",
       "      <th></th>\n",
       "    </tr>\n",
       "  </thead>\n",
       "  <tbody>\n",
       "    <tr>\n",
       "      <th>United Kingdom</th>\n",
       "      <td>251829624</td>\n",
       "    </tr>\n",
       "    <tr>\n",
       "      <th>Germany</th>\n",
       "      <td>207131954</td>\n",
       "    </tr>\n",
       "    <tr>\n",
       "      <th>Spain</th>\n",
       "      <td>172274654</td>\n",
       "    </tr>\n",
       "    <tr>\n",
       "      <th>France</th>\n",
       "      <td>150265067</td>\n",
       "    </tr>\n",
       "    <tr>\n",
       "      <th>Italy</th>\n",
       "      <td>141669795</td>\n",
       "    </tr>\n",
       "  </tbody>\n",
       "</table>\n",
       "</div>"
      ],
      "text/plain": [
       "                Passengers2016\n",
       "Country                       \n",
       "United Kingdom       251829624\n",
       "Germany              207131954\n",
       "Spain                172274654\n",
       "France               150265067\n",
       "Italy                141669795"
      ]
     },
     "execution_count": 27,
     "metadata": {},
     "output_type": "execute_result"
    }
   ],
   "source": [
    "numeric_columns=[\"Passengers2016\"]\n",
    "paises_con_mas_pasajeros= df.groupby(\"Country\")[numeric_columns].sum().nlargest(5,\"Passengers2016\")\n",
    "paises_con_mas_pasajeros"
   ]
  },
  {
   "cell_type": "code",
   "execution_count": 28,
   "metadata": {},
   "outputs": [
    {
     "data": {
      "application/vnd.plotly.v1+json": {
       "config": {
        "plotlyServerURL": "https://plot.ly"
       },
       "data": [
        {
         "domain": {
          "x": [
           0,
           1
          ],
          "y": [
           0,
           1
          ]
         },
         "hole": 0.2,
         "hovertemplate": "Country=%{label}<br>Passengers2016=%{value}<extra></extra>",
         "labels": [
          "United Kingdom",
          "Germany",
          "Spain",
          "France",
          "Italy"
         ],
         "legendgroup": "",
         "name": "",
         "showlegend": true,
         "type": "pie",
         "values": [
          251829624,
          207131954,
          172274654,
          150265067,
          141669795
         ]
        }
       ],
       "layout": {
        "legend": {
         "tracegroupgap": 0
        },
        "piecolorway": [
         "rgb(102, 197, 204)",
         "rgb(246, 207, 113)",
         "rgb(248, 156, 116)",
         "rgb(220, 176, 242)",
         "rgb(135, 197, 95)",
         "rgb(158, 185, 243)",
         "rgb(254, 136, 177)",
         "rgb(201, 219, 116)",
         "rgb(139, 224, 164)",
         "rgb(180, 151, 231)",
         "rgb(179, 179, 179)"
        ],
        "template": {
         "data": {
          "bar": [
           {
            "error_x": {
             "color": "#f2f5fa"
            },
            "error_y": {
             "color": "#f2f5fa"
            },
            "marker": {
             "line": {
              "color": "rgb(17,17,17)",
              "width": 0.5
             },
             "pattern": {
              "fillmode": "overlay",
              "size": 10,
              "solidity": 0.2
             }
            },
            "type": "bar"
           }
          ],
          "barpolar": [
           {
            "marker": {
             "line": {
              "color": "rgb(17,17,17)",
              "width": 0.5
             },
             "pattern": {
              "fillmode": "overlay",
              "size": 10,
              "solidity": 0.2
             }
            },
            "type": "barpolar"
           }
          ],
          "carpet": [
           {
            "aaxis": {
             "endlinecolor": "#A2B1C6",
             "gridcolor": "#506784",
             "linecolor": "#506784",
             "minorgridcolor": "#506784",
             "startlinecolor": "#A2B1C6"
            },
            "baxis": {
             "endlinecolor": "#A2B1C6",
             "gridcolor": "#506784",
             "linecolor": "#506784",
             "minorgridcolor": "#506784",
             "startlinecolor": "#A2B1C6"
            },
            "type": "carpet"
           }
          ],
          "choropleth": [
           {
            "colorbar": {
             "outlinewidth": 0,
             "ticks": ""
            },
            "type": "choropleth"
           }
          ],
          "contour": [
           {
            "colorbar": {
             "outlinewidth": 0,
             "ticks": ""
            },
            "colorscale": [
             [
              0,
              "#0d0887"
             ],
             [
              0.1111111111111111,
              "#46039f"
             ],
             [
              0.2222222222222222,
              "#7201a8"
             ],
             [
              0.3333333333333333,
              "#9c179e"
             ],
             [
              0.4444444444444444,
              "#bd3786"
             ],
             [
              0.5555555555555556,
              "#d8576b"
             ],
             [
              0.6666666666666666,
              "#ed7953"
             ],
             [
              0.7777777777777778,
              "#fb9f3a"
             ],
             [
              0.8888888888888888,
              "#fdca26"
             ],
             [
              1,
              "#f0f921"
             ]
            ],
            "type": "contour"
           }
          ],
          "contourcarpet": [
           {
            "colorbar": {
             "outlinewidth": 0,
             "ticks": ""
            },
            "type": "contourcarpet"
           }
          ],
          "heatmap": [
           {
            "colorbar": {
             "outlinewidth": 0,
             "ticks": ""
            },
            "colorscale": [
             [
              0,
              "#0d0887"
             ],
             [
              0.1111111111111111,
              "#46039f"
             ],
             [
              0.2222222222222222,
              "#7201a8"
             ],
             [
              0.3333333333333333,
              "#9c179e"
             ],
             [
              0.4444444444444444,
              "#bd3786"
             ],
             [
              0.5555555555555556,
              "#d8576b"
             ],
             [
              0.6666666666666666,
              "#ed7953"
             ],
             [
              0.7777777777777778,
              "#fb9f3a"
             ],
             [
              0.8888888888888888,
              "#fdca26"
             ],
             [
              1,
              "#f0f921"
             ]
            ],
            "type": "heatmap"
           }
          ],
          "heatmapgl": [
           {
            "colorbar": {
             "outlinewidth": 0,
             "ticks": ""
            },
            "colorscale": [
             [
              0,
              "#0d0887"
             ],
             [
              0.1111111111111111,
              "#46039f"
             ],
             [
              0.2222222222222222,
              "#7201a8"
             ],
             [
              0.3333333333333333,
              "#9c179e"
             ],
             [
              0.4444444444444444,
              "#bd3786"
             ],
             [
              0.5555555555555556,
              "#d8576b"
             ],
             [
              0.6666666666666666,
              "#ed7953"
             ],
             [
              0.7777777777777778,
              "#fb9f3a"
             ],
             [
              0.8888888888888888,
              "#fdca26"
             ],
             [
              1,
              "#f0f921"
             ]
            ],
            "type": "heatmapgl"
           }
          ],
          "histogram": [
           {
            "marker": {
             "pattern": {
              "fillmode": "overlay",
              "size": 10,
              "solidity": 0.2
             }
            },
            "type": "histogram"
           }
          ],
          "histogram2d": [
           {
            "colorbar": {
             "outlinewidth": 0,
             "ticks": ""
            },
            "colorscale": [
             [
              0,
              "#0d0887"
             ],
             [
              0.1111111111111111,
              "#46039f"
             ],
             [
              0.2222222222222222,
              "#7201a8"
             ],
             [
              0.3333333333333333,
              "#9c179e"
             ],
             [
              0.4444444444444444,
              "#bd3786"
             ],
             [
              0.5555555555555556,
              "#d8576b"
             ],
             [
              0.6666666666666666,
              "#ed7953"
             ],
             [
              0.7777777777777778,
              "#fb9f3a"
             ],
             [
              0.8888888888888888,
              "#fdca26"
             ],
             [
              1,
              "#f0f921"
             ]
            ],
            "type": "histogram2d"
           }
          ],
          "histogram2dcontour": [
           {
            "colorbar": {
             "outlinewidth": 0,
             "ticks": ""
            },
            "colorscale": [
             [
              0,
              "#0d0887"
             ],
             [
              0.1111111111111111,
              "#46039f"
             ],
             [
              0.2222222222222222,
              "#7201a8"
             ],
             [
              0.3333333333333333,
              "#9c179e"
             ],
             [
              0.4444444444444444,
              "#bd3786"
             ],
             [
              0.5555555555555556,
              "#d8576b"
             ],
             [
              0.6666666666666666,
              "#ed7953"
             ],
             [
              0.7777777777777778,
              "#fb9f3a"
             ],
             [
              0.8888888888888888,
              "#fdca26"
             ],
             [
              1,
              "#f0f921"
             ]
            ],
            "type": "histogram2dcontour"
           }
          ],
          "mesh3d": [
           {
            "colorbar": {
             "outlinewidth": 0,
             "ticks": ""
            },
            "type": "mesh3d"
           }
          ],
          "parcoords": [
           {
            "line": {
             "colorbar": {
              "outlinewidth": 0,
              "ticks": ""
             }
            },
            "type": "parcoords"
           }
          ],
          "pie": [
           {
            "automargin": true,
            "type": "pie"
           }
          ],
          "scatter": [
           {
            "marker": {
             "line": {
              "color": "#283442"
             }
            },
            "type": "scatter"
           }
          ],
          "scatter3d": [
           {
            "line": {
             "colorbar": {
              "outlinewidth": 0,
              "ticks": ""
             }
            },
            "marker": {
             "colorbar": {
              "outlinewidth": 0,
              "ticks": ""
             }
            },
            "type": "scatter3d"
           }
          ],
          "scattercarpet": [
           {
            "marker": {
             "colorbar": {
              "outlinewidth": 0,
              "ticks": ""
             }
            },
            "type": "scattercarpet"
           }
          ],
          "scattergeo": [
           {
            "marker": {
             "colorbar": {
              "outlinewidth": 0,
              "ticks": ""
             }
            },
            "type": "scattergeo"
           }
          ],
          "scattergl": [
           {
            "marker": {
             "line": {
              "color": "#283442"
             }
            },
            "type": "scattergl"
           }
          ],
          "scattermapbox": [
           {
            "marker": {
             "colorbar": {
              "outlinewidth": 0,
              "ticks": ""
             }
            },
            "type": "scattermapbox"
           }
          ],
          "scatterpolar": [
           {
            "marker": {
             "colorbar": {
              "outlinewidth": 0,
              "ticks": ""
             }
            },
            "type": "scatterpolar"
           }
          ],
          "scatterpolargl": [
           {
            "marker": {
             "colorbar": {
              "outlinewidth": 0,
              "ticks": ""
             }
            },
            "type": "scatterpolargl"
           }
          ],
          "scatterternary": [
           {
            "marker": {
             "colorbar": {
              "outlinewidth": 0,
              "ticks": ""
             }
            },
            "type": "scatterternary"
           }
          ],
          "surface": [
           {
            "colorbar": {
             "outlinewidth": 0,
             "ticks": ""
            },
            "colorscale": [
             [
              0,
              "#0d0887"
             ],
             [
              0.1111111111111111,
              "#46039f"
             ],
             [
              0.2222222222222222,
              "#7201a8"
             ],
             [
              0.3333333333333333,
              "#9c179e"
             ],
             [
              0.4444444444444444,
              "#bd3786"
             ],
             [
              0.5555555555555556,
              "#d8576b"
             ],
             [
              0.6666666666666666,
              "#ed7953"
             ],
             [
              0.7777777777777778,
              "#fb9f3a"
             ],
             [
              0.8888888888888888,
              "#fdca26"
             ],
             [
              1,
              "#f0f921"
             ]
            ],
            "type": "surface"
           }
          ],
          "table": [
           {
            "cells": {
             "fill": {
              "color": "#506784"
             },
             "line": {
              "color": "rgb(17,17,17)"
             }
            },
            "header": {
             "fill": {
              "color": "#2a3f5f"
             },
             "line": {
              "color": "rgb(17,17,17)"
             }
            },
            "type": "table"
           }
          ]
         },
         "layout": {
          "annotationdefaults": {
           "arrowcolor": "#f2f5fa",
           "arrowhead": 0,
           "arrowwidth": 1
          },
          "autotypenumbers": "strict",
          "coloraxis": {
           "colorbar": {
            "outlinewidth": 0,
            "ticks": ""
           }
          },
          "colorscale": {
           "diverging": [
            [
             0,
             "#8e0152"
            ],
            [
             0.1,
             "#c51b7d"
            ],
            [
             0.2,
             "#de77ae"
            ],
            [
             0.3,
             "#f1b6da"
            ],
            [
             0.4,
             "#fde0ef"
            ],
            [
             0.5,
             "#f7f7f7"
            ],
            [
             0.6,
             "#e6f5d0"
            ],
            [
             0.7,
             "#b8e186"
            ],
            [
             0.8,
             "#7fbc41"
            ],
            [
             0.9,
             "#4d9221"
            ],
            [
             1,
             "#276419"
            ]
           ],
           "sequential": [
            [
             0,
             "#0d0887"
            ],
            [
             0.1111111111111111,
             "#46039f"
            ],
            [
             0.2222222222222222,
             "#7201a8"
            ],
            [
             0.3333333333333333,
             "#9c179e"
            ],
            [
             0.4444444444444444,
             "#bd3786"
            ],
            [
             0.5555555555555556,
             "#d8576b"
            ],
            [
             0.6666666666666666,
             "#ed7953"
            ],
            [
             0.7777777777777778,
             "#fb9f3a"
            ],
            [
             0.8888888888888888,
             "#fdca26"
            ],
            [
             1,
             "#f0f921"
            ]
           ],
           "sequentialminus": [
            [
             0,
             "#0d0887"
            ],
            [
             0.1111111111111111,
             "#46039f"
            ],
            [
             0.2222222222222222,
             "#7201a8"
            ],
            [
             0.3333333333333333,
             "#9c179e"
            ],
            [
             0.4444444444444444,
             "#bd3786"
            ],
            [
             0.5555555555555556,
             "#d8576b"
            ],
            [
             0.6666666666666666,
             "#ed7953"
            ],
            [
             0.7777777777777778,
             "#fb9f3a"
            ],
            [
             0.8888888888888888,
             "#fdca26"
            ],
            [
             1,
             "#f0f921"
            ]
           ]
          },
          "colorway": [
           "#636efa",
           "#EF553B",
           "#00cc96",
           "#ab63fa",
           "#FFA15A",
           "#19d3f3",
           "#FF6692",
           "#B6E880",
           "#FF97FF",
           "#FECB52"
          ],
          "font": {
           "color": "#f2f5fa"
          },
          "geo": {
           "bgcolor": "rgb(17,17,17)",
           "lakecolor": "rgb(17,17,17)",
           "landcolor": "rgb(17,17,17)",
           "showlakes": true,
           "showland": true,
           "subunitcolor": "#506784"
          },
          "hoverlabel": {
           "align": "left"
          },
          "hovermode": "closest",
          "mapbox": {
           "style": "dark"
          },
          "paper_bgcolor": "rgb(17,17,17)",
          "plot_bgcolor": "rgb(17,17,17)",
          "polar": {
           "angularaxis": {
            "gridcolor": "#506784",
            "linecolor": "#506784",
            "ticks": ""
           },
           "bgcolor": "rgb(17,17,17)",
           "radialaxis": {
            "gridcolor": "#506784",
            "linecolor": "#506784",
            "ticks": ""
           }
          },
          "scene": {
           "xaxis": {
            "backgroundcolor": "rgb(17,17,17)",
            "gridcolor": "#506784",
            "gridwidth": 2,
            "linecolor": "#506784",
            "showbackground": true,
            "ticks": "",
            "zerolinecolor": "#C8D4E3"
           },
           "yaxis": {
            "backgroundcolor": "rgb(17,17,17)",
            "gridcolor": "#506784",
            "gridwidth": 2,
            "linecolor": "#506784",
            "showbackground": true,
            "ticks": "",
            "zerolinecolor": "#C8D4E3"
           },
           "zaxis": {
            "backgroundcolor": "rgb(17,17,17)",
            "gridcolor": "#506784",
            "gridwidth": 2,
            "linecolor": "#506784",
            "showbackground": true,
            "ticks": "",
            "zerolinecolor": "#C8D4E3"
           }
          },
          "shapedefaults": {
           "line": {
            "color": "#f2f5fa"
           }
          },
          "sliderdefaults": {
           "bgcolor": "#C8D4E3",
           "bordercolor": "rgb(17,17,17)",
           "borderwidth": 1,
           "tickwidth": 0
          },
          "ternary": {
           "aaxis": {
            "gridcolor": "#506784",
            "linecolor": "#506784",
            "ticks": ""
           },
           "baxis": {
            "gridcolor": "#506784",
            "linecolor": "#506784",
            "ticks": ""
           },
           "bgcolor": "rgb(17,17,17)",
           "caxis": {
            "gridcolor": "#506784",
            "linecolor": "#506784",
            "ticks": ""
           }
          },
          "title": {
           "x": 0.05
          },
          "updatemenudefaults": {
           "bgcolor": "#506784",
           "borderwidth": 0
          },
          "xaxis": {
           "automargin": true,
           "gridcolor": "#283442",
           "linecolor": "#506784",
           "ticks": "",
           "title": {
            "standoff": 15
           },
           "zerolinecolor": "#283442",
           "zerolinewidth": 2
          },
          "yaxis": {
           "automargin": true,
           "gridcolor": "#283442",
           "linecolor": "#506784",
           "ticks": "",
           "title": {
            "standoff": 15
           },
           "zerolinecolor": "#283442",
           "zerolinewidth": 2
          }
         }
        },
        "title": {
         "text": "Distribución porcentual de pasajeros, Top5 países"
        }
       }
      }
     },
     "metadata": {},
     "output_type": "display_data"
    }
   ],
   "source": [
    "px.pie(paises_con_mas_pasajeros, values=\"Passengers2016\", names=paises_con_mas_pasajeros.index, title=\"Distribución porcentual de pasajeros, Top5 países\", template=\"plotly_dark\", color_discrete_sequence=px.colors.qualitative.Pastel, hole=0.2)"
   ]
  },
  {
   "cell_type": "code",
   "execution_count": 66,
   "metadata": {},
   "outputs": [],
   "source": [
    "fig=px.pie(paises_con_mas_pasajeros, values=\"Passengers2016\", names=paises_con_mas_pasajeros.index, title=\"Distribución porcentual de pasajeros, Top5 países\", template=\"plotly_dark\", color_discrete_sequence=px.colors.qualitative.Pastel, hole=0.2)\n",
    "fig.write_html(\"Distribución porcentual de pasajeros, Top5 países.html\")"
   ]
  },
  {
   "cell_type": "markdown",
   "metadata": {},
   "source": [
    "2.7- Diseña un gráfico de cajas para analizar la distribución del número de pasajeros en 2016 entre los aeropuertos."
   ]
  },
  {
   "cell_type": "code",
   "execution_count": 29,
   "metadata": {},
   "outputs": [
    {
     "data": {
      "application/vnd.plotly.v1+json": {
       "config": {
        "plotlyServerURL": "https://plot.ly"
       },
       "data": [
        {
         "alignmentgroup": "True",
         "boxpoints": "all",
         "hovertemplate": "Passengers2016=%{y}<extra></extra>",
         "legendgroup": "",
         "marker": {
          "color": "yellow"
         },
         "name": "",
         "notched": true,
         "offsetgroup": "",
         "orientation": "v",
         "showlegend": false,
         "type": "box",
         "x0": " ",
         "xaxis": "x",
         "y": [
          75711130,
          65933145,
          63625664,
          60786937,
          60415470,
          50420583,
          44154693,
          43119628,
          42261309,
          41744769,
          33679052,
          31237865,
          29043287,
          28500259,
          27907384,
          27666428,
          26253882,
          25787691,
          25637054,
          24682466,
          24320071,
          23521919,
          23352016,
          22449289,
          21818418,
          21253959,
          20017530,
          19420690,
          17184681,
          16672776,
          16532690,
          16224154,
          14551774,
          13946688,
          13265037,
          13074517,
          12795356,
          12427427,
          12348425,
          12344945,
          11910138,
          11652922,
          11645334,
          11441999,
          11159631,
          10982967,
          10626430,
          9682264,
          9624748,
          9553250,
          9378082,
          9346245,
          8650000,
          8475809,
          8081179,
          7914117,
          7680992,
          7630909,
          7610780,
          7416368,
          7314269,
          7303720,
          6821358,
          6775988,
          6742746,
          6369396,
          5949060,
          5799104,
          5779569,
          5687325,
          5408814,
          5400243,
          5395699,
          5325559,
          5201690,
          5147546,
          5080071,
          4989496,
          4983645,
          4980387,
          4942386,
          4924992,
          4807906,
          4780197,
          4778967,
          4778939,
          4653818,
          4624038,
          4588265,
          4538913,
          4417490,
          4322797,
          4193665,
          4004081,
          3997856,
          3943298,
          3934891,
          3689747,
          3612061,
          3485372
         ],
         "y0": " ",
         "yaxis": "y"
        }
       ],
       "layout": {
        "boxmode": "group",
        "legend": {
         "tracegroupgap": 0
        },
        "template": {
         "data": {
          "bar": [
           {
            "error_x": {
             "color": "#f2f5fa"
            },
            "error_y": {
             "color": "#f2f5fa"
            },
            "marker": {
             "line": {
              "color": "rgb(17,17,17)",
              "width": 0.5
             },
             "pattern": {
              "fillmode": "overlay",
              "size": 10,
              "solidity": 0.2
             }
            },
            "type": "bar"
           }
          ],
          "barpolar": [
           {
            "marker": {
             "line": {
              "color": "rgb(17,17,17)",
              "width": 0.5
             },
             "pattern": {
              "fillmode": "overlay",
              "size": 10,
              "solidity": 0.2
             }
            },
            "type": "barpolar"
           }
          ],
          "carpet": [
           {
            "aaxis": {
             "endlinecolor": "#A2B1C6",
             "gridcolor": "#506784",
             "linecolor": "#506784",
             "minorgridcolor": "#506784",
             "startlinecolor": "#A2B1C6"
            },
            "baxis": {
             "endlinecolor": "#A2B1C6",
             "gridcolor": "#506784",
             "linecolor": "#506784",
             "minorgridcolor": "#506784",
             "startlinecolor": "#A2B1C6"
            },
            "type": "carpet"
           }
          ],
          "choropleth": [
           {
            "colorbar": {
             "outlinewidth": 0,
             "ticks": ""
            },
            "type": "choropleth"
           }
          ],
          "contour": [
           {
            "colorbar": {
             "outlinewidth": 0,
             "ticks": ""
            },
            "colorscale": [
             [
              0,
              "#0d0887"
             ],
             [
              0.1111111111111111,
              "#46039f"
             ],
             [
              0.2222222222222222,
              "#7201a8"
             ],
             [
              0.3333333333333333,
              "#9c179e"
             ],
             [
              0.4444444444444444,
              "#bd3786"
             ],
             [
              0.5555555555555556,
              "#d8576b"
             ],
             [
              0.6666666666666666,
              "#ed7953"
             ],
             [
              0.7777777777777778,
              "#fb9f3a"
             ],
             [
              0.8888888888888888,
              "#fdca26"
             ],
             [
              1,
              "#f0f921"
             ]
            ],
            "type": "contour"
           }
          ],
          "contourcarpet": [
           {
            "colorbar": {
             "outlinewidth": 0,
             "ticks": ""
            },
            "type": "contourcarpet"
           }
          ],
          "heatmap": [
           {
            "colorbar": {
             "outlinewidth": 0,
             "ticks": ""
            },
            "colorscale": [
             [
              0,
              "#0d0887"
             ],
             [
              0.1111111111111111,
              "#46039f"
             ],
             [
              0.2222222222222222,
              "#7201a8"
             ],
             [
              0.3333333333333333,
              "#9c179e"
             ],
             [
              0.4444444444444444,
              "#bd3786"
             ],
             [
              0.5555555555555556,
              "#d8576b"
             ],
             [
              0.6666666666666666,
              "#ed7953"
             ],
             [
              0.7777777777777778,
              "#fb9f3a"
             ],
             [
              0.8888888888888888,
              "#fdca26"
             ],
             [
              1,
              "#f0f921"
             ]
            ],
            "type": "heatmap"
           }
          ],
          "heatmapgl": [
           {
            "colorbar": {
             "outlinewidth": 0,
             "ticks": ""
            },
            "colorscale": [
             [
              0,
              "#0d0887"
             ],
             [
              0.1111111111111111,
              "#46039f"
             ],
             [
              0.2222222222222222,
              "#7201a8"
             ],
             [
              0.3333333333333333,
              "#9c179e"
             ],
             [
              0.4444444444444444,
              "#bd3786"
             ],
             [
              0.5555555555555556,
              "#d8576b"
             ],
             [
              0.6666666666666666,
              "#ed7953"
             ],
             [
              0.7777777777777778,
              "#fb9f3a"
             ],
             [
              0.8888888888888888,
              "#fdca26"
             ],
             [
              1,
              "#f0f921"
             ]
            ],
            "type": "heatmapgl"
           }
          ],
          "histogram": [
           {
            "marker": {
             "pattern": {
              "fillmode": "overlay",
              "size": 10,
              "solidity": 0.2
             }
            },
            "type": "histogram"
           }
          ],
          "histogram2d": [
           {
            "colorbar": {
             "outlinewidth": 0,
             "ticks": ""
            },
            "colorscale": [
             [
              0,
              "#0d0887"
             ],
             [
              0.1111111111111111,
              "#46039f"
             ],
             [
              0.2222222222222222,
              "#7201a8"
             ],
             [
              0.3333333333333333,
              "#9c179e"
             ],
             [
              0.4444444444444444,
              "#bd3786"
             ],
             [
              0.5555555555555556,
              "#d8576b"
             ],
             [
              0.6666666666666666,
              "#ed7953"
             ],
             [
              0.7777777777777778,
              "#fb9f3a"
             ],
             [
              0.8888888888888888,
              "#fdca26"
             ],
             [
              1,
              "#f0f921"
             ]
            ],
            "type": "histogram2d"
           }
          ],
          "histogram2dcontour": [
           {
            "colorbar": {
             "outlinewidth": 0,
             "ticks": ""
            },
            "colorscale": [
             [
              0,
              "#0d0887"
             ],
             [
              0.1111111111111111,
              "#46039f"
             ],
             [
              0.2222222222222222,
              "#7201a8"
             ],
             [
              0.3333333333333333,
              "#9c179e"
             ],
             [
              0.4444444444444444,
              "#bd3786"
             ],
             [
              0.5555555555555556,
              "#d8576b"
             ],
             [
              0.6666666666666666,
              "#ed7953"
             ],
             [
              0.7777777777777778,
              "#fb9f3a"
             ],
             [
              0.8888888888888888,
              "#fdca26"
             ],
             [
              1,
              "#f0f921"
             ]
            ],
            "type": "histogram2dcontour"
           }
          ],
          "mesh3d": [
           {
            "colorbar": {
             "outlinewidth": 0,
             "ticks": ""
            },
            "type": "mesh3d"
           }
          ],
          "parcoords": [
           {
            "line": {
             "colorbar": {
              "outlinewidth": 0,
              "ticks": ""
             }
            },
            "type": "parcoords"
           }
          ],
          "pie": [
           {
            "automargin": true,
            "type": "pie"
           }
          ],
          "scatter": [
           {
            "marker": {
             "line": {
              "color": "#283442"
             }
            },
            "type": "scatter"
           }
          ],
          "scatter3d": [
           {
            "line": {
             "colorbar": {
              "outlinewidth": 0,
              "ticks": ""
             }
            },
            "marker": {
             "colorbar": {
              "outlinewidth": 0,
              "ticks": ""
             }
            },
            "type": "scatter3d"
           }
          ],
          "scattercarpet": [
           {
            "marker": {
             "colorbar": {
              "outlinewidth": 0,
              "ticks": ""
             }
            },
            "type": "scattercarpet"
           }
          ],
          "scattergeo": [
           {
            "marker": {
             "colorbar": {
              "outlinewidth": 0,
              "ticks": ""
             }
            },
            "type": "scattergeo"
           }
          ],
          "scattergl": [
           {
            "marker": {
             "line": {
              "color": "#283442"
             }
            },
            "type": "scattergl"
           }
          ],
          "scattermapbox": [
           {
            "marker": {
             "colorbar": {
              "outlinewidth": 0,
              "ticks": ""
             }
            },
            "type": "scattermapbox"
           }
          ],
          "scatterpolar": [
           {
            "marker": {
             "colorbar": {
              "outlinewidth": 0,
              "ticks": ""
             }
            },
            "type": "scatterpolar"
           }
          ],
          "scatterpolargl": [
           {
            "marker": {
             "colorbar": {
              "outlinewidth": 0,
              "ticks": ""
             }
            },
            "type": "scatterpolargl"
           }
          ],
          "scatterternary": [
           {
            "marker": {
             "colorbar": {
              "outlinewidth": 0,
              "ticks": ""
             }
            },
            "type": "scatterternary"
           }
          ],
          "surface": [
           {
            "colorbar": {
             "outlinewidth": 0,
             "ticks": ""
            },
            "colorscale": [
             [
              0,
              "#0d0887"
             ],
             [
              0.1111111111111111,
              "#46039f"
             ],
             [
              0.2222222222222222,
              "#7201a8"
             ],
             [
              0.3333333333333333,
              "#9c179e"
             ],
             [
              0.4444444444444444,
              "#bd3786"
             ],
             [
              0.5555555555555556,
              "#d8576b"
             ],
             [
              0.6666666666666666,
              "#ed7953"
             ],
             [
              0.7777777777777778,
              "#fb9f3a"
             ],
             [
              0.8888888888888888,
              "#fdca26"
             ],
             [
              1,
              "#f0f921"
             ]
            ],
            "type": "surface"
           }
          ],
          "table": [
           {
            "cells": {
             "fill": {
              "color": "#506784"
             },
             "line": {
              "color": "rgb(17,17,17)"
             }
            },
            "header": {
             "fill": {
              "color": "#2a3f5f"
             },
             "line": {
              "color": "rgb(17,17,17)"
             }
            },
            "type": "table"
           }
          ]
         },
         "layout": {
          "annotationdefaults": {
           "arrowcolor": "#f2f5fa",
           "arrowhead": 0,
           "arrowwidth": 1
          },
          "autotypenumbers": "strict",
          "coloraxis": {
           "colorbar": {
            "outlinewidth": 0,
            "ticks": ""
           }
          },
          "colorscale": {
           "diverging": [
            [
             0,
             "#8e0152"
            ],
            [
             0.1,
             "#c51b7d"
            ],
            [
             0.2,
             "#de77ae"
            ],
            [
             0.3,
             "#f1b6da"
            ],
            [
             0.4,
             "#fde0ef"
            ],
            [
             0.5,
             "#f7f7f7"
            ],
            [
             0.6,
             "#e6f5d0"
            ],
            [
             0.7,
             "#b8e186"
            ],
            [
             0.8,
             "#7fbc41"
            ],
            [
             0.9,
             "#4d9221"
            ],
            [
             1,
             "#276419"
            ]
           ],
           "sequential": [
            [
             0,
             "#0d0887"
            ],
            [
             0.1111111111111111,
             "#46039f"
            ],
            [
             0.2222222222222222,
             "#7201a8"
            ],
            [
             0.3333333333333333,
             "#9c179e"
            ],
            [
             0.4444444444444444,
             "#bd3786"
            ],
            [
             0.5555555555555556,
             "#d8576b"
            ],
            [
             0.6666666666666666,
             "#ed7953"
            ],
            [
             0.7777777777777778,
             "#fb9f3a"
            ],
            [
             0.8888888888888888,
             "#fdca26"
            ],
            [
             1,
             "#f0f921"
            ]
           ],
           "sequentialminus": [
            [
             0,
             "#0d0887"
            ],
            [
             0.1111111111111111,
             "#46039f"
            ],
            [
             0.2222222222222222,
             "#7201a8"
            ],
            [
             0.3333333333333333,
             "#9c179e"
            ],
            [
             0.4444444444444444,
             "#bd3786"
            ],
            [
             0.5555555555555556,
             "#d8576b"
            ],
            [
             0.6666666666666666,
             "#ed7953"
            ],
            [
             0.7777777777777778,
             "#fb9f3a"
            ],
            [
             0.8888888888888888,
             "#fdca26"
            ],
            [
             1,
             "#f0f921"
            ]
           ]
          },
          "colorway": [
           "#636efa",
           "#EF553B",
           "#00cc96",
           "#ab63fa",
           "#FFA15A",
           "#19d3f3",
           "#FF6692",
           "#B6E880",
           "#FF97FF",
           "#FECB52"
          ],
          "font": {
           "color": "#f2f5fa"
          },
          "geo": {
           "bgcolor": "rgb(17,17,17)",
           "lakecolor": "rgb(17,17,17)",
           "landcolor": "rgb(17,17,17)",
           "showlakes": true,
           "showland": true,
           "subunitcolor": "#506784"
          },
          "hoverlabel": {
           "align": "left"
          },
          "hovermode": "closest",
          "mapbox": {
           "style": "dark"
          },
          "paper_bgcolor": "rgb(17,17,17)",
          "plot_bgcolor": "rgb(17,17,17)",
          "polar": {
           "angularaxis": {
            "gridcolor": "#506784",
            "linecolor": "#506784",
            "ticks": ""
           },
           "bgcolor": "rgb(17,17,17)",
           "radialaxis": {
            "gridcolor": "#506784",
            "linecolor": "#506784",
            "ticks": ""
           }
          },
          "scene": {
           "xaxis": {
            "backgroundcolor": "rgb(17,17,17)",
            "gridcolor": "#506784",
            "gridwidth": 2,
            "linecolor": "#506784",
            "showbackground": true,
            "ticks": "",
            "zerolinecolor": "#C8D4E3"
           },
           "yaxis": {
            "backgroundcolor": "rgb(17,17,17)",
            "gridcolor": "#506784",
            "gridwidth": 2,
            "linecolor": "#506784",
            "showbackground": true,
            "ticks": "",
            "zerolinecolor": "#C8D4E3"
           },
           "zaxis": {
            "backgroundcolor": "rgb(17,17,17)",
            "gridcolor": "#506784",
            "gridwidth": 2,
            "linecolor": "#506784",
            "showbackground": true,
            "ticks": "",
            "zerolinecolor": "#C8D4E3"
           }
          },
          "shapedefaults": {
           "line": {
            "color": "#f2f5fa"
           }
          },
          "sliderdefaults": {
           "bgcolor": "#C8D4E3",
           "bordercolor": "rgb(17,17,17)",
           "borderwidth": 1,
           "tickwidth": 0
          },
          "ternary": {
           "aaxis": {
            "gridcolor": "#506784",
            "linecolor": "#506784",
            "ticks": ""
           },
           "baxis": {
            "gridcolor": "#506784",
            "linecolor": "#506784",
            "ticks": ""
           },
           "bgcolor": "rgb(17,17,17)",
           "caxis": {
            "gridcolor": "#506784",
            "linecolor": "#506784",
            "ticks": ""
           }
          },
          "title": {
           "x": 0.05
          },
          "updatemenudefaults": {
           "bgcolor": "#506784",
           "borderwidth": 0
          },
          "xaxis": {
           "automargin": true,
           "gridcolor": "#283442",
           "linecolor": "#506784",
           "ticks": "",
           "title": {
            "standoff": 15
           },
           "zerolinecolor": "#283442",
           "zerolinewidth": 2
          },
          "yaxis": {
           "automargin": true,
           "gridcolor": "#283442",
           "linecolor": "#506784",
           "ticks": "",
           "title": {
            "standoff": 15
           },
           "zerolinecolor": "#283442",
           "zerolinewidth": 2
          }
         }
        },
        "title": {
         "text": "Distribución del número de pasajeros en 2016"
        },
        "xaxis": {
         "anchor": "y",
         "domain": [
          0,
          1
         ]
        },
        "yaxis": {
         "anchor": "x",
         "domain": [
          0,
          1
         ],
         "title": {
          "text": "Passengers2016"
         }
        }
       }
      }
     },
     "metadata": {},
     "output_type": "display_data"
    }
   ],
   "source": [
    "px.box(df, y=\"Passengers2016\", title= \"Distribución del número de pasajeros en 2016\" , template=\"plotly_dark\", notched=True, points=\"all\", color_discrete_sequence=[\"yellow\"])"
   ]
  },
  {
   "cell_type": "code",
   "execution_count": 67,
   "metadata": {},
   "outputs": [],
   "source": [
    "fig=px.box(df, y=\"Passengers2016\", title= \"Distribución del número de pasajeros en 2016\" , template=\"plotly_dark\", notched=True, points=\"all\", color_discrete_sequence=[\"yellow\"])\n",
    "fig.write_html(\"Distribución del número de pasajeros en 2016.html\")"
   ]
  },
  {
   "cell_type": "markdown",
   "metadata": {},
   "source": [
    "2.8- Realiza un pairplot para mostrar las relaciones bivariadas entre el \"Rank2016\", \"Passengers2016\" y \"Passengers2015\"."
   ]
  },
  {
   "cell_type": "code",
   "execution_count": 69,
   "metadata": {},
   "outputs": [
    {
     "data": {
      "text/plain": [
       "<seaborn.axisgrid.PairGrid at 0x193434943d0>"
      ]
     },
     "execution_count": 69,
     "metadata": {},
     "output_type": "execute_result"
    },
    {
     "data": {
      "image/png": "[encoded data removed]",
      "text/plain": [
       "<Figure size 750x750 with 12 Axes>"
      ]
     },
     "metadata": {},
     "output_type": "display_data"
    }
   ],
   "source": [
    "sns.pairplot(df[[\"Rank2016\", \"Passengers2016\", \"Passengers2015\"]])"
   ]
  },
  {
   "cell_type": "code",
   "execution_count": 31,
   "metadata": {},
   "outputs": [
    {
     "data": {
      "application/vnd.plotly.v1+json": {
       "config": {
        "plotlyServerURL": "https://plot.ly"
       },
       "data": [
        {
         "dimensions": [
          {
           "axis": {
            "matches": true
           },
           "label": "Rank2016",
           "values": [
            1,
            2,
            3,
            4,
            5,
            6,
            7,
            8,
            9,
            10,
            11,
            12,
            13,
            14,
            15,
            16,
            17,
            18,
            19,
            20,
            21,
            22,
            23,
            24,
            25,
            26,
            27,
            28,
            29,
            30,
            31,
            32,
            33,
            34,
            35,
            36,
            37,
            38,
            39,
            40,
            41,
            42,
            43,
            44,
            45,
            46,
            47,
            48,
            49,
            50,
            51,
            52,
            53,
            54,
            55,
            56,
            57,
            58,
            59,
            60,
            61,
            62,
            63,
            64,
            65,
            66,
            67,
            68,
            69,
            70,
            71,
            72,
            73,
            74,
            75,
            76,
            77,
            78,
            79,
            80,
            81,
            82,
            83,
            84,
            85,
            86,
            87,
            88,
            89,
            90,
            91,
            92,
            93,
            94,
            95,
            96,
            97,
            98,
            99,
            100
           ]
          },
          {
           "axis": {
            "matches": true
           },
           "label": "Passengers2016",
           "values": [
            75711130,
            65933145,
            63625664,
            60786937,
            60415470,
            50420583,
            44154693,
            43119628,
            42261309,
            41744769,
            33679052,
            31237865,
            29043287,
            28500259,
            27907384,
            27666428,
            26253882,
            25787691,
            25637054,
            24682466,
            24320071,
            23521919,
            23352016,
            22449289,
            21818418,
            21253959,
            20017530,
            19420690,
            17184681,
            16672776,
            16532690,
            16224154,
            14551774,
            13946688,
            13265037,
            13074517,
            12795356,
            12427427,
            12348425,
            12344945,
            11910138,
            11652922,
            11645334,
            11441999,
            11159631,
            10982967,
            10626430,
            9682264,
            9624748,
            9553250,
            9378082,
            9346245,
            8650000,
            8475809,
            8081179,
            7914117,
            7680992,
            7630909,
            7610780,
            7416368,
            7314269,
            7303720,
            6821358,
            6775988,
            6742746,
            6369396,
            5949060,
            5799104,
            5779569,
            5687325,
            5408814,
            5400243,
            5395699,
            5325559,
            5201690,
            5147546,
            5080071,
            4989496,
            4983645,
            4980387,
            4942386,
            4924992,
            4807906,
            4780197,
            4778967,
            4778939,
            4653818,
            4624038,
            4588265,
            4538913,
            4417490,
            4322797,
            4193665,
            4004081,
            3997856,
            3943298,
            3934891,
            3689747,
            3612061,
            3485372
           ]
          },
          {
           "axis": {
            "matches": true
           },
           "label": "Passengers2015",
           "values": [
            74985475,
            65766986,
            58284848,
            61032022,
            61322729,
            46824838,
            39711237,
            40269087,
            40981522,
            40463208,
            31302068,
            29664993,
            26610332,
            30504515,
            25049319,
            26281228,
            23745023,
            24678195,
            23136047,
            23142536,
            22519178,
            22476685,
            22775054,
            20090418,
            23460018,
            21005196,
            18087377,
            18582043,
            16422266,
            14404206,
            15772081,
            15610072,
            12263505,
            15815129,
            13501454,
            12030928,
            11186688,
            12016730,
            11114587,
            10575288,
            10338375,
            8526268,
            10187122,
            10298963,
            10404625,
            9274629,
            10512225,
            9689635,
            8751028,
            8703354,
            8087740,
            8714154,
            7277135,
            8261804,
            7669054,
            7105487,
            6889742,
            6436881,
            6786790,
            6477283,
            7061059,
            6956302,
            4855505,
            6163188,
            6057355,
            6158334,
            6020866,
            5055127,
            5323294,
            5341293,
            5452669,
            5162149,
            5834201,
            4910791,
            5017758,
            4391292,
            4618642,
            4804774,
            4221171,
            4088943,
            4579023,
            4776110,
            4562846,
            4373882,
            4394996,
            4301495,
            4450862,
            4308845,
            4277725,
            4319301,
            4352721,
            3972105,
            4499482,
            3706180,
            4330013,
            3659312,
            3814001,
            3714174,
            3446831,
            3381681
           ]
          }
         ],
         "hovertemplate": "%{xaxis.title.text}=%{x}<br>%{yaxis.title.text}=%{y}<br>Rank2016=%{marker.color}<extra></extra>",
         "legendgroup": "",
         "marker": {
          "color": [
           1,
           2,
           3,
           4,
           5,
           6,
           7,
           8,
           9,
           10,
           11,
           12,
           13,
           14,
           15,
           16,
           17,
           18,
           19,
           20,
           21,
           22,
           23,
           24,
           25,
           26,
           27,
           28,
           29,
           30,
           31,
           32,
           33,
           34,
           35,
           36,
           37,
           38,
           39,
           40,
           41,
           42,
           43,
           44,
           45,
           46,
           47,
           48,
           49,
           50,
           51,
           52,
           53,
           54,
           55,
           56,
           57,
           58,
           59,
           60,
           61,
           62,
           63,
           64,
           65,
           66,
           67,
           68,
           69,
           70,
           71,
           72,
           73,
           74,
           75,
           76,
           77,
           78,
           79,
           80,
           81,
           82,
           83,
           84,
           85,
           86,
           87,
           88,
           89,
           90,
           91,
           92,
           93,
           94,
           95,
           96,
           97,
           98,
           99,
           100
          ],
          "coloraxis": "coloraxis",
          "symbol": "circle"
         },
         "name": "",
         "showlegend": false,
         "type": "splom"
        }
       ],
       "layout": {
        "coloraxis": {
         "colorbar": {
          "title": {
           "text": "Rank2016"
          }
         },
         "colorscale": [
          [
           0,
           "#0d0887"
          ],
          [
           0.1111111111111111,
           "#46039f"
          ],
          [
           0.2222222222222222,
           "#7201a8"
          ],
          [
           0.3333333333333333,
           "#9c179e"
          ],
          [
           0.4444444444444444,
           "#bd3786"
          ],
          [
           0.5555555555555556,
           "#d8576b"
          ],
          [
           0.6666666666666666,
           "#ed7953"
          ],
          [
           0.7777777777777778,
           "#fb9f3a"
          ],
          [
           0.8888888888888888,
           "#fdca26"
          ],
          [
           1,
           "#f0f921"
          ]
         ]
        },
        "dragmode": "select",
        "height": 600,
        "legend": {
         "tracegroupgap": 0
        },
        "template": {
         "data": {
          "bar": [
           {
            "error_x": {
             "color": "#f2f5fa"
            },
            "error_y": {
             "color": "#f2f5fa"
            },
            "marker": {
             "line": {
              "color": "rgb(17,17,17)",
              "width": 0.5
             },
             "pattern": {
              "fillmode": "overlay",
              "size": 10,
              "solidity": 0.2
             }
            },
            "type": "bar"
           }
          ],
          "barpolar": [
           {
            "marker": {
             "line": {
              "color": "rgb(17,17,17)",
              "width": 0.5
             },
             "pattern": {
              "fillmode": "overlay",
              "size": 10,
              "solidity": 0.2
             }
            },
            "type": "barpolar"
           }
          ],
          "carpet": [
           {
            "aaxis": {
             "endlinecolor": "#A2B1C6",
             "gridcolor": "#506784",
             "linecolor": "#506784",
             "minorgridcolor": "#506784",
             "startlinecolor": "#A2B1C6"
            },
            "baxis": {
             "endlinecolor": "#A2B1C6",
             "gridcolor": "#506784",
             "linecolor": "#506784",
             "minorgridcolor": "#506784",
             "startlinecolor": "#A2B1C6"
            },
            "type": "carpet"
           }
          ],
          "choropleth": [
           {
            "colorbar": {
             "outlinewidth": 0,
             "ticks": ""
            },
            "type": "choropleth"
           }
          ],
          "contour": [
           {
            "colorbar": {
             "outlinewidth": 0,
             "ticks": ""
            },
            "colorscale": [
             [
              0,
              "#0d0887"
             ],
             [
              0.1111111111111111,
              "#46039f"
             ],
             [
              0.2222222222222222,
              "#7201a8"
             ],
             [
              0.3333333333333333,
              "#9c179e"
             ],
             [
              0.4444444444444444,
              "#bd3786"
             ],
             [
              0.5555555555555556,
              "#d8576b"
             ],
             [
              0.6666666666666666,
              "#ed7953"
             ],
             [
              0.7777777777777778,
              "#fb9f3a"
             ],
             [
              0.8888888888888888,
              "#fdca26"
             ],
             [
              1,
              "#f0f921"
             ]
            ],
            "type": "contour"
           }
          ],
          "contourcarpet": [
           {
            "colorbar": {
             "outlinewidth": 0,
             "ticks": ""
            },
            "type": "contourcarpet"
           }
          ],
          "heatmap": [
           {
            "colorbar": {
             "outlinewidth": 0,
             "ticks": ""
            },
            "colorscale": [
             [
              0,
              "#0d0887"
             ],
             [
              0.1111111111111111,
              "#46039f"
             ],
             [
              0.2222222222222222,
              "#7201a8"
             ],
             [
              0.3333333333333333,
              "#9c179e"
             ],
             [
              0.4444444444444444,
              "#bd3786"
             ],
             [
              0.5555555555555556,
              "#d8576b"
             ],
             [
              0.6666666666666666,
              "#ed7953"
             ],
             [
              0.7777777777777778,
              "#fb9f3a"
             ],
             [
              0.8888888888888888,
              "#fdca26"
             ],
             [
              1,
              "#f0f921"
             ]
            ],
            "type": "heatmap"
           }
          ],
          "heatmapgl": [
           {
            "colorbar": {
             "outlinewidth": 0,
             "ticks": ""
            },
            "colorscale": [
             [
              0,
              "#0d0887"
             ],
             [
              0.1111111111111111,
              "#46039f"
             ],
             [
              0.2222222222222222,
              "#7201a8"
             ],
             [
              0.3333333333333333,
              "#9c179e"
             ],
             [
              0.4444444444444444,
              "#bd3786"
             ],
             [
              0.5555555555555556,
              "#d8576b"
             ],
             [
              0.6666666666666666,
              "#ed7953"
             ],
             [
              0.7777777777777778,
              "#fb9f3a"
             ],
             [
              0.8888888888888888,
              "#fdca26"
             ],
             [
              1,
              "#f0f921"
             ]
            ],
            "type": "heatmapgl"
           }
          ],
          "histogram": [
           {
            "marker": {
             "pattern": {
              "fillmode": "overlay",
              "size": 10,
              "solidity": 0.2
             }
            },
            "type": "histogram"
           }
          ],
          "histogram2d": [
           {
            "colorbar": {
             "outlinewidth": 0,
             "ticks": ""
            },
            "colorscale": [
             [
              0,
              "#0d0887"
             ],
             [
              0.1111111111111111,
              "#46039f"
             ],
             [
              0.2222222222222222,
              "#7201a8"
             ],
             [
              0.3333333333333333,
              "#9c179e"
             ],
             [
              0.4444444444444444,
              "#bd3786"
             ],
             [
              0.5555555555555556,
              "#d8576b"
             ],
             [
              0.6666666666666666,
              "#ed7953"
             ],
             [
              0.7777777777777778,
              "#fb9f3a"
             ],
             [
              0.8888888888888888,
              "#fdca26"
             ],
             [
              1,
              "#f0f921"
             ]
            ],
            "type": "histogram2d"
           }
          ],
          "histogram2dcontour": [
           {
            "colorbar": {
             "outlinewidth": 0,
             "ticks": ""
            },
            "colorscale": [
             [
              0,
              "#0d0887"
             ],
             [
              0.1111111111111111,
              "#46039f"
             ],
             [
              0.2222222222222222,
              "#7201a8"
             ],
             [
              0.3333333333333333,
              "#9c179e"
             ],
             [
              0.4444444444444444,
              "#bd3786"
             ],
             [
              0.5555555555555556,
              "#d8576b"
             ],
             [
              0.6666666666666666,
              "#ed7953"
             ],
             [
              0.7777777777777778,
              "#fb9f3a"
             ],
             [
              0.8888888888888888,
              "#fdca26"
             ],
             [
              1,
              "#f0f921"
             ]
            ],
            "type": "histogram2dcontour"
           }
          ],
          "mesh3d": [
           {
            "colorbar": {
             "outlinewidth": 0,
             "ticks": ""
            },
            "type": "mesh3d"
           }
          ],
          "parcoords": [
           {
            "line": {
             "colorbar": {
              "outlinewidth": 0,
              "ticks": ""
             }
            },
            "type": "parcoords"
           }
          ],
          "pie": [
           {
            "automargin": true,
            "type": "pie"
           }
          ],
          "scatter": [
           {
            "marker": {
             "line": {
              "color": "#283442"
             }
            },
            "type": "scatter"
           }
          ],
          "scatter3d": [
           {
            "line": {
             "colorbar": {
              "outlinewidth": 0,
              "ticks": ""
             }
            },
            "marker": {
             "colorbar": {
              "outlinewidth": 0,
              "ticks": ""
             }
            },
            "type": "scatter3d"
           }
          ],
          "scattercarpet": [
           {
            "marker": {
             "colorbar": {
              "outlinewidth": 0,
              "ticks": ""
             }
            },
            "type": "scattercarpet"
           }
          ],
          "scattergeo": [
           {
            "marker": {
             "colorbar": {
              "outlinewidth": 0,
              "ticks": ""
             }
            },
            "type": "scattergeo"
           }
          ],
          "scattergl": [
           {
            "marker": {
             "line": {
              "color": "#283442"
             }
            },
            "type": "scattergl"
           }
          ],
          "scattermapbox": [
           {
            "marker": {
             "colorbar": {
              "outlinewidth": 0,
              "ticks": ""
             }
            },
            "type": "scattermapbox"
           }
          ],
          "scatterpolar": [
           {
            "marker": {
             "colorbar": {
              "outlinewidth": 0,
              "ticks": ""
             }
            },
            "type": "scatterpolar"
           }
          ],
          "scatterpolargl": [
           {
            "marker": {
             "colorbar": {
              "outlinewidth": 0,
              "ticks": ""
             }
            },
            "type": "scatterpolargl"
           }
          ],
          "scatterternary": [
           {
            "marker": {
             "colorbar": {
              "outlinewidth": 0,
              "ticks": ""
             }
            },
            "type": "scatterternary"
           }
          ],
          "surface": [
           {
            "colorbar": {
             "outlinewidth": 0,
             "ticks": ""
            },
            "colorscale": [
             [
              0,
              "#0d0887"
             ],
             [
              0.1111111111111111,
              "#46039f"
             ],
             [
              0.2222222222222222,
              "#7201a8"
             ],
             [
              0.3333333333333333,
              "#9c179e"
             ],
             [
              0.4444444444444444,
              "#bd3786"
             ],
             [
              0.5555555555555556,
              "#d8576b"
             ],
             [
              0.6666666666666666,
              "#ed7953"
             ],
             [
              0.7777777777777778,
              "#fb9f3a"
             ],
             [
              0.8888888888888888,
              "#fdca26"
             ],
             [
              1,
              "#f0f921"
             ]
            ],
            "type": "surface"
           }
          ],
          "table": [
           {
            "cells": {
             "fill": {
              "color": "#506784"
             },
             "line": {
              "color": "rgb(17,17,17)"
             }
            },
            "header": {
             "fill": {
              "color": "#2a3f5f"
             },
             "line": {
              "color": "rgb(17,17,17)"
             }
            },
            "type": "table"
           }
          ]
         },
         "layout": {
          "annotationdefaults": {
           "arrowcolor": "#f2f5fa",
           "arrowhead": 0,
           "arrowwidth": 1
          },
          "autotypenumbers": "strict",
          "coloraxis": {
           "colorbar": {
            "outlinewidth": 0,
            "ticks": ""
           }
          },
          "colorscale": {
           "diverging": [
            [
             0,
             "#8e0152"
            ],
            [
             0.1,
             "#c51b7d"
            ],
            [
             0.2,
             "#de77ae"
            ],
            [
             0.3,
             "#f1b6da"
            ],
            [
             0.4,
             "#fde0ef"
            ],
            [
             0.5,
             "#f7f7f7"
            ],
            [
             0.6,
             "#e6f5d0"
            ],
            [
             0.7,
             "#b8e186"
            ],
            [
             0.8,
             "#7fbc41"
            ],
            [
             0.9,
             "#4d9221"
            ],
            [
             1,
             "#276419"
            ]
           ],
           "sequential": [
            [
             0,
             "#0d0887"
            ],
            [
             0.1111111111111111,
             "#46039f"
            ],
            [
             0.2222222222222222,
             "#7201a8"
            ],
            [
             0.3333333333333333,
             "#9c179e"
            ],
            [
             0.4444444444444444,
             "#bd3786"
            ],
            [
             0.5555555555555556,
             "#d8576b"
            ],
            [
             0.6666666666666666,
             "#ed7953"
            ],
            [
             0.7777777777777778,
             "#fb9f3a"
            ],
            [
             0.8888888888888888,
             "#fdca26"
            ],
            [
             1,
             "#f0f921"
            ]
           ],
           "sequentialminus": [
            [
             0,
             "#0d0887"
            ],
            [
             0.1111111111111111,
             "#46039f"
            ],
            [
             0.2222222222222222,
             "#7201a8"
            ],
            [
             0.3333333333333333,
             "#9c179e"
            ],
            [
             0.4444444444444444,
             "#bd3786"
            ],
            [
             0.5555555555555556,
             "#d8576b"
            ],
            [
             0.6666666666666666,
             "#ed7953"
            ],
            [
             0.7777777777777778,
             "#fb9f3a"
            ],
            [
             0.8888888888888888,
             "#fdca26"
            ],
            [
             1,
             "#f0f921"
            ]
           ]
          },
          "colorway": [
           "#636efa",
           "#EF553B",
           "#00cc96",
           "#ab63fa",
           "#FFA15A",
           "#19d3f3",
           "#FF6692",
           "#B6E880",
           "#FF97FF",
           "#FECB52"
          ],
          "font": {
           "color": "#f2f5fa"
          },
          "geo": {
           "bgcolor": "rgb(17,17,17)",
           "lakecolor": "rgb(17,17,17)",
           "landcolor": "rgb(17,17,17)",
           "showlakes": true,
           "showland": true,
           "subunitcolor": "#506784"
          },
          "hoverlabel": {
           "align": "left"
          },
          "hovermode": "closest",
          "mapbox": {
           "style": "dark"
          },
          "paper_bgcolor": "rgb(17,17,17)",
          "plot_bgcolor": "rgb(17,17,17)",
          "polar": {
           "angularaxis": {
            "gridcolor": "#506784",
            "linecolor": "#506784",
            "ticks": ""
           },
           "bgcolor": "rgb(17,17,17)",
           "radialaxis": {
            "gridcolor": "#506784",
            "linecolor": "#506784",
            "ticks": ""
           }
          },
          "scene": {
           "xaxis": {
            "backgroundcolor": "rgb(17,17,17)",
            "gridcolor": "#506784",
            "gridwidth": 2,
            "linecolor": "#506784",
            "showbackground": true,
            "ticks": "",
            "zerolinecolor": "#C8D4E3"
           },
           "yaxis": {
            "backgroundcolor": "rgb(17,17,17)",
            "gridcolor": "#506784",
            "gridwidth": 2,
            "linecolor": "#506784",
            "showbackground": true,
            "ticks": "",
            "zerolinecolor": "#C8D4E3"
           },
           "zaxis": {
            "backgroundcolor": "rgb(17,17,17)",
            "gridcolor": "#506784",
            "gridwidth": 2,
            "linecolor": "#506784",
            "showbackground": true,
            "ticks": "",
            "zerolinecolor": "#C8D4E3"
           }
          },
          "shapedefaults": {
           "line": {
            "color": "#f2f5fa"
           }
          },
          "sliderdefaults": {
           "bgcolor": "#C8D4E3",
           "bordercolor": "rgb(17,17,17)",
           "borderwidth": 1,
           "tickwidth": 0
          },
          "ternary": {
           "aaxis": {
            "gridcolor": "#506784",
            "linecolor": "#506784",
            "ticks": ""
           },
           "baxis": {
            "gridcolor": "#506784",
            "linecolor": "#506784",
            "ticks": ""
           },
           "bgcolor": "rgb(17,17,17)",
           "caxis": {
            "gridcolor": "#506784",
            "linecolor": "#506784",
            "ticks": ""
           }
          },
          "title": {
           "x": 0.05
          },
          "updatemenudefaults": {
           "bgcolor": "#506784",
           "borderwidth": 0
          },
          "xaxis": {
           "automargin": true,
           "gridcolor": "#283442",
           "linecolor": "#506784",
           "ticks": "",
           "title": {
            "standoff": 15
           },
           "zerolinecolor": "#283442",
           "zerolinewidth": 2
          },
          "yaxis": {
           "automargin": true,
           "gridcolor": "#283442",
           "linecolor": "#506784",
           "ticks": "",
           "title": {
            "standoff": 15
           },
           "zerolinecolor": "#283442",
           "zerolinewidth": 2
          }
         }
        },
        "title": {
         "text": "Relaciones bivariadas entre Rank2016, Passengers2016 y Passengers2015"
        }
       }
      }
     },
     "metadata": {},
     "output_type": "display_data"
    }
   ],
   "source": [
    "px.scatter_matrix(df[[\"Rank2016\", \"Passengers2016\", \"Passengers2015\"]], title=\"Relaciones bivariadas entre Rank2016, Passengers2016 y Passengers2015\", template=\"plotly_dark\", color=\"Rank2016\", height=600)"
   ]
  },
  {
   "cell_type": "code",
   "execution_count": 71,
   "metadata": {},
   "outputs": [],
   "source": [
    "fig=px.scatter_matrix(df[[\"Rank2016\", \"Passengers2016\", \"Passengers2015\"]], title=\"Relaciones bivariadas entre Rank2016, Passengers2016 y Passengers2015\", template=\"plotly_dark\", color=\"Rank2016\", height=600)\n",
    "fig.write_html(\"Relaciones bivariadas entre Rank2016, Passengers2016 y Passengers2015.html\")"
   ]
  },
  {
   "cell_type": "markdown",
   "metadata": {},
   "source": [
    "2.9- Produce un gráfico de barras apiladas para comparar el número de pasajeros en 2015 y 2016 para los 10 principales aeropuertos."
   ]
  },
  {
   "cell_type": "code",
   "execution_count": 32,
   "metadata": {},
   "outputs": [
    {
     "data": {
      "application/vnd.plotly.v1+json": {
       "config": {
        "plotlyServerURL": "https://plot.ly"
       },
       "data": [
        {
         "alignmentgroup": "True",
         "hovertemplate": "variable=Passengers2016<br>value=%{x}<br>Airport=%{y}<extra></extra>",
         "legendgroup": "Passengers2016",
         "marker": {
          "color": "#9467bd",
          "pattern": {
           "shape": ""
          }
         },
         "name": "Passengers2016",
         "offsetgroup": "Passengers2016",
         "orientation": "h",
         "showlegend": true,
         "textposition": "auto",
         "texttemplate": "%{x}",
         "type": "bar",
         "x": [
          75711130,
          65933145,
          63625664,
          60786937,
          60415470,
          50420583,
          44154693,
          43119628,
          42261309,
          41744769
         ],
         "xaxis": "x",
         "y": [
          "Heathrow Airport",
          "Charles de Gaulle Airport",
          "Amsterdam Airport Schiphol",
          "Frankfurt Airport",
          "Istanbul Atatürk Airport",
          "Adolfo Suárez Madrid–Barajas Airport",
          "Barcelona–El Prat Josep Tarradellas Airport",
          "Gatwick Airport",
          "Munich Airport",
          "Leonardo da Vinci–Fiumicino Airport"
         ],
         "yaxis": "y"
        },
        {
         "alignmentgroup": "True",
         "hovertemplate": "variable=Passengers2015<br>value=%{x}<br>Airport=%{y}<extra></extra>",
         "legendgroup": "Passengers2015",
         "marker": {
          "color": "#bcbd22",
          "pattern": {
           "shape": ""
          }
         },
         "name": "Passengers2015",
         "offsetgroup": "Passengers2015",
         "orientation": "h",
         "showlegend": true,
         "textposition": "auto",
         "texttemplate": "%{x}",
         "type": "bar",
         "x": [
          74985475,
          65766986,
          58284848,
          61032022,
          61322729,
          46824838,
          39711237,
          40269087,
          40981522,
          40463208
         ],
         "xaxis": "x",
         "y": [
          "Heathrow Airport",
          "Charles de Gaulle Airport",
          "Amsterdam Airport Schiphol",
          "Frankfurt Airport",
          "Istanbul Atatürk Airport",
          "Adolfo Suárez Madrid–Barajas Airport",
          "Barcelona–El Prat Josep Tarradellas Airport",
          "Gatwick Airport",
          "Munich Airport",
          "Leonardo da Vinci–Fiumicino Airport"
         ],
         "yaxis": "y"
        }
       ],
       "layout": {
        "barmode": "relative",
        "legend": {
         "title": {
          "text": "variable"
         },
         "tracegroupgap": 0
        },
        "template": {
         "data": {
          "bar": [
           {
            "error_x": {
             "color": "#f2f5fa"
            },
            "error_y": {
             "color": "#f2f5fa"
            },
            "marker": {
             "line": {
              "color": "rgb(17,17,17)",
              "width": 0.5
             },
             "pattern": {
              "fillmode": "overlay",
              "size": 10,
              "solidity": 0.2
             }
            },
            "type": "bar"
           }
          ],
          "barpolar": [
           {
            "marker": {
             "line": {
              "color": "rgb(17,17,17)",
              "width": 0.5
             },
             "pattern": {
              "fillmode": "overlay",
              "size": 10,
              "solidity": 0.2
             }
            },
            "type": "barpolar"
           }
          ],
          "carpet": [
           {
            "aaxis": {
             "endlinecolor": "#A2B1C6",
             "gridcolor": "#506784",
             "linecolor": "#506784",
             "minorgridcolor": "#506784",
             "startlinecolor": "#A2B1C6"
            },
            "baxis": {
             "endlinecolor": "#A2B1C6",
             "gridcolor": "#506784",
             "linecolor": "#506784",
             "minorgridcolor": "#506784",
             "startlinecolor": "#A2B1C6"
            },
            "type": "carpet"
           }
          ],
          "choropleth": [
           {
            "colorbar": {
             "outlinewidth": 0,
             "ticks": ""
            },
            "type": "choropleth"
           }
          ],
          "contour": [
           {
            "colorbar": {
             "outlinewidth": 0,
             "ticks": ""
            },
            "colorscale": [
             [
              0,
              "#0d0887"
             ],
             [
              0.1111111111111111,
              "#46039f"
             ],
             [
              0.2222222222222222,
              "#7201a8"
             ],
             [
              0.3333333333333333,
              "#9c179e"
             ],
             [
              0.4444444444444444,
              "#bd3786"
             ],
             [
              0.5555555555555556,
              "#d8576b"
             ],
             [
              0.6666666666666666,
              "#ed7953"
             ],
             [
              0.7777777777777778,
              "#fb9f3a"
             ],
             [
              0.8888888888888888,
              "#fdca26"
             ],
             [
              1,
              "#f0f921"
             ]
            ],
            "type": "contour"
           }
          ],
          "contourcarpet": [
           {
            "colorbar": {
             "outlinewidth": 0,
             "ticks": ""
            },
            "type": "contourcarpet"
           }
          ],
          "heatmap": [
           {
            "colorbar": {
             "outlinewidth": 0,
             "ticks": ""
            },
            "colorscale": [
             [
              0,
              "#0d0887"
             ],
             [
              0.1111111111111111,
              "#46039f"
             ],
             [
              0.2222222222222222,
              "#7201a8"
             ],
             [
              0.3333333333333333,
              "#9c179e"
             ],
             [
              0.4444444444444444,
              "#bd3786"
             ],
             [
              0.5555555555555556,
              "#d8576b"
             ],
             [
              0.6666666666666666,
              "#ed7953"
             ],
             [
              0.7777777777777778,
              "#fb9f3a"
             ],
             [
              0.8888888888888888,
              "#fdca26"
             ],
             [
              1,
              "#f0f921"
             ]
            ],
            "type": "heatmap"
           }
          ],
          "heatmapgl": [
           {
            "colorbar": {
             "outlinewidth": 0,
             "ticks": ""
            },
            "colorscale": [
             [
              0,
              "#0d0887"
             ],
             [
              0.1111111111111111,
              "#46039f"
             ],
             [
              0.2222222222222222,
              "#7201a8"
             ],
             [
              0.3333333333333333,
              "#9c179e"
             ],
             [
              0.4444444444444444,
              "#bd3786"
             ],
             [
              0.5555555555555556,
              "#d8576b"
             ],
             [
              0.6666666666666666,
              "#ed7953"
             ],
             [
              0.7777777777777778,
              "#fb9f3a"
             ],
             [
              0.8888888888888888,
              "#fdca26"
             ],
             [
              1,
              "#f0f921"
             ]
            ],
            "type": "heatmapgl"
           }
          ],
          "histogram": [
           {
            "marker": {
             "pattern": {
              "fillmode": "overlay",
              "size": 10,
              "solidity": 0.2
             }
            },
            "type": "histogram"
           }
          ],
          "histogram2d": [
           {
            "colorbar": {
             "outlinewidth": 0,
             "ticks": ""
            },
            "colorscale": [
             [
              0,
              "#0d0887"
             ],
             [
              0.1111111111111111,
              "#46039f"
             ],
             [
              0.2222222222222222,
              "#7201a8"
             ],
             [
              0.3333333333333333,
              "#9c179e"
             ],
             [
              0.4444444444444444,
              "#bd3786"
             ],
             [
              0.5555555555555556,
              "#d8576b"
             ],
             [
              0.6666666666666666,
              "#ed7953"
             ],
             [
              0.7777777777777778,
              "#fb9f3a"
             ],
             [
              0.8888888888888888,
              "#fdca26"
             ],
             [
              1,
              "#f0f921"
             ]
            ],
            "type": "histogram2d"
           }
          ],
          "histogram2dcontour": [
           {
            "colorbar": {
             "outlinewidth": 0,
             "ticks": ""
            },
            "colorscale": [
             [
              0,
              "#0d0887"
             ],
             [
              0.1111111111111111,
              "#46039f"
             ],
             [
              0.2222222222222222,
              "#7201a8"
             ],
             [
              0.3333333333333333,
              "#9c179e"
             ],
             [
              0.4444444444444444,
              "#bd3786"
             ],
             [
              0.5555555555555556,
              "#d8576b"
             ],
             [
              0.6666666666666666,
              "#ed7953"
             ],
             [
              0.7777777777777778,
              "#fb9f3a"
             ],
             [
              0.8888888888888888,
              "#fdca26"
             ],
             [
              1,
              "#f0f921"
             ]
            ],
            "type": "histogram2dcontour"
           }
          ],
          "mesh3d": [
           {
            "colorbar": {
             "outlinewidth": 0,
             "ticks": ""
            },
            "type": "mesh3d"
           }
          ],
          "parcoords": [
           {
            "line": {
             "colorbar": {
              "outlinewidth": 0,
              "ticks": ""
             }
            },
            "type": "parcoords"
           }
          ],
          "pie": [
           {
            "automargin": true,
            "type": "pie"
           }
          ],
          "scatter": [
           {
            "marker": {
             "line": {
              "color": "#283442"
             }
            },
            "type": "scatter"
           }
          ],
          "scatter3d": [
           {
            "line": {
             "colorbar": {
              "outlinewidth": 0,
              "ticks": ""
             }
            },
            "marker": {
             "colorbar": {
              "outlinewidth": 0,
              "ticks": ""
             }
            },
            "type": "scatter3d"
           }
          ],
          "scattercarpet": [
           {
            "marker": {
             "colorbar": {
              "outlinewidth": 0,
              "ticks": ""
             }
            },
            "type": "scattercarpet"
           }
          ],
          "scattergeo": [
           {
            "marker": {
             "colorbar": {
              "outlinewidth": 0,
              "ticks": ""
             }
            },
            "type": "scattergeo"
           }
          ],
          "scattergl": [
           {
            "marker": {
             "line": {
              "color": "#283442"
             }
            },
            "type": "scattergl"
           }
          ],
          "scattermapbox": [
           {
            "marker": {
             "colorbar": {
              "outlinewidth": 0,
              "ticks": ""
             }
            },
            "type": "scattermapbox"
           }
          ],
          "scatterpolar": [
           {
            "marker": {
             "colorbar": {
              "outlinewidth": 0,
              "ticks": ""
             }
            },
            "type": "scatterpolar"
           }
          ],
          "scatterpolargl": [
           {
            "marker": {
             "colorbar": {
              "outlinewidth": 0,
              "ticks": ""
             }
            },
            "type": "scatterpolargl"
           }
          ],
          "scatterternary": [
           {
            "marker": {
             "colorbar": {
              "outlinewidth": 0,
              "ticks": ""
             }
            },
            "type": "scatterternary"
           }
          ],
          "surface": [
           {
            "colorbar": {
             "outlinewidth": 0,
             "ticks": ""
            },
            "colorscale": [
             [
              0,
              "#0d0887"
             ],
             [
              0.1111111111111111,
              "#46039f"
             ],
             [
              0.2222222222222222,
              "#7201a8"
             ],
             [
              0.3333333333333333,
              "#9c179e"
             ],
             [
              0.4444444444444444,
              "#bd3786"
             ],
             [
              0.5555555555555556,
              "#d8576b"
             ],
             [
              0.6666666666666666,
              "#ed7953"
             ],
             [
              0.7777777777777778,
              "#fb9f3a"
             ],
             [
              0.8888888888888888,
              "#fdca26"
             ],
             [
              1,
              "#f0f921"
             ]
            ],
            "type": "surface"
           }
          ],
          "table": [
           {
            "cells": {
             "fill": {
              "color": "#506784"
             },
             "line": {
              "color": "rgb(17,17,17)"
             }
            },
            "header": {
             "fill": {
              "color": "#2a3f5f"
             },
             "line": {
              "color": "rgb(17,17,17)"
             }
            },
            "type": "table"
           }
          ]
         },
         "layout": {
          "annotationdefaults": {
           "arrowcolor": "#f2f5fa",
           "arrowhead": 0,
           "arrowwidth": 1
          },
          "autotypenumbers": "strict",
          "coloraxis": {
           "colorbar": {
            "outlinewidth": 0,
            "ticks": ""
           }
          },
          "colorscale": {
           "diverging": [
            [
             0,
             "#8e0152"
            ],
            [
             0.1,
             "#c51b7d"
            ],
            [
             0.2,
             "#de77ae"
            ],
            [
             0.3,
             "#f1b6da"
            ],
            [
             0.4,
             "#fde0ef"
            ],
            [
             0.5,
             "#f7f7f7"
            ],
            [
             0.6,
             "#e6f5d0"
            ],
            [
             0.7,
             "#b8e186"
            ],
            [
             0.8,
             "#7fbc41"
            ],
            [
             0.9,
             "#4d9221"
            ],
            [
             1,
             "#276419"
            ]
           ],
           "sequential": [
            [
             0,
             "#0d0887"
            ],
            [
             0.1111111111111111,
             "#46039f"
            ],
            [
             0.2222222222222222,
             "#7201a8"
            ],
            [
             0.3333333333333333,
             "#9c179e"
            ],
            [
             0.4444444444444444,
             "#bd3786"
            ],
            [
             0.5555555555555556,
             "#d8576b"
            ],
            [
             0.6666666666666666,
             "#ed7953"
            ],
            [
             0.7777777777777778,
             "#fb9f3a"
            ],
            [
             0.8888888888888888,
             "#fdca26"
            ],
            [
             1,
             "#f0f921"
            ]
           ],
           "sequentialminus": [
            [
             0,
             "#0d0887"
            ],
            [
             0.1111111111111111,
             "#46039f"
            ],
            [
             0.2222222222222222,
             "#7201a8"
            ],
            [
             0.3333333333333333,
             "#9c179e"
            ],
            [
             0.4444444444444444,
             "#bd3786"
            ],
            [
             0.5555555555555556,
             "#d8576b"
            ],
            [
             0.6666666666666666,
             "#ed7953"
            ],
            [
             0.7777777777777778,
             "#fb9f3a"
            ],
            [
             0.8888888888888888,
             "#fdca26"
            ],
            [
             1,
             "#f0f921"
            ]
           ]
          },
          "colorway": [
           "#636efa",
           "#EF553B",
           "#00cc96",
           "#ab63fa",
           "#FFA15A",
           "#19d3f3",
           "#FF6692",
           "#B6E880",
           "#FF97FF",
           "#FECB52"
          ],
          "font": {
           "color": "#f2f5fa"
          },
          "geo": {
           "bgcolor": "rgb(17,17,17)",
           "lakecolor": "rgb(17,17,17)",
           "landcolor": "rgb(17,17,17)",
           "showlakes": true,
           "showland": true,
           "subunitcolor": "#506784"
          },
          "hoverlabel": {
           "align": "left"
          },
          "hovermode": "closest",
          "mapbox": {
           "style": "dark"
          },
          "paper_bgcolor": "rgb(17,17,17)",
          "plot_bgcolor": "rgb(17,17,17)",
          "polar": {
           "angularaxis": {
            "gridcolor": "#506784",
            "linecolor": "#506784",
            "ticks": ""
           },
           "bgcolor": "rgb(17,17,17)",
           "radialaxis": {
            "gridcolor": "#506784",
            "linecolor": "#506784",
            "ticks": ""
           }
          },
          "scene": {
           "xaxis": {
            "backgroundcolor": "rgb(17,17,17)",
            "gridcolor": "#506784",
            "gridwidth": 2,
            "linecolor": "#506784",
            "showbackground": true,
            "ticks": "",
            "zerolinecolor": "#C8D4E3"
           },
           "yaxis": {
            "backgroundcolor": "rgb(17,17,17)",
            "gridcolor": "#506784",
            "gridwidth": 2,
            "linecolor": "#506784",
            "showbackground": true,
            "ticks": "",
            "zerolinecolor": "#C8D4E3"
           },
           "zaxis": {
            "backgroundcolor": "rgb(17,17,17)",
            "gridcolor": "#506784",
            "gridwidth": 2,
            "linecolor": "#506784",
            "showbackground": true,
            "ticks": "",
            "zerolinecolor": "#C8D4E3"
           }
          },
          "shapedefaults": {
           "line": {
            "color": "#f2f5fa"
           }
          },
          "sliderdefaults": {
           "bgcolor": "#C8D4E3",
           "bordercolor": "rgb(17,17,17)",
           "borderwidth": 1,
           "tickwidth": 0
          },
          "ternary": {
           "aaxis": {
            "gridcolor": "#506784",
            "linecolor": "#506784",
            "ticks": ""
           },
           "baxis": {
            "gridcolor": "#506784",
            "linecolor": "#506784",
            "ticks": ""
           },
           "bgcolor": "rgb(17,17,17)",
           "caxis": {
            "gridcolor": "#506784",
            "linecolor": "#506784",
            "ticks": ""
           }
          },
          "title": {
           "x": 0.05
          },
          "updatemenudefaults": {
           "bgcolor": "#506784",
           "borderwidth": 0
          },
          "xaxis": {
           "automargin": true,
           "gridcolor": "#283442",
           "linecolor": "#506784",
           "ticks": "",
           "title": {
            "standoff": 15
           },
           "zerolinecolor": "#283442",
           "zerolinewidth": 2
          },
          "yaxis": {
           "automargin": true,
           "gridcolor": "#283442",
           "linecolor": "#506784",
           "ticks": "",
           "title": {
            "standoff": 15
           },
           "zerolinecolor": "#283442",
           "zerolinewidth": 2
          }
         }
        },
        "title": {
         "text": "Aeropuertos más concurridos en 2016"
        },
        "xaxis": {
         "anchor": "y",
         "domain": [
          0,
          1
         ],
         "title": {
          "text": "value"
         }
        },
        "yaxis": {
         "anchor": "x",
         "domain": [
          0,
          1
         ],
         "title": {
          "text": "Airport"
         }
        }
       }
      }
     },
     "metadata": {},
     "output_type": "display_data"
    }
   ],
   "source": [
    "px.bar(top10_aropuertos, x=[\"Passengers2016\", \"Passengers2015\"], y=\"Airport\", title=\"Aeropuertos más concurridos en 2016\", template=\"plotly_dark\", text_auto=True, color_discrete_sequence=[\"#9467bd\", \"#bcbd22\"])"
   ]
  },
  {
   "cell_type": "code",
   "execution_count": 72,
   "metadata": {},
   "outputs": [],
   "source": [
    "fig=px.bar(top10_aropuertos, x=[\"Passengers2016\", \"Passengers2015\"], y=\"Airport\", title=\"Aeropuertos más concurridos en 2016\", template=\"plotly_dark\", text_auto=True, color_discrete_sequence=[\"#9467bd\", \"#bcbd22\"])\n",
    "fig.write_html(\"Aeropuertos más concurridos en 2016.html\")"
   ]
  },
  {
   "cell_type": "markdown",
   "metadata": {},
   "source": [
    "2.10- Elabora un gráfico de líneas para mostrar la tendencia del número de pasajeros desde el aeropuerto más concurrido hasta el menos concurrido en 2016."
   ]
  },
  {
   "cell_type": "code",
   "execution_count": 33,
   "metadata": {},
   "outputs": [
    {
     "data": {
      "text/html": [
       "<div>\n",
       "<style scoped>\n",
       "    .dataframe tbody tr th:only-of-type {\n",
       "        vertical-align: middle;\n",
       "    }\n",
       "\n",
       "    .dataframe tbody tr th {\n",
       "        vertical-align: top;\n",
       "    }\n",
       "\n",
       "    .dataframe thead th {\n",
       "        text-align: right;\n",
       "    }\n",
       "</style>\n",
       "<table border=\"1\" class=\"dataframe\">\n",
       "  <thead>\n",
       "    <tr style=\"text-align: right;\">\n",
       "      <th></th>\n",
       "      <th>Rank2016</th>\n",
       "      <th>Airport</th>\n",
       "      <th>City served</th>\n",
       "      <th>Country</th>\n",
       "      <th>Passengers2016</th>\n",
       "      <th>Passengers2015</th>\n",
       "      <th>Change 2016-2015-Num</th>\n",
       "      <th>Change 2016-2015-%</th>\n",
       "    </tr>\n",
       "  </thead>\n",
       "  <tbody>\n",
       "    <tr>\n",
       "      <th>0</th>\n",
       "      <td>1</td>\n",
       "      <td>Heathrow Airport</td>\n",
       "      <td>London</td>\n",
       "      <td>United Kingdom</td>\n",
       "      <td>75711130</td>\n",
       "      <td>74985475</td>\n",
       "      <td>725655</td>\n",
       "      <td>0.97</td>\n",
       "    </tr>\n",
       "    <tr>\n",
       "      <th>1</th>\n",
       "      <td>2</td>\n",
       "      <td>Charles de Gaulle Airport</td>\n",
       "      <td>Paris</td>\n",
       "      <td>France</td>\n",
       "      <td>65933145</td>\n",
       "      <td>65766986</td>\n",
       "      <td>166159</td>\n",
       "      <td>0.25</td>\n",
       "    </tr>\n",
       "    <tr>\n",
       "      <th>2</th>\n",
       "      <td>3</td>\n",
       "      <td>Amsterdam Airport Schiphol</td>\n",
       "      <td>Amsterdam</td>\n",
       "      <td>Netherlands</td>\n",
       "      <td>63625664</td>\n",
       "      <td>58284848</td>\n",
       "      <td>5340816</td>\n",
       "      <td>9.16</td>\n",
       "    </tr>\n",
       "    <tr>\n",
       "      <th>3</th>\n",
       "      <td>4</td>\n",
       "      <td>Frankfurt Airport</td>\n",
       "      <td>Frankfurt</td>\n",
       "      <td>Germany</td>\n",
       "      <td>60786937</td>\n",
       "      <td>61032022</td>\n",
       "      <td>-245085</td>\n",
       "      <td>-0.40</td>\n",
       "    </tr>\n",
       "    <tr>\n",
       "      <th>4</th>\n",
       "      <td>5</td>\n",
       "      <td>Istanbul Atatürk Airport</td>\n",
       "      <td>Istanbul</td>\n",
       "      <td>Turkey</td>\n",
       "      <td>60415470</td>\n",
       "      <td>61322729</td>\n",
       "      <td>-907259</td>\n",
       "      <td>-1.48</td>\n",
       "    </tr>\n",
       "    <tr>\n",
       "      <th>...</th>\n",
       "      <td>...</td>\n",
       "      <td>...</td>\n",
       "      <td>...</td>\n",
       "      <td>...</td>\n",
       "      <td>...</td>\n",
       "      <td>...</td>\n",
       "      <td>...</td>\n",
       "      <td>...</td>\n",
       "    </tr>\n",
       "    <tr>\n",
       "      <th>95</th>\n",
       "      <td>96</td>\n",
       "      <td>Turin Airport</td>\n",
       "      <td>Turin</td>\n",
       "      <td>Italy</td>\n",
       "      <td>3943298</td>\n",
       "      <td>3659312</td>\n",
       "      <td>283986</td>\n",
       "      <td>7.76</td>\n",
       "    </tr>\n",
       "    <tr>\n",
       "      <th>96</th>\n",
       "      <td>97</td>\n",
       "      <td>Vilnius Airport</td>\n",
       "      <td>Vilnius</td>\n",
       "      <td>Lithuania</td>\n",
       "      <td>3934891</td>\n",
       "      <td>3814001</td>\n",
       "      <td>120890</td>\n",
       "      <td>3.17</td>\n",
       "    </tr>\n",
       "    <tr>\n",
       "      <th>97</th>\n",
       "      <td>98</td>\n",
       "      <td>Cagliari Airport</td>\n",
       "      <td>Cagliari</td>\n",
       "      <td>Italy</td>\n",
       "      <td>3689747</td>\n",
       "      <td>3714174</td>\n",
       "      <td>-24427</td>\n",
       "      <td>-0.66</td>\n",
       "    </tr>\n",
       "    <tr>\n",
       "      <th>98</th>\n",
       "      <td>99</td>\n",
       "      <td>Leeds Bradford Airport</td>\n",
       "      <td>Leeds</td>\n",
       "      <td>United Kingdom</td>\n",
       "      <td>3612061</td>\n",
       "      <td>3446831</td>\n",
       "      <td>165230</td>\n",
       "      <td>4.79</td>\n",
       "    </tr>\n",
       "    <tr>\n",
       "      <th>99</th>\n",
       "      <td>100</td>\n",
       "      <td>Nuremberg Airport</td>\n",
       "      <td>Nuremberg</td>\n",
       "      <td>Germany</td>\n",
       "      <td>3485372</td>\n",
       "      <td>3381681</td>\n",
       "      <td>103691</td>\n",
       "      <td>3.07</td>\n",
       "    </tr>\n",
       "  </tbody>\n",
       "</table>\n",
       "<p>100 rows × 8 columns</p>\n",
       "</div>"
      ],
      "text/plain": [
       "    Rank2016                     Airport City served         Country  \\\n",
       "0          1            Heathrow Airport      London  United Kingdom   \n",
       "1          2   Charles de Gaulle Airport       Paris          France   \n",
       "2          3  Amsterdam Airport Schiphol   Amsterdam     Netherlands   \n",
       "3          4           Frankfurt Airport   Frankfurt         Germany   \n",
       "4          5    Istanbul Atatürk Airport    Istanbul          Turkey   \n",
       "..       ...                         ...         ...             ...   \n",
       "95        96               Turin Airport       Turin           Italy   \n",
       "96        97             Vilnius Airport     Vilnius       Lithuania   \n",
       "97        98            Cagliari Airport    Cagliari           Italy   \n",
       "98        99      Leeds Bradford Airport       Leeds  United Kingdom   \n",
       "99       100           Nuremberg Airport   Nuremberg         Germany   \n",
       "\n",
       "    Passengers2016  Passengers2015  Change 2016-2015-Num  Change 2016-2015-%  \n",
       "0         75711130        74985475                725655                0.97  \n",
       "1         65933145        65766986                166159                0.25  \n",
       "2         63625664        58284848               5340816                9.16  \n",
       "3         60786937        61032022               -245085               -0.40  \n",
       "4         60415470        61322729               -907259               -1.48  \n",
       "..             ...             ...                   ...                 ...  \n",
       "95         3943298         3659312                283986                7.76  \n",
       "96         3934891         3814001                120890                3.17  \n",
       "97         3689747         3714174                -24427               -0.66  \n",
       "98         3612061         3446831                165230                4.79  \n",
       "99         3485372         3381681                103691                3.07  \n",
       "\n",
       "[100 rows x 8 columns]"
      ]
     },
     "execution_count": 33,
     "metadata": {},
     "output_type": "execute_result"
    }
   ],
   "source": [
    "concurrencia_ordenada= df.sort_values(\"Passengers2016\", ascending=False)\n",
    "concurrencia_ordenada"
   ]
  },
  {
   "cell_type": "code",
   "execution_count": 74,
   "metadata": {},
   "outputs": [
    {
     "data": {
      "application/vnd.plotly.v1+json": {
       "config": {
        "plotlyServerURL": "https://plot.ly"
       },
       "data": [
        {
         "hovertemplate": "Airport=%{x}<br>Passengers2016=%{y}<extra></extra>",
         "legendgroup": "Heathrow Airport",
         "line": {
          "color": "#636efa",
          "dash": "solid"
         },
         "marker": {
          "symbol": "circle"
         },
         "mode": "lines+markers",
         "name": "Heathrow Airport",
         "orientation": "v",
         "showlegend": true,
         "type": "scatter",
         "x": [
          "Heathrow Airport"
         ],
         "xaxis": "x",
         "y": [
          75711130
         ],
         "yaxis": "y"
        },
        {
         "hovertemplate": "Airport=%{x}<br>Passengers2016=%{y}<extra></extra>",
         "legendgroup": "Charles de Gaulle Airport",
         "line": {
          "color": "#EF553B",
          "dash": "solid"
         },
         "marker": {
          "symbol": "circle"
         },
         "mode": "lines+markers",
         "name": "Charles de Gaulle Airport",
         "orientation": "v",
         "showlegend": true,
         "type": "scatter",
         "x": [
          "Charles de Gaulle Airport"
         ],
         "xaxis": "x",
         "y": [
          65933145
         ],
         "yaxis": "y"
        },
        {
         "hovertemplate": "Airport=%{x}<br>Passengers2016=%{y}<extra></extra>",
         "legendgroup": "Amsterdam Airport Schiphol",
         "line": {
          "color": "#00cc96",
          "dash": "solid"
         },
         "marker": {
          "symbol": "circle"
         },
         "mode": "lines+markers",
         "name": "Amsterdam Airport Schiphol",
         "orientation": "v",
         "showlegend": true,
         "type": "scatter",
         "x": [
          "Amsterdam Airport Schiphol"
         ],
         "xaxis": "x",
         "y": [
          63625664
         ],
         "yaxis": "y"
        },
        {
         "hovertemplate": "Airport=%{x}<br>Passengers2016=%{y}<extra></extra>",
         "legendgroup": "Frankfurt Airport",
         "line": {
          "color": "#ab63fa",
          "dash": "solid"
         },
         "marker": {
          "symbol": "circle"
         },
         "mode": "lines+markers",
         "name": "Frankfurt Airport",
         "orientation": "v",
         "showlegend": true,
         "type": "scatter",
         "x": [
          "Frankfurt Airport"
         ],
         "xaxis": "x",
         "y": [
          60786937
         ],
         "yaxis": "y"
        },
        {
         "hovertemplate": "Airport=%{x}<br>Passengers2016=%{y}<extra></extra>",
         "legendgroup": "Istanbul Atatürk Airport",
         "line": {
          "color": "#FFA15A",
          "dash": "solid"
         },
         "marker": {
          "symbol": "circle"
         },
         "mode": "lines+markers",
         "name": "Istanbul Atatürk Airport",
         "orientation": "v",
         "showlegend": true,
         "type": "scatter",
         "x": [
          "Istanbul Atatürk Airport"
         ],
         "xaxis": "x",
         "y": [
          60415470
         ],
         "yaxis": "y"
        },
        {
         "hovertemplate": "Airport=%{x}<br>Passengers2016=%{y}<extra></extra>",
         "legendgroup": "Adolfo Suárez Madrid–Barajas Airport",
         "line": {
          "color": "#19d3f3",
          "dash": "solid"
         },
         "marker": {
          "symbol": "circle"
         },
         "mode": "lines+markers",
         "name": "Adolfo Suárez Madrid–Barajas Airport",
         "orientation": "v",
         "showlegend": true,
         "type": "scatter",
         "x": [
          "Adolfo Suárez Madrid–Barajas Airport"
         ],
         "xaxis": "x",
         "y": [
          50420583
         ],
         "yaxis": "y"
        },
        {
         "hovertemplate": "Airport=%{x}<br>Passengers2016=%{y}<extra></extra>",
         "legendgroup": "Barcelona–El Prat Josep Tarradellas Airport",
         "line": {
          "color": "#FF6692",
          "dash": "solid"
         },
         "marker": {
          "symbol": "circle"
         },
         "mode": "lines+markers",
         "name": "Barcelona–El Prat Josep Tarradellas Airport",
         "orientation": "v",
         "showlegend": true,
         "type": "scatter",
         "x": [
          "Barcelona–El Prat Josep Tarradellas Airport"
         ],
         "xaxis": "x",
         "y": [
          44154693
         ],
         "yaxis": "y"
        },
        {
         "hovertemplate": "Airport=%{x}<br>Passengers2016=%{y}<extra></extra>",
         "legendgroup": "Gatwick Airport",
         "line": {
          "color": "#B6E880",
          "dash": "solid"
         },
         "marker": {
          "symbol": "circle"
         },
         "mode": "lines+markers",
         "name": "Gatwick Airport",
         "orientation": "v",
         "showlegend": true,
         "type": "scatter",
         "x": [
          "Gatwick Airport"
         ],
         "xaxis": "x",
         "y": [
          43119628
         ],
         "yaxis": "y"
        },
        {
         "hovertemplate": "Airport=%{x}<br>Passengers2016=%{y}<extra></extra>",
         "legendgroup": "Munich Airport",
         "line": {
          "color": "#FF97FF",
          "dash": "solid"
         },
         "marker": {
          "symbol": "circle"
         },
         "mode": "lines+markers",
         "name": "Munich Airport",
         "orientation": "v",
         "showlegend": true,
         "type": "scatter",
         "x": [
          "Munich Airport"
         ],
         "xaxis": "x",
         "y": [
          42261309
         ],
         "yaxis": "y"
        },
        {
         "hovertemplate": "Airport=%{x}<br>Passengers2016=%{y}<extra></extra>",
         "legendgroup": "Leonardo da Vinci–Fiumicino Airport",
         "line": {
          "color": "#FECB52",
          "dash": "solid"
         },
         "marker": {
          "symbol": "circle"
         },
         "mode": "lines+markers",
         "name": "Leonardo da Vinci–Fiumicino Airport",
         "orientation": "v",
         "showlegend": true,
         "type": "scatter",
         "x": [
          "Leonardo da Vinci–Fiumicino Airport"
         ],
         "xaxis": "x",
         "y": [
          41744769
         ],
         "yaxis": "y"
        },
        {
         "hovertemplate": "Airport=%{x}<br>Passengers2016=%{y}<extra></extra>",
         "legendgroup": "Sheremetyevo International Airport",
         "line": {
          "color": "#636efa",
          "dash": "solid"
         },
         "marker": {
          "symbol": "circle"
         },
         "mode": "lines+markers",
         "name": "Sheremetyevo International Airport",
         "orientation": "v",
         "showlegend": true,
         "type": "scatter",
         "x": [
          "Sheremetyevo International Airport"
         ],
         "xaxis": "x",
         "y": [
          33679052
         ],
         "yaxis": "y"
        },
        {
         "hovertemplate": "Airport=%{x}<br>Passengers2016=%{y}<extra></extra>",
         "legendgroup": "Orly Airport",
         "line": {
          "color": "#EF553B",
          "dash": "solid"
         },
         "marker": {
          "symbol": "circle"
         },
         "mode": "lines+markers",
         "name": "Orly Airport",
         "orientation": "v",
         "showlegend": true,
         "type": "scatter",
         "x": [
          "Orly Airport"
         ],
         "xaxis": "x",
         "y": [
          31237865
         ],
         "yaxis": "y"
        },
        {
         "hovertemplate": "Airport=%{x}<br>Passengers2016=%{y}<extra></extra>",
         "legendgroup": "Copenhagen Airport",
         "line": {
          "color": "#00cc96",
          "dash": "solid"
         },
         "marker": {
          "symbol": "circle"
         },
         "mode": "lines+markers",
         "name": "Copenhagen Airport",
         "orientation": "v",
         "showlegend": true,
         "type": "scatter",
         "x": [
          "Copenhagen Airport"
         ],
         "xaxis": "x",
         "y": [
          29043287
         ],
         "yaxis": "y"
        },
        {
         "hovertemplate": "Airport=%{x}<br>Passengers2016=%{y}<extra></extra>",
         "legendgroup": "Domodedovo International Airport",
         "line": {
          "color": "#ab63fa",
          "dash": "solid"
         },
         "marker": {
          "symbol": "circle"
         },
         "mode": "lines+markers",
         "name": "Domodedovo International Airport",
         "orientation": "v",
         "showlegend": true,
         "type": "scatter",
         "x": [
          "Domodedovo International Airport"
         ],
         "xaxis": "x",
         "y": [
          28500259
         ],
         "yaxis": "y"
        },
        {
         "hovertemplate": "Airport=%{x}<br>Passengers2016=%{y}<extra></extra>",
         "legendgroup": "Dublin Airport",
         "line": {
          "color": "#FFA15A",
          "dash": "solid"
         },
         "marker": {
          "symbol": "circle"
         },
         "mode": "lines+markers",
         "name": "Dublin Airport",
         "orientation": "v",
         "showlegend": true,
         "type": "scatter",
         "x": [
          "Dublin Airport"
         ],
         "xaxis": "x",
         "y": [
          27907384
         ],
         "yaxis": "y"
        },
        {
         "hovertemplate": "Airport=%{x}<br>Passengers2016=%{y}<extra></extra>",
         "legendgroup": "Zurich Airport",
         "line": {
          "color": "#19d3f3",
          "dash": "solid"
         },
         "marker": {
          "symbol": "circle"
         },
         "mode": "lines+markers",
         "name": "Zurich Airport",
         "orientation": "v",
         "showlegend": true,
         "type": "scatter",
         "x": [
          "Zurich Airport"
         ],
         "xaxis": "x",
         "y": [
          27666428
         ],
         "yaxis": "y"
        },
        {
         "hovertemplate": "Airport=%{x}<br>Passengers2016=%{y}<extra></extra>",
         "legendgroup": "Palma de Mallorca Airport",
         "line": {
          "color": "#FF6692",
          "dash": "solid"
         },
         "marker": {
          "symbol": "circle"
         },
         "mode": "lines+markers",
         "name": "Palma de Mallorca Airport",
         "orientation": "v",
         "showlegend": true,
         "type": "scatter",
         "x": [
          "Palma de Mallorca Airport"
         ],
         "xaxis": "x",
         "y": [
          26253882
         ],
         "yaxis": "y"
        },
        {
         "hovertemplate": "Airport=%{x}<br>Passengers2016=%{y}<extra></extra>",
         "legendgroup": "Oslo Airport",
         "line": {
          "color": "#B6E880",
          "dash": "solid"
         },
         "marker": {
          "symbol": "circle"
         },
         "mode": "lines+markers",
         "name": "Oslo Airport",
         "orientation": "v",
         "showlegend": true,
         "type": "scatter",
         "x": [
          "Oslo Airport"
         ],
         "xaxis": "x",
         "y": [
          25787691
         ],
         "yaxis": "y"
        },
        {
         "hovertemplate": "Airport=%{x}<br>Passengers2016=%{y}<extra></extra>",
         "legendgroup": "Manchester Airport",
         "line": {
          "color": "#FF97FF",
          "dash": "solid"
         },
         "marker": {
          "symbol": "circle"
         },
         "mode": "lines+markers",
         "name": "Manchester Airport",
         "orientation": "v",
         "showlegend": true,
         "type": "scatter",
         "x": [
          "Manchester Airport"
         ],
         "xaxis": "x",
         "y": [
          25637054
         ],
         "yaxis": "y"
        },
        {
         "hovertemplate": "Airport=%{x}<br>Passengers2016=%{y}<extra></extra>",
         "legendgroup": "Stockholm Arlanda Airport",
         "line": {
          "color": "#FECB52",
          "dash": "solid"
         },
         "marker": {
          "symbol": "circle"
         },
         "mode": "lines+markers",
         "name": "Stockholm Arlanda Airport",
         "orientation": "v",
         "showlegend": true,
         "type": "scatter",
         "x": [
          "Stockholm Arlanda Airport"
         ],
         "xaxis": "x",
         "y": [
          24682466
         ],
         "yaxis": "y"
        },
        {
         "hovertemplate": "Airport=%{x}<br>Passengers2016=%{y}<extra></extra>",
         "legendgroup": "London Stansted Airport",
         "line": {
          "color": "#636efa",
          "dash": "solid"
         },
         "marker": {
          "symbol": "circle"
         },
         "mode": "lines+markers",
         "name": "London Stansted Airport",
         "orientation": "v",
         "showlegend": true,
         "type": "scatter",
         "x": [
          "London Stansted Airport"
         ],
         "xaxis": "x",
         "y": [
          24320071
         ],
         "yaxis": "y"
        },
        {
         "hovertemplate": "Airport=%{x}<br>Passengers2016=%{y}<extra></extra>",
         "legendgroup": "Düsseldorf Airport",
         "line": {
          "color": "#EF553B",
          "dash": "solid"
         },
         "marker": {
          "symbol": "circle"
         },
         "mode": "lines+markers",
         "name": "Düsseldorf Airport",
         "orientation": "v",
         "showlegend": true,
         "type": "scatter",
         "x": [
          "Düsseldorf Airport"
         ],
         "xaxis": "x",
         "y": [
          23521919
         ],
         "yaxis": "y"
        },
        {
         "hovertemplate": "Airport=%{x}<br>Passengers2016=%{y}<extra></extra>",
         "legendgroup": "Vienna International Airport",
         "line": {
          "color": "#00cc96",
          "dash": "solid"
         },
         "marker": {
          "symbol": "circle"
         },
         "mode": "lines+markers",
         "name": "Vienna International Airport",
         "orientation": "v",
         "showlegend": true,
         "type": "scatter",
         "x": [
          "Vienna International Airport"
         ],
         "xaxis": "x",
         "y": [
          23352016
         ],
         "yaxis": "y"
        },
        {
         "hovertemplate": "Airport=%{x}<br>Passengers2016=%{y}<extra></extra>",
         "legendgroup": "Lisbon Airport",
         "line": {
          "color": "#ab63fa",
          "dash": "solid"
         },
         "marker": {
          "symbol": "circle"
         },
         "mode": "lines+markers",
         "name": "Lisbon Airport",
         "orientation": "v",
         "showlegend": true,
         "type": "scatter",
         "x": [
          "Lisbon Airport"
         ],
         "xaxis": "x",
         "y": [
          22449289
         ],
         "yaxis": "y"
        },
        {
         "hovertemplate": "Airport=%{x}<br>Passengers2016=%{y}<extra></extra>",
         "legendgroup": "Brussels Airport",
         "line": {
          "color": "#FFA15A",
          "dash": "solid"
         },
         "marker": {
          "symbol": "circle"
         },
         "mode": "lines+markers",
         "name": "Brussels Airport",
         "orientation": "v",
         "showlegend": true,
         "type": "scatter",
         "x": [
          "Brussels Airport"
         ],
         "xaxis": "x",
         "y": [
          21818418
         ],
         "yaxis": "y"
        },
        {
         "hovertemplate": "Airport=%{x}<br>Passengers2016=%{y}<extra></extra>",
         "legendgroup": "Berlin Tegel Airport",
         "line": {
          "color": "#19d3f3",
          "dash": "solid"
         },
         "marker": {
          "symbol": "circle"
         },
         "mode": "lines+markers",
         "name": "Berlin Tegel Airport",
         "orientation": "v",
         "showlegend": true,
         "type": "scatter",
         "x": [
          "Berlin Tegel Airport"
         ],
         "xaxis": "x",
         "y": [
          21253959
         ],
         "yaxis": "y"
        },
        {
         "hovertemplate": "Airport=%{x}<br>Passengers2016=%{y}<extra></extra>",
         "legendgroup": "Athens International Airport",
         "line": {
          "color": "#FF6692",
          "dash": "solid"
         },
         "marker": {
          "symbol": "circle"
         },
         "mode": "lines+markers",
         "name": "Athens International Airport",
         "orientation": "v",
         "showlegend": true,
         "type": "scatter",
         "x": [
          "Athens International Airport"
         ],
         "xaxis": "x",
         "y": [
          20017530
         ],
         "yaxis": "y"
        },
        {
         "hovertemplate": "Airport=%{x}<br>Passengers2016=%{y}<extra></extra>",
         "legendgroup": "Malpensa Airport",
         "line": {
          "color": "#B6E880",
          "dash": "solid"
         },
         "marker": {
          "symbol": "circle"
         },
         "mode": "lines+markers",
         "name": "Malpensa Airport",
         "orientation": "v",
         "showlegend": true,
         "type": "scatter",
         "x": [
          "Malpensa Airport"
         ],
         "xaxis": "x",
         "y": [
          19420690
         ],
         "yaxis": "y"
        },
        {
         "hovertemplate": "Airport=%{x}<br>Passengers2016=%{y}<extra></extra>",
         "legendgroup": "Helsinki Airport",
         "line": {
          "color": "#FF97FF",
          "dash": "solid"
         },
         "marker": {
          "symbol": "circle"
         },
         "mode": "lines+markers",
         "name": "Helsinki Airport",
         "orientation": "v",
         "showlegend": true,
         "type": "scatter",
         "x": [
          "Helsinki Airport"
         ],
         "xaxis": "x",
         "y": [
          17184681
         ],
         "yaxis": "y"
        },
        {
         "hovertemplate": "Airport=%{x}<br>Passengers2016=%{y}<extra></extra>",
         "legendgroup": "Málaga Airport",
         "line": {
          "color": "#FECB52",
          "dash": "solid"
         },
         "marker": {
          "symbol": "circle"
         },
         "mode": "lines+markers",
         "name": "Málaga Airport",
         "orientation": "v",
         "showlegend": true,
         "type": "scatter",
         "x": [
          "Málaga Airport"
         ],
         "xaxis": "x",
         "y": [
          16672776
         ],
         "yaxis": "y"
        },
        {
         "hovertemplate": "Airport=%{x}<br>Passengers2016=%{y}<extra></extra>",
         "legendgroup": "Geneva Airport",
         "line": {
          "color": "#636efa",
          "dash": "solid"
         },
         "marker": {
          "symbol": "circle"
         },
         "mode": "lines+markers",
         "name": "Geneva Airport",
         "orientation": "v",
         "showlegend": true,
         "type": "scatter",
         "x": [
          "Geneva Airport"
         ],
         "xaxis": "x",
         "y": [
          16532690
         ],
         "yaxis": "y"
        },
        {
         "hovertemplate": "Airport=%{x}<br>Passengers2016=%{y}<extra></extra>",
         "legendgroup": "Hamburg Airport",
         "line": {
          "color": "#EF553B",
          "dash": "solid"
         },
         "marker": {
          "symbol": "circle"
         },
         "mode": "lines+markers",
         "name": "Hamburg Airport",
         "orientation": "v",
         "showlegend": true,
         "type": "scatter",
         "x": [
          "Hamburg Airport"
         ],
         "xaxis": "x",
         "y": [
          16224154
         ],
         "yaxis": "y"
        },
        {
         "hovertemplate": "Airport=%{x}<br>Passengers2016=%{y}<extra></extra>",
         "legendgroup": "Luton Airport",
         "line": {
          "color": "#00cc96",
          "dash": "solid"
         },
         "marker": {
          "symbol": "circle"
         },
         "mode": "lines+markers",
         "name": "Luton Airport",
         "orientation": "v",
         "showlegend": true,
         "type": "scatter",
         "x": [
          "Luton Airport"
         ],
         "xaxis": "x",
         "y": [
          14551774
         ],
         "yaxis": "y"
        },
        {
         "hovertemplate": "Airport=%{x}<br>Passengers2016=%{y}<extra></extra>",
         "legendgroup": "Vnukovo International Airport",
         "line": {
          "color": "#ab63fa",
          "dash": "solid"
         },
         "marker": {
          "symbol": "circle"
         },
         "mode": "lines+markers",
         "name": "Vnukovo International Airport",
         "orientation": "v",
         "showlegend": true,
         "type": "scatter",
         "x": [
          "Vnukovo International Airport"
         ],
         "xaxis": "x",
         "y": [
          13946688
         ],
         "yaxis": "y"
        },
        {
         "hovertemplate": "Airport=%{x}<br>Passengers2016=%{y}<extra></extra>",
         "legendgroup": "Pulkovo Airport",
         "line": {
          "color": "#FFA15A",
          "dash": "solid"
         },
         "marker": {
          "symbol": "circle"
         },
         "mode": "lines+markers",
         "name": "Pulkovo Airport",
         "orientation": "v",
         "showlegend": true,
         "type": "scatter",
         "x": [
          "Pulkovo Airport"
         ],
         "xaxis": "x",
         "y": [
          13265037
         ],
         "yaxis": "y"
        },
        {
         "hovertemplate": "Airport=%{x}<br>Passengers2016=%{y}<extra></extra>",
         "legendgroup": "Václav Havel Airport Prague",
         "line": {
          "color": "#19d3f3",
          "dash": "solid"
         },
         "marker": {
          "symbol": "circle"
         },
         "mode": "lines+markers",
         "name": "Václav Havel Airport Prague",
         "orientation": "v",
         "showlegend": true,
         "type": "scatter",
         "x": [
          "Václav Havel Airport Prague"
         ],
         "xaxis": "x",
         "y": [
          13074517
         ],
         "yaxis": "y"
        },
        {
         "hovertemplate": "Airport=%{x}<br>Passengers2016=%{y}<extra></extra>",
         "legendgroup": "Warsaw Chopin Airport",
         "line": {
          "color": "#FF6692",
          "dash": "solid"
         },
         "marker": {
          "symbol": "circle"
         },
         "mode": "lines+markers",
         "name": "Warsaw Chopin Airport",
         "orientation": "v",
         "showlegend": true,
         "type": "scatter",
         "x": [
          "Warsaw Chopin Airport"
         ],
         "xaxis": "x",
         "y": [
          12795356
         ],
         "yaxis": "y"
        },
        {
         "hovertemplate": "Airport=%{x}<br>Passengers2016=%{y}<extra></extra>",
         "legendgroup": "Nice Côte d'Azur Airport",
         "line": {
          "color": "#B6E880",
          "dash": "solid"
         },
         "marker": {
          "symbol": "circle"
         },
         "mode": "lines+markers",
         "name": "Nice Côte d'Azur Airport",
         "orientation": "v",
         "showlegend": true,
         "type": "scatter",
         "x": [
          "Nice Côte d'Azur Airport"
         ],
         "xaxis": "x",
         "y": [
          12427427
         ],
         "yaxis": "y"
        },
        {
         "hovertemplate": "Airport=%{x}<br>Passengers2016=%{y}<extra></extra>",
         "legendgroup": "Edinburgh Airport",
         "line": {
          "color": "#FF97FF",
          "dash": "solid"
         },
         "marker": {
          "symbol": "circle"
         },
         "mode": "lines+markers",
         "name": "Edinburgh Airport",
         "orientation": "v",
         "showlegend": true,
         "type": "scatter",
         "x": [
          "Edinburgh Airport"
         ],
         "xaxis": "x",
         "y": [
          12348425
         ],
         "yaxis": "y"
        },
        {
         "hovertemplate": "Airport=%{x}<br>Passengers2016=%{y}<extra></extra>",
         "legendgroup": "Alicante Airport",
         "line": {
          "color": "#FECB52",
          "dash": "solid"
         },
         "marker": {
          "symbol": "circle"
         },
         "mode": "lines+markers",
         "name": "Alicante Airport",
         "orientation": "v",
         "showlegend": true,
         "type": "scatter",
         "x": [
          "Alicante Airport"
         ],
         "xaxis": "x",
         "y": [
          12344945
         ],
         "yaxis": "y"
        },
        {
         "hovertemplate": "Airport=%{x}<br>Passengers2016=%{y}<extra></extra>",
         "legendgroup": "Cologne Bonn Airport",
         "line": {
          "color": "#636efa",
          "dash": "solid"
         },
         "marker": {
          "symbol": "circle"
         },
         "mode": "lines+markers",
         "name": "Cologne Bonn Airport",
         "orientation": "v",
         "showlegend": true,
         "type": "scatter",
         "x": [
          "Cologne Bonn Airport"
         ],
         "xaxis": "x",
         "y": [
          11910138
         ],
         "yaxis": "y"
        },
        {
         "hovertemplate": "Airport=%{x}<br>Passengers2016=%{y}<extra></extra>",
         "legendgroup": "Berlin Schönefeld Airport",
         "line": {
          "color": "#EF553B",
          "dash": "solid"
         },
         "marker": {
          "symbol": "circle"
         },
         "mode": "lines+markers",
         "name": "Berlin Schönefeld Airport",
         "orientation": "v",
         "showlegend": true,
         "type": "scatter",
         "x": [
          "Berlin Schönefeld Airport"
         ],
         "xaxis": "x",
         "y": [
          11652922
         ],
         "yaxis": "y"
        },
        {
         "hovertemplate": "Airport=%{x}<br>Passengers2016=%{y}<extra></extra>",
         "legendgroup": "Birmingham Airport",
         "line": {
          "color": "#00cc96",
          "dash": "solid"
         },
         "marker": {
          "symbol": "circle"
         },
         "mode": "lines+markers",
         "name": "Birmingham Airport",
         "orientation": "v",
         "showlegend": true,
         "type": "scatter",
         "x": [
          "Birmingham Airport"
         ],
         "xaxis": "x",
         "y": [
          11645334
         ],
         "yaxis": "y"
        },
        {
         "hovertemplate": "Airport=%{x}<br>Passengers2016=%{y}<extra></extra>",
         "legendgroup": "Budapest Ferenc Liszt International Airport",
         "line": {
          "color": "#ab63fa",
          "dash": "solid"
         },
         "marker": {
          "symbol": "circle"
         },
         "mode": "lines+markers",
         "name": "Budapest Ferenc Liszt International Airport",
         "orientation": "v",
         "showlegend": true,
         "type": "scatter",
         "x": [
          "Budapest Ferenc Liszt International Airport"
         ],
         "xaxis": "x",
         "y": [
          11441999
         ],
         "yaxis": "y"
        },
        {
         "hovertemplate": "Airport=%{x}<br>Passengers2016=%{y}<extra></extra>",
         "legendgroup": "Orio al Serio International Airport",
         "line": {
          "color": "#FFA15A",
          "dash": "solid"
         },
         "marker": {
          "symbol": "circle"
         },
         "mode": "lines+markers",
         "name": "Orio al Serio International Airport",
         "orientation": "v",
         "showlegend": true,
         "type": "scatter",
         "x": [
          "Orio al Serio International Airport"
         ],
         "xaxis": "x",
         "y": [
          11159631
         ],
         "yaxis": "y"
        },
        {
         "hovertemplate": "Airport=%{x}<br>Passengers2016=%{y}<extra></extra>",
         "legendgroup": "Henri Coandă International Airport",
         "line": {
          "color": "#19d3f3",
          "dash": "solid"
         },
         "marker": {
          "symbol": "circle"
         },
         "mode": "lines+markers",
         "name": "Henri Coandă International Airport",
         "orientation": "v",
         "showlegend": true,
         "type": "scatter",
         "x": [
          "Henri Coandă International Airport"
         ],
         "xaxis": "x",
         "y": [
          10982967
         ],
         "yaxis": "y"
        },
        {
         "hovertemplate": "Airport=%{x}<br>Passengers2016=%{y}<extra></extra>",
         "legendgroup": "Stuttgart Airport",
         "line": {
          "color": "#FF6692",
          "dash": "solid"
         },
         "marker": {
          "symbol": "circle"
         },
         "mode": "lines+markers",
         "name": "Stuttgart Airport",
         "orientation": "v",
         "showlegend": true,
         "type": "scatter",
         "x": [
          "Stuttgart Airport"
         ],
         "xaxis": "x",
         "y": [
          10626430
         ],
         "yaxis": "y"
        },
        {
         "hovertemplate": "Airport=%{x}<br>Passengers2016=%{y}<extra></extra>",
         "legendgroup": "Linate Airport",
         "line": {
          "color": "#B6E880",
          "dash": "solid"
         },
         "marker": {
          "symbol": "circle"
         },
         "mode": "lines+markers",
         "name": "Linate Airport",
         "orientation": "v",
         "showlegend": true,
         "type": "scatter",
         "x": [
          "Linate Airport"
         ],
         "xaxis": "x",
         "y": [
          9682264
         ],
         "yaxis": "y"
        },
        {
         "hovertemplate": "Airport=%{x}<br>Passengers2016=%{y}<extra></extra>",
         "legendgroup": "Venice Marco Polo Airport",
         "line": {
          "color": "#FF97FF",
          "dash": "solid"
         },
         "marker": {
          "symbol": "circle"
         },
         "mode": "lines+markers",
         "name": "Venice Marco Polo Airport",
         "orientation": "v",
         "showlegend": true,
         "type": "scatter",
         "x": [
          "Venice Marco Polo Airport"
         ],
         "xaxis": "x",
         "y": [
          9624748
         ],
         "yaxis": "y"
        },
        {
         "hovertemplate": "Airport=%{x}<br>Passengers2016=%{y}<extra></extra>",
         "legendgroup": "Lyon–Saint-Exupéry Airport",
         "line": {
          "color": "#FECB52",
          "dash": "solid"
         },
         "marker": {
          "symbol": "circle"
         },
         "mode": "lines+markers",
         "name": "Lyon–Saint-Exupéry Airport",
         "orientation": "v",
         "showlegend": true,
         "type": "scatter",
         "x": [
          "Lyon–Saint-Exupéry Airport"
         ],
         "xaxis": "x",
         "y": [
          9553250
         ],
         "yaxis": "y"
        },
        {
         "hovertemplate": "Airport=%{x}<br>Passengers2016=%{y}<extra></extra>",
         "legendgroup": "Porto Airport",
         "line": {
          "color": "#636efa",
          "dash": "solid"
         },
         "marker": {
          "symbol": "circle"
         },
         "mode": "lines+markers",
         "name": "Porto Airport",
         "orientation": "v",
         "showlegend": true,
         "type": "scatter",
         "x": [
          "Porto Airport"
         ],
         "xaxis": "x",
         "y": [
          9378082
         ],
         "yaxis": "y"
        },
        {
         "hovertemplate": "Airport=%{x}<br>Passengers2016=%{y}<extra></extra>",
         "legendgroup": "Glasgow Airport",
         "line": {
          "color": "#EF553B",
          "dash": "solid"
         },
         "marker": {
          "symbol": "circle"
         },
         "mode": "lines+markers",
         "name": "Glasgow Airport",
         "orientation": "v",
         "showlegend": true,
         "type": "scatter",
         "x": [
          "Glasgow Airport"
         ],
         "xaxis": "x",
         "y": [
          9346245
         ],
         "yaxis": "y"
        },
        {
         "hovertemplate": "Airport=%{x}<br>Passengers2016=%{y}<extra></extra>",
         "legendgroup": "Boryspil International Airport",
         "line": {
          "color": "#00cc96",
          "dash": "solid"
         },
         "marker": {
          "symbol": "circle"
         },
         "mode": "lines+markers",
         "name": "Boryspil International Airport",
         "orientation": "v",
         "showlegend": true,
         "type": "scatter",
         "x": [
          "Boryspil International Airport"
         ],
         "xaxis": "x",
         "y": [
          8650000
         ],
         "yaxis": "y"
        },
        {
         "hovertemplate": "Airport=%{x}<br>Passengers2016=%{y}<extra></extra>",
         "legendgroup": "Marseille Provence Airport",
         "line": {
          "color": "#ab63fa",
          "dash": "solid"
         },
         "marker": {
          "symbol": "circle"
         },
         "mode": "lines+markers",
         "name": "Marseille Provence Airport",
         "orientation": "v",
         "showlegend": true,
         "type": "scatter",
         "x": [
          "Marseille Provence Airport"
         ],
         "xaxis": "x",
         "y": [
          8475809
         ],
         "yaxis": "y"
        },
        {
         "hovertemplate": "Airport=%{x}<br>Passengers2016=%{y}<extra></extra>",
         "legendgroup": "Toulouse–Blagnac Airport",
         "line": {
          "color": "#FFA15A",
          "dash": "solid"
         },
         "marker": {
          "symbol": "circle"
         },
         "mode": "lines+markers",
         "name": "Toulouse–Blagnac Airport",
         "orientation": "v",
         "showlegend": true,
         "type": "scatter",
         "x": [
          "Toulouse–Blagnac Airport"
         ],
         "xaxis": "x",
         "y": [
          8081179
         ],
         "yaxis": "y"
        },
        {
         "hovertemplate": "Airport=%{x}<br>Passengers2016=%{y}<extra></extra>",
         "legendgroup": "Catania-Fontanarossa Airport",
         "line": {
          "color": "#19d3f3",
          "dash": "solid"
         },
         "marker": {
          "symbol": "circle"
         },
         "mode": "lines+markers",
         "name": "Catania-Fontanarossa Airport",
         "orientation": "v",
         "showlegend": true,
         "type": "scatter",
         "x": [
          "Catania-Fontanarossa Airport"
         ],
         "xaxis": "x",
         "y": [
          7914117
         ],
         "yaxis": "y"
        },
        {
         "hovertemplate": "Airport=%{x}<br>Passengers2016=%{y}<extra></extra>",
         "legendgroup": "Bologna Guglielmo Marconi Airport",
         "line": {
          "color": "#FF6692",
          "dash": "solid"
         },
         "marker": {
          "symbol": "circle"
         },
         "mode": "lines+markers",
         "name": "Bologna Guglielmo Marconi Airport",
         "orientation": "v",
         "showlegend": true,
         "type": "scatter",
         "x": [
          "Bologna Guglielmo Marconi Airport"
         ],
         "xaxis": "x",
         "y": [
          7680992
         ],
         "yaxis": "y"
        },
        {
         "hovertemplate": "Airport=%{x}<br>Passengers2016=%{y}<extra></extra>",
         "legendgroup": "Faro Airport",
         "line": {
          "color": "#B6E880",
          "dash": "solid"
         },
         "marker": {
          "symbol": "circle"
         },
         "mode": "lines+markers",
         "name": "Faro Airport",
         "orientation": "v",
         "showlegend": true,
         "type": "scatter",
         "x": [
          "Faro Airport"
         ],
         "xaxis": "x",
         "y": [
          7630909
         ],
         "yaxis": "y"
        },
        {
         "hovertemplate": "Airport=%{x}<br>Passengers2016=%{y}<extra></extra>",
         "legendgroup": "Bristol Airport",
         "line": {
          "color": "#FF97FF",
          "dash": "solid"
         },
         "marker": {
          "symbol": "circle"
         },
         "mode": "lines+markers",
         "name": "Bristol Airport",
         "orientation": "v",
         "showlegend": true,
         "type": "scatter",
         "x": [
          "Bristol Airport"
         ],
         "xaxis": "x",
         "y": [
          7610780
         ],
         "yaxis": "y"
        },
        {
         "hovertemplate": "Airport=%{x}<br>Passengers2016=%{y}<extra></extra>",
         "legendgroup": "Ibiza Airport",
         "line": {
          "color": "#FECB52",
          "dash": "solid"
         },
         "marker": {
          "symbol": "circle"
         },
         "mode": "lines+markers",
         "name": "Ibiza Airport",
         "orientation": "v",
         "showlegend": true,
         "type": "scatter",
         "x": [
          "Ibiza Airport"
         ],
         "xaxis": "x",
         "y": [
          7416368
         ],
         "yaxis": "y"
        },
        {
         "hovertemplate": "Airport=%{x}<br>Passengers2016=%{y}<extra></extra>",
         "legendgroup": "EuroAirport Basel Mulhouse Freiburg",
         "line": {
          "color": "#636efa",
          "dash": "solid"
         },
         "marker": {
          "symbol": "circle"
         },
         "mode": "lines+markers",
         "name": "EuroAirport Basel Mulhouse Freiburg",
         "orientation": "v",
         "showlegend": true,
         "type": "scatter",
         "x": [
          "EuroAirport Basel Mulhouse Freiburg"
         ],
         "xaxis": "x",
         "y": [
          7314269
         ],
         "yaxis": "y"
        },
        {
         "hovertemplate": "Airport=%{x}<br>Passengers2016=%{y}<extra></extra>",
         "legendgroup": "Brussels South Charleroi Airport",
         "line": {
          "color": "#EF553B",
          "dash": "solid"
         },
         "marker": {
          "symbol": "circle"
         },
         "mode": "lines+markers",
         "name": "Brussels South Charleroi Airport",
         "orientation": "v",
         "showlegend": true,
         "type": "scatter",
         "x": [
          "Brussels South Charleroi Airport"
         ],
         "xaxis": "x",
         "y": [
          7303720
         ],
         "yaxis": "y"
        },
        {
         "hovertemplate": "Airport=%{x}<br>Passengers2016=%{y}<extra></extra>",
         "legendgroup": "Keflavík International Airport",
         "line": {
          "color": "#00cc96",
          "dash": "solid"
         },
         "marker": {
          "symbol": "circle"
         },
         "mode": "lines+markers",
         "name": "Keflavík International Airport",
         "orientation": "v",
         "showlegend": true,
         "type": "scatter",
         "x": [
          "Keflavík International Airport"
         ],
         "xaxis": "x",
         "y": [
          6821358
         ],
         "yaxis": "y"
        },
        {
         "hovertemplate": "Airport=%{x}<br>Passengers2016=%{y}<extra></extra>",
         "legendgroup": "Naples Airport",
         "line": {
          "color": "#ab63fa",
          "dash": "solid"
         },
         "marker": {
          "symbol": "circle"
         },
         "mode": "lines+markers",
         "name": "Naples Airport",
         "orientation": "v",
         "showlegend": true,
         "type": "scatter",
         "x": [
          "Naples Airport"
         ],
         "xaxis": "x",
         "y": [
          6775988
         ],
         "yaxis": "y"
        },
        {
         "hovertemplate": "Airport=%{x}<br>Passengers2016=%{y}<extra></extra>",
         "legendgroup": "Heraklion International Airport",
         "line": {
          "color": "#FFA15A",
          "dash": "solid"
         },
         "marker": {
          "symbol": "circle"
         },
         "mode": "lines+markers",
         "name": "Heraklion International Airport",
         "orientation": "v",
         "showlegend": true,
         "type": "scatter",
         "x": [
          "Heraklion International Airport"
         ],
         "xaxis": "x",
         "y": [
          6742746
         ],
         "yaxis": "y"
        },
        {
         "hovertemplate": "Airport=%{x}<br>Passengers2016=%{y}<extra></extra>",
         "legendgroup": "Göteborg Landvetter Airport",
         "line": {
          "color": "#19d3f3",
          "dash": "solid"
         },
         "marker": {
          "symbol": "circle"
         },
         "mode": "lines+markers",
         "name": "Göteborg Landvetter Airport",
         "orientation": "v",
         "showlegend": true,
         "type": "scatter",
         "x": [
          "Göteborg Landvetter Airport"
         ],
         "xaxis": "x",
         "y": [
          6369396
         ],
         "yaxis": "y"
        },
        {
         "hovertemplate": "Airport=%{x}<br>Passengers2016=%{y}<extra></extra>",
         "legendgroup": "Bergen Airport, Flesland",
         "line": {
          "color": "#FF6692",
          "dash": "solid"
         },
         "marker": {
          "symbol": "circle"
         },
         "mode": "lines+markers",
         "name": "Bergen Airport, Flesland",
         "orientation": "v",
         "showlegend": true,
         "type": "scatter",
         "x": [
          "Bergen Airport, Flesland"
         ],
         "xaxis": "x",
         "y": [
          5949060
         ],
         "yaxis": "y"
        },
        {
         "hovertemplate": "Airport=%{x}<br>Passengers2016=%{y}<extra></extra>",
         "legendgroup": "Valencia Airport",
         "line": {
          "color": "#B6E880",
          "dash": "solid"
         },
         "marker": {
          "symbol": "circle"
         },
         "mode": "lines+markers",
         "name": "Valencia Airport",
         "orientation": "v",
         "showlegend": true,
         "type": "scatter",
         "x": [
          "Valencia Airport"
         ],
         "xaxis": "x",
         "y": [
          5799104
         ],
         "yaxis": "y"
        },
        {
         "hovertemplate": "Airport=%{x}<br>Passengers2016=%{y}<extra></extra>",
         "legendgroup": "Bordeaux – Mérignac Airport",
         "line": {
          "color": "#FF97FF",
          "dash": "solid"
         },
         "marker": {
          "symbol": "circle"
         },
         "mode": "lines+markers",
         "name": "Bordeaux – Mérignac Airport",
         "orientation": "v",
         "showlegend": true,
         "type": "scatter",
         "x": [
          "Bordeaux – Mérignac Airport"
         ],
         "xaxis": "x",
         "y": [
          5779569
         ],
         "yaxis": "y"
        },
        {
         "hovertemplate": "Airport=%{x}<br>Passengers2016=%{y}<extra></extra>",
         "legendgroup": "Thessaloniki International Airport, \"Macedonia\"",
         "line": {
          "color": "#FECB52",
          "dash": "solid"
         },
         "marker": {
          "symbol": "circle"
         },
         "mode": "lines+markers",
         "name": "Thessaloniki International Airport, \"Macedonia\"",
         "orientation": "v",
         "showlegend": true,
         "type": "scatter",
         "x": [
          "Thessaloniki International Airport, \"Macedonia\""
         ],
         "xaxis": "x",
         "y": [
          5687325
         ],
         "yaxis": "y"
        },
        {
         "hovertemplate": "Airport=%{x}<br>Passengers2016=%{y}<extra></extra>",
         "legendgroup": "Langenhagen Airport",
         "line": {
          "color": "#636efa",
          "dash": "solid"
         },
         "marker": {
          "symbol": "circle"
         },
         "mode": "lines+markers",
         "name": "Langenhagen Airport",
         "orientation": "v",
         "showlegend": true,
         "type": "scatter",
         "x": [
          "Langenhagen Airport"
         ],
         "xaxis": "x",
         "y": [
          5408814
         ],
         "yaxis": "y"
        },
        {
         "hovertemplate": "Airport=%{x}<br>Passengers2016=%{y}<extra></extra>",
         "legendgroup": "Riga International Airport",
         "line": {
          "color": "#EF553B",
          "dash": "solid"
         },
         "marker": {
          "symbol": "circle"
         },
         "mode": "lines+markers",
         "name": "Riga International Airport",
         "orientation": "v",
         "showlegend": true,
         "type": "scatter",
         "x": [
          "Riga International Airport"
         ],
         "xaxis": "x",
         "y": [
          5400243
         ],
         "yaxis": "y"
        },
        {
         "hovertemplate": "Airport=%{x}<br>Passengers2016=%{y}<extra></extra>",
         "legendgroup": "Rome Ciampino Airport",
         "line": {
          "color": "#00cc96",
          "dash": "solid"
         },
         "marker": {
          "symbol": "circle"
         },
         "mode": "lines+markers",
         "name": "Rome Ciampino Airport",
         "orientation": "v",
         "showlegend": true,
         "type": "scatter",
         "x": [
          "Rome Ciampino Airport"
         ],
         "xaxis": "x",
         "y": [
          5395699
         ],
         "yaxis": "y"
        },
        {
         "hovertemplate": "Airport=%{x}<br>Passengers2016=%{y}<extra></extra>",
         "legendgroup": "Falcone–Borsellino Airport",
         "line": {
          "color": "#ab63fa",
          "dash": "solid"
         },
         "marker": {
          "symbol": "circle"
         },
         "mode": "lines+markers",
         "name": "Falcone–Borsellino Airport",
         "orientation": "v",
         "showlegend": true,
         "type": "scatter",
         "x": [
          "Falcone–Borsellino Airport"
         ],
         "xaxis": "x",
         "y": [
          5325559
         ],
         "yaxis": "y"
        },
        {
         "hovertemplate": "Airport=%{x}<br>Passengers2016=%{y}<extra></extra>",
         "legendgroup": "Simferopol International Airport",
         "line": {
          "color": "#FFA15A",
          "dash": "solid"
         },
         "marker": {
          "symbol": "circle"
         },
         "mode": "lines+markers",
         "name": "Simferopol International Airport",
         "orientation": "v",
         "showlegend": true,
         "type": "scatter",
         "x": [
          "Simferopol International Airport"
         ],
         "xaxis": "x",
         "y": [
          5201690
         ],
         "yaxis": "y"
        },
        {
         "hovertemplate": "Airport=%{x}<br>Passengers2016=%{y}<extra></extra>",
         "legendgroup": "Belfast International Airport",
         "line": {
          "color": "#19d3f3",
          "dash": "solid"
         },
         "marker": {
          "symbol": "circle"
         },
         "mode": "lines+markers",
         "name": "Belfast International Airport",
         "orientation": "v",
         "showlegend": true,
         "type": "scatter",
         "x": [
          "Belfast International Airport"
         ],
         "xaxis": "x",
         "y": [
          5147546
         ],
         "yaxis": "y"
        },
        {
         "hovertemplate": "Airport=%{x}<br>Passengers2016=%{y}<extra></extra>",
         "legendgroup": "Malta International Airport",
         "line": {
          "color": "#FF6692",
          "dash": "solid"
         },
         "marker": {
          "symbol": "circle"
         },
         "mode": "lines+markers",
         "name": "Malta International Airport",
         "orientation": "v",
         "showlegend": true,
         "type": "scatter",
         "x": [
          "Malta International Airport"
         ],
         "xaxis": "x",
         "y": [
          5080071
         ],
         "yaxis": "y"
        },
        {
         "hovertemplate": "Airport=%{x}<br>Passengers2016=%{y}<extra></extra>",
         "legendgroup": "Galileo Galilei Airport",
         "line": {
          "color": "#B6E880",
          "dash": "solid"
         },
         "marker": {
          "symbol": "circle"
         },
         "mode": "lines+markers",
         "name": "Galileo Galilei Airport",
         "orientation": "v",
         "showlegend": true,
         "type": "scatter",
         "x": [
          "Galileo Galilei Airport"
         ],
         "xaxis": "x",
         "y": [
          4989496
         ],
         "yaxis": "y"
        },
        {
         "hovertemplate": "Airport=%{x}<br>Passengers2016=%{y}<extra></extra>",
         "legendgroup": "John Paul II International Airport Kraków–Balice",
         "line": {
          "color": "#FF97FF",
          "dash": "solid"
         },
         "marker": {
          "symbol": "circle"
         },
         "mode": "lines+markers",
         "name": "John Paul II International Airport Kraków–Balice",
         "orientation": "v",
         "showlegend": true,
         "type": "scatter",
         "x": [
          "John Paul II International Airport Kraków–Balice"
         ],
         "xaxis": "x",
         "y": [
          4983645
         ],
         "yaxis": "y"
        },
        {
         "hovertemplate": "Airport=%{x}<br>Passengers2016=%{y}<extra></extra>",
         "legendgroup": "Sofia Airport",
         "line": {
          "color": "#FECB52",
          "dash": "solid"
         },
         "marker": {
          "symbol": "circle"
         },
         "mode": "lines+markers",
         "name": "Sofia Airport",
         "orientation": "v",
         "showlegend": true,
         "type": "scatter",
         "x": [
          "Sofia Airport"
         ],
         "xaxis": "x",
         "y": [
          4980387
         ],
         "yaxis": "y"
        },
        {
         "hovertemplate": "Airport=%{x}<br>Passengers2016=%{y}<extra></extra>",
         "legendgroup": "Rhodes International Airport",
         "line": {
          "color": "#636efa",
          "dash": "solid"
         },
         "marker": {
          "symbol": "circle"
         },
         "mode": "lines+markers",
         "name": "Rhodes International Airport",
         "orientation": "v",
         "showlegend": true,
         "type": "scatter",
         "x": [
          "Rhodes International Airport"
         ],
         "xaxis": "x",
         "y": [
          4942386
         ],
         "yaxis": "y"
        },
        {
         "hovertemplate": "Airport=%{x}<br>Passengers2016=%{y}<extra></extra>",
         "legendgroup": "Belgrade Nikola Tesla Airport",
         "line": {
          "color": "#EF553B",
          "dash": "solid"
         },
         "marker": {
          "symbol": "circle"
         },
         "mode": "lines+markers",
         "name": "Belgrade Nikola Tesla Airport",
         "orientation": "v",
         "showlegend": true,
         "type": "scatter",
         "x": [
          "Belgrade Nikola Tesla Airport"
         ],
         "xaxis": "x",
         "y": [
          4924992
         ],
         "yaxis": "y"
        },
        {
         "hovertemplate": "Airport=%{x}<br>Passengers2016=%{y}<extra></extra>",
         "legendgroup": "Newcastle Airport",
         "line": {
          "color": "#00cc96",
          "dash": "solid"
         },
         "marker": {
          "symbol": "circle"
         },
         "mode": "lines+markers",
         "name": "Newcastle Airport",
         "orientation": "v",
         "showlegend": true,
         "type": "scatter",
         "x": [
          "Newcastle Airport"
         ],
         "xaxis": "x",
         "y": [
          4807906
         ],
         "yaxis": "y"
        },
        {
         "hovertemplate": "Airport=%{x}<br>Passengers2016=%{y}<extra></extra>",
         "legendgroup": "Eindhoven Airport",
         "line": {
          "color": "#ab63fa",
          "dash": "solid"
         },
         "marker": {
          "symbol": "circle"
         },
         "mode": "lines+markers",
         "name": "Eindhoven Airport",
         "orientation": "v",
         "showlegend": true,
         "type": "scatter",
         "x": [
          "Eindhoven Airport"
         ],
         "xaxis": "x",
         "y": [
          4780197
         ],
         "yaxis": "y"
        },
        {
         "hovertemplate": "Airport=%{x}<br>Passengers2016=%{y}<extra></extra>",
         "legendgroup": "Nantes Atlantique Airport",
         "line": {
          "color": "#FFA15A",
          "dash": "solid"
         },
         "marker": {
          "symbol": "circle"
         },
         "mode": "lines+markers",
         "name": "Nantes Atlantique Airport",
         "orientation": "v",
         "showlegend": true,
         "type": "scatter",
         "x": [
          "Nantes Atlantique Airport"
         ],
         "xaxis": "x",
         "y": [
          4778967
         ],
         "yaxis": "y"
        },
        {
         "hovertemplate": "Airport=%{x}<br>Passengers2016=%{y}<extra></extra>",
         "legendgroup": "Liverpool John Lennon Airport",
         "line": {
          "color": "#19d3f3",
          "dash": "solid"
         },
         "marker": {
          "symbol": "circle"
         },
         "mode": "lines+markers",
         "name": "Liverpool John Lennon Airport",
         "orientation": "v",
         "showlegend": true,
         "type": "scatter",
         "x": [
          "Liverpool John Lennon Airport"
         ],
         "xaxis": "x",
         "y": [
          4778939
         ],
         "yaxis": "y"
        },
        {
         "hovertemplate": "Airport=%{x}<br>Passengers2016=%{y}<extra></extra>",
         "legendgroup": "East Midlands Airport",
         "line": {
          "color": "#FF6692",
          "dash": "solid"
         },
         "marker": {
          "symbol": "circle"
         },
         "mode": "lines+markers",
         "name": "East Midlands Airport",
         "orientation": "v",
         "showlegend": true,
         "type": "scatter",
         "x": [
          "East Midlands Airport"
         ],
         "xaxis": "x",
         "y": [
          4653818
         ],
         "yaxis": "y"
        },
        {
         "hovertemplate": "Airport=%{x}<br>Passengers2016=%{y}<extra></extra>",
         "legendgroup": "San Pablo Airport",
         "line": {
          "color": "#B6E880",
          "dash": "solid"
         },
         "marker": {
          "symbol": "circle"
         },
         "mode": "lines+markers",
         "name": "San Pablo Airport",
         "orientation": "v",
         "showlegend": true,
         "type": "scatter",
         "x": [
          "San Pablo Airport"
         ],
         "xaxis": "x",
         "y": [
          4624038
         ],
         "yaxis": "y"
        },
        {
         "hovertemplate": "Airport=%{x}<br>Passengers2016=%{y}<extra></extra>",
         "legendgroup": "Bilbao Airport",
         "line": {
          "color": "#FF97FF",
          "dash": "solid"
         },
         "marker": {
          "symbol": "circle"
         },
         "mode": "lines+markers",
         "name": "Bilbao Airport",
         "orientation": "v",
         "showlegend": true,
         "type": "scatter",
         "x": [
          "Bilbao Airport"
         ],
         "xaxis": "x",
         "y": [
          4588265
         ],
         "yaxis": "y"
        },
        {
         "hovertemplate": "Airport=%{x}<br>Passengers2016=%{y}<extra></extra>",
         "legendgroup": "London City Airport",
         "line": {
          "color": "#FECB52",
          "dash": "solid"
         },
         "marker": {
          "symbol": "circle"
         },
         "mode": "lines+markers",
         "name": "London City Airport",
         "orientation": "v",
         "showlegend": true,
         "type": "scatter",
         "x": [
          "London City Airport"
         ],
         "xaxis": "x",
         "y": [
          4538913
         ],
         "yaxis": "y"
        },
        {
         "hovertemplate": "Airport=%{x}<br>Passengers2016=%{y}<extra></extra>",
         "legendgroup": "Trondheim Airport",
         "line": {
          "color": "#636efa",
          "dash": "solid"
         },
         "marker": {
          "symbol": "circle"
         },
         "mode": "lines+markers",
         "name": "Trondheim Airport",
         "orientation": "v",
         "showlegend": true,
         "type": "scatter",
         "x": [
          "Trondheim Airport"
         ],
         "xaxis": "x",
         "y": [
          4417490
         ],
         "yaxis": "y"
        },
        {
         "hovertemplate": "Airport=%{x}<br>Passengers2016=%{y}<extra></extra>",
         "legendgroup": "Bari Airport",
         "line": {
          "color": "#EF553B",
          "dash": "solid"
         },
         "marker": {
          "symbol": "circle"
         },
         "mode": "lines+markers",
         "name": "Bari Airport",
         "orientation": "v",
         "showlegend": true,
         "type": "scatter",
         "x": [
          "Bari Airport"
         ],
         "xaxis": "x",
         "y": [
          4322797
         ],
         "yaxis": "y"
        },
        {
         "hovertemplate": "Airport=%{x}<br>Passengers2016=%{y}<extra></extra>",
         "legendgroup": "Stavanger Airport",
         "line": {
          "color": "#00cc96",
          "dash": "solid"
         },
         "marker": {
          "symbol": "circle"
         },
         "mode": "lines+markers",
         "name": "Stavanger Airport",
         "orientation": "v",
         "showlegend": true,
         "type": "scatter",
         "x": [
          "Stavanger Airport"
         ],
         "xaxis": "x",
         "y": [
          4193665
         ],
         "yaxis": "y"
        },
        {
         "hovertemplate": "Airport=%{x}<br>Passengers2016=%{y}<extra></extra>",
         "legendgroup": "Gdańsk Lech Wałęsa Airport",
         "line": {
          "color": "#ab63fa",
          "dash": "solid"
         },
         "marker": {
          "symbol": "circle"
         },
         "mode": "lines+markers",
         "name": "Gdańsk Lech Wałęsa Airport",
         "orientation": "v",
         "showlegend": true,
         "type": "scatter",
         "x": [
          "Gdańsk Lech Wałęsa Airport"
         ],
         "xaxis": "x",
         "y": [
          4004081
         ],
         "yaxis": "y"
        },
        {
         "hovertemplate": "Airport=%{x}<br>Passengers2016=%{y}<extra></extra>",
         "legendgroup": "Beauvais Airport",
         "line": {
          "color": "#FFA15A",
          "dash": "solid"
         },
         "marker": {
          "symbol": "circle"
         },
         "mode": "lines+markers",
         "name": "Beauvais Airport",
         "orientation": "v",
         "showlegend": true,
         "type": "scatter",
         "x": [
          "Beauvais Airport"
         ],
         "xaxis": "x",
         "y": [
          3997856
         ],
         "yaxis": "y"
        },
        {
         "hovertemplate": "Airport=%{x}<br>Passengers2016=%{y}<extra></extra>",
         "legendgroup": "Turin Airport",
         "line": {
          "color": "#19d3f3",
          "dash": "solid"
         },
         "marker": {
          "symbol": "circle"
         },
         "mode": "lines+markers",
         "name": "Turin Airport",
         "orientation": "v",
         "showlegend": true,
         "type": "scatter",
         "x": [
          "Turin Airport"
         ],
         "xaxis": "x",
         "y": [
          3943298
         ],
         "yaxis": "y"
        },
        {
         "hovertemplate": "Airport=%{x}<br>Passengers2016=%{y}<extra></extra>",
         "legendgroup": "Vilnius Airport",
         "line": {
          "color": "#FF6692",
          "dash": "solid"
         },
         "marker": {
          "symbol": "circle"
         },
         "mode": "lines+markers",
         "name": "Vilnius Airport",
         "orientation": "v",
         "showlegend": true,
         "type": "scatter",
         "x": [
          "Vilnius Airport"
         ],
         "xaxis": "x",
         "y": [
          3934891
         ],
         "yaxis": "y"
        },
        {
         "hovertemplate": "Airport=%{x}<br>Passengers2016=%{y}<extra></extra>",
         "legendgroup": "Cagliari Airport",
         "line": {
          "color": "#B6E880",
          "dash": "solid"
         },
         "marker": {
          "symbol": "circle"
         },
         "mode": "lines+markers",
         "name": "Cagliari Airport",
         "orientation": "v",
         "showlegend": true,
         "type": "scatter",
         "x": [
          "Cagliari Airport"
         ],
         "xaxis": "x",
         "y": [
          3689747
         ],
         "yaxis": "y"
        },
        {
         "hovertemplate": "Airport=%{x}<br>Passengers2016=%{y}<extra></extra>",
         "legendgroup": "Leeds Bradford Airport",
         "line": {
          "color": "#FF97FF",
          "dash": "solid"
         },
         "marker": {
          "symbol": "circle"
         },
         "mode": "lines+markers",
         "name": "Leeds Bradford Airport",
         "orientation": "v",
         "showlegend": true,
         "type": "scatter",
         "x": [
          "Leeds Bradford Airport"
         ],
         "xaxis": "x",
         "y": [
          3612061
         ],
         "yaxis": "y"
        },
        {
         "hovertemplate": "Airport=%{x}<br>Passengers2016=%{y}<extra></extra>",
         "legendgroup": "Nuremberg Airport",
         "line": {
          "color": "#FECB52",
          "dash": "solid"
         },
         "marker": {
          "symbol": "circle"
         },
         "mode": "lines+markers",
         "name": "Nuremberg Airport",
         "orientation": "v",
         "showlegend": true,
         "type": "scatter",
         "x": [
          "Nuremberg Airport"
         ],
         "xaxis": "x",
         "y": [
          3485372
         ],
         "yaxis": "y"
        }
       ],
       "layout": {
        "height": 800,
        "legend": {
         "title": {
          "text": "Airport"
         },
         "tracegroupgap": 0
        },
        "template": {
         "data": {
          "bar": [
           {
            "error_x": {
             "color": "#f2f5fa"
            },
            "error_y": {
             "color": "#f2f5fa"
            },
            "marker": {
             "line": {
              "color": "rgb(17,17,17)",
              "width": 0.5
             },
             "pattern": {
              "fillmode": "overlay",
              "size": 10,
              "solidity": 0.2
             }
            },
            "type": "bar"
           }
          ],
          "barpolar": [
           {
            "marker": {
             "line": {
              "color": "rgb(17,17,17)",
              "width": 0.5
             },
             "pattern": {
              "fillmode": "overlay",
              "size": 10,
              "solidity": 0.2
             }
            },
            "type": "barpolar"
           }
          ],
          "carpet": [
           {
            "aaxis": {
             "endlinecolor": "#A2B1C6",
             "gridcolor": "#506784",
             "linecolor": "#506784",
             "minorgridcolor": "#506784",
             "startlinecolor": "#A2B1C6"
            },
            "baxis": {
             "endlinecolor": "#A2B1C6",
             "gridcolor": "#506784",
             "linecolor": "#506784",
             "minorgridcolor": "#506784",
             "startlinecolor": "#A2B1C6"
            },
            "type": "carpet"
           }
          ],
          "choropleth": [
           {
            "colorbar": {
             "outlinewidth": 0,
             "ticks": ""
            },
            "type": "choropleth"
           }
          ],
          "contour": [
           {
            "colorbar": {
             "outlinewidth": 0,
             "ticks": ""
            },
            "colorscale": [
             [
              0,
              "#0d0887"
             ],
             [
              0.1111111111111111,
              "#46039f"
             ],
             [
              0.2222222222222222,
              "#7201a8"
             ],
             [
              0.3333333333333333,
              "#9c179e"
             ],
             [
              0.4444444444444444,
              "#bd3786"
             ],
             [
              0.5555555555555556,
              "#d8576b"
             ],
             [
              0.6666666666666666,
              "#ed7953"
             ],
             [
              0.7777777777777778,
              "#fb9f3a"
             ],
             [
              0.8888888888888888,
              "#fdca26"
             ],
             [
              1,
              "#f0f921"
             ]
            ],
            "type": "contour"
           }
          ],
          "contourcarpet": [
           {
            "colorbar": {
             "outlinewidth": 0,
             "ticks": ""
            },
            "type": "contourcarpet"
           }
          ],
          "heatmap": [
           {
            "colorbar": {
             "outlinewidth": 0,
             "ticks": ""
            },
            "colorscale": [
             [
              0,
              "#0d0887"
             ],
             [
              0.1111111111111111,
              "#46039f"
             ],
             [
              0.2222222222222222,
              "#7201a8"
             ],
             [
              0.3333333333333333,
              "#9c179e"
             ],
             [
              0.4444444444444444,
              "#bd3786"
             ],
             [
              0.5555555555555556,
              "#d8576b"
             ],
             [
              0.6666666666666666,
              "#ed7953"
             ],
             [
              0.7777777777777778,
              "#fb9f3a"
             ],
             [
              0.8888888888888888,
              "#fdca26"
             ],
             [
              1,
              "#f0f921"
             ]
            ],
            "type": "heatmap"
           }
          ],
          "heatmapgl": [
           {
            "colorbar": {
             "outlinewidth": 0,
             "ticks": ""
            },
            "colorscale": [
             [
              0,
              "#0d0887"
             ],
             [
              0.1111111111111111,
              "#46039f"
             ],
             [
              0.2222222222222222,
              "#7201a8"
             ],
             [
              0.3333333333333333,
              "#9c179e"
             ],
             [
              0.4444444444444444,
              "#bd3786"
             ],
             [
              0.5555555555555556,
              "#d8576b"
             ],
             [
              0.6666666666666666,
              "#ed7953"
             ],
             [
              0.7777777777777778,
              "#fb9f3a"
             ],
             [
              0.8888888888888888,
              "#fdca26"
             ],
             [
              1,
              "#f0f921"
             ]
            ],
            "type": "heatmapgl"
           }
          ],
          "histogram": [
           {
            "marker": {
             "pattern": {
              "fillmode": "overlay",
              "size": 10,
              "solidity": 0.2
             }
            },
            "type": "histogram"
           }
          ],
          "histogram2d": [
           {
            "colorbar": {
             "outlinewidth": 0,
             "ticks": ""
            },
            "colorscale": [
             [
              0,
              "#0d0887"
             ],
             [
              0.1111111111111111,
              "#46039f"
             ],
             [
              0.2222222222222222,
              "#7201a8"
             ],
             [
              0.3333333333333333,
              "#9c179e"
             ],
             [
              0.4444444444444444,
              "#bd3786"
             ],
             [
              0.5555555555555556,
              "#d8576b"
             ],
             [
              0.6666666666666666,
              "#ed7953"
             ],
             [
              0.7777777777777778,
              "#fb9f3a"
             ],
             [
              0.8888888888888888,
              "#fdca26"
             ],
             [
              1,
              "#f0f921"
             ]
            ],
            "type": "histogram2d"
           }
          ],
          "histogram2dcontour": [
           {
            "colorbar": {
             "outlinewidth": 0,
             "ticks": ""
            },
            "colorscale": [
             [
              0,
              "#0d0887"
             ],
             [
              0.1111111111111111,
              "#46039f"
             ],
             [
              0.2222222222222222,
              "#7201a8"
             ],
             [
              0.3333333333333333,
              "#9c179e"
             ],
             [
              0.4444444444444444,
              "#bd3786"
             ],
             [
              0.5555555555555556,
              "#d8576b"
             ],
             [
              0.6666666666666666,
              "#ed7953"
             ],
             [
              0.7777777777777778,
              "#fb9f3a"
             ],
             [
              0.8888888888888888,
              "#fdca26"
             ],
             [
              1,
              "#f0f921"
             ]
            ],
            "type": "histogram2dcontour"
           }
          ],
          "mesh3d": [
           {
            "colorbar": {
             "outlinewidth": 0,
             "ticks": ""
            },
            "type": "mesh3d"
           }
          ],
          "parcoords": [
           {
            "line": {
             "colorbar": {
              "outlinewidth": 0,
              "ticks": ""
             }
            },
            "type": "parcoords"
           }
          ],
          "pie": [
           {
            "automargin": true,
            "type": "pie"
           }
          ],
          "scatter": [
           {
            "marker": {
             "line": {
              "color": "#283442"
             }
            },
            "type": "scatter"
           }
          ],
          "scatter3d": [
           {
            "line": {
             "colorbar": {
              "outlinewidth": 0,
              "ticks": ""
             }
            },
            "marker": {
             "colorbar": {
              "outlinewidth": 0,
              "ticks": ""
             }
            },
            "type": "scatter3d"
           }
          ],
          "scattercarpet": [
           {
            "marker": {
             "colorbar": {
              "outlinewidth": 0,
              "ticks": ""
             }
            },
            "type": "scattercarpet"
           }
          ],
          "scattergeo": [
           {
            "marker": {
             "colorbar": {
              "outlinewidth": 0,
              "ticks": ""
             }
            },
            "type": "scattergeo"
           }
          ],
          "scattergl": [
           {
            "marker": {
             "line": {
              "color": "#283442"
             }
            },
            "type": "scattergl"
           }
          ],
          "scattermapbox": [
           {
            "marker": {
             "colorbar": {
              "outlinewidth": 0,
              "ticks": ""
             }
            },
            "type": "scattermapbox"
           }
          ],
          "scatterpolar": [
           {
            "marker": {
             "colorbar": {
              "outlinewidth": 0,
              "ticks": ""
             }
            },
            "type": "scatterpolar"
           }
          ],
          "scatterpolargl": [
           {
            "marker": {
             "colorbar": {
              "outlinewidth": 0,
              "ticks": ""
             }
            },
            "type": "scatterpolargl"
           }
          ],
          "scatterternary": [
           {
            "marker": {
             "colorbar": {
              "outlinewidth": 0,
              "ticks": ""
             }
            },
            "type": "scatterternary"
           }
          ],
          "surface": [
           {
            "colorbar": {
             "outlinewidth": 0,
             "ticks": ""
            },
            "colorscale": [
             [
              0,
              "#0d0887"
             ],
             [
              0.1111111111111111,
              "#46039f"
             ],
             [
              0.2222222222222222,
              "#7201a8"
             ],
             [
              0.3333333333333333,
              "#9c179e"
             ],
             [
              0.4444444444444444,
              "#bd3786"
             ],
             [
              0.5555555555555556,
              "#d8576b"
             ],
             [
              0.6666666666666666,
              "#ed7953"
             ],
             [
              0.7777777777777778,
              "#fb9f3a"
             ],
             [
              0.8888888888888888,
              "#fdca26"
             ],
             [
              1,
              "#f0f921"
             ]
            ],
            "type": "surface"
           }
          ],
          "table": [
           {
            "cells": {
             "fill": {
              "color": "#506784"
             },
             "line": {
              "color": "rgb(17,17,17)"
             }
            },
            "header": {
             "fill": {
              "color": "#2a3f5f"
             },
             "line": {
              "color": "rgb(17,17,17)"
             }
            },
            "type": "table"
           }
          ]
         },
         "layout": {
          "annotationdefaults": {
           "arrowcolor": "#f2f5fa",
           "arrowhead": 0,
           "arrowwidth": 1
          },
          "autotypenumbers": "strict",
          "coloraxis": {
           "colorbar": {
            "outlinewidth": 0,
            "ticks": ""
           }
          },
          "colorscale": {
           "diverging": [
            [
             0,
             "#8e0152"
            ],
            [
             0.1,
             "#c51b7d"
            ],
            [
             0.2,
             "#de77ae"
            ],
            [
             0.3,
             "#f1b6da"
            ],
            [
             0.4,
             "#fde0ef"
            ],
            [
             0.5,
             "#f7f7f7"
            ],
            [
             0.6,
             "#e6f5d0"
            ],
            [
             0.7,
             "#b8e186"
            ],
            [
             0.8,
             "#7fbc41"
            ],
            [
             0.9,
             "#4d9221"
            ],
            [
             1,
             "#276419"
            ]
           ],
           "sequential": [
            [
             0,
             "#0d0887"
            ],
            [
             0.1111111111111111,
             "#46039f"
            ],
            [
             0.2222222222222222,
             "#7201a8"
            ],
            [
             0.3333333333333333,
             "#9c179e"
            ],
            [
             0.4444444444444444,
             "#bd3786"
            ],
            [
             0.5555555555555556,
             "#d8576b"
            ],
            [
             0.6666666666666666,
             "#ed7953"
            ],
            [
             0.7777777777777778,
             "#fb9f3a"
            ],
            [
             0.8888888888888888,
             "#fdca26"
            ],
            [
             1,
             "#f0f921"
            ]
           ],
           "sequentialminus": [
            [
             0,
             "#0d0887"
            ],
            [
             0.1111111111111111,
             "#46039f"
            ],
            [
             0.2222222222222222,
             "#7201a8"
            ],
            [
             0.3333333333333333,
             "#9c179e"
            ],
            [
             0.4444444444444444,
             "#bd3786"
            ],
            [
             0.5555555555555556,
             "#d8576b"
            ],
            [
             0.6666666666666666,
             "#ed7953"
            ],
            [
             0.7777777777777778,
             "#fb9f3a"
            ],
            [
             0.8888888888888888,
             "#fdca26"
            ],
            [
             1,
             "#f0f921"
            ]
           ]
          },
          "colorway": [
           "#636efa",
           "#EF553B",
           "#00cc96",
           "#ab63fa",
           "#FFA15A",
           "#19d3f3",
           "#FF6692",
           "#B6E880",
           "#FF97FF",
           "#FECB52"
          ],
          "font": {
           "color": "#f2f5fa"
          },
          "geo": {
           "bgcolor": "rgb(17,17,17)",
           "lakecolor": "rgb(17,17,17)",
           "landcolor": "rgb(17,17,17)",
           "showlakes": true,
           "showland": true,
           "subunitcolor": "#506784"
          },
          "hoverlabel": {
           "align": "left"
          },
          "hovermode": "closest",
          "mapbox": {
           "style": "dark"
          },
          "paper_bgcolor": "rgb(17,17,17)",
          "plot_bgcolor": "rgb(17,17,17)",
          "polar": {
           "angularaxis": {
            "gridcolor": "#506784",
            "linecolor": "#506784",
            "ticks": ""
           },
           "bgcolor": "rgb(17,17,17)",
           "radialaxis": {
            "gridcolor": "#506784",
            "linecolor": "#506784",
            "ticks": ""
           }
          },
          "scene": {
           "xaxis": {
            "backgroundcolor": "rgb(17,17,17)",
            "gridcolor": "#506784",
            "gridwidth": 2,
            "linecolor": "#506784",
            "showbackground": true,
            "ticks": "",
            "zerolinecolor": "#C8D4E3"
           },
           "yaxis": {
            "backgroundcolor": "rgb(17,17,17)",
            "gridcolor": "#506784",
            "gridwidth": 2,
            "linecolor": "#506784",
            "showbackground": true,
            "ticks": "",
            "zerolinecolor": "#C8D4E3"
           },
           "zaxis": {
            "backgroundcolor": "rgb(17,17,17)",
            "gridcolor": "#506784",
            "gridwidth": 2,
            "linecolor": "#506784",
            "showbackground": true,
            "ticks": "",
            "zerolinecolor": "#C8D4E3"
           }
          },
          "shapedefaults": {
           "line": {
            "color": "#f2f5fa"
           }
          },
          "sliderdefaults": {
           "bgcolor": "#C8D4E3",
           "bordercolor": "rgb(17,17,17)",
           "borderwidth": 1,
           "tickwidth": 0
          },
          "ternary": {
           "aaxis": {
            "gridcolor": "#506784",
            "linecolor": "#506784",
            "ticks": ""
           },
           "baxis": {
            "gridcolor": "#506784",
            "linecolor": "#506784",
            "ticks": ""
           },
           "bgcolor": "rgb(17,17,17)",
           "caxis": {
            "gridcolor": "#506784",
            "linecolor": "#506784",
            "ticks": ""
           }
          },
          "title": {
           "x": 0.05
          },
          "updatemenudefaults": {
           "bgcolor": "#506784",
           "borderwidth": 0
          },
          "xaxis": {
           "automargin": true,
           "gridcolor": "#283442",
           "linecolor": "#506784",
           "ticks": "",
           "title": {
            "standoff": 15
           },
           "zerolinecolor": "#283442",
           "zerolinewidth": 2
          },
          "yaxis": {
           "automargin": true,
           "gridcolor": "#283442",
           "linecolor": "#506784",
           "ticks": "",
           "title": {
            "standoff": 15
           },
           "zerolinecolor": "#283442",
           "zerolinewidth": 2
          }
         }
        },
        "title": {
         "text": "Tendencia en el número de pasajeros en 2016"
        },
        "width": 1700,
        "xaxis": {
         "anchor": "y",
         "categoryarray": [
          "Heathrow Airport",
          "Charles de Gaulle Airport",
          "Amsterdam Airport Schiphol",
          "Frankfurt Airport",
          "Istanbul Atatürk Airport",
          "Adolfo Suárez Madrid–Barajas Airport",
          "Barcelona–El Prat Josep Tarradellas Airport",
          "Gatwick Airport",
          "Munich Airport",
          "Leonardo da Vinci–Fiumicino Airport",
          "Sheremetyevo International Airport",
          "Orly Airport",
          "Copenhagen Airport",
          "Domodedovo International Airport",
          "Dublin Airport",
          "Zurich Airport",
          "Palma de Mallorca Airport",
          "Oslo Airport",
          "Manchester Airport",
          "Stockholm Arlanda Airport",
          "London Stansted Airport",
          "Düsseldorf Airport",
          "Vienna International Airport",
          "Lisbon Airport",
          "Brussels Airport",
          "Berlin Tegel Airport",
          "Athens International Airport",
          "Malpensa Airport",
          "Helsinki Airport",
          "Málaga Airport",
          "Geneva Airport",
          "Hamburg Airport",
          "Luton Airport",
          "Vnukovo International Airport",
          "Pulkovo Airport",
          "Václav Havel Airport Prague",
          "Warsaw Chopin Airport",
          "Nice Côte d'Azur Airport",
          "Edinburgh Airport",
          "Alicante Airport",
          "Cologne Bonn Airport",
          "Berlin Schönefeld Airport",
          "Birmingham Airport",
          "Budapest Ferenc Liszt International Airport",
          "Orio al Serio International Airport",
          "Henri Coandă International Airport",
          "Stuttgart Airport",
          "Linate Airport",
          "Venice Marco Polo Airport",
          "Lyon–Saint-Exupéry Airport",
          "Porto Airport",
          "Glasgow Airport",
          "Boryspil International Airport",
          "Marseille Provence Airport",
          "Toulouse–Blagnac Airport",
          "Catania-Fontanarossa Airport",
          "Bologna Guglielmo Marconi Airport",
          "Faro Airport",
          "Bristol Airport",
          "Ibiza Airport",
          "EuroAirport Basel Mulhouse Freiburg",
          "Brussels South Charleroi Airport",
          "Keflavík International Airport",
          "Naples Airport",
          "Heraklion International Airport",
          "Göteborg Landvetter Airport",
          "Bergen Airport, Flesland",
          "Valencia Airport",
          "Bordeaux – Mérignac Airport",
          "Thessaloniki International Airport, \"Macedonia\"",
          "Langenhagen Airport",
          "Riga International Airport",
          "Rome Ciampino Airport",
          "Falcone–Borsellino Airport",
          "Simferopol International Airport",
          "Belfast International Airport",
          "Malta International Airport",
          "Galileo Galilei Airport",
          "John Paul II International Airport Kraków–Balice",
          "Sofia Airport",
          "Rhodes International Airport",
          "Belgrade Nikola Tesla Airport",
          "Newcastle Airport",
          "Eindhoven Airport",
          "Nantes Atlantique Airport",
          "Liverpool John Lennon Airport",
          "East Midlands Airport",
          "San Pablo Airport",
          "Bilbao Airport",
          "London City Airport",
          "Trondheim Airport",
          "Bari Airport",
          "Stavanger Airport",
          "Gdańsk Lech Wałęsa Airport",
          "Beauvais Airport",
          "Turin Airport",
          "Vilnius Airport",
          "Cagliari Airport",
          "Leeds Bradford Airport",
          "Nuremberg Airport"
         ],
         "categoryorder": "array",
         "domain": [
          0,
          1
         ],
         "title": {
          "text": "Airport"
         }
        },
        "yaxis": {
         "anchor": "x",
         "domain": [
          0,
          1
         ],
         "title": {
          "text": "Passengers2016"
         }
        }
       }
      }
     },
     "metadata": {},
     "output_type": "display_data"
    }
   ],
   "source": [
    "px.line(concurrencia_ordenada, y=\"Passengers2016\", x=\"Airport\", title=\"Tendencia en el número de pasajeros en 2016\", template=\"plotly_dark\", markers=True, color=\"Airport\", width=1700, height=800)"
   ]
  },
  {
   "cell_type": "code",
   "execution_count": 75,
   "metadata": {},
   "outputs": [],
   "source": [
    "fig=px.line(concurrencia_ordenada, y=\"Passengers2016\", x=\"Airport\", title=\"Tendencia en el número de pasajeros en 2016\", template=\"plotly_dark\", markers=True, color=\"Airport\", width=1700, height=800)\n",
    "fig.write_html(\"Tendencia en el número de pasajeros en 2016.html\")"
   ]
  },
  {
   "cell_type": "markdown",
   "metadata": {},
   "source": [
    "2.11- Crea un diagrama de violín para comparar la distribución del cambio de pasajeros (2016-2015) entre los países representados en el dataset."
   ]
  },
  {
   "cell_type": "code",
   "execution_count": 35,
   "metadata": {},
   "outputs": [
    {
     "data": {
      "application/vnd.plotly.v1+json": {
       "config": {
        "plotlyServerURL": "https://plot.ly"
       },
       "data": [
        {
         "alignmentgroup": "True",
         "box": {
          "visible": true
         },
         "hovertemplate": "Country=%{y}<br>Change 2016-2015-Num=%{x}<extra></extra>",
         "legendgroup": "United Kingdom",
         "marker": {
          "color": "#636efa"
         },
         "name": "United Kingdom",
         "offsetgroup": "United Kingdom",
         "orientation": "h",
         "points": "all",
         "scalegroup": "True",
         "showlegend": true,
         "type": "violin",
         "x": [
          725655,
          2850541,
          2501007,
          1800893,
          2288269,
          1233838,
          1458212,
          632091,
          823990,
          756254,
          245060,
          477444,
          202956,
          219612,
          165230
         ],
         "x0": " ",
         "xaxis": "x",
         "y": [
          "United Kingdom",
          "United Kingdom",
          "United Kingdom",
          "United Kingdom",
          "United Kingdom",
          "United Kingdom",
          "United Kingdom",
          "United Kingdom",
          "United Kingdom",
          "United Kingdom",
          "United Kingdom",
          "United Kingdom",
          "United Kingdom",
          "United Kingdom",
          "United Kingdom"
         ],
         "y0": " ",
         "yaxis": "y"
        },
        {
         "alignmentgroup": "True",
         "box": {
          "visible": true
         },
         "hovertemplate": "Country=%{y}<br>Change 2016-2015-Num=%{x}<extra></extra>",
         "legendgroup": "France",
         "marker": {
          "color": "#EF553B"
         },
         "name": "France",
         "offsetgroup": "France",
         "orientation": "h",
         "points": "all",
         "scalegroup": "True",
         "showlegend": true,
         "type": "violin",
         "x": [
          166159,
          1572872,
          410697,
          849896,
          214005,
          412125,
          456275,
          383971,
          -332157
         ],
         "x0": " ",
         "xaxis": "x",
         "y": [
          "France",
          "France",
          "France",
          "France",
          "France",
          "France",
          "France",
          "France",
          "France"
         ],
         "y0": " ",
         "yaxis": "y"
        },
        {
         "alignmentgroup": "True",
         "box": {
          "visible": true
         },
         "hovertemplate": "Country=%{y}<br>Change 2016-2015-Num=%{x}<extra></extra>",
         "legendgroup": "Netherlands",
         "marker": {
          "color": "#00cc96"
         },
         "name": "Netherlands",
         "offsetgroup": "Netherlands",
         "orientation": "h",
         "points": "all",
         "scalegroup": "True",
         "showlegend": true,
         "type": "violin",
         "x": [
          5340816,
          406315
         ],
         "x0": " ",
         "xaxis": "x",
         "y": [
          "Netherlands",
          "Netherlands"
         ],
         "y0": " ",
         "yaxis": "y"
        },
        {
         "alignmentgroup": "True",
         "box": {
          "visible": true
         },
         "hovertemplate": "Country=%{y}<br>Change 2016-2015-Num=%{x}<extra></extra>",
         "legendgroup": "Germany",
         "marker": {
          "color": "#ab63fa"
         },
         "name": "Germany",
         "offsetgroup": "Germany",
         "orientation": "h",
         "points": "all",
         "scalegroup": "True",
         "showlegend": true,
         "type": "violin",
         "x": [
          -245085,
          1279787,
          1045234,
          248763,
          614082,
          1571763,
          3126654,
          114205,
          -43855,
          103691
         ],
         "x0": " ",
         "xaxis": "x",
         "y": [
          "Germany",
          "Germany",
          "Germany",
          "Germany",
          "Germany",
          "Germany",
          "Germany",
          "Germany",
          "Germany",
          "Germany"
         ],
         "y0": " ",
         "yaxis": "y"
        },
        {
         "alignmentgroup": "True",
         "box": {
          "visible": true
         },
         "hovertemplate": "Country=%{y}<br>Change 2016-2015-Num=%{x}<extra></extra>",
         "legendgroup": "Turkey",
         "marker": {
          "color": "#FFA15A"
         },
         "name": "Turkey",
         "offsetgroup": "Turkey",
         "orientation": "h",
         "points": "all",
         "scalegroup": "True",
         "showlegend": true,
         "type": "violin",
         "x": [
          -907259
         ],
         "x0": " ",
         "xaxis": "x",
         "y": [
          "Turkey"
         ],
         "y0": " ",
         "yaxis": "y"
        },
        {
         "alignmentgroup": "True",
         "box": {
          "visible": true
         },
         "hovertemplate": "Country=%{y}<br>Change 2016-2015-Num=%{x}<extra></extra>",
         "legendgroup": "Spain",
         "marker": {
          "color": "#19d3f3"
         },
         "name": "Spain",
         "offsetgroup": "Spain",
         "orientation": "h",
         "points": "all",
         "scalegroup": "True",
         "showlegend": true,
         "type": "violin",
         "x": [
          3595745,
          4443456,
          2508859,
          2268570,
          1769657,
          939085,
          743977,
          315193,
          310540
         ],
         "x0": " ",
         "xaxis": "x",
         "y": [
          "Spain",
          "Spain",
          "Spain",
          "Spain",
          "Spain",
          "Spain",
          "Spain",
          "Spain",
          "Spain"
         ],
         "y0": " ",
         "yaxis": "y"
        },
        {
         "alignmentgroup": "True",
         "box": {
          "visible": true
         },
         "hovertemplate": "Country=%{y}<br>Change 2016-2015-Num=%{x}<extra></extra>",
         "legendgroup": "Italy",
         "marker": {
          "color": "#FF6692"
         },
         "name": "Italy",
         "offsetgroup": "Italy",
         "orientation": "h",
         "points": "all",
         "scalegroup": "True",
         "showlegend": true,
         "type": "violin",
         "x": [
          1281561,
          838647,
          755006,
          -7371,
          873720,
          808630,
          791250,
          612800,
          -438502,
          414768,
          184722,
          350692,
          283986,
          -24427
         ],
         "x0": " ",
         "xaxis": "x",
         "y": [
          "Italy",
          "Italy",
          "Italy",
          "Italy",
          "Italy",
          "Italy",
          "Italy",
          "Italy",
          "Italy",
          "Italy",
          "Italy",
          "Italy",
          "Italy",
          "Italy"
         ],
         "y0": " ",
         "yaxis": "y"
        },
        {
         "alignmentgroup": "True",
         "box": {
          "visible": true
         },
         "hovertemplate": "Country=%{y}<br>Change 2016-2015-Num=%{x}<extra></extra>",
         "legendgroup": "Russia",
         "marker": {
          "color": "#B6E880"
         },
         "name": "Russia",
         "offsetgroup": "Russia",
         "orientation": "h",
         "points": "all",
         "scalegroup": "True",
         "showlegend": true,
         "type": "violin",
         "x": [
          2376984,
          -2004256,
          -1868441,
          -236417
         ],
         "x0": " ",
         "xaxis": "x",
         "y": [
          "Russia",
          "Russia",
          "Russia",
          "Russia"
         ],
         "y0": " ",
         "yaxis": "y"
        },
        {
         "alignmentgroup": "True",
         "box": {
          "visible": true
         },
         "hovertemplate": "Country=%{y}<br>Change 2016-2015-Num=%{x}<extra></extra>",
         "legendgroup": "Denmark",
         "marker": {
          "color": "#FF97FF"
         },
         "name": "Denmark",
         "offsetgroup": "Denmark",
         "orientation": "h",
         "points": "all",
         "scalegroup": "True",
         "showlegend": true,
         "type": "violin",
         "x": [
          2432955
         ],
         "x0": " ",
         "xaxis": "x",
         "y": [
          "Denmark"
         ],
         "y0": " ",
         "yaxis": "y"
        },
        {
         "alignmentgroup": "True",
         "box": {
          "visible": true
         },
         "hovertemplate": "Country=%{y}<br>Change 2016-2015-Num=%{x}<extra></extra>",
         "legendgroup": "Ireland",
         "marker": {
          "color": "#FECB52"
         },
         "name": "Ireland",
         "offsetgroup": "Ireland",
         "orientation": "h",
         "points": "all",
         "scalegroup": "True",
         "showlegend": true,
         "type": "violin",
         "x": [
          2858065
         ],
         "x0": " ",
         "xaxis": "x",
         "y": [
          "Ireland"
         ],
         "y0": " ",
         "yaxis": "y"
        },
        {
         "alignmentgroup": "True",
         "box": {
          "visible": true
         },
         "hovertemplate": "Country=%{y}<br>Change 2016-2015-Num=%{x}<extra></extra>",
         "legendgroup": "Switzerland",
         "marker": {
          "color": "#636efa"
         },
         "name": "Switzerland",
         "offsetgroup": "Switzerland",
         "orientation": "h",
         "points": "all",
         "scalegroup": "True",
         "showlegend": true,
         "type": "violin",
         "x": [
          1385200,
          760609
         ],
         "x0": " ",
         "xaxis": "x",
         "y": [
          "Switzerland",
          "Switzerland"
         ],
         "y0": " ",
         "yaxis": "y"
        },
        {
         "alignmentgroup": "True",
         "box": {
          "visible": true
         },
         "hovertemplate": "Country=%{y}<br>Change 2016-2015-Num=%{x}<extra></extra>",
         "legendgroup": "Norway",
         "marker": {
          "color": "#EF553B"
         },
         "name": "Norway",
         "offsetgroup": "Norway",
         "orientation": "h",
         "points": "all",
         "scalegroup": "True",
         "showlegend": true,
         "type": "violin",
         "x": [
          1109496,
          -71806,
          64769,
          -305817
         ],
         "x0": " ",
         "xaxis": "x",
         "y": [
          "Norway",
          "Norway",
          "Norway",
          "Norway"
         ],
         "y0": " ",
         "yaxis": "y"
        },
        {
         "alignmentgroup": "True",
         "box": {
          "visible": true
         },
         "hovertemplate": "Country=%{y}<br>Change 2016-2015-Num=%{x}<extra></extra>",
         "legendgroup": "Sweden",
         "marker": {
          "color": "#00cc96"
         },
         "name": "Sweden",
         "offsetgroup": "Sweden",
         "orientation": "h",
         "points": "all",
         "scalegroup": "True",
         "showlegend": true,
         "type": "violin",
         "x": [
          1539930,
          211062
         ],
         "x0": " ",
         "xaxis": "x",
         "y": [
          "Sweden",
          "Sweden"
         ],
         "y0": " ",
         "yaxis": "y"
        },
        {
         "alignmentgroup": "True",
         "box": {
          "visible": true
         },
         "hovertemplate": "Country=%{y}<br>Change 2016-2015-Num=%{x}<extra></extra>",
         "legendgroup": "Austria",
         "marker": {
          "color": "#ab63fa"
         },
         "name": "Austria",
         "offsetgroup": "Austria",
         "orientation": "h",
         "points": "all",
         "scalegroup": "True",
         "showlegend": true,
         "type": "violin",
         "x": [
          576962
         ],
         "x0": " ",
         "xaxis": "x",
         "y": [
          "Austria"
         ],
         "y0": " ",
         "yaxis": "y"
        },
        {
         "alignmentgroup": "True",
         "box": {
          "visible": true
         },
         "hovertemplate": "Country=%{y}<br>Change 2016-2015-Num=%{x}<extra></extra>",
         "legendgroup": "Portugal",
         "marker": {
          "color": "#FFA15A"
         },
         "name": "Portugal",
         "offsetgroup": "Portugal",
         "orientation": "h",
         "points": "all",
         "scalegroup": "True",
         "showlegend": true,
         "type": "violin",
         "x": [
          2358871,
          1290342,
          1194028
         ],
         "x0": " ",
         "xaxis": "x",
         "y": [
          "Portugal",
          "Portugal",
          "Portugal"
         ],
         "y0": " ",
         "yaxis": "y"
        },
        {
         "alignmentgroup": "True",
         "box": {
          "visible": true
         },
         "hovertemplate": "Country=%{y}<br>Change 2016-2015-Num=%{x}<extra></extra>",
         "legendgroup": "Belgium",
         "marker": {
          "color": "#19d3f3"
         },
         "name": "Belgium",
         "offsetgroup": "Belgium",
         "orientation": "h",
         "points": "all",
         "scalegroup": "True",
         "showlegend": true,
         "type": "violin",
         "x": [
          -1641600,
          347418
         ],
         "x0": " ",
         "xaxis": "x",
         "y": [
          "Belgium",
          "Belgium"
         ],
         "y0": " ",
         "yaxis": "y"
        },
        {
         "alignmentgroup": "True",
         "box": {
          "visible": true
         },
         "hovertemplate": "Country=%{y}<br>Change 2016-2015-Num=%{x}<extra></extra>",
         "legendgroup": "Greece",
         "marker": {
          "color": "#FF6692"
         },
         "name": "Greece",
         "offsetgroup": "Greece",
         "orientation": "h",
         "points": "all",
         "scalegroup": "True",
         "showlegend": true,
         "type": "violin",
         "x": [
          1930153,
          685391,
          346032,
          363363
         ],
         "x0": " ",
         "xaxis": "x",
         "y": [
          "Greece",
          "Greece",
          "Greece",
          "Greece"
         ],
         "y0": " ",
         "yaxis": "y"
        },
        {
         "alignmentgroup": "True",
         "box": {
          "visible": true
         },
         "hovertemplate": "Country=%{y}<br>Change 2016-2015-Num=%{x}<extra></extra>",
         "legendgroup": "Finland",
         "marker": {
          "color": "#B6E880"
         },
         "name": "Finland",
         "offsetgroup": "Finland",
         "orientation": "h",
         "points": "all",
         "scalegroup": "True",
         "showlegend": true,
         "type": "violin",
         "x": [
          762415
         ],
         "x0": " ",
         "xaxis": "x",
         "y": [
          "Finland"
         ],
         "y0": " ",
         "yaxis": "y"
        },
        {
         "alignmentgroup": "True",
         "box": {
          "visible": true
         },
         "hovertemplate": "Country=%{y}<br>Change 2016-2015-Num=%{x}<extra></extra>",
         "legendgroup": "Czech Republic",
         "marker": {
          "color": "#FF97FF"
         },
         "name": "Czech Republic",
         "offsetgroup": "Czech Republic",
         "orientation": "h",
         "points": "all",
         "scalegroup": "True",
         "showlegend": true,
         "type": "violin",
         "x": [
          1043589
         ],
         "x0": " ",
         "xaxis": "x",
         "y": [
          "Czech Republic"
         ],
         "y0": " ",
         "yaxis": "y"
        },
        {
         "alignmentgroup": "True",
         "box": {
          "visible": true
         },
         "hovertemplate": "Country=%{y}<br>Change 2016-2015-Num=%{x}<extra></extra>",
         "legendgroup": "Poland",
         "marker": {
          "color": "#FECB52"
         },
         "name": "Poland",
         "offsetgroup": "Poland",
         "orientation": "h",
         "points": "all",
         "scalegroup": "True",
         "showlegend": true,
         "type": "violin",
         "x": [
          1608668,
          762474,
          297901
         ],
         "x0": " ",
         "xaxis": "x",
         "y": [
          "Poland",
          "Poland",
          "Poland"
         ],
         "y0": " ",
         "yaxis": "y"
        },
        {
         "alignmentgroup": "True",
         "box": {
          "visible": true
         },
         "hovertemplate": "Country=%{y}<br>Change 2016-2015-Num=%{x}<extra></extra>",
         "legendgroup": "Hungary",
         "marker": {
          "color": "#636efa"
         },
         "name": "Hungary",
         "offsetgroup": "Hungary",
         "orientation": "h",
         "points": "all",
         "scalegroup": "True",
         "showlegend": true,
         "type": "violin",
         "x": [
          1143036
         ],
         "x0": " ",
         "xaxis": "x",
         "y": [
          "Hungary"
         ],
         "y0": " ",
         "yaxis": "y"
        },
        {
         "alignmentgroup": "True",
         "box": {
          "visible": true
         },
         "hovertemplate": "Country=%{y}<br>Change 2016-2015-Num=%{x}<extra></extra>",
         "legendgroup": "Romania",
         "marker": {
          "color": "#EF553B"
         },
         "name": "Romania",
         "offsetgroup": "Romania",
         "orientation": "h",
         "points": "all",
         "scalegroup": "True",
         "showlegend": true,
         "type": "violin",
         "x": [
          1708338
         ],
         "x0": " ",
         "xaxis": "x",
         "y": [
          "Romania"
         ],
         "y0": " ",
         "yaxis": "y"
        },
        {
         "alignmentgroup": "True",
         "box": {
          "visible": true
         },
         "hovertemplate": "Country=%{y}<br>Change 2016-2015-Num=%{x}<extra></extra>",
         "legendgroup": "Ukraine",
         "marker": {
          "color": "#00cc96"
         },
         "name": "Ukraine",
         "offsetgroup": "Ukraine",
         "orientation": "h",
         "points": "all",
         "scalegroup": "True",
         "showlegend": true,
         "type": "violin",
         "x": [
          1372865
         ],
         "x0": " ",
         "xaxis": "x",
         "y": [
          "Ukraine"
         ],
         "y0": " ",
         "yaxis": "y"
        },
        {
         "alignmentgroup": "True",
         "box": {
          "visible": true
         },
         "hovertemplate": "Country=%{y}<br>Change 2016-2015-Num=%{x}<extra></extra>",
         "legendgroup": "France   Switzerland  Germany",
         "marker": {
          "color": "#ab63fa"
         },
         "name": "France   Switzerland  Germany",
         "offsetgroup": "France   Switzerland  Germany",
         "orientation": "h",
         "points": "all",
         "scalegroup": "True",
         "showlegend": true,
         "type": "violin",
         "x": [
          253210
         ],
         "x0": " ",
         "xaxis": "x",
         "y": [
          "France   Switzerland  Germany"
         ],
         "y0": " ",
         "yaxis": "y"
        },
        {
         "alignmentgroup": "True",
         "box": {
          "visible": true
         },
         "hovertemplate": "Country=%{y}<br>Change 2016-2015-Num=%{x}<extra></extra>",
         "legendgroup": "Iceland",
         "marker": {
          "color": "#FFA15A"
         },
         "name": "Iceland",
         "offsetgroup": "Iceland",
         "orientation": "h",
         "points": "all",
         "scalegroup": "True",
         "showlegend": true,
         "type": "violin",
         "x": [
          1965853
         ],
         "x0": " ",
         "xaxis": "x",
         "y": [
          "Iceland"
         ],
         "y0": " ",
         "yaxis": "y"
        },
        {
         "alignmentgroup": "True",
         "box": {
          "visible": true
         },
         "hovertemplate": "Country=%{y}<br>Change 2016-2015-Num=%{x}<extra></extra>",
         "legendgroup": "Latvia",
         "marker": {
          "color": "#19d3f3"
         },
         "name": "Latvia",
         "offsetgroup": "Latvia",
         "orientation": "h",
         "points": "all",
         "scalegroup": "True",
         "showlegend": true,
         "type": "violin",
         "x": [
          238094
         ],
         "x0": " ",
         "xaxis": "x",
         "y": [
          "Latvia"
         ],
         "y0": " ",
         "yaxis": "y"
        },
        {
         "alignmentgroup": "True",
         "box": {
          "visible": true
         },
         "hovertemplate": "Country=%{y}<br>Change 2016-2015-Num=%{x}<extra></extra>",
         "legendgroup": "Russia[note 1]",
         "marker": {
          "color": "#FF6692"
         },
         "name": "Russia[note 1]",
         "offsetgroup": "Russia[note 1]",
         "orientation": "h",
         "points": "all",
         "scalegroup": "True",
         "showlegend": true,
         "type": "violin",
         "x": [
          183932
         ],
         "x0": " ",
         "xaxis": "x",
         "y": [
          "Russia[note 1]"
         ],
         "y0": " ",
         "yaxis": "y"
        },
        {
         "alignmentgroup": "True",
         "box": {
          "visible": true
         },
         "hovertemplate": "Country=%{y}<br>Change 2016-2015-Num=%{x}<extra></extra>",
         "legendgroup": "Malta",
         "marker": {
          "color": "#B6E880"
         },
         "name": "Malta",
         "offsetgroup": "Malta",
         "orientation": "h",
         "points": "all",
         "scalegroup": "True",
         "showlegend": true,
         "type": "violin",
         "x": [
          461429
         ],
         "x0": " ",
         "xaxis": "x",
         "y": [
          "Malta"
         ],
         "y0": " ",
         "yaxis": "y"
        },
        {
         "alignmentgroup": "True",
         "box": {
          "visible": true
         },
         "hovertemplate": "Country=%{y}<br>Change 2016-2015-Num=%{x}<extra></extra>",
         "legendgroup": "Bulgaria",
         "marker": {
          "color": "#FF97FF"
         },
         "name": "Bulgaria",
         "offsetgroup": "Bulgaria",
         "orientation": "h",
         "points": "all",
         "scalegroup": "True",
         "showlegend": true,
         "type": "violin",
         "x": [
          891444
         ],
         "x0": " ",
         "xaxis": "x",
         "y": [
          "Bulgaria"
         ],
         "y0": " ",
         "yaxis": "y"
        },
        {
         "alignmentgroup": "True",
         "box": {
          "visible": true
         },
         "hovertemplate": "Country=%{y}<br>Change 2016-2015-Num=%{x}<extra></extra>",
         "legendgroup": "Serbia",
         "marker": {
          "color": "#FECB52"
         },
         "name": "Serbia",
         "offsetgroup": "Serbia",
         "orientation": "h",
         "points": "all",
         "scalegroup": "True",
         "showlegend": true,
         "type": "violin",
         "x": [
          148882
         ],
         "x0": " ",
         "xaxis": "x",
         "y": [
          "Serbia"
         ],
         "y0": " ",
         "yaxis": "y"
        },
        {
         "alignmentgroup": "True",
         "box": {
          "visible": true
         },
         "hovertemplate": "Country=%{y}<br>Change 2016-2015-Num=%{x}<extra></extra>",
         "legendgroup": "Lithuania",
         "marker": {
          "color": "#636efa"
         },
         "name": "Lithuania",
         "offsetgroup": "Lithuania",
         "orientation": "h",
         "points": "all",
         "scalegroup": "True",
         "showlegend": true,
         "type": "violin",
         "x": [
          120890
         ],
         "x0": " ",
         "xaxis": "x",
         "y": [
          "Lithuania"
         ],
         "y0": " ",
         "yaxis": "y"
        }
       ],
       "layout": {
        "height": 600,
        "legend": {
         "title": {
          "text": "Country"
         },
         "tracegroupgap": 0
        },
        "template": {
         "data": {
          "bar": [
           {
            "error_x": {
             "color": "#f2f5fa"
            },
            "error_y": {
             "color": "#f2f5fa"
            },
            "marker": {
             "line": {
              "color": "rgb(17,17,17)",
              "width": 0.5
             },
             "pattern": {
              "fillmode": "overlay",
              "size": 10,
              "solidity": 0.2
             }
            },
            "type": "bar"
           }
          ],
          "barpolar": [
           {
            "marker": {
             "line": {
              "color": "rgb(17,17,17)",
              "width": 0.5
             },
             "pattern": {
              "fillmode": "overlay",
              "size": 10,
              "solidity": 0.2
             }
            },
            "type": "barpolar"
           }
          ],
          "carpet": [
           {
            "aaxis": {
             "endlinecolor": "#A2B1C6",
             "gridcolor": "#506784",
             "linecolor": "#506784",
             "minorgridcolor": "#506784",
             "startlinecolor": "#A2B1C6"
            },
            "baxis": {
             "endlinecolor": "#A2B1C6",
             "gridcolor": "#506784",
             "linecolor": "#506784",
             "minorgridcolor": "#506784",
             "startlinecolor": "#A2B1C6"
            },
            "type": "carpet"
           }
          ],
          "choropleth": [
           {
            "colorbar": {
             "outlinewidth": 0,
             "ticks": ""
            },
            "type": "choropleth"
           }
          ],
          "contour": [
           {
            "colorbar": {
             "outlinewidth": 0,
             "ticks": ""
            },
            "colorscale": [
             [
              0,
              "#0d0887"
             ],
             [
              0.1111111111111111,
              "#46039f"
             ],
             [
              0.2222222222222222,
              "#7201a8"
             ],
             [
              0.3333333333333333,
              "#9c179e"
             ],
             [
              0.4444444444444444,
              "#bd3786"
             ],
             [
              0.5555555555555556,
              "#d8576b"
             ],
             [
              0.6666666666666666,
              "#ed7953"
             ],
             [
              0.7777777777777778,
              "#fb9f3a"
             ],
             [
              0.8888888888888888,
              "#fdca26"
             ],
             [
              1,
              "#f0f921"
             ]
            ],
            "type": "contour"
           }
          ],
          "contourcarpet": [
           {
            "colorbar": {
             "outlinewidth": 0,
             "ticks": ""
            },
            "type": "contourcarpet"
           }
          ],
          "heatmap": [
           {
            "colorbar": {
             "outlinewidth": 0,
             "ticks": ""
            },
            "colorscale": [
             [
              0,
              "#0d0887"
             ],
             [
              0.1111111111111111,
              "#46039f"
             ],
             [
              0.2222222222222222,
              "#7201a8"
             ],
             [
              0.3333333333333333,
              "#9c179e"
             ],
             [
              0.4444444444444444,
              "#bd3786"
             ],
             [
              0.5555555555555556,
              "#d8576b"
             ],
             [
              0.6666666666666666,
              "#ed7953"
             ],
             [
              0.7777777777777778,
              "#fb9f3a"
             ],
             [
              0.8888888888888888,
              "#fdca26"
             ],
             [
              1,
              "#f0f921"
             ]
            ],
            "type": "heatmap"
           }
          ],
          "heatmapgl": [
           {
            "colorbar": {
             "outlinewidth": 0,
             "ticks": ""
            },
            "colorscale": [
             [
              0,
              "#0d0887"
             ],
             [
              0.1111111111111111,
              "#46039f"
             ],
             [
              0.2222222222222222,
              "#7201a8"
             ],
             [
              0.3333333333333333,
              "#9c179e"
             ],
             [
              0.4444444444444444,
              "#bd3786"
             ],
             [
              0.5555555555555556,
              "#d8576b"
             ],
             [
              0.6666666666666666,
              "#ed7953"
             ],
             [
              0.7777777777777778,
              "#fb9f3a"
             ],
             [
              0.8888888888888888,
              "#fdca26"
             ],
             [
              1,
              "#f0f921"
             ]
            ],
            "type": "heatmapgl"
           }
          ],
          "histogram": [
           {
            "marker": {
             "pattern": {
              "fillmode": "overlay",
              "size": 10,
              "solidity": 0.2
             }
            },
            "type": "histogram"
           }
          ],
          "histogram2d": [
           {
            "colorbar": {
             "outlinewidth": 0,
             "ticks": ""
            },
            "colorscale": [
             [
              0,
              "#0d0887"
             ],
             [
              0.1111111111111111,
              "#46039f"
             ],
             [
              0.2222222222222222,
              "#7201a8"
             ],
             [
              0.3333333333333333,
              "#9c179e"
             ],
             [
              0.4444444444444444,
              "#bd3786"
             ],
             [
              0.5555555555555556,
              "#d8576b"
             ],
             [
              0.6666666666666666,
              "#ed7953"
             ],
             [
              0.7777777777777778,
              "#fb9f3a"
             ],
             [
              0.8888888888888888,
              "#fdca26"
             ],
             [
              1,
              "#f0f921"
             ]
            ],
            "type": "histogram2d"
           }
          ],
          "histogram2dcontour": [
           {
            "colorbar": {
             "outlinewidth": 0,
             "ticks": ""
            },
            "colorscale": [
             [
              0,
              "#0d0887"
             ],
             [
              0.1111111111111111,
              "#46039f"
             ],
             [
              0.2222222222222222,
              "#7201a8"
             ],
             [
              0.3333333333333333,
              "#9c179e"
             ],
             [
              0.4444444444444444,
              "#bd3786"
             ],
             [
              0.5555555555555556,
              "#d8576b"
             ],
             [
              0.6666666666666666,
              "#ed7953"
             ],
             [
              0.7777777777777778,
              "#fb9f3a"
             ],
             [
              0.8888888888888888,
              "#fdca26"
             ],
             [
              1,
              "#f0f921"
             ]
            ],
            "type": "histogram2dcontour"
           }
          ],
          "mesh3d": [
           {
            "colorbar": {
             "outlinewidth": 0,
             "ticks": ""
            },
            "type": "mesh3d"
           }
          ],
          "parcoords": [
           {
            "line": {
             "colorbar": {
              "outlinewidth": 0,
              "ticks": ""
             }
            },
            "type": "parcoords"
           }
          ],
          "pie": [
           {
            "automargin": true,
            "type": "pie"
           }
          ],
          "scatter": [
           {
            "marker": {
             "line": {
              "color": "#283442"
             }
            },
            "type": "scatter"
           }
          ],
          "scatter3d": [
           {
            "line": {
             "colorbar": {
              "outlinewidth": 0,
              "ticks": ""
             }
            },
            "marker": {
             "colorbar": {
              "outlinewidth": 0,
              "ticks": ""
             }
            },
            "type": "scatter3d"
           }
          ],
          "scattercarpet": [
           {
            "marker": {
             "colorbar": {
              "outlinewidth": 0,
              "ticks": ""
             }
            },
            "type": "scattercarpet"
           }
          ],
          "scattergeo": [
           {
            "marker": {
             "colorbar": {
              "outlinewidth": 0,
              "ticks": ""
             }
            },
            "type": "scattergeo"
           }
          ],
          "scattergl": [
           {
            "marker": {
             "line": {
              "color": "#283442"
             }
            },
            "type": "scattergl"
           }
          ],
          "scattermapbox": [
           {
            "marker": {
             "colorbar": {
              "outlinewidth": 0,
              "ticks": ""
             }
            },
            "type": "scattermapbox"
           }
          ],
          "scatterpolar": [
           {
            "marker": {
             "colorbar": {
              "outlinewidth": 0,
              "ticks": ""
             }
            },
            "type": "scatterpolar"
           }
          ],
          "scatterpolargl": [
           {
            "marker": {
             "colorbar": {
              "outlinewidth": 0,
              "ticks": ""
             }
            },
            "type": "scatterpolargl"
           }
          ],
          "scatterternary": [
           {
            "marker": {
             "colorbar": {
              "outlinewidth": 0,
              "ticks": ""
             }
            },
            "type": "scatterternary"
           }
          ],
          "surface": [
           {
            "colorbar": {
             "outlinewidth": 0,
             "ticks": ""
            },
            "colorscale": [
             [
              0,
              "#0d0887"
             ],
             [
              0.1111111111111111,
              "#46039f"
             ],
             [
              0.2222222222222222,
              "#7201a8"
             ],
             [
              0.3333333333333333,
              "#9c179e"
             ],
             [
              0.4444444444444444,
              "#bd3786"
             ],
             [
              0.5555555555555556,
              "#d8576b"
             ],
             [
              0.6666666666666666,
              "#ed7953"
             ],
             [
              0.7777777777777778,
              "#fb9f3a"
             ],
             [
              0.8888888888888888,
              "#fdca26"
             ],
             [
              1,
              "#f0f921"
             ]
            ],
            "type": "surface"
           }
          ],
          "table": [
           {
            "cells": {
             "fill": {
              "color": "#506784"
             },
             "line": {
              "color": "rgb(17,17,17)"
             }
            },
            "header": {
             "fill": {
              "color": "#2a3f5f"
             },
             "line": {
              "color": "rgb(17,17,17)"
             }
            },
            "type": "table"
           }
          ]
         },
         "layout": {
          "annotationdefaults": {
           "arrowcolor": "#f2f5fa",
           "arrowhead": 0,
           "arrowwidth": 1
          },
          "autotypenumbers": "strict",
          "coloraxis": {
           "colorbar": {
            "outlinewidth": 0,
            "ticks": ""
           }
          },
          "colorscale": {
           "diverging": [
            [
             0,
             "#8e0152"
            ],
            [
             0.1,
             "#c51b7d"
            ],
            [
             0.2,
             "#de77ae"
            ],
            [
             0.3,
             "#f1b6da"
            ],
            [
             0.4,
             "#fde0ef"
            ],
            [
             0.5,
             "#f7f7f7"
            ],
            [
             0.6,
             "#e6f5d0"
            ],
            [
             0.7,
             "#b8e186"
            ],
            [
             0.8,
             "#7fbc41"
            ],
            [
             0.9,
             "#4d9221"
            ],
            [
             1,
             "#276419"
            ]
           ],
           "sequential": [
            [
             0,
             "#0d0887"
            ],
            [
             0.1111111111111111,
             "#46039f"
            ],
            [
             0.2222222222222222,
             "#7201a8"
            ],
            [
             0.3333333333333333,
             "#9c179e"
            ],
            [
             0.4444444444444444,
             "#bd3786"
            ],
            [
             0.5555555555555556,
             "#d8576b"
            ],
            [
             0.6666666666666666,
             "#ed7953"
            ],
            [
             0.7777777777777778,
             "#fb9f3a"
            ],
            [
             0.8888888888888888,
             "#fdca26"
            ],
            [
             1,
             "#f0f921"
            ]
           ],
           "sequentialminus": [
            [
             0,
             "#0d0887"
            ],
            [
             0.1111111111111111,
             "#46039f"
            ],
            [
             0.2222222222222222,
             "#7201a8"
            ],
            [
             0.3333333333333333,
             "#9c179e"
            ],
            [
             0.4444444444444444,
             "#bd3786"
            ],
            [
             0.5555555555555556,
             "#d8576b"
            ],
            [
             0.6666666666666666,
             "#ed7953"
            ],
            [
             0.7777777777777778,
             "#fb9f3a"
            ],
            [
             0.8888888888888888,
             "#fdca26"
            ],
            [
             1,
             "#f0f921"
            ]
           ]
          },
          "colorway": [
           "#636efa",
           "#EF553B",
           "#00cc96",
           "#ab63fa",
           "#FFA15A",
           "#19d3f3",
           "#FF6692",
           "#B6E880",
           "#FF97FF",
           "#FECB52"
          ],
          "font": {
           "color": "#f2f5fa"
          },
          "geo": {
           "bgcolor": "rgb(17,17,17)",
           "lakecolor": "rgb(17,17,17)",
           "landcolor": "rgb(17,17,17)",
           "showlakes": true,
           "showland": true,
           "subunitcolor": "#506784"
          },
          "hoverlabel": {
           "align": "left"
          },
          "hovermode": "closest",
          "mapbox": {
           "style": "dark"
          },
          "paper_bgcolor": "rgb(17,17,17)",
          "plot_bgcolor": "rgb(17,17,17)",
          "polar": {
           "angularaxis": {
            "gridcolor": "#506784",
            "linecolor": "#506784",
            "ticks": ""
           },
           "bgcolor": "rgb(17,17,17)",
           "radialaxis": {
            "gridcolor": "#506784",
            "linecolor": "#506784",
            "ticks": ""
           }
          },
          "scene": {
           "xaxis": {
            "backgroundcolor": "rgb(17,17,17)",
            "gridcolor": "#506784",
            "gridwidth": 2,
            "linecolor": "#506784",
            "showbackground": true,
            "ticks": "",
            "zerolinecolor": "#C8D4E3"
           },
           "yaxis": {
            "backgroundcolor": "rgb(17,17,17)",
            "gridcolor": "#506784",
            "gridwidth": 2,
            "linecolor": "#506784",
            "showbackground": true,
            "ticks": "",
            "zerolinecolor": "#C8D4E3"
           },
           "zaxis": {
            "backgroundcolor": "rgb(17,17,17)",
            "gridcolor": "#506784",
            "gridwidth": 2,
            "linecolor": "#506784",
            "showbackground": true,
            "ticks": "",
            "zerolinecolor": "#C8D4E3"
           }
          },
          "shapedefaults": {
           "line": {
            "color": "#f2f5fa"
           }
          },
          "sliderdefaults": {
           "bgcolor": "#C8D4E3",
           "bordercolor": "rgb(17,17,17)",
           "borderwidth": 1,
           "tickwidth": 0
          },
          "ternary": {
           "aaxis": {
            "gridcolor": "#506784",
            "linecolor": "#506784",
            "ticks": ""
           },
           "baxis": {
            "gridcolor": "#506784",
            "linecolor": "#506784",
            "ticks": ""
           },
           "bgcolor": "rgb(17,17,17)",
           "caxis": {
            "gridcolor": "#506784",
            "linecolor": "#506784",
            "ticks": ""
           }
          },
          "title": {
           "x": 0.05
          },
          "updatemenudefaults": {
           "bgcolor": "#506784",
           "borderwidth": 0
          },
          "xaxis": {
           "automargin": true,
           "gridcolor": "#283442",
           "linecolor": "#506784",
           "ticks": "",
           "title": {
            "standoff": 15
           },
           "zerolinecolor": "#283442",
           "zerolinewidth": 2
          },
          "yaxis": {
           "automargin": true,
           "gridcolor": "#283442",
           "linecolor": "#506784",
           "ticks": "",
           "title": {
            "standoff": 15
           },
           "zerolinecolor": "#283442",
           "zerolinewidth": 2
          }
         }
        },
        "title": {
         "text": "Distribución del cambio en el número de pasajeros por países entre 2016-2015"
        },
        "violinmode": "overlay",
        "xaxis": {
         "anchor": "y",
         "domain": [
          0,
          1
         ],
         "title": {
          "text": "Change 2016-2015-Num"
         }
        },
        "yaxis": {
         "anchor": "x",
         "categoryarray": [
          "Lithuania",
          "Serbia",
          "Bulgaria",
          "Malta",
          "Russia[note 1]",
          "Latvia",
          "Iceland",
          "France   Switzerland  Germany",
          "Ukraine",
          "Romania",
          "Hungary",
          "Poland",
          "Czech Republic",
          "Finland",
          "Greece",
          "Belgium",
          "Portugal",
          "Austria",
          "Sweden",
          "Norway",
          "Switzerland",
          "Ireland",
          "Denmark",
          "Russia",
          "Italy",
          "Spain",
          "Turkey",
          "Germany",
          "Netherlands",
          "France",
          "United Kingdom"
         ],
         "categoryorder": "array",
         "domain": [
          0,
          1
         ],
         "title": {
          "text": "Country"
         }
        }
       }
      }
     },
     "metadata": {},
     "output_type": "display_data"
    }
   ],
   "source": [
    "px.violin(df, x=\"Change 2016-2015-Num\", y=\"Country\", color=\"Country\", title=\"Distribución del cambio en el número de pasajeros por países entre 2016-2015\",template=\"plotly_dark\", box=True, height=600, points=\"all\")"
   ]
  },
  {
   "cell_type": "code",
   "execution_count": 76,
   "metadata": {},
   "outputs": [],
   "source": [
    "fig=px.violin(df, x=\"Change 2016-2015-Num\", y=\"Country\", color=\"Country\", title=\"Distribución del cambio en el número de pasajeros por países entre 2016-2015\",template=\"plotly_dark\", box=True, height=600, points=\"all\")\n",
    "fig.write_html(\"Distribución del cambio en el número de pasajeros por países entre 2016-2015.html\")"
   ]
  },
  {
   "cell_type": "markdown",
   "metadata": {},
   "source": [
    "2.12- Genera un gráfico de áreas que ilustre cómo cambia el número de pasajeros entre los aeropuertos del top 5 en 2016."
   ]
  },
  {
   "cell_type": "code",
   "execution_count": 36,
   "metadata": {},
   "outputs": [
    {
     "data": {
      "text/html": [
       "<div>\n",
       "<style scoped>\n",
       "    .dataframe tbody tr th:only-of-type {\n",
       "        vertical-align: middle;\n",
       "    }\n",
       "\n",
       "    .dataframe tbody tr th {\n",
       "        vertical-align: top;\n",
       "    }\n",
       "\n",
       "    .dataframe thead th {\n",
       "        text-align: right;\n",
       "    }\n",
       "</style>\n",
       "<table border=\"1\" class=\"dataframe\">\n",
       "  <thead>\n",
       "    <tr style=\"text-align: right;\">\n",
       "      <th></th>\n",
       "      <th>Rank2016</th>\n",
       "      <th>Airport</th>\n",
       "      <th>City served</th>\n",
       "      <th>Country</th>\n",
       "      <th>Passengers2016</th>\n",
       "      <th>Passengers2015</th>\n",
       "      <th>Change 2016-2015-Num</th>\n",
       "      <th>Change 2016-2015-%</th>\n",
       "    </tr>\n",
       "  </thead>\n",
       "  <tbody>\n",
       "    <tr>\n",
       "      <th>0</th>\n",
       "      <td>1</td>\n",
       "      <td>Heathrow Airport</td>\n",
       "      <td>London</td>\n",
       "      <td>United Kingdom</td>\n",
       "      <td>75711130</td>\n",
       "      <td>74985475</td>\n",
       "      <td>725655</td>\n",
       "      <td>0.97</td>\n",
       "    </tr>\n",
       "    <tr>\n",
       "      <th>1</th>\n",
       "      <td>2</td>\n",
       "      <td>Charles de Gaulle Airport</td>\n",
       "      <td>Paris</td>\n",
       "      <td>France</td>\n",
       "      <td>65933145</td>\n",
       "      <td>65766986</td>\n",
       "      <td>166159</td>\n",
       "      <td>0.25</td>\n",
       "    </tr>\n",
       "    <tr>\n",
       "      <th>2</th>\n",
       "      <td>3</td>\n",
       "      <td>Amsterdam Airport Schiphol</td>\n",
       "      <td>Amsterdam</td>\n",
       "      <td>Netherlands</td>\n",
       "      <td>63625664</td>\n",
       "      <td>58284848</td>\n",
       "      <td>5340816</td>\n",
       "      <td>9.16</td>\n",
       "    </tr>\n",
       "    <tr>\n",
       "      <th>3</th>\n",
       "      <td>4</td>\n",
       "      <td>Frankfurt Airport</td>\n",
       "      <td>Frankfurt</td>\n",
       "      <td>Germany</td>\n",
       "      <td>60786937</td>\n",
       "      <td>61032022</td>\n",
       "      <td>-245085</td>\n",
       "      <td>-0.40</td>\n",
       "    </tr>\n",
       "    <tr>\n",
       "      <th>4</th>\n",
       "      <td>5</td>\n",
       "      <td>Istanbul Atatürk Airport</td>\n",
       "      <td>Istanbul</td>\n",
       "      <td>Turkey</td>\n",
       "      <td>60415470</td>\n",
       "      <td>61322729</td>\n",
       "      <td>-907259</td>\n",
       "      <td>-1.48</td>\n",
       "    </tr>\n",
       "  </tbody>\n",
       "</table>\n",
       "</div>"
      ],
      "text/plain": [
       "   Rank2016                     Airport City served         Country  \\\n",
       "0         1            Heathrow Airport      London  United Kingdom   \n",
       "1         2   Charles de Gaulle Airport       Paris          France   \n",
       "2         3  Amsterdam Airport Schiphol   Amsterdam     Netherlands   \n",
       "3         4           Frankfurt Airport   Frankfurt         Germany   \n",
       "4         5    Istanbul Atatürk Airport    Istanbul          Turkey   \n",
       "\n",
       "   Passengers2016  Passengers2015  Change 2016-2015-Num  Change 2016-2015-%  \n",
       "0        75711130        74985475                725655                0.97  \n",
       "1        65933145        65766986                166159                0.25  \n",
       "2        63625664        58284848               5340816                9.16  \n",
       "3        60786937        61032022               -245085               -0.40  \n",
       "4        60415470        61322729               -907259               -1.48  "
      ]
     },
     "execution_count": 36,
     "metadata": {},
     "output_type": "execute_result"
    }
   ],
   "source": [
    "top5_aeropuertos=df.nlargest(5,\"Passengers2016\" )\n",
    "top5_aeropuertos"
   ]
  },
  {
   "cell_type": "code",
   "execution_count": 37,
   "metadata": {},
   "outputs": [
    {
     "data": {
      "application/vnd.plotly.v1+json": {
       "config": {
        "plotlyServerURL": "https://plot.ly"
       },
       "data": [
        {
         "fillpattern": {
          "shape": ""
         },
         "hovertemplate": "Airport=%{x}<br>Change 2016-2015-Num=%{y}<extra></extra>",
         "legendgroup": "Heathrow Airport",
         "line": {
          "color": "#636efa"
         },
         "marker": {
          "symbol": "circle"
         },
         "mode": "lines",
         "name": "Heathrow Airport",
         "orientation": "v",
         "showlegend": true,
         "stackgroup": "1",
         "type": "scatter",
         "x": [
          "Heathrow Airport"
         ],
         "xaxis": "x",
         "y": [
          725655
         ],
         "yaxis": "y"
        },
        {
         "fillpattern": {
          "shape": ""
         },
         "hovertemplate": "Airport=%{x}<br>Change 2016-2015-Num=%{y}<extra></extra>",
         "legendgroup": "Charles de Gaulle Airport",
         "line": {
          "color": "#EF553B"
         },
         "marker": {
          "symbol": "circle"
         },
         "mode": "lines",
         "name": "Charles de Gaulle Airport",
         "orientation": "v",
         "showlegend": true,
         "stackgroup": "1",
         "type": "scatter",
         "x": [
          "Charles de Gaulle Airport"
         ],
         "xaxis": "x",
         "y": [
          166159
         ],
         "yaxis": "y"
        },
        {
         "fillpattern": {
          "shape": ""
         },
         "hovertemplate": "Airport=%{x}<br>Change 2016-2015-Num=%{y}<extra></extra>",
         "legendgroup": "Amsterdam Airport Schiphol",
         "line": {
          "color": "#00cc96"
         },
         "marker": {
          "symbol": "circle"
         },
         "mode": "lines",
         "name": "Amsterdam Airport Schiphol",
         "orientation": "v",
         "showlegend": true,
         "stackgroup": "1",
         "type": "scatter",
         "x": [
          "Amsterdam Airport Schiphol"
         ],
         "xaxis": "x",
         "y": [
          5340816
         ],
         "yaxis": "y"
        },
        {
         "fillpattern": {
          "shape": ""
         },
         "hovertemplate": "Airport=%{x}<br>Change 2016-2015-Num=%{y}<extra></extra>",
         "legendgroup": "Frankfurt Airport",
         "line": {
          "color": "#ab63fa"
         },
         "marker": {
          "symbol": "circle"
         },
         "mode": "lines",
         "name": "Frankfurt Airport",
         "orientation": "v",
         "showlegend": true,
         "stackgroup": "1",
         "type": "scatter",
         "x": [
          "Frankfurt Airport"
         ],
         "xaxis": "x",
         "y": [
          -245085
         ],
         "yaxis": "y"
        },
        {
         "fillpattern": {
          "shape": ""
         },
         "hovertemplate": "Airport=%{x}<br>Change 2016-2015-Num=%{y}<extra></extra>",
         "legendgroup": "Istanbul Atatürk Airport",
         "line": {
          "color": "#FFA15A"
         },
         "marker": {
          "symbol": "circle"
         },
         "mode": "lines",
         "name": "Istanbul Atatürk Airport",
         "orientation": "v",
         "showlegend": true,
         "stackgroup": "1",
         "type": "scatter",
         "x": [
          "Istanbul Atatürk Airport"
         ],
         "xaxis": "x",
         "y": [
          -907259
         ],
         "yaxis": "y"
        }
       ],
       "layout": {
        "legend": {
         "title": {
          "text": "Airport"
         },
         "tracegroupgap": 0
        },
        "template": {
         "data": {
          "bar": [
           {
            "error_x": {
             "color": "#f2f5fa"
            },
            "error_y": {
             "color": "#f2f5fa"
            },
            "marker": {
             "line": {
              "color": "rgb(17,17,17)",
              "width": 0.5
             },
             "pattern": {
              "fillmode": "overlay",
              "size": 10,
              "solidity": 0.2
             }
            },
            "type": "bar"
           }
          ],
          "barpolar": [
           {
            "marker": {
             "line": {
              "color": "rgb(17,17,17)",
              "width": 0.5
             },
             "pattern": {
              "fillmode": "overlay",
              "size": 10,
              "solidity": 0.2
             }
            },
            "type": "barpolar"
           }
          ],
          "carpet": [
           {
            "aaxis": {
             "endlinecolor": "#A2B1C6",
             "gridcolor": "#506784",
             "linecolor": "#506784",
             "minorgridcolor": "#506784",
             "startlinecolor": "#A2B1C6"
            },
            "baxis": {
             "endlinecolor": "#A2B1C6",
             "gridcolor": "#506784",
             "linecolor": "#506784",
             "minorgridcolor": "#506784",
             "startlinecolor": "#A2B1C6"
            },
            "type": "carpet"
           }
          ],
          "choropleth": [
           {
            "colorbar": {
             "outlinewidth": 0,
             "ticks": ""
            },
            "type": "choropleth"
           }
          ],
          "contour": [
           {
            "colorbar": {
             "outlinewidth": 0,
             "ticks": ""
            },
            "colorscale": [
             [
              0,
              "#0d0887"
             ],
             [
              0.1111111111111111,
              "#46039f"
             ],
             [
              0.2222222222222222,
              "#7201a8"
             ],
             [
              0.3333333333333333,
              "#9c179e"
             ],
             [
              0.4444444444444444,
              "#bd3786"
             ],
             [
              0.5555555555555556,
              "#d8576b"
             ],
             [
              0.6666666666666666,
              "#ed7953"
             ],
             [
              0.7777777777777778,
              "#fb9f3a"
             ],
             [
              0.8888888888888888,
              "#fdca26"
             ],
             [
              1,
              "#f0f921"
             ]
            ],
            "type": "contour"
           }
          ],
          "contourcarpet": [
           {
            "colorbar": {
             "outlinewidth": 0,
             "ticks": ""
            },
            "type": "contourcarpet"
           }
          ],
          "heatmap": [
           {
            "colorbar": {
             "outlinewidth": 0,
             "ticks": ""
            },
            "colorscale": [
             [
              0,
              "#0d0887"
             ],
             [
              0.1111111111111111,
              "#46039f"
             ],
             [
              0.2222222222222222,
              "#7201a8"
             ],
             [
              0.3333333333333333,
              "#9c179e"
             ],
             [
              0.4444444444444444,
              "#bd3786"
             ],
             [
              0.5555555555555556,
              "#d8576b"
             ],
             [
              0.6666666666666666,
              "#ed7953"
             ],
             [
              0.7777777777777778,
              "#fb9f3a"
             ],
             [
              0.8888888888888888,
              "#fdca26"
             ],
             [
              1,
              "#f0f921"
             ]
            ],
            "type": "heatmap"
           }
          ],
          "heatmapgl": [
           {
            "colorbar": {
             "outlinewidth": 0,
             "ticks": ""
            },
            "colorscale": [
             [
              0,
              "#0d0887"
             ],
             [
              0.1111111111111111,
              "#46039f"
             ],
             [
              0.2222222222222222,
              "#7201a8"
             ],
             [
              0.3333333333333333,
              "#9c179e"
             ],
             [
              0.4444444444444444,
              "#bd3786"
             ],
             [
              0.5555555555555556,
              "#d8576b"
             ],
             [
              0.6666666666666666,
              "#ed7953"
             ],
             [
              0.7777777777777778,
              "#fb9f3a"
             ],
             [
              0.8888888888888888,
              "#fdca26"
             ],
             [
              1,
              "#f0f921"
             ]
            ],
            "type": "heatmapgl"
           }
          ],
          "histogram": [
           {
            "marker": {
             "pattern": {
              "fillmode": "overlay",
              "size": 10,
              "solidity": 0.2
             }
            },
            "type": "histogram"
           }
          ],
          "histogram2d": [
           {
            "colorbar": {
             "outlinewidth": 0,
             "ticks": ""
            },
            "colorscale": [
             [
              0,
              "#0d0887"
             ],
             [
              0.1111111111111111,
              "#46039f"
             ],
             [
              0.2222222222222222,
              "#7201a8"
             ],
             [
              0.3333333333333333,
              "#9c179e"
             ],
             [
              0.4444444444444444,
              "#bd3786"
             ],
             [
              0.5555555555555556,
              "#d8576b"
             ],
             [
              0.6666666666666666,
              "#ed7953"
             ],
             [
              0.7777777777777778,
              "#fb9f3a"
             ],
             [
              0.8888888888888888,
              "#fdca26"
             ],
             [
              1,
              "#f0f921"
             ]
            ],
            "type": "histogram2d"
           }
          ],
          "histogram2dcontour": [
           {
            "colorbar": {
             "outlinewidth": 0,
             "ticks": ""
            },
            "colorscale": [
             [
              0,
              "#0d0887"
             ],
             [
              0.1111111111111111,
              "#46039f"
             ],
             [
              0.2222222222222222,
              "#7201a8"
             ],
             [
              0.3333333333333333,
              "#9c179e"
             ],
             [
              0.4444444444444444,
              "#bd3786"
             ],
             [
              0.5555555555555556,
              "#d8576b"
             ],
             [
              0.6666666666666666,
              "#ed7953"
             ],
             [
              0.7777777777777778,
              "#fb9f3a"
             ],
             [
              0.8888888888888888,
              "#fdca26"
             ],
             [
              1,
              "#f0f921"
             ]
            ],
            "type": "histogram2dcontour"
           }
          ],
          "mesh3d": [
           {
            "colorbar": {
             "outlinewidth": 0,
             "ticks": ""
            },
            "type": "mesh3d"
           }
          ],
          "parcoords": [
           {
            "line": {
             "colorbar": {
              "outlinewidth": 0,
              "ticks": ""
             }
            },
            "type": "parcoords"
           }
          ],
          "pie": [
           {
            "automargin": true,
            "type": "pie"
           }
          ],
          "scatter": [
           {
            "marker": {
             "line": {
              "color": "#283442"
             }
            },
            "type": "scatter"
           }
          ],
          "scatter3d": [
           {
            "line": {
             "colorbar": {
              "outlinewidth": 0,
              "ticks": ""
             }
            },
            "marker": {
             "colorbar": {
              "outlinewidth": 0,
              "ticks": ""
             }
            },
            "type": "scatter3d"
           }
          ],
          "scattercarpet": [
           {
            "marker": {
             "colorbar": {
              "outlinewidth": 0,
              "ticks": ""
             }
            },
            "type": "scattercarpet"
           }
          ],
          "scattergeo": [
           {
            "marker": {
             "colorbar": {
              "outlinewidth": 0,
              "ticks": ""
             }
            },
            "type": "scattergeo"
           }
          ],
          "scattergl": [
           {
            "marker": {
             "line": {
              "color": "#283442"
             }
            },
            "type": "scattergl"
           }
          ],
          "scattermapbox": [
           {
            "marker": {
             "colorbar": {
              "outlinewidth": 0,
              "ticks": ""
             }
            },
            "type": "scattermapbox"
           }
          ],
          "scatterpolar": [
           {
            "marker": {
             "colorbar": {
              "outlinewidth": 0,
              "ticks": ""
             }
            },
            "type": "scatterpolar"
           }
          ],
          "scatterpolargl": [
           {
            "marker": {
             "colorbar": {
              "outlinewidth": 0,
              "ticks": ""
             }
            },
            "type": "scatterpolargl"
           }
          ],
          "scatterternary": [
           {
            "marker": {
             "colorbar": {
              "outlinewidth": 0,
              "ticks": ""
             }
            },
            "type": "scatterternary"
           }
          ],
          "surface": [
           {
            "colorbar": {
             "outlinewidth": 0,
             "ticks": ""
            },
            "colorscale": [
             [
              0,
              "#0d0887"
             ],
             [
              0.1111111111111111,
              "#46039f"
             ],
             [
              0.2222222222222222,
              "#7201a8"
             ],
             [
              0.3333333333333333,
              "#9c179e"
             ],
             [
              0.4444444444444444,
              "#bd3786"
             ],
             [
              0.5555555555555556,
              "#d8576b"
             ],
             [
              0.6666666666666666,
              "#ed7953"
             ],
             [
              0.7777777777777778,
              "#fb9f3a"
             ],
             [
              0.8888888888888888,
              "#fdca26"
             ],
             [
              1,
              "#f0f921"
             ]
            ],
            "type": "surface"
           }
          ],
          "table": [
           {
            "cells": {
             "fill": {
              "color": "#506784"
             },
             "line": {
              "color": "rgb(17,17,17)"
             }
            },
            "header": {
             "fill": {
              "color": "#2a3f5f"
             },
             "line": {
              "color": "rgb(17,17,17)"
             }
            },
            "type": "table"
           }
          ]
         },
         "layout": {
          "annotationdefaults": {
           "arrowcolor": "#f2f5fa",
           "arrowhead": 0,
           "arrowwidth": 1
          },
          "autotypenumbers": "strict",
          "coloraxis": {
           "colorbar": {
            "outlinewidth": 0,
            "ticks": ""
           }
          },
          "colorscale": {
           "diverging": [
            [
             0,
             "#8e0152"
            ],
            [
             0.1,
             "#c51b7d"
            ],
            [
             0.2,
             "#de77ae"
            ],
            [
             0.3,
             "#f1b6da"
            ],
            [
             0.4,
             "#fde0ef"
            ],
            [
             0.5,
             "#f7f7f7"
            ],
            [
             0.6,
             "#e6f5d0"
            ],
            [
             0.7,
             "#b8e186"
            ],
            [
             0.8,
             "#7fbc41"
            ],
            [
             0.9,
             "#4d9221"
            ],
            [
             1,
             "#276419"
            ]
           ],
           "sequential": [
            [
             0,
             "#0d0887"
            ],
            [
             0.1111111111111111,
             "#46039f"
            ],
            [
             0.2222222222222222,
             "#7201a8"
            ],
            [
             0.3333333333333333,
             "#9c179e"
            ],
            [
             0.4444444444444444,
             "#bd3786"
            ],
            [
             0.5555555555555556,
             "#d8576b"
            ],
            [
             0.6666666666666666,
             "#ed7953"
            ],
            [
             0.7777777777777778,
             "#fb9f3a"
            ],
            [
             0.8888888888888888,
             "#fdca26"
            ],
            [
             1,
             "#f0f921"
            ]
           ],
           "sequentialminus": [
            [
             0,
             "#0d0887"
            ],
            [
             0.1111111111111111,
             "#46039f"
            ],
            [
             0.2222222222222222,
             "#7201a8"
            ],
            [
             0.3333333333333333,
             "#9c179e"
            ],
            [
             0.4444444444444444,
             "#bd3786"
            ],
            [
             0.5555555555555556,
             "#d8576b"
            ],
            [
             0.6666666666666666,
             "#ed7953"
            ],
            [
             0.7777777777777778,
             "#fb9f3a"
            ],
            [
             0.8888888888888888,
             "#fdca26"
            ],
            [
             1,
             "#f0f921"
            ]
           ]
          },
          "colorway": [
           "#636efa",
           "#EF553B",
           "#00cc96",
           "#ab63fa",
           "#FFA15A",
           "#19d3f3",
           "#FF6692",
           "#B6E880",
           "#FF97FF",
           "#FECB52"
          ],
          "font": {
           "color": "#f2f5fa"
          },
          "geo": {
           "bgcolor": "rgb(17,17,17)",
           "lakecolor": "rgb(17,17,17)",
           "landcolor": "rgb(17,17,17)",
           "showlakes": true,
           "showland": true,
           "subunitcolor": "#506784"
          },
          "hoverlabel": {
           "align": "left"
          },
          "hovermode": "closest",
          "mapbox": {
           "style": "dark"
          },
          "paper_bgcolor": "rgb(17,17,17)",
          "plot_bgcolor": "rgb(17,17,17)",
          "polar": {
           "angularaxis": {
            "gridcolor": "#506784",
            "linecolor": "#506784",
            "ticks": ""
           },
           "bgcolor": "rgb(17,17,17)",
           "radialaxis": {
            "gridcolor": "#506784",
            "linecolor": "#506784",
            "ticks": ""
           }
          },
          "scene": {
           "xaxis": {
            "backgroundcolor": "rgb(17,17,17)",
            "gridcolor": "#506784",
            "gridwidth": 2,
            "linecolor": "#506784",
            "showbackground": true,
            "ticks": "",
            "zerolinecolor": "#C8D4E3"
           },
           "yaxis": {
            "backgroundcolor": "rgb(17,17,17)",
            "gridcolor": "#506784",
            "gridwidth": 2,
            "linecolor": "#506784",
            "showbackground": true,
            "ticks": "",
            "zerolinecolor": "#C8D4E3"
           },
           "zaxis": {
            "backgroundcolor": "rgb(17,17,17)",
            "gridcolor": "#506784",
            "gridwidth": 2,
            "linecolor": "#506784",
            "showbackground": true,
            "ticks": "",
            "zerolinecolor": "#C8D4E3"
           }
          },
          "shapedefaults": {
           "line": {
            "color": "#f2f5fa"
           }
          },
          "sliderdefaults": {
           "bgcolor": "#C8D4E3",
           "bordercolor": "rgb(17,17,17)",
           "borderwidth": 1,
           "tickwidth": 0
          },
          "ternary": {
           "aaxis": {
            "gridcolor": "#506784",
            "linecolor": "#506784",
            "ticks": ""
           },
           "baxis": {
            "gridcolor": "#506784",
            "linecolor": "#506784",
            "ticks": ""
           },
           "bgcolor": "rgb(17,17,17)",
           "caxis": {
            "gridcolor": "#506784",
            "linecolor": "#506784",
            "ticks": ""
           }
          },
          "title": {
           "x": 0.05
          },
          "updatemenudefaults": {
           "bgcolor": "#506784",
           "borderwidth": 0
          },
          "xaxis": {
           "automargin": true,
           "gridcolor": "#283442",
           "linecolor": "#506784",
           "ticks": "",
           "title": {
            "standoff": 15
           },
           "zerolinecolor": "#283442",
           "zerolinewidth": 2
          },
          "yaxis": {
           "automargin": true,
           "gridcolor": "#283442",
           "linecolor": "#506784",
           "ticks": "",
           "title": {
            "standoff": 15
           },
           "zerolinecolor": "#283442",
           "zerolinewidth": 2
          }
         }
        },
        "title": {
         "text": "Cambio del número de pasajeros, Top5 aeropuertos"
        },
        "xaxis": {
         "anchor": "y",
         "categoryarray": [
          "Heathrow Airport",
          "Charles de Gaulle Airport",
          "Amsterdam Airport Schiphol",
          "Frankfurt Airport",
          "Istanbul Atatürk Airport"
         ],
         "categoryorder": "array",
         "domain": [
          0,
          1
         ],
         "title": {
          "text": "Airport"
         }
        },
        "yaxis": {
         "anchor": "x",
         "domain": [
          0,
          1
         ],
         "title": {
          "text": "Change 2016-2015-Num"
         }
        }
       }
      }
     },
     "metadata": {},
     "output_type": "display_data"
    }
   ],
   "source": [
    "px.area(top5_aeropuertos,  x=\"Airport\", y=\"Change 2016-2015-Num\", color=\"Airport\", title=\"Cambio del número de pasajeros, Top5 aeropuertos\", template=\"plotly_dark\")"
   ]
  },
  {
   "cell_type": "code",
   "execution_count": 77,
   "metadata": {},
   "outputs": [],
   "source": [
    "fig=px.area(top5_aeropuertos,  x=\"Airport\", y=\"Change 2016-2015-Num\", color=\"Airport\", title=\"Cambio del número de pasajeros, Top5 aeropuertos\", template=\"plotly_dark\")\n",
    "fig.write_html(\"Cambio del número de pasajeros, Top5 aeropuertos.html\")"
   ]
  },
  {
   "cell_type": "markdown",
   "metadata": {},
   "source": [
    "2.13- Implementa un mapa interactivo que muestre la ubicación de cada aeropuerto junto con su volumen de pasajeros en 2016."
   ]
  },
  {
   "cell_type": "code",
   "execution_count": 38,
   "metadata": {},
   "outputs": [
    {
     "name": "stdout",
     "output_type": "stream",
     "text": [
      "Requirement already satisfied: geopy in c:\\users\\mayin\\appdata\\local\\programs\\python\\python310\\lib\\site-packages (2.4.1)\n",
      "Requirement already satisfied: geographiclib<3,>=1.52 in c:\\users\\mayin\\appdata\\local\\programs\\python\\python310\\lib\\site-packages (from geopy) (2.0)\n"
     ]
    }
   ],
   "source": [
    "!pip install geopy"
   ]
  },
  {
   "cell_type": "code",
   "execution_count": 39,
   "metadata": {},
   "outputs": [],
   "source": [
    "from geopy.geocoders import Nominatim\n",
    "geolocator = Nominatim(user_agent='airport_location')\n",
    "\n",
    "# Creamos una nueva columna llamada 'Location' que contiene las coordenadas de los aeropuertos\n",
    "df['Latitude'] = df['Airport'].apply(lambda x: geolocator.geocode(x).latitude if geolocator.geocode(x) else None)\n",
    "df['Longitude'] = df['Airport'].apply(lambda x: geolocator.geocode(x).longitude if geolocator.geocode(x) else None)\n"
   ]
  },
  {
   "cell_type": "code",
   "execution_count": 40,
   "metadata": {},
   "outputs": [
    {
     "data": {
      "text/html": [
       "<div>\n",
       "<style scoped>\n",
       "    .dataframe tbody tr th:only-of-type {\n",
       "        vertical-align: middle;\n",
       "    }\n",
       "\n",
       "    .dataframe tbody tr th {\n",
       "        vertical-align: top;\n",
       "    }\n",
       "\n",
       "    .dataframe thead th {\n",
       "        text-align: right;\n",
       "    }\n",
       "</style>\n",
       "<table border=\"1\" class=\"dataframe\">\n",
       "  <thead>\n",
       "    <tr style=\"text-align: right;\">\n",
       "      <th></th>\n",
       "      <th>Rank2016</th>\n",
       "      <th>Airport</th>\n",
       "      <th>City served</th>\n",
       "      <th>Country</th>\n",
       "      <th>Passengers2016</th>\n",
       "      <th>Passengers2015</th>\n",
       "      <th>Change 2016-2015-Num</th>\n",
       "      <th>Change 2016-2015-%</th>\n",
       "      <th>Latitude</th>\n",
       "      <th>Longitude</th>\n",
       "    </tr>\n",
       "  </thead>\n",
       "  <tbody>\n",
       "    <tr>\n",
       "      <th>0</th>\n",
       "      <td>1</td>\n",
       "      <td>Heathrow Airport</td>\n",
       "      <td>London</td>\n",
       "      <td>United Kingdom</td>\n",
       "      <td>75711130</td>\n",
       "      <td>74985475</td>\n",
       "      <td>725655</td>\n",
       "      <td>0.97</td>\n",
       "      <td>51.467739</td>\n",
       "      <td>-0.458780</td>\n",
       "    </tr>\n",
       "    <tr>\n",
       "      <th>1</th>\n",
       "      <td>2</td>\n",
       "      <td>Charles de Gaulle Airport</td>\n",
       "      <td>Paris</td>\n",
       "      <td>France</td>\n",
       "      <td>65933145</td>\n",
       "      <td>65766986</td>\n",
       "      <td>166159</td>\n",
       "      <td>0.25</td>\n",
       "      <td>49.006891</td>\n",
       "      <td>2.571082</td>\n",
       "    </tr>\n",
       "  </tbody>\n",
       "</table>\n",
       "</div>"
      ],
      "text/plain": [
       "   Rank2016                    Airport City served         Country  \\\n",
       "0         1           Heathrow Airport      London  United Kingdom   \n",
       "1         2  Charles de Gaulle Airport       Paris          France   \n",
       "\n",
       "   Passengers2016  Passengers2015  Change 2016-2015-Num  Change 2016-2015-%  \\\n",
       "0        75711130        74985475                725655                0.97   \n",
       "1        65933145        65766986                166159                0.25   \n",
       "\n",
       "    Latitude  Longitude  \n",
       "0  51.467739  -0.458780  \n",
       "1  49.006891   2.571082  "
      ]
     },
     "execution_count": 40,
     "metadata": {},
     "output_type": "execute_result"
    }
   ],
   "source": [
    "df.head(2)"
   ]
  },
  {
   "cell_type": "code",
   "execution_count": 44,
   "metadata": {},
   "outputs": [
    {
     "data": {
      "application/vnd.plotly.v1+json": {
       "config": {
        "plotlyServerURL": "https://plot.ly"
       },
       "data": [
        {
         "hovertemplate": "City served=London<br>Passengers2016=%{marker.size}<br>Latitude=%{lat}<br>Longitude=%{lon}<extra></extra>",
         "lat": [
          51.46773895,
          51.1541082,
          51.88696515,
          51.87810155,
          51.5042655
         ],
         "legendgroup": "London",
         "lon": [
          -0.4587800741571181,
          -0.18231164991272042,
          0.24419290157330298,
          -0.36642547440865236,
          0.05490240133037683
         ],
         "marker": {
          "color": "#636efa",
          "size": [
           75711130,
           43119628,
           24320071,
           14551774,
           4538913
          ],
          "sizemode": "area",
          "sizeref": 189277.825
         },
         "mode": "markers",
         "name": "London",
         "showlegend": true,
         "subplot": "mapbox",
         "type": "scattermapbox"
        },
        {
         "hovertemplate": "City served=Paris<br>Passengers2016=%{marker.size}<br>Latitude=%{lat}<br>Longitude=%{lon}<extra></extra>",
         "lat": [
          49.0068908,
          48.7295648
         ],
         "legendgroup": "Paris",
         "lon": [
          2.5710819691019156,
          2.3682988
         ],
         "marker": {
          "color": "#EF553B",
          "size": [
           65933145,
           31237865
          ],
          "sizemode": "area",
          "sizeref": 189277.825
         },
         "mode": "markers",
         "name": "Paris",
         "showlegend": true,
         "subplot": "mapbox",
         "type": "scattermapbox"
        },
        {
         "hovertemplate": "City served=Amsterdam<br>Passengers2016=%{marker.size}<br>Latitude=%{lat}<br>Longitude=%{lon}<extra></extra>",
         "lat": [
          52.32698005
         ],
         "legendgroup": "Amsterdam",
         "lon": [
          4.74150530038293
         ],
         "marker": {
          "color": "#00cc96",
          "size": [
           63625664
          ],
          "sizemode": "area",
          "sizeref": 189277.825
         },
         "mode": "markers",
         "name": "Amsterdam",
         "showlegend": true,
         "subplot": "mapbox",
         "type": "scattermapbox"
        },
        {
         "hovertemplate": "City served=Frankfurt<br>Passengers2016=%{marker.size}<br>Latitude=%{lat}<br>Longitude=%{lon}<extra></extra>",
         "lat": [
          50.02294325
         ],
         "legendgroup": "Frankfurt",
         "lon": [
          8.524937254258731
         ],
         "marker": {
          "color": "#ab63fa",
          "size": [
           60786937
          ],
          "sizemode": "area",
          "sizeref": 189277.825
         },
         "mode": "markers",
         "name": "Frankfurt",
         "showlegend": true,
         "subplot": "mapbox",
         "type": "scattermapbox"
        },
        {
         "hovertemplate": "City served=Istanbul<br>Passengers2016=%{marker.size}<br>Latitude=%{lat}<br>Longitude=%{lon}<extra></extra>",
         "lat": [
          40.978241600000004
         ],
         "legendgroup": "Istanbul",
         "lon": [
          28.826317699492456
         ],
         "marker": {
          "color": "#FFA15A",
          "size": [
           60415470
          ],
          "sizemode": "area",
          "sizeref": 189277.825
         },
         "mode": "markers",
         "name": "Istanbul",
         "showlegend": true,
         "subplot": "mapbox",
         "type": "scattermapbox"
        },
        {
         "hovertemplate": "City served=Madrid<br>Passengers2016=%{marker.size}<br>Latitude=%{lat}<br>Longitude=%{lon}<extra></extra>",
         "lat": [
          40.4952269
         ],
         "legendgroup": "Madrid",
         "lon": [
          -3.573372944738505
         ],
         "marker": {
          "color": "#19d3f3",
          "size": [
           50420583
          ],
          "sizemode": "area",
          "sizeref": 189277.825
         },
         "mode": "markers",
         "name": "Madrid",
         "showlegend": true,
         "subplot": "mapbox",
         "type": "scattermapbox"
        },
        {
         "hovertemplate": "City served=Barcelona<br>Passengers2016=%{marker.size}<br>Latitude=%{lat}<br>Longitude=%{lon}<extra></extra>",
         "lat": [
          41.29694395
         ],
         "legendgroup": "Barcelona",
         "lon": [
          2.0790473629813215
         ],
         "marker": {
          "color": "#FF6692",
          "size": [
           44154693
          ],
          "sizemode": "area",
          "sizeref": 189277.825
         },
         "mode": "markers",
         "name": "Barcelona",
         "showlegend": true,
         "subplot": "mapbox",
         "type": "scattermapbox"
        },
        {
         "hovertemplate": "City served=Munich<br>Passengers2016=%{marker.size}<br>Latitude=%{lat}<br>Longitude=%{lon}<extra></extra>",
         "lat": [
          48.353962499999994
         ],
         "legendgroup": "Munich",
         "lon": [
          11.778592469106236
         ],
         "marker": {
          "color": "#B6E880",
          "size": [
           42261309
          ],
          "sizemode": "area",
          "sizeref": 189277.825
         },
         "mode": "markers",
         "name": "Munich",
         "showlegend": true,
         "subplot": "mapbox",
         "type": "scattermapbox"
        },
        {
         "hovertemplate": "City served=Rome<br>Passengers2016=%{marker.size}<br>Latitude=%{lat}<br>Longitude=%{lon}<extra></extra>",
         "lat": [
          41.81539105,
          41.79954695
         ],
         "legendgroup": "Rome",
         "lon": [
          12.22648477049777,
          12.591271133206927
         ],
         "marker": {
          "color": "#FF97FF",
          "size": [
           41744769,
           5395699
          ],
          "sizemode": "area",
          "sizeref": 189277.825
         },
         "mode": "markers",
         "name": "Rome",
         "showlegend": true,
         "subplot": "mapbox",
         "type": "scattermapbox"
        },
        {
         "hovertemplate": "City served=Moscow<br>Passengers2016=%{marker.size}<br>Latitude=%{lat}<br>Longitude=%{lon}<extra></extra>",
         "lat": [
          55.97608755,
          55.40912105,
          55.5995278
         ],
         "legendgroup": "Moscow",
         "lon": [
          37.4238008194297,
          37.904166212415895,
          37.27357516712458
         ],
         "marker": {
          "color": "#FECB52",
          "size": [
           33679052,
           28500259,
           13946688
          ],
          "sizemode": "area",
          "sizeref": 189277.825
         },
         "mode": "markers",
         "name": "Moscow",
         "showlegend": true,
         "subplot": "mapbox",
         "type": "scattermapbox"
        },
        {
         "hovertemplate": "City served=Copenhagen<br>Passengers2016=%{marker.size}<br>Latitude=%{lat}<br>Longitude=%{lon}<extra></extra>",
         "lat": [
          55.6091282
         ],
         "legendgroup": "Copenhagen",
         "lon": [
          12.650982248393536
         ],
         "marker": {
          "color": "#636efa",
          "size": [
           29043287
          ],
          "sizemode": "area",
          "sizeref": 189277.825
         },
         "mode": "markers",
         "name": "Copenhagen",
         "showlegend": true,
         "subplot": "mapbox",
         "type": "scattermapbox"
        },
        {
         "hovertemplate": "City served=Dublin<br>Passengers2016=%{marker.size}<br>Latitude=%{lat}<br>Longitude=%{lon}<extra></extra>",
         "lat": [
          53.42829155
         ],
         "legendgroup": "Dublin",
         "lon": [
          -6.24727406240776
         ],
         "marker": {
          "color": "#EF553B",
          "size": [
           27907384
          ],
          "sizemode": "area",
          "sizeref": 189277.825
         },
         "mode": "markers",
         "name": "Dublin",
         "showlegend": true,
         "subplot": "mapbox",
         "type": "scattermapbox"
        },
        {
         "hovertemplate": "City served=Zürich<br>Passengers2016=%{marker.size}<br>Latitude=%{lat}<br>Longitude=%{lon}<extra></extra>",
         "lat": [
          47.463388050000006
         ],
         "legendgroup": "Zürich",
         "lon": [
          8.553366081422642
         ],
         "marker": {
          "color": "#00cc96",
          "size": [
           27666428
          ],
          "sizemode": "area",
          "sizeref": 189277.825
         },
         "mode": "markers",
         "name": "Zürich",
         "showlegend": true,
         "subplot": "mapbox",
         "type": "scattermapbox"
        },
        {
         "hovertemplate": "City served=Palma de Mallorca<br>Passengers2016=%{marker.size}<br>Latitude=%{lat}<br>Longitude=%{lon}<extra></extra>",
         "lat": [
          39.553224549999996
         ],
         "legendgroup": "Palma de Mallorca",
         "lon": [
          2.729030991511172
         ],
         "marker": {
          "color": "#ab63fa",
          "size": [
           26253882
          ],
          "sizemode": "area",
          "sizeref": 189277.825
         },
         "mode": "markers",
         "name": "Palma de Mallorca",
         "showlegend": true,
         "subplot": "mapbox",
         "type": "scattermapbox"
        },
        {
         "hovertemplate": "City served=Oslo<br>Passengers2016=%{marker.size}<br>Latitude=%{lat}<br>Longitude=%{lon}<extra></extra>",
         "lat": [
          60.1931498
         ],
         "legendgroup": "Oslo",
         "lon": [
          11.0968156
         ],
         "marker": {
          "color": "#FFA15A",
          "size": [
           25787691
          ],
          "sizemode": "area",
          "sizeref": 189277.825
         },
         "mode": "markers",
         "name": "Oslo",
         "showlegend": true,
         "subplot": "mapbox",
         "type": "scattermapbox"
        },
        {
         "hovertemplate": "City served=Manchester<br>Passengers2016=%{marker.size}<br>Latitude=%{lat}<br>Longitude=%{lon}<extra></extra>",
         "lat": [
          53.350342049999995
         ],
         "legendgroup": "Manchester",
         "lon": [
          -2.280369252664295
         ],
         "marker": {
          "color": "#19d3f3",
          "size": [
           25637054
          ],
          "sizemode": "area",
          "sizeref": 189277.825
         },
         "mode": "markers",
         "name": "Manchester",
         "showlegend": true,
         "subplot": "mapbox",
         "type": "scattermapbox"
        },
        {
         "hovertemplate": "City served=Stockholm<br>Passengers2016=%{marker.size}<br>Latitude=%{lat}<br>Longitude=%{lon}<extra></extra>",
         "lat": [
          59.6467921
         ],
         "legendgroup": "Stockholm",
         "lon": [
          17.937044334194475
         ],
         "marker": {
          "color": "#FF6692",
          "size": [
           24682466
          ],
          "sizemode": "area",
          "sizeref": 189277.825
         },
         "mode": "markers",
         "name": "Stockholm",
         "showlegend": true,
         "subplot": "mapbox",
         "type": "scattermapbox"
        },
        {
         "hovertemplate": "City served=Düsseldorf<br>Passengers2016=%{marker.size}<br>Latitude=%{lat}<br>Longitude=%{lon}<extra></extra>",
         "lat": [
          51.287230449999996
         ],
         "legendgroup": "Düsseldorf",
         "lon": [
          6.762062530647745
         ],
         "marker": {
          "color": "#B6E880",
          "size": [
           23521919
          ],
          "sizemode": "area",
          "sizeref": 189277.825
         },
         "mode": "markers",
         "name": "Düsseldorf",
         "showlegend": true,
         "subplot": "mapbox",
         "type": "scattermapbox"
        },
        {
         "hovertemplate": "City served=Vienna<br>Passengers2016=%{marker.size}<br>Latitude=%{lat}<br>Longitude=%{lon}<extra></extra>",
         "lat": [
          48.10499675
         ],
         "legendgroup": "Vienna",
         "lon": [
          16.5848987032657
         ],
         "marker": {
          "color": "#FF97FF",
          "size": [
           23352016
          ],
          "sizemode": "area",
          "sizeref": 189277.825
         },
         "mode": "markers",
         "name": "Vienna",
         "showlegend": true,
         "subplot": "mapbox",
         "type": "scattermapbox"
        },
        {
         "hovertemplate": "City served=Lisbon<br>Passengers2016=%{marker.size}<br>Latitude=%{lat}<br>Longitude=%{lon}<extra></extra>",
         "lat": [
          38.7809542
         ],
         "legendgroup": "Lisbon",
         "lon": [
          -9.131900592219496
         ],
         "marker": {
          "color": "#FECB52",
          "size": [
           22449289
          ],
          "sizemode": "area",
          "sizeref": 189277.825
         },
         "mode": "markers",
         "name": "Lisbon",
         "showlegend": true,
         "subplot": "mapbox",
         "type": "scattermapbox"
        },
        {
         "hovertemplate": "City served=Brussels<br>Passengers2016=%{marker.size}<br>Latitude=%{lat}<br>Longitude=%{lon}<extra></extra>",
         "lat": [
          50.90089985
         ],
         "legendgroup": "Brussels",
         "lon": [
          4.480964889793517
         ],
         "marker": {
          "color": "#636efa",
          "size": [
           21818418
          ],
          "sizemode": "area",
          "sizeref": 189277.825
         },
         "mode": "markers",
         "name": "Brussels",
         "showlegend": true,
         "subplot": "mapbox",
         "type": "scattermapbox"
        },
        {
         "hovertemplate": "City served=Berlin<br>Passengers2016=%{marker.size}<br>Latitude=%{lat}<br>Longitude=%{lon}<extra></extra>",
         "lat": [
          52.5637241,
          null
         ],
         "legendgroup": "Berlin",
         "lon": [
          13.3309459,
          null
         ],
         "marker": {
          "color": "#EF553B",
          "size": [
           21253959,
           11652922
          ],
          "sizemode": "area",
          "sizeref": 189277.825
         },
         "mode": "markers",
         "name": "Berlin",
         "showlegend": true,
         "subplot": "mapbox",
         "type": "scattermapbox"
        },
        {
         "hovertemplate": "City served=Athens<br>Passengers2016=%{marker.size}<br>Latitude=%{lat}<br>Longitude=%{lon}<extra></extra>",
         "lat": [
          37.9372535
         ],
         "legendgroup": "Athens",
         "lon": [
          23.95462175657147
         ],
         "marker": {
          "color": "#00cc96",
          "size": [
           20017530
          ],
          "sizemode": "area",
          "sizeref": 189277.825
         },
         "mode": "markers",
         "name": "Athens",
         "showlegend": true,
         "subplot": "mapbox",
         "type": "scattermapbox"
        },
        {
         "hovertemplate": "City served=Milan<br>Passengers2016=%{marker.size}<br>Latitude=%{lat}<br>Longitude=%{lon}<extra></extra>",
         "lat": [
          45.629627299999996,
          45.44420495
         ],
         "legendgroup": "Milan",
         "lon": [
          8.723547468967393,
          9.277832922158506
         ],
         "marker": {
          "color": "#ab63fa",
          "size": [
           19420690,
           9682264
          ],
          "sizemode": "area",
          "sizeref": 189277.825
         },
         "mode": "markers",
         "name": "Milan",
         "showlegend": true,
         "subplot": "mapbox",
         "type": "scattermapbox"
        },
        {
         "hovertemplate": "City served=Helsinki<br>Passengers2016=%{marker.size}<br>Latitude=%{lat}<br>Longitude=%{lon}<extra></extra>",
         "lat": [
          60.32181555
         ],
         "legendgroup": "Helsinki",
         "lon": [
          24.94736111181276
         ],
         "marker": {
          "color": "#FFA15A",
          "size": [
           17184681
          ],
          "sizemode": "area",
          "sizeref": 189277.825
         },
         "mode": "markers",
         "name": "Helsinki",
         "showlegend": true,
         "subplot": "mapbox",
         "type": "scattermapbox"
        },
        {
         "hovertemplate": "City served=Málaga<br>Passengers2016=%{marker.size}<br>Latitude=%{lat}<br>Longitude=%{lon}<extra></extra>",
         "lat": [
          36.67854455
         ],
         "legendgroup": "Málaga",
         "lon": [
          -4.499675681372699
         ],
         "marker": {
          "color": "#19d3f3",
          "size": [
           16672776
          ],
          "sizemode": "area",
          "sizeref": 189277.825
         },
         "mode": "markers",
         "name": "Málaga",
         "showlegend": true,
         "subplot": "mapbox",
         "type": "scattermapbox"
        },
        {
         "hovertemplate": "City served=Geneva<br>Passengers2016=%{marker.size}<br>Latitude=%{lat}<br>Longitude=%{lon}<extra></extra>",
         "lat": [
          46.23781635
         ],
         "legendgroup": "Geneva",
         "lon": [
          6.108121245519259
         ],
         "marker": {
          "color": "#FF6692",
          "size": [
           16532690
          ],
          "sizemode": "area",
          "sizeref": 189277.825
         },
         "mode": "markers",
         "name": "Geneva",
         "showlegend": true,
         "subplot": "mapbox",
         "type": "scattermapbox"
        },
        {
         "hovertemplate": "City served=Hamburg<br>Passengers2016=%{marker.size}<br>Latitude=%{lat}<br>Longitude=%{lon}<extra></extra>",
         "lat": [
          53.63636215
         ],
         "legendgroup": "Hamburg",
         "lon": [
          9.994550134684175
         ],
         "marker": {
          "color": "#B6E880",
          "size": [
           16224154
          ],
          "sizemode": "area",
          "sizeref": 189277.825
         },
         "mode": "markers",
         "name": "Hamburg",
         "showlegend": true,
         "subplot": "mapbox",
         "type": "scattermapbox"
        },
        {
         "hovertemplate": "City served=Saint Petersburg<br>Passengers2016=%{marker.size}<br>Latitude=%{lat}<br>Longitude=%{lon}<extra></extra>",
         "lat": [
          59.801698599999995
         ],
         "legendgroup": "Saint Petersburg",
         "lon": [
          30.267601113109503
         ],
         "marker": {
          "color": "#FF97FF",
          "size": [
           13265037
          ],
          "sizemode": "area",
          "sizeref": 189277.825
         },
         "mode": "markers",
         "name": "Saint Petersburg",
         "showlegend": true,
         "subplot": "mapbox",
         "type": "scattermapbox"
        },
        {
         "hovertemplate": "City served=Prague<br>Passengers2016=%{marker.size}<br>Latitude=%{lat}<br>Longitude=%{lon}<extra></extra>",
         "lat": [
          50.1020451
         ],
         "legendgroup": "Prague",
         "lon": [
          14.270566315440007
         ],
         "marker": {
          "color": "#FECB52",
          "size": [
           13074517
          ],
          "sizemode": "area",
          "sizeref": 189277.825
         },
         "mode": "markers",
         "name": "Prague",
         "showlegend": true,
         "subplot": "mapbox",
         "type": "scattermapbox"
        },
        {
         "hovertemplate": "City served=Warsaw<br>Passengers2016=%{marker.size}<br>Latitude=%{lat}<br>Longitude=%{lon}<extra></extra>",
         "lat": [
          52.16306505
         ],
         "legendgroup": "Warsaw",
         "lon": [
          20.970814903702912
         ],
         "marker": {
          "color": "#636efa",
          "size": [
           12795356
          ],
          "sizemode": "area",
          "sizeref": 189277.825
         },
         "mode": "markers",
         "name": "Warsaw",
         "showlegend": true,
         "subplot": "mapbox",
         "type": "scattermapbox"
        },
        {
         "hovertemplate": "City served=Nice<br>Passengers2016=%{marker.size}<br>Latitude=%{lat}<br>Longitude=%{lon}<extra></extra>",
         "lat": [
          43.65980345
         ],
         "legendgroup": "Nice",
         "lon": [
          7.213736626877628
         ],
         "marker": {
          "color": "#EF553B",
          "size": [
           12427427
          ],
          "sizemode": "area",
          "sizeref": 189277.825
         },
         "mode": "markers",
         "name": "Nice",
         "showlegend": true,
         "subplot": "mapbox",
         "type": "scattermapbox"
        },
        {
         "hovertemplate": "City served=Edinburgh<br>Passengers2016=%{marker.size}<br>Latitude=%{lat}<br>Longitude=%{lon}<extra></extra>",
         "lat": [
          55.950128899999996
         ],
         "legendgroup": "Edinburgh",
         "lon": [
          -3.3595079855289756
         ],
         "marker": {
          "color": "#00cc96",
          "size": [
           12348425
          ],
          "sizemode": "area",
          "sizeref": 189277.825
         },
         "mode": "markers",
         "name": "Edinburgh",
         "showlegend": true,
         "subplot": "mapbox",
         "type": "scattermapbox"
        },
        {
         "hovertemplate": "City served=Alicante<br>Passengers2016=%{marker.size}<br>Latitude=%{lat}<br>Longitude=%{lon}<extra></extra>",
         "lat": [
          38.284417700000006
         ],
         "legendgroup": "Alicante",
         "lon": [
          -0.5657529081106044
         ],
         "marker": {
          "color": "#ab63fa",
          "size": [
           12344945
          ],
          "sizemode": "area",
          "sizeref": 189277.825
         },
         "mode": "markers",
         "name": "Alicante",
         "showlegend": true,
         "subplot": "mapbox",
         "type": "scattermapbox"
        },
        {
         "hovertemplate": "City served=Cologne / Bonn<br>Passengers2016=%{marker.size}<br>Latitude=%{lat}<br>Longitude=%{lon}<extra></extra>",
         "lat": [
          50.86778175
         ],
         "legendgroup": "Cologne / Bonn",
         "lon": [
          7.138960985502128
         ],
         "marker": {
          "color": "#FFA15A",
          "size": [
           11910138
          ],
          "sizemode": "area",
          "sizeref": 189277.825
         },
         "mode": "markers",
         "name": "Cologne / Bonn",
         "showlegend": true,
         "subplot": "mapbox",
         "type": "scattermapbox"
        },
        {
         "hovertemplate": "City served=Birmingham<br>Passengers2016=%{marker.size}<br>Latitude=%{lat}<br>Longitude=%{lon}<extra></extra>",
         "lat": [
          52.45417725
         ],
         "legendgroup": "Birmingham",
         "lon": [
          -1.7438787522634338
         ],
         "marker": {
          "color": "#19d3f3",
          "size": [
           11645334
          ],
          "sizemode": "area",
          "sizeref": 189277.825
         },
         "mode": "markers",
         "name": "Birmingham",
         "showlegend": true,
         "subplot": "mapbox",
         "type": "scattermapbox"
        },
        {
         "hovertemplate": "City served=Budapest<br>Passengers2016=%{marker.size}<br>Latitude=%{lat}<br>Longitude=%{lon}<extra></extra>",
         "lat": [
          47.43527295
         ],
         "legendgroup": "Budapest",
         "lon": [
          19.2535105675693
         ],
         "marker": {
          "color": "#FF6692",
          "size": [
           11441999
          ],
          "sizemode": "area",
          "sizeref": 189277.825
         },
         "mode": "markers",
         "name": "Budapest",
         "showlegend": true,
         "subplot": "mapbox",
         "type": "scattermapbox"
        },
        {
         "hovertemplate": "City served=Milan / Bergamo<br>Passengers2016=%{marker.size}<br>Latitude=%{lat}<br>Longitude=%{lon}<extra></extra>",
         "lat": [
          45.67092965
         ],
         "legendgroup": "Milan / Bergamo",
         "lon": [
          9.69875557135455
         ],
         "marker": {
          "color": "#B6E880",
          "size": [
           11159631
          ],
          "sizemode": "area",
          "sizeref": 189277.825
         },
         "mode": "markers",
         "name": "Milan / Bergamo",
         "showlegend": true,
         "subplot": "mapbox",
         "type": "scattermapbox"
        },
        {
         "hovertemplate": "City served=Bucharest<br>Passengers2016=%{marker.size}<br>Latitude=%{lat}<br>Longitude=%{lon}<extra></extra>",
         "lat": [
          44.5703283
         ],
         "legendgroup": "Bucharest",
         "lon": [
          26.077598459327668
         ],
         "marker": {
          "color": "#FF97FF",
          "size": [
           10982967
          ],
          "sizemode": "area",
          "sizeref": 189277.825
         },
         "mode": "markers",
         "name": "Bucharest",
         "showlegend": true,
         "subplot": "mapbox",
         "type": "scattermapbox"
        },
        {
         "hovertemplate": "City served=Stuttgart<br>Passengers2016=%{marker.size}<br>Latitude=%{lat}<br>Longitude=%{lon}<extra></extra>",
         "lat": [
          48.68842195
         ],
         "legendgroup": "Stuttgart",
         "lon": [
          9.205392504886913
         ],
         "marker": {
          "color": "#FECB52",
          "size": [
           10626430
          ],
          "sizemode": "area",
          "sizeref": 189277.825
         },
         "mode": "markers",
         "name": "Stuttgart",
         "showlegend": true,
         "subplot": "mapbox",
         "type": "scattermapbox"
        },
        {
         "hovertemplate": "City served=Venice<br>Passengers2016=%{marker.size}<br>Latitude=%{lat}<br>Longitude=%{lon}<extra></extra>",
         "lat": [
          45.50353855
         ],
         "legendgroup": "Venice",
         "lon": [
          12.342579681064803
         ],
         "marker": {
          "color": "#636efa",
          "size": [
           9624748
          ],
          "sizemode": "area",
          "sizeref": 189277.825
         },
         "mode": "markers",
         "name": "Venice",
         "showlegend": true,
         "subplot": "mapbox",
         "type": "scattermapbox"
        },
        {
         "hovertemplate": "City served=Lyon<br>Passengers2016=%{marker.size}<br>Latitude=%{lat}<br>Longitude=%{lon}<extra></extra>",
         "lat": [
          45.72442685
         ],
         "legendgroup": "Lyon",
         "lon": [
          5.086515135250837
         ],
         "marker": {
          "color": "#EF553B",
          "size": [
           9553250
          ],
          "sizemode": "area",
          "sizeref": 189277.825
         },
         "mode": "markers",
         "name": "Lyon",
         "showlegend": true,
         "subplot": "mapbox",
         "type": "scattermapbox"
        },
        {
         "hovertemplate": "City served=Porto<br>Passengers2016=%{marker.size}<br>Latitude=%{lat}<br>Longitude=%{lon}<extra></extra>",
         "lat": [
          41.248830350000006
         ],
         "legendgroup": "Porto",
         "lon": [
          -8.681037254488
         ],
         "marker": {
          "color": "#00cc96",
          "size": [
           9378082
          ],
          "sizemode": "area",
          "sizeref": 189277.825
         },
         "mode": "markers",
         "name": "Porto",
         "showlegend": true,
         "subplot": "mapbox",
         "type": "scattermapbox"
        },
        {
         "hovertemplate": "City served=Glasgow<br>Passengers2016=%{marker.size}<br>Latitude=%{lat}<br>Longitude=%{lon}<extra></extra>",
         "lat": [
          55.87055599999999
         ],
         "legendgroup": "Glasgow",
         "lon": [
          -4.435703726877146
         ],
         "marker": {
          "color": "#ab63fa",
          "size": [
           9346245
          ],
          "sizemode": "area",
          "sizeref": 189277.825
         },
         "mode": "markers",
         "name": "Glasgow",
         "showlegend": true,
         "subplot": "mapbox",
         "type": "scattermapbox"
        },
        {
         "hovertemplate": "City served=Kyiv<br>Passengers2016=%{marker.size}<br>Latitude=%{lat}<br>Longitude=%{lon}<extra></extra>",
         "lat": [
          50.3401779
         ],
         "legendgroup": "Kyiv",
         "lon": [
          30.891557297991227
         ],
         "marker": {
          "color": "#FFA15A",
          "size": [
           8650000
          ],
          "sizemode": "area",
          "sizeref": 189277.825
         },
         "mode": "markers",
         "name": "Kyiv",
         "showlegend": true,
         "subplot": "mapbox",
         "type": "scattermapbox"
        },
        {
         "hovertemplate": "City served=Marseille<br>Passengers2016=%{marker.size}<br>Latitude=%{lat}<br>Longitude=%{lon}<extra></extra>",
         "lat": [
          43.4375155
         ],
         "legendgroup": "Marseille",
         "lon": [
          5.213025909827175
         ],
         "marker": {
          "color": "#19d3f3",
          "size": [
           8475809
          ],
          "sizemode": "area",
          "sizeref": 189277.825
         },
         "mode": "markers",
         "name": "Marseille",
         "showlegend": true,
         "subplot": "mapbox",
         "type": "scattermapbox"
        },
        {
         "hovertemplate": "City served=Toulouse<br>Passengers2016=%{marker.size}<br>Latitude=%{lat}<br>Longitude=%{lon}<extra></extra>",
         "lat": [
          43.629977999999994
         ],
         "legendgroup": "Toulouse",
         "lon": [
          1.360809880743464
         ],
         "marker": {
          "color": "#FF6692",
          "size": [
           8081179
          ],
          "sizemode": "area",
          "sizeref": 189277.825
         },
         "mode": "markers",
         "name": "Toulouse",
         "showlegend": true,
         "subplot": "mapbox",
         "type": "scattermapbox"
        },
        {
         "hovertemplate": "City served=Catania<br>Passengers2016=%{marker.size}<br>Latitude=%{lat}<br>Longitude=%{lon}<extra></extra>",
         "lat": [
          37.467242600000006
         ],
         "legendgroup": "Catania",
         "lon": [
          15.067568274467547
         ],
         "marker": {
          "color": "#B6E880",
          "size": [
           7914117
          ],
          "sizemode": "area",
          "sizeref": 189277.825
         },
         "mode": "markers",
         "name": "Catania",
         "showlegend": true,
         "subplot": "mapbox",
         "type": "scattermapbox"
        },
        {
         "hovertemplate": "City served=Bologna<br>Passengers2016=%{marker.size}<br>Latitude=%{lat}<br>Longitude=%{lon}<extra></extra>",
         "lat": [
          44.5344306
         ],
         "legendgroup": "Bologna",
         "lon": [
          11.288457445265177
         ],
         "marker": {
          "color": "#FF97FF",
          "size": [
           7680992
          ],
          "sizemode": "area",
          "sizeref": 189277.825
         },
         "mode": "markers",
         "name": "Bologna",
         "showlegend": true,
         "subplot": "mapbox",
         "type": "scattermapbox"
        },
        {
         "hovertemplate": "City served=Faro<br>Passengers2016=%{marker.size}<br>Latitude=%{lat}<br>Longitude=%{lon}<extra></extra>",
         "lat": [
          37.017459599999995
         ],
         "legendgroup": "Faro",
         "lon": [
          -7.973933672397203
         ],
         "marker": {
          "color": "#FECB52",
          "size": [
           7630909
          ],
          "sizemode": "area",
          "sizeref": 189277.825
         },
         "mode": "markers",
         "name": "Faro",
         "showlegend": true,
         "subplot": "mapbox",
         "type": "scattermapbox"
        },
        {
         "hovertemplate": "City served=Bristol<br>Passengers2016=%{marker.size}<br>Latitude=%{lat}<br>Longitude=%{lon}<extra></extra>",
         "lat": [
          51.38296995
         ],
         "legendgroup": "Bristol",
         "lon": [
          -2.7186237715618864
         ],
         "marker": {
          "color": "#636efa",
          "size": [
           7610780
          ],
          "sizemode": "area",
          "sizeref": 189277.825
         },
         "mode": "markers",
         "name": "Bristol",
         "showlegend": true,
         "subplot": "mapbox",
         "type": "scattermapbox"
        },
        {
         "hovertemplate": "City served=Ibiza<br>Passengers2016=%{marker.size}<br>Latitude=%{lat}<br>Longitude=%{lon}<extra></extra>",
         "lat": [
          38.87294785
         ],
         "legendgroup": "Ibiza",
         "lon": [
          1.370372414235323
         ],
         "marker": {
          "color": "#EF553B",
          "size": [
           7416368
          ],
          "sizemode": "area",
          "sizeref": 189277.825
         },
         "mode": "markers",
         "name": "Ibiza",
         "showlegend": true,
         "subplot": "mapbox",
         "type": "scattermapbox"
        },
        {
         "hovertemplate": "City served=Basel / Mulhouse / Freiburg im Breisgau<br>Passengers2016=%{marker.size}<br>Latitude=%{lat}<br>Longitude=%{lon}<extra></extra>",
         "lat": [
          47.603236949999996
         ],
         "legendgroup": "Basel / Mulhouse / Freiburg im Breisgau",
         "lon": [
          7.52434812773247
         ],
         "marker": {
          "color": "#00cc96",
          "size": [
           7314269
          ],
          "sizemode": "area",
          "sizeref": 189277.825
         },
         "mode": "markers",
         "name": "Basel / Mulhouse / Freiburg im Breisgau",
         "showlegend": true,
         "subplot": "mapbox",
         "type": "scattermapbox"
        },
        {
         "hovertemplate": "City served=Charleroi<br>Passengers2016=%{marker.size}<br>Latitude=%{lat}<br>Longitude=%{lon}<extra></extra>",
         "lat": [
          50.463637250000005
         ],
         "legendgroup": "Charleroi",
         "lon": [
          4.466173283859401
         ],
         "marker": {
          "color": "#ab63fa",
          "size": [
           7303720
          ],
          "sizemode": "area",
          "sizeref": 189277.825
         },
         "mode": "markers",
         "name": "Charleroi",
         "showlegend": true,
         "subplot": "mapbox",
         "type": "scattermapbox"
        },
        {
         "hovertemplate": "City served=Reykjavík<br>Passengers2016=%{marker.size}<br>Latitude=%{lat}<br>Longitude=%{lon}<extra></extra>",
         "lat": [
          63.98486065
         ],
         "legendgroup": "Reykjavík",
         "lon": [
          -22.626598187703223
         ],
         "marker": {
          "color": "#FFA15A",
          "size": [
           6821358
          ],
          "sizemode": "area",
          "sizeref": 189277.825
         },
         "mode": "markers",
         "name": "Reykjavík",
         "showlegend": true,
         "subplot": "mapbox",
         "type": "scattermapbox"
        },
        {
         "hovertemplate": "City served=Naples<br>Passengers2016=%{marker.size}<br>Latitude=%{lat}<br>Longitude=%{lon}<extra></extra>",
         "lat": [
          40.8839923
         ],
         "legendgroup": "Naples",
         "lon": [
          14.284545745409144
         ],
         "marker": {
          "color": "#19d3f3",
          "size": [
           6775988
          ],
          "sizemode": "area",
          "sizeref": 189277.825
         },
         "mode": "markers",
         "name": "Naples",
         "showlegend": true,
         "subplot": "mapbox",
         "type": "scattermapbox"
        },
        {
         "hovertemplate": "City served=Heraklion<br>Passengers2016=%{marker.size}<br>Latitude=%{lat}<br>Longitude=%{lon}<extra></extra>",
         "lat": [
          35.337058
         ],
         "legendgroup": "Heraklion",
         "lon": [
          25.18097200362064
         ],
         "marker": {
          "color": "#FF6692",
          "size": [
           6742746
          ],
          "sizemode": "area",
          "sizeref": 189277.825
         },
         "mode": "markers",
         "name": "Heraklion",
         "showlegend": true,
         "subplot": "mapbox",
         "type": "scattermapbox"
        },
        {
         "hovertemplate": "City served=Gothenburg<br>Passengers2016=%{marker.size}<br>Latitude=%{lat}<br>Longitude=%{lon}<extra></extra>",
         "lat": [
          57.662414749999996
         ],
         "legendgroup": "Gothenburg",
         "lon": [
          12.287763001236742
         ],
         "marker": {
          "color": "#B6E880",
          "size": [
           6369396
          ],
          "sizemode": "area",
          "sizeref": 189277.825
         },
         "mode": "markers",
         "name": "Gothenburg",
         "showlegend": true,
         "subplot": "mapbox",
         "type": "scattermapbox"
        },
        {
         "hovertemplate": "City served=Bergen<br>Passengers2016=%{marker.size}<br>Latitude=%{lat}<br>Longitude=%{lon}<extra></extra>",
         "lat": [
          60.29653315
         ],
         "legendgroup": "Bergen",
         "lon": [
          5.219817732441406
         ],
         "marker": {
          "color": "#FF97FF",
          "size": [
           5949060
          ],
          "sizemode": "area",
          "sizeref": 189277.825
         },
         "mode": "markers",
         "name": "Bergen",
         "showlegend": true,
         "subplot": "mapbox",
         "type": "scattermapbox"
        },
        {
         "hovertemplate": "City served=Valencia<br>Passengers2016=%{marker.size}<br>Latitude=%{lat}<br>Longitude=%{lon}<extra></extra>",
         "lat": [
          39.4878647
         ],
         "legendgroup": "Valencia",
         "lon": [
          -0.48120918609833196
         ],
         "marker": {
          "color": "#FECB52",
          "size": [
           5799104
          ],
          "sizemode": "area",
          "sizeref": 189277.825
         },
         "mode": "markers",
         "name": "Valencia",
         "showlegend": true,
         "subplot": "mapbox",
         "type": "scattermapbox"
        },
        {
         "hovertemplate": "City served=Bordeaux<br>Passengers2016=%{marker.size}<br>Latitude=%{lat}<br>Longitude=%{lon}<extra></extra>",
         "lat": [
          44.82928695
         ],
         "legendgroup": "Bordeaux",
         "lon": [
          -0.7125760651627708
         ],
         "marker": {
          "color": "#636efa",
          "size": [
           5779569
          ],
          "sizemode": "area",
          "sizeref": 189277.825
         },
         "mode": "markers",
         "name": "Bordeaux",
         "showlegend": true,
         "subplot": "mapbox",
         "type": "scattermapbox"
        },
        {
         "hovertemplate": "City served=Thessaloniki<br>Passengers2016=%{marker.size}<br>Latitude=%{lat}<br>Longitude=%{lon}<extra></extra>",
         "lat": [
          40.51980185
         ],
         "legendgroup": "Thessaloniki",
         "lon": [
          22.974086812428308
         ],
         "marker": {
          "color": "#EF553B",
          "size": [
           5687325
          ],
          "sizemode": "area",
          "sizeref": 189277.825
         },
         "mode": "markers",
         "name": "Thessaloniki",
         "showlegend": true,
         "subplot": "mapbox",
         "type": "scattermapbox"
        },
        {
         "hovertemplate": "City served=Hanover<br>Passengers2016=%{marker.size}<br>Latitude=%{lat}<br>Longitude=%{lon}<extra></extra>",
         "lat": [
          52.46144075
         ],
         "legendgroup": "Hanover",
         "lon": [
          9.687236575826585
         ],
         "marker": {
          "color": "#00cc96",
          "size": [
           5408814
          ],
          "sizemode": "area",
          "sizeref": 189277.825
         },
         "mode": "markers",
         "name": "Hanover",
         "showlegend": true,
         "subplot": "mapbox",
         "type": "scattermapbox"
        },
        {
         "hovertemplate": "City served=Riga<br>Passengers2016=%{marker.size}<br>Latitude=%{lat}<br>Longitude=%{lon}<extra></extra>",
         "lat": [
          56.92315955
         ],
         "legendgroup": "Riga",
         "lon": [
          23.979112726359052
         ],
         "marker": {
          "color": "#ab63fa",
          "size": [
           5400243
          ],
          "sizemode": "area",
          "sizeref": 189277.825
         },
         "mode": "markers",
         "name": "Riga",
         "showlegend": true,
         "subplot": "mapbox",
         "type": "scattermapbox"
        },
        {
         "hovertemplate": "City served=Palermo<br>Passengers2016=%{marker.size}<br>Latitude=%{lat}<br>Longitude=%{lon}<extra></extra>",
         "lat": [
          38.176516899999996
         ],
         "legendgroup": "Palermo",
         "lon": [
          13.091643377052751
         ],
         "marker": {
          "color": "#FFA15A",
          "size": [
           5325559
          ],
          "sizemode": "area",
          "sizeref": 189277.825
         },
         "mode": "markers",
         "name": "Palermo",
         "showlegend": true,
         "subplot": "mapbox",
         "type": "scattermapbox"
        },
        {
         "hovertemplate": "City served=Simferopol<br>Passengers2016=%{marker.size}<br>Latitude=%{lat}<br>Longitude=%{lon}<extra></extra>",
         "lat": [
          45.03825865
         ],
         "legendgroup": "Simferopol",
         "lon": [
          33.983081202732265
         ],
         "marker": {
          "color": "#19d3f3",
          "size": [
           5201690
          ],
          "sizemode": "area",
          "sizeref": 189277.825
         },
         "mode": "markers",
         "name": "Simferopol",
         "showlegend": true,
         "subplot": "mapbox",
         "type": "scattermapbox"
        },
        {
         "hovertemplate": "City served=Belfast<br>Passengers2016=%{marker.size}<br>Latitude=%{lat}<br>Longitude=%{lon}<extra></extra>",
         "lat": [
          54.65265635
         ],
         "legendgroup": "Belfast",
         "lon": [
          -6.228744060989918
         ],
         "marker": {
          "color": "#FF6692",
          "size": [
           5147546
          ],
          "sizemode": "area",
          "sizeref": 189277.825
         },
         "mode": "markers",
         "name": "Belfast",
         "showlegend": true,
         "subplot": "mapbox",
         "type": "scattermapbox"
        },
        {
         "hovertemplate": "City served=Malta<br>Passengers2016=%{marker.size}<br>Latitude=%{lat}<br>Longitude=%{lon}<extra></extra>",
         "lat": [
          35.84739655
         ],
         "legendgroup": "Malta",
         "lon": [
          14.492295178989536
         ],
         "marker": {
          "color": "#B6E880",
          "size": [
           5080071
          ],
          "sizemode": "area",
          "sizeref": 189277.825
         },
         "mode": "markers",
         "name": "Malta",
         "showlegend": true,
         "subplot": "mapbox",
         "type": "scattermapbox"
        },
        {
         "hovertemplate": "City served=Pisa<br>Passengers2016=%{marker.size}<br>Latitude=%{lat}<br>Longitude=%{lon}<extra></extra>",
         "lat": [
          43.68479365
         ],
         "legendgroup": "Pisa",
         "lon": [
          10.39552700998277
         ],
         "marker": {
          "color": "#FF97FF",
          "size": [
           4989496
          ],
          "sizemode": "area",
          "sizeref": 189277.825
         },
         "mode": "markers",
         "name": "Pisa",
         "showlegend": true,
         "subplot": "mapbox",
         "type": "scattermapbox"
        },
        {
         "hovertemplate": "City served=Kraków<br>Passengers2016=%{marker.size}<br>Latitude=%{lat}<br>Longitude=%{lon}<extra></extra>",
         "lat": [
          50.078255299999995
         ],
         "legendgroup": "Kraków",
         "lon": [
          19.78625376760332
         ],
         "marker": {
          "color": "#FECB52",
          "size": [
           4983645
          ],
          "sizemode": "area",
          "sizeref": 189277.825
         },
         "mode": "markers",
         "name": "Kraków",
         "showlegend": true,
         "subplot": "mapbox",
         "type": "scattermapbox"
        },
        {
         "hovertemplate": "City served=Sofia<br>Passengers2016=%{marker.size}<br>Latitude=%{lat}<br>Longitude=%{lon}<extra></extra>",
         "lat": [
          42.6955647
         ],
         "legendgroup": "Sofia",
         "lon": [
          23.41420825648208
         ],
         "marker": {
          "color": "#636efa",
          "size": [
           4980387
          ],
          "sizemode": "area",
          "sizeref": 189277.825
         },
         "mode": "markers",
         "name": "Sofia",
         "showlegend": true,
         "subplot": "mapbox",
         "type": "scattermapbox"
        },
        {
         "hovertemplate": "City served=Rhodes<br>Passengers2016=%{marker.size}<br>Latitude=%{lat}<br>Longitude=%{lon}<extra></extra>",
         "lat": [
          36.4050007
         ],
         "legendgroup": "Rhodes",
         "lon": [
          28.087406950000002
         ],
         "marker": {
          "color": "#EF553B",
          "size": [
           4942386
          ],
          "sizemode": "area",
          "sizeref": 189277.825
         },
         "mode": "markers",
         "name": "Rhodes",
         "showlegend": true,
         "subplot": "mapbox",
         "type": "scattermapbox"
        },
        {
         "hovertemplate": "City served=Belgrade<br>Passengers2016=%{marker.size}<br>Latitude=%{lat}<br>Longitude=%{lon}<extra></extra>",
         "lat": [
          44.81824705
         ],
         "legendgroup": "Belgrade",
         "lon": [
          20.302345369913695
         ],
         "marker": {
          "color": "#00cc96",
          "size": [
           4924992
          ],
          "sizemode": "area",
          "sizeref": 189277.825
         },
         "mode": "markers",
         "name": "Belgrade",
         "showlegend": true,
         "subplot": "mapbox",
         "type": "scattermapbox"
        },
        {
         "hovertemplate": "City served=Newcastle upon Tyne<br>Passengers2016=%{marker.size}<br>Latitude=%{lat}<br>Longitude=%{lon}<extra></extra>",
         "lat": [
          -32.80609885
         ],
         "legendgroup": "Newcastle upon Tyne",
         "lon": [
          151.84238794840638
         ],
         "marker": {
          "color": "#ab63fa",
          "size": [
           4807906
          ],
          "sizemode": "area",
          "sizeref": 189277.825
         },
         "mode": "markers",
         "name": "Newcastle upon Tyne",
         "showlegend": true,
         "subplot": "mapbox",
         "type": "scattermapbox"
        },
        {
         "hovertemplate": "City served=Eindhoven<br>Passengers2016=%{marker.size}<br>Latitude=%{lat}<br>Longitude=%{lon}<extra></extra>",
         "lat": [
          51.449830000000006
         ],
         "legendgroup": "Eindhoven",
         "lon": [
          5.373710920240573
         ],
         "marker": {
          "color": "#FFA15A",
          "size": [
           4780197
          ],
          "sizemode": "area",
          "sizeref": 189277.825
         },
         "mode": "markers",
         "name": "Eindhoven",
         "showlegend": true,
         "subplot": "mapbox",
         "type": "scattermapbox"
        },
        {
         "hovertemplate": "City served=Nantes<br>Passengers2016=%{marker.size}<br>Latitude=%{lat}<br>Longitude=%{lon}<extra></extra>",
         "lat": [
          47.151840899999996
         ],
         "legendgroup": "Nantes",
         "lon": [
          -1.6084620308979245
         ],
         "marker": {
          "color": "#19d3f3",
          "size": [
           4778967
          ],
          "sizemode": "area",
          "sizeref": 189277.825
         },
         "mode": "markers",
         "name": "Nantes",
         "showlegend": true,
         "subplot": "mapbox",
         "type": "scattermapbox"
        },
        {
         "hovertemplate": "City served=Liverpool<br>Passengers2016=%{marker.size}<br>Latitude=%{lat}<br>Longitude=%{lon}<extra></extra>",
         "lat": [
          53.33605215
         ],
         "legendgroup": "Liverpool",
         "lon": [
          -2.8494283971041767
         ],
         "marker": {
          "color": "#FF6692",
          "size": [
           4778939
          ],
          "sizemode": "area",
          "sizeref": 189277.825
         },
         "mode": "markers",
         "name": "Liverpool",
         "showlegend": true,
         "subplot": "mapbox",
         "type": "scattermapbox"
        },
        {
         "hovertemplate": "City served=Derby / Leicester / Nottingham<br>Passengers2016=%{marker.size}<br>Latitude=%{lat}<br>Longitude=%{lon}<extra></extra>",
         "lat": [
          52.828086549999995
         ],
         "legendgroup": "Derby / Leicester / Nottingham",
         "lon": [
          -1.332669481847069
         ],
         "marker": {
          "color": "#B6E880",
          "size": [
           4653818
          ],
          "sizemode": "area",
          "sizeref": 189277.825
         },
         "mode": "markers",
         "name": "Derby / Leicester / Nottingham",
         "showlegend": true,
         "subplot": "mapbox",
         "type": "scattermapbox"
        },
        {
         "hovertemplate": "City served=Seville<br>Passengers2016=%{marker.size}<br>Latitude=%{lat}<br>Longitude=%{lon}<extra></extra>",
         "lat": [
          4.785833
         ],
         "legendgroup": "Seville",
         "lon": [
          -71.630833
         ],
         "marker": {
          "color": "#FF97FF",
          "size": [
           4624038
          ],
          "sizemode": "area",
          "sizeref": 189277.825
         },
         "mode": "markers",
         "name": "Seville",
         "showlegend": true,
         "subplot": "mapbox",
         "type": "scattermapbox"
        },
        {
         "hovertemplate": "City served=Bilbao<br>Passengers2016=%{marker.size}<br>Latitude=%{lat}<br>Longitude=%{lon}<extra></extra>",
         "lat": [
          43.301720700000004
         ],
         "legendgroup": "Bilbao",
         "lon": [
          -2.919129659398936
         ],
         "marker": {
          "color": "#FECB52",
          "size": [
           4588265
          ],
          "sizemode": "area",
          "sizeref": 189277.825
         },
         "mode": "markers",
         "name": "Bilbao",
         "showlegend": true,
         "subplot": "mapbox",
         "type": "scattermapbox"
        },
        {
         "hovertemplate": "City served=Trondheim<br>Passengers2016=%{marker.size}<br>Latitude=%{lat}<br>Longitude=%{lon}<extra></extra>",
         "lat": [
          63.4547661
         ],
         "legendgroup": "Trondheim",
         "lon": [
          10.925133336071024
         ],
         "marker": {
          "color": "#636efa",
          "size": [
           4417490
          ],
          "sizemode": "area",
          "sizeref": 189277.825
         },
         "mode": "markers",
         "name": "Trondheim",
         "showlegend": true,
         "subplot": "mapbox",
         "type": "scattermapbox"
        },
        {
         "hovertemplate": "City served=Bari<br>Passengers2016=%{marker.size}<br>Latitude=%{lat}<br>Longitude=%{lon}<extra></extra>",
         "lat": [
          41.1336679
         ],
         "legendgroup": "Bari",
         "lon": [
          16.7633396
         ],
         "marker": {
          "color": "#EF553B",
          "size": [
           4322797
          ],
          "sizemode": "area",
          "sizeref": 189277.825
         },
         "mode": "markers",
         "name": "Bari",
         "showlegend": true,
         "subplot": "mapbox",
         "type": "scattermapbox"
        },
        {
         "hovertemplate": "City served=Stavanger<br>Passengers2016=%{marker.size}<br>Latitude=%{lat}<br>Longitude=%{lon}<extra></extra>",
         "lat": [
          58.8821043
         ],
         "legendgroup": "Stavanger",
         "lon": [
          5.6295825
         ],
         "marker": {
          "color": "#00cc96",
          "size": [
           4193665
          ],
          "sizemode": "area",
          "sizeref": 189277.825
         },
         "mode": "markers",
         "name": "Stavanger",
         "showlegend": true,
         "subplot": "mapbox",
         "type": "scattermapbox"
        },
        {
         "hovertemplate": "City served=Gdańsk<br>Passengers2016=%{marker.size}<br>Latitude=%{lat}<br>Longitude=%{lon}<extra></extra>",
         "lat": [
          54.3762064
         ],
         "legendgroup": "Gdańsk",
         "lon": [
          18.474455102751115
         ],
         "marker": {
          "color": "#ab63fa",
          "size": [
           4004081
          ],
          "sizemode": "area",
          "sizeref": 189277.825
         },
         "mode": "markers",
         "name": "Gdańsk",
         "showlegend": true,
         "subplot": "mapbox",
         "type": "scattermapbox"
        },
        {
         "hovertemplate": "City served=Beauvais<br>Passengers2016=%{marker.size}<br>Latitude=%{lat}<br>Longitude=%{lon}<extra></extra>",
         "lat": [
          49.4543222
         ],
         "legendgroup": "Beauvais",
         "lon": [
          2.1116686710835992
         ],
         "marker": {
          "color": "#FFA15A",
          "size": [
           3997856
          ],
          "sizemode": "area",
          "sizeref": 189277.825
         },
         "mode": "markers",
         "name": "Beauvais",
         "showlegend": true,
         "subplot": "mapbox",
         "type": "scattermapbox"
        },
        {
         "hovertemplate": "City served=Turin<br>Passengers2016=%{marker.size}<br>Latitude=%{lat}<br>Longitude=%{lon}<extra></extra>",
         "lat": [
          45.20096875
         ],
         "legendgroup": "Turin",
         "lon": [
          7.648975075273562
         ],
         "marker": {
          "color": "#19d3f3",
          "size": [
           3943298
          ],
          "sizemode": "area",
          "sizeref": 189277.825
         },
         "mode": "markers",
         "name": "Turin",
         "showlegend": true,
         "subplot": "mapbox",
         "type": "scattermapbox"
        },
        {
         "hovertemplate": "City served=Vilnius<br>Passengers2016=%{marker.size}<br>Latitude=%{lat}<br>Longitude=%{lon}<extra></extra>",
         "lat": [
          54.6432959
         ],
         "legendgroup": "Vilnius",
         "lon": [
          25.2795445
         ],
         "marker": {
          "color": "#FF6692",
          "size": [
           3934891
          ],
          "sizemode": "area",
          "sizeref": 189277.825
         },
         "mode": "markers",
         "name": "Vilnius",
         "showlegend": true,
         "subplot": "mapbox",
         "type": "scattermapbox"
        },
        {
         "hovertemplate": "City served=Cagliari<br>Passengers2016=%{marker.size}<br>Latitude=%{lat}<br>Longitude=%{lon}<extra></extra>",
         "lat": [
          39.250583
         ],
         "legendgroup": "Cagliari",
         "lon": [
          9.057312580961453
         ],
         "marker": {
          "color": "#B6E880",
          "size": [
           3689747
          ],
          "sizemode": "area",
          "sizeref": 189277.825
         },
         "mode": "markers",
         "name": "Cagliari",
         "showlegend": true,
         "subplot": "mapbox",
         "type": "scattermapbox"
        },
        {
         "hovertemplate": "City served=Leeds<br>Passengers2016=%{marker.size}<br>Latitude=%{lat}<br>Longitude=%{lon}<extra></extra>",
         "lat": [
          53.86665035
         ],
         "legendgroup": "Leeds",
         "lon": [
          -1.656781884498208
         ],
         "marker": {
          "color": "#FF97FF",
          "size": [
           3612061
          ],
          "sizemode": "area",
          "sizeref": 189277.825
         },
         "mode": "markers",
         "name": "Leeds",
         "showlegend": true,
         "subplot": "mapbox",
         "type": "scattermapbox"
        },
        {
         "hovertemplate": "City served=Nuremberg<br>Passengers2016=%{marker.size}<br>Latitude=%{lat}<br>Longitude=%{lon}<extra></extra>",
         "lat": [
          49.49826845
         ],
         "legendgroup": "Nuremberg",
         "lon": [
          11.078106331160273
         ],
         "marker": {
          "color": "#FECB52",
          "size": [
           3485372
          ],
          "sizemode": "area",
          "sizeref": 189277.825
         },
         "mode": "markers",
         "name": "Nuremberg",
         "showlegend": true,
         "subplot": "mapbox",
         "type": "scattermapbox"
        }
       ],
       "layout": {
        "legend": {
         "itemsizing": "constant",
         "title": {
          "text": "City served"
         },
         "tracegroupgap": 0
        },
        "mapbox": {
         "center": {
          "lat": 46.99803608585858,
          "lon": 9.975092900982524
         },
         "domain": {
          "x": [
           0,
           1
          ],
          "y": [
           0,
           1
          ]
         },
         "zoom": 8
        },
        "template": {
         "data": {
          "bar": [
           {
            "error_x": {
             "color": "#f2f5fa"
            },
            "error_y": {
             "color": "#f2f5fa"
            },
            "marker": {
             "line": {
              "color": "rgb(17,17,17)",
              "width": 0.5
             },
             "pattern": {
              "fillmode": "overlay",
              "size": 10,
              "solidity": 0.2
             }
            },
            "type": "bar"
           }
          ],
          "barpolar": [
           {
            "marker": {
             "line": {
              "color": "rgb(17,17,17)",
              "width": 0.5
             },
             "pattern": {
              "fillmode": "overlay",
              "size": 10,
              "solidity": 0.2
             }
            },
            "type": "barpolar"
           }
          ],
          "carpet": [
           {
            "aaxis": {
             "endlinecolor": "#A2B1C6",
             "gridcolor": "#506784",
             "linecolor": "#506784",
             "minorgridcolor": "#506784",
             "startlinecolor": "#A2B1C6"
            },
            "baxis": {
             "endlinecolor": "#A2B1C6",
             "gridcolor": "#506784",
             "linecolor": "#506784",
             "minorgridcolor": "#506784",
             "startlinecolor": "#A2B1C6"
            },
            "type": "carpet"
           }
          ],
          "choropleth": [
           {
            "colorbar": {
             "outlinewidth": 0,
             "ticks": ""
            },
            "type": "choropleth"
           }
          ],
          "contour": [
           {
            "colorbar": {
             "outlinewidth": 0,
             "ticks": ""
            },
            "colorscale": [
             [
              0,
              "#0d0887"
             ],
             [
              0.1111111111111111,
              "#46039f"
             ],
             [
              0.2222222222222222,
              "#7201a8"
             ],
             [
              0.3333333333333333,
              "#9c179e"
             ],
             [
              0.4444444444444444,
              "#bd3786"
             ],
             [
              0.5555555555555556,
              "#d8576b"
             ],
             [
              0.6666666666666666,
              "#ed7953"
             ],
             [
              0.7777777777777778,
              "#fb9f3a"
             ],
             [
              0.8888888888888888,
              "#fdca26"
             ],
             [
              1,
              "#f0f921"
             ]
            ],
            "type": "contour"
           }
          ],
          "contourcarpet": [
           {
            "colorbar": {
             "outlinewidth": 0,
             "ticks": ""
            },
            "type": "contourcarpet"
           }
          ],
          "heatmap": [
           {
            "colorbar": {
             "outlinewidth": 0,
             "ticks": ""
            },
            "colorscale": [
             [
              0,
              "#0d0887"
             ],
             [
              0.1111111111111111,
              "#46039f"
             ],
             [
              0.2222222222222222,
              "#7201a8"
             ],
             [
              0.3333333333333333,
              "#9c179e"
             ],
             [
              0.4444444444444444,
              "#bd3786"
             ],
             [
              0.5555555555555556,
              "#d8576b"
             ],
             [
              0.6666666666666666,
              "#ed7953"
             ],
             [
              0.7777777777777778,
              "#fb9f3a"
             ],
             [
              0.8888888888888888,
              "#fdca26"
             ],
             [
              1,
              "#f0f921"
             ]
            ],
            "type": "heatmap"
           }
          ],
          "heatmapgl": [
           {
            "colorbar": {
             "outlinewidth": 0,
             "ticks": ""
            },
            "colorscale": [
             [
              0,
              "#0d0887"
             ],
             [
              0.1111111111111111,
              "#46039f"
             ],
             [
              0.2222222222222222,
              "#7201a8"
             ],
             [
              0.3333333333333333,
              "#9c179e"
             ],
             [
              0.4444444444444444,
              "#bd3786"
             ],
             [
              0.5555555555555556,
              "#d8576b"
             ],
             [
              0.6666666666666666,
              "#ed7953"
             ],
             [
              0.7777777777777778,
              "#fb9f3a"
             ],
             [
              0.8888888888888888,
              "#fdca26"
             ],
             [
              1,
              "#f0f921"
             ]
            ],
            "type": "heatmapgl"
           }
          ],
          "histogram": [
           {
            "marker": {
             "pattern": {
              "fillmode": "overlay",
              "size": 10,
              "solidity": 0.2
             }
            },
            "type": "histogram"
           }
          ],
          "histogram2d": [
           {
            "colorbar": {
             "outlinewidth": 0,
             "ticks": ""
            },
            "colorscale": [
             [
              0,
              "#0d0887"
             ],
             [
              0.1111111111111111,
              "#46039f"
             ],
             [
              0.2222222222222222,
              "#7201a8"
             ],
             [
              0.3333333333333333,
              "#9c179e"
             ],
             [
              0.4444444444444444,
              "#bd3786"
             ],
             [
              0.5555555555555556,
              "#d8576b"
             ],
             [
              0.6666666666666666,
              "#ed7953"
             ],
             [
              0.7777777777777778,
              "#fb9f3a"
             ],
             [
              0.8888888888888888,
              "#fdca26"
             ],
             [
              1,
              "#f0f921"
             ]
            ],
            "type": "histogram2d"
           }
          ],
          "histogram2dcontour": [
           {
            "colorbar": {
             "outlinewidth": 0,
             "ticks": ""
            },
            "colorscale": [
             [
              0,
              "#0d0887"
             ],
             [
              0.1111111111111111,
              "#46039f"
             ],
             [
              0.2222222222222222,
              "#7201a8"
             ],
             [
              0.3333333333333333,
              "#9c179e"
             ],
             [
              0.4444444444444444,
              "#bd3786"
             ],
             [
              0.5555555555555556,
              "#d8576b"
             ],
             [
              0.6666666666666666,
              "#ed7953"
             ],
             [
              0.7777777777777778,
              "#fb9f3a"
             ],
             [
              0.8888888888888888,
              "#fdca26"
             ],
             [
              1,
              "#f0f921"
             ]
            ],
            "type": "histogram2dcontour"
           }
          ],
          "mesh3d": [
           {
            "colorbar": {
             "outlinewidth": 0,
             "ticks": ""
            },
            "type": "mesh3d"
           }
          ],
          "parcoords": [
           {
            "line": {
             "colorbar": {
              "outlinewidth": 0,
              "ticks": ""
             }
            },
            "type": "parcoords"
           }
          ],
          "pie": [
           {
            "automargin": true,
            "type": "pie"
           }
          ],
          "scatter": [
           {
            "marker": {
             "line": {
              "color": "#283442"
             }
            },
            "type": "scatter"
           }
          ],
          "scatter3d": [
           {
            "line": {
             "colorbar": {
              "outlinewidth": 0,
              "ticks": ""
             }
            },
            "marker": {
             "colorbar": {
              "outlinewidth": 0,
              "ticks": ""
             }
            },
            "type": "scatter3d"
           }
          ],
          "scattercarpet": [
           {
            "marker": {
             "colorbar": {
              "outlinewidth": 0,
              "ticks": ""
             }
            },
            "type": "scattercarpet"
           }
          ],
          "scattergeo": [
           {
            "marker": {
             "colorbar": {
              "outlinewidth": 0,
              "ticks": ""
             }
            },
            "type": "scattergeo"
           }
          ],
          "scattergl": [
           {
            "marker": {
             "line": {
              "color": "#283442"
             }
            },
            "type": "scattergl"
           }
          ],
          "scattermapbox": [
           {
            "marker": {
             "colorbar": {
              "outlinewidth": 0,
              "ticks": ""
             }
            },
            "type": "scattermapbox"
           }
          ],
          "scatterpolar": [
           {
            "marker": {
             "colorbar": {
              "outlinewidth": 0,
              "ticks": ""
             }
            },
            "type": "scatterpolar"
           }
          ],
          "scatterpolargl": [
           {
            "marker": {
             "colorbar": {
              "outlinewidth": 0,
              "ticks": ""
             }
            },
            "type": "scatterpolargl"
           }
          ],
          "scatterternary": [
           {
            "marker": {
             "colorbar": {
              "outlinewidth": 0,
              "ticks": ""
             }
            },
            "type": "scatterternary"
           }
          ],
          "surface": [
           {
            "colorbar": {
             "outlinewidth": 0,
             "ticks": ""
            },
            "colorscale": [
             [
              0,
              "#0d0887"
             ],
             [
              0.1111111111111111,
              "#46039f"
             ],
             [
              0.2222222222222222,
              "#7201a8"
             ],
             [
              0.3333333333333333,
              "#9c179e"
             ],
             [
              0.4444444444444444,
              "#bd3786"
             ],
             [
              0.5555555555555556,
              "#d8576b"
             ],
             [
              0.6666666666666666,
              "#ed7953"
             ],
             [
              0.7777777777777778,
              "#fb9f3a"
             ],
             [
              0.8888888888888888,
              "#fdca26"
             ],
             [
              1,
              "#f0f921"
             ]
            ],
            "type": "surface"
           }
          ],
          "table": [
           {
            "cells": {
             "fill": {
              "color": "#506784"
             },
             "line": {
              "color": "rgb(17,17,17)"
             }
            },
            "header": {
             "fill": {
              "color": "#2a3f5f"
             },
             "line": {
              "color": "rgb(17,17,17)"
             }
            },
            "type": "table"
           }
          ]
         },
         "layout": {
          "annotationdefaults": {
           "arrowcolor": "#f2f5fa",
           "arrowhead": 0,
           "arrowwidth": 1
          },
          "autotypenumbers": "strict",
          "coloraxis": {
           "colorbar": {
            "outlinewidth": 0,
            "ticks": ""
           }
          },
          "colorscale": {
           "diverging": [
            [
             0,
             "#8e0152"
            ],
            [
             0.1,
             "#c51b7d"
            ],
            [
             0.2,
             "#de77ae"
            ],
            [
             0.3,
             "#f1b6da"
            ],
            [
             0.4,
             "#fde0ef"
            ],
            [
             0.5,
             "#f7f7f7"
            ],
            [
             0.6,
             "#e6f5d0"
            ],
            [
             0.7,
             "#b8e186"
            ],
            [
             0.8,
             "#7fbc41"
            ],
            [
             0.9,
             "#4d9221"
            ],
            [
             1,
             "#276419"
            ]
           ],
           "sequential": [
            [
             0,
             "#0d0887"
            ],
            [
             0.1111111111111111,
             "#46039f"
            ],
            [
             0.2222222222222222,
             "#7201a8"
            ],
            [
             0.3333333333333333,
             "#9c179e"
            ],
            [
             0.4444444444444444,
             "#bd3786"
            ],
            [
             0.5555555555555556,
             "#d8576b"
            ],
            [
             0.6666666666666666,
             "#ed7953"
            ],
            [
             0.7777777777777778,
             "#fb9f3a"
            ],
            [
             0.8888888888888888,
             "#fdca26"
            ],
            [
             1,
             "#f0f921"
            ]
           ],
           "sequentialminus": [
            [
             0,
             "#0d0887"
            ],
            [
             0.1111111111111111,
             "#46039f"
            ],
            [
             0.2222222222222222,
             "#7201a8"
            ],
            [
             0.3333333333333333,
             "#9c179e"
            ],
            [
             0.4444444444444444,
             "#bd3786"
            ],
            [
             0.5555555555555556,
             "#d8576b"
            ],
            [
             0.6666666666666666,
             "#ed7953"
            ],
            [
             0.7777777777777778,
             "#fb9f3a"
            ],
            [
             0.8888888888888888,
             "#fdca26"
            ],
            [
             1,
             "#f0f921"
            ]
           ]
          },
          "colorway": [
           "#636efa",
           "#EF553B",
           "#00cc96",
           "#ab63fa",
           "#FFA15A",
           "#19d3f3",
           "#FF6692",
           "#B6E880",
           "#FF97FF",
           "#FECB52"
          ],
          "font": {
           "color": "#f2f5fa"
          },
          "geo": {
           "bgcolor": "rgb(17,17,17)",
           "lakecolor": "rgb(17,17,17)",
           "landcolor": "rgb(17,17,17)",
           "showlakes": true,
           "showland": true,
           "subunitcolor": "#506784"
          },
          "hoverlabel": {
           "align": "left"
          },
          "hovermode": "closest",
          "mapbox": {
           "style": "dark"
          },
          "paper_bgcolor": "rgb(17,17,17)",
          "plot_bgcolor": "rgb(17,17,17)",
          "polar": {
           "angularaxis": {
            "gridcolor": "#506784",
            "linecolor": "#506784",
            "ticks": ""
           },
           "bgcolor": "rgb(17,17,17)",
           "radialaxis": {
            "gridcolor": "#506784",
            "linecolor": "#506784",
            "ticks": ""
           }
          },
          "scene": {
           "xaxis": {
            "backgroundcolor": "rgb(17,17,17)",
            "gridcolor": "#506784",
            "gridwidth": 2,
            "linecolor": "#506784",
            "showbackground": true,
            "ticks": "",
            "zerolinecolor": "#C8D4E3"
           },
           "yaxis": {
            "backgroundcolor": "rgb(17,17,17)",
            "gridcolor": "#506784",
            "gridwidth": 2,
            "linecolor": "#506784",
            "showbackground": true,
            "ticks": "",
            "zerolinecolor": "#C8D4E3"
           },
           "zaxis": {
            "backgroundcolor": "rgb(17,17,17)",
            "gridcolor": "#506784",
            "gridwidth": 2,
            "linecolor": "#506784",
            "showbackground": true,
            "ticks": "",
            "zerolinecolor": "#C8D4E3"
           }
          },
          "shapedefaults": {
           "line": {
            "color": "#f2f5fa"
           }
          },
          "sliderdefaults": {
           "bgcolor": "#C8D4E3",
           "bordercolor": "rgb(17,17,17)",
           "borderwidth": 1,
           "tickwidth": 0
          },
          "ternary": {
           "aaxis": {
            "gridcolor": "#506784",
            "linecolor": "#506784",
            "ticks": ""
           },
           "baxis": {
            "gridcolor": "#506784",
            "linecolor": "#506784",
            "ticks": ""
           },
           "bgcolor": "rgb(17,17,17)",
           "caxis": {
            "gridcolor": "#506784",
            "linecolor": "#506784",
            "ticks": ""
           }
          },
          "title": {
           "x": 0.05
          },
          "updatemenudefaults": {
           "bgcolor": "#506784",
           "borderwidth": 0
          },
          "xaxis": {
           "automargin": true,
           "gridcolor": "#283442",
           "linecolor": "#506784",
           "ticks": "",
           "title": {
            "standoff": 15
           },
           "zerolinecolor": "#283442",
           "zerolinewidth": 2
          },
          "yaxis": {
           "automargin": true,
           "gridcolor": "#283442",
           "linecolor": "#506784",
           "ticks": "",
           "title": {
            "standoff": 15
           },
           "zerolinecolor": "#283442",
           "zerolinewidth": 2
          }
         }
        },
        "title": {
         "text": "Volumen pasajeros 2016 por aeropuerto"
        }
       }
      }
     },
     "metadata": {},
     "output_type": "display_data"
    }
   ],
   "source": [
    "fig=px.scatter_mapbox(df, lat=\"Latitude\", lon=\"Longitude\", title=\"Volumen pasajeros 2016 por aeropuerto\",size=\"Passengers2016\", color=\"City served\", template=\"plotly_dark\")\n",
    "fig.show()\n"
   ]
  },
  {
   "cell_type": "code",
   "execution_count": 78,
   "metadata": {},
   "outputs": [],
   "source": [
    "fig=px.scatter_mapbox(df, lat=\"Latitude\", lon=\"Longitude\", title=\"Volumen pasajeros 2016 por aeropuerto\",size=\"Passengers2016\", color=\"City served\", template=\"plotly_dark\")\n",
    "fig.write_html(\"Volumen pasajeros 2016 por aeropuerto.html\")"
   ]
  },
  {
   "cell_type": "markdown",
   "metadata": {},
   "source": [
    "2.14- Crea un gráfico de regresión para analizar la relación entre el ranking de 2016 y el cambio numérico de pasajeros de 2015 a 2016."
   ]
  },
  {
   "cell_type": "code",
   "execution_count": 42,
   "metadata": {},
   "outputs": [
    {
     "data": {
      "application/vnd.plotly.v1+json": {
       "config": {
        "plotlyServerURL": "https://plot.ly"
       },
       "data": [
        {
         "hovertemplate": "Rank2016=%{x}<br>Change 2016-2015-Num=%{marker.color}<extra></extra>",
         "legendgroup": "",
         "marker": {
          "color": [
           725655,
           166159,
           5340816,
           -245085,
           -907259,
           3595745,
           4443456,
           2850541,
           1279787,
           1281561,
           2376984,
           1572872,
           2432955,
           -2004256,
           2858065,
           1385200,
           2508859,
           1109496,
           2501007,
           1539930,
           1800893,
           1045234,
           576962,
           2358871,
           -1641600,
           248763,
           1930153,
           838647,
           762415,
           2268570,
           760609,
           614082,
           2288269,
           -1868441,
           -236417,
           1043589,
           1608668,
           410697,
           1233838,
           1769657,
           1571763,
           3126654,
           1458212,
           1143036,
           755006,
           1708338,
           114205,
           -7371,
           873720,
           849896,
           1290342,
           632091,
           1372865,
           214005,
           412125,
           808630,
           791250,
           1194028,
           823990,
           939085,
           253210,
           347418,
           1965853,
           612800,
           685391,
           211062,
           -71806,
           743977,
           456275,
           346032,
           -43855,
           238094,
           -438502,
           414768,
           183932,
           756254,
           461429,
           184722,
           762474,
           891444,
           363363,
           148882,
           245060,
           406315,
           383971,
           477444,
           202956,
           315193,
           310540,
           219612,
           64769,
           350692,
           -305817,
           297901,
           -332157,
           283986,
           120890,
           -24427,
           165230,
           103691
          ],
          "coloraxis": "coloraxis",
          "symbol": "circle"
         },
         "mode": "markers",
         "name": "",
         "orientation": "v",
         "showlegend": false,
         "type": "scatter",
         "x": [
          1,
          2,
          3,
          4,
          5,
          6,
          7,
          8,
          9,
          10,
          11,
          12,
          13,
          14,
          15,
          16,
          17,
          18,
          19,
          20,
          21,
          22,
          23,
          24,
          25,
          26,
          27,
          28,
          29,
          30,
          31,
          32,
          33,
          34,
          35,
          36,
          37,
          38,
          39,
          40,
          41,
          42,
          43,
          44,
          45,
          46,
          47,
          48,
          49,
          50,
          51,
          52,
          53,
          54,
          55,
          56,
          57,
          58,
          59,
          60,
          61,
          62,
          63,
          64,
          65,
          66,
          67,
          68,
          69,
          70,
          71,
          72,
          73,
          74,
          75,
          76,
          77,
          78,
          79,
          80,
          81,
          82,
          83,
          84,
          85,
          86,
          87,
          88,
          89,
          90,
          91,
          92,
          93,
          94,
          95,
          96,
          97,
          98,
          99,
          100
         ],
         "xaxis": "x",
         "y": [
          725655,
          166159,
          5340816,
          -245085,
          -907259,
          3595745,
          4443456,
          2850541,
          1279787,
          1281561,
          2376984,
          1572872,
          2432955,
          -2004256,
          2858065,
          1385200,
          2508859,
          1109496,
          2501007,
          1539930,
          1800893,
          1045234,
          576962,
          2358871,
          -1641600,
          248763,
          1930153,
          838647,
          762415,
          2268570,
          760609,
          614082,
          2288269,
          -1868441,
          -236417,
          1043589,
          1608668,
          410697,
          1233838,
          1769657,
          1571763,
          3126654,
          1458212,
          1143036,
          755006,
          1708338,
          114205,
          -7371,
          873720,
          849896,
          1290342,
          632091,
          1372865,
          214005,
          412125,
          808630,
          791250,
          1194028,
          823990,
          939085,
          253210,
          347418,
          1965853,
          612800,
          685391,
          211062,
          -71806,
          743977,
          456275,
          346032,
          -43855,
          238094,
          -438502,
          414768,
          183932,
          756254,
          461429,
          184722,
          762474,
          891444,
          363363,
          148882,
          245060,
          406315,
          383971,
          477444,
          202956,
          315193,
          310540,
          219612,
          64769,
          350692,
          -305817,
          297901,
          -332157,
          283986,
          120890,
          -24427,
          165230,
          103691
         ],
         "yaxis": "y"
        },
        {
         "hovertemplate": "<b>OLS trendline</b><br>Change 2016-2015-Num = -17638.4 * Rank2016 + 1.74531e+06<br>R<sup>2</sup>=0.205961<br><br>Rank2016=%{x}<br>Change 2016-2015-Num=%{y} <b>(trend)</b><extra></extra>",
         "legendgroup": "",
         "marker": {
          "symbol": "circle"
         },
         "mode": "lines",
         "name": "",
         "showlegend": false,
         "type": "scatter",
         "x": [
          1,
          2,
          3,
          4,
          5,
          6,
          7,
          8,
          9,
          10,
          11,
          12,
          13,
          14,
          15,
          16,
          17,
          18,
          19,
          20,
          21,
          22,
          23,
          24,
          25,
          26,
          27,
          28,
          29,
          30,
          31,
          32,
          33,
          34,
          35,
          36,
          37,
          38,
          39,
          40,
          41,
          42,
          43,
          44,
          45,
          46,
          47,
          48,
          49,
          50,
          51,
          52,
          53,
          54,
          55,
          56,
          57,
          58,
          59,
          60,
          61,
          62,
          63,
          64,
          65,
          66,
          67,
          68,
          69,
          70,
          71,
          72,
          73,
          74,
          75,
          76,
          77,
          78,
          79,
          80,
          81,
          82,
          83,
          84,
          85,
          86,
          87,
          88,
          89,
          90,
          91,
          92,
          93,
          94,
          95,
          96,
          97,
          98,
          99,
          100
         ],
         "xaxis": "x",
         "y": [
          1727668.0548514854,
          1710029.6866726675,
          1692391.3184938496,
          1674752.950315032,
          1657114.582136214,
          1639476.213957396,
          1621837.8457785782,
          1604199.4775997603,
          1586561.1094209426,
          1568922.7412421247,
          1551284.3730633068,
          1533646.0048844889,
          1516007.636705671,
          1498369.268526853,
          1480730.9003480352,
          1463092.5321692175,
          1445454.1639903996,
          1427815.7958115817,
          1410177.4276327637,
          1392539.059453946,
          1374900.6912751282,
          1357262.3230963103,
          1339623.9549174923,
          1321985.5867386744,
          1304347.2185598565,
          1286708.8503810386,
          1269070.482202221,
          1251432.114023403,
          1233793.7458445851,
          1216155.3776657672,
          1198517.0094869495,
          1180878.6413081316,
          1163240.2731293137,
          1145601.9049504958,
          1127963.536771678,
          1110325.16859286,
          1092686.800414042,
          1075048.4322352242,
          1057410.0640564063,
          1039771.6958775886,
          1022133.3276987707,
          1004494.9595199528,
          986856.591341135,
          969218.2231623171,
          951579.8549834992,
          933941.4868046814,
          916303.1186258635,
          898664.7504470455,
          881026.3822682278,
          863388.0140894098,
          845749.645910592,
          828111.2777317741,
          810472.9095529562,
          792834.5413741384,
          775196.1731953205,
          757557.8050165026,
          739919.4368376848,
          722281.0686588669,
          704642.700480049,
          687004.3323012311,
          669365.9641224132,
          651727.5959435955,
          634089.2277647776,
          616450.8595859597,
          598812.4914071418,
          581174.1232283239,
          563535.7550495062,
          545897.3868706883,
          528259.0186918704,
          510620.6505130525,
          492982.28233423457,
          475343.91415541666,
          457705.545976599,
          440067.17779778107,
          422428.80961896316,
          404790.44144014525,
          387152.07326132734,
          369513.70508250943,
          351875.33690369176,
          334236.96872487385,
          316598.60054605594,
          298960.23236723803,
          281321.8641884201,
          263683.4960096022,
          246045.12783078454,
          228406.75965196663,
          210768.39147314872,
          193130.0232943308,
          175491.6551155129,
          157853.286936695,
          140214.9187578773,
          122576.5505790594,
          104938.1824002415,
          87299.81422142358,
          69661.44604260568,
          52023.07786378777,
          34384.70968497009,
          16746.34150615218,
          -892.0266726657283,
          -18530.394851483637
         ],
         "yaxis": "y"
        }
       ],
       "layout": {
        "coloraxis": {
         "colorbar": {
          "title": {
           "text": "Change 2016-2015-Num"
          }
         },
         "colorscale": [
          [
           0,
           "#0d0887"
          ],
          [
           0.1111111111111111,
           "#46039f"
          ],
          [
           0.2222222222222222,
           "#7201a8"
          ],
          [
           0.3333333333333333,
           "#9c179e"
          ],
          [
           0.4444444444444444,
           "#bd3786"
          ],
          [
           0.5555555555555556,
           "#d8576b"
          ],
          [
           0.6666666666666666,
           "#ed7953"
          ],
          [
           0.7777777777777778,
           "#fb9f3a"
          ],
          [
           0.8888888888888888,
           "#fdca26"
          ],
          [
           1,
           "#f0f921"
          ]
         ]
        },
        "legend": {
         "tracegroupgap": 0
        },
        "template": {
         "data": {
          "bar": [
           {
            "error_x": {
             "color": "#f2f5fa"
            },
            "error_y": {
             "color": "#f2f5fa"
            },
            "marker": {
             "line": {
              "color": "rgb(17,17,17)",
              "width": 0.5
             },
             "pattern": {
              "fillmode": "overlay",
              "size": 10,
              "solidity": 0.2
             }
            },
            "type": "bar"
           }
          ],
          "barpolar": [
           {
            "marker": {
             "line": {
              "color": "rgb(17,17,17)",
              "width": 0.5
             },
             "pattern": {
              "fillmode": "overlay",
              "size": 10,
              "solidity": 0.2
             }
            },
            "type": "barpolar"
           }
          ],
          "carpet": [
           {
            "aaxis": {
             "endlinecolor": "#A2B1C6",
             "gridcolor": "#506784",
             "linecolor": "#506784",
             "minorgridcolor": "#506784",
             "startlinecolor": "#A2B1C6"
            },
            "baxis": {
             "endlinecolor": "#A2B1C6",
             "gridcolor": "#506784",
             "linecolor": "#506784",
             "minorgridcolor": "#506784",
             "startlinecolor": "#A2B1C6"
            },
            "type": "carpet"
           }
          ],
          "choropleth": [
           {
            "colorbar": {
             "outlinewidth": 0,
             "ticks": ""
            },
            "type": "choropleth"
           }
          ],
          "contour": [
           {
            "colorbar": {
             "outlinewidth": 0,
             "ticks": ""
            },
            "colorscale": [
             [
              0,
              "#0d0887"
             ],
             [
              0.1111111111111111,
              "#46039f"
             ],
             [
              0.2222222222222222,
              "#7201a8"
             ],
             [
              0.3333333333333333,
              "#9c179e"
             ],
             [
              0.4444444444444444,
              "#bd3786"
             ],
             [
              0.5555555555555556,
              "#d8576b"
             ],
             [
              0.6666666666666666,
              "#ed7953"
             ],
             [
              0.7777777777777778,
              "#fb9f3a"
             ],
             [
              0.8888888888888888,
              "#fdca26"
             ],
             [
              1,
              "#f0f921"
             ]
            ],
            "type": "contour"
           }
          ],
          "contourcarpet": [
           {
            "colorbar": {
             "outlinewidth": 0,
             "ticks": ""
            },
            "type": "contourcarpet"
           }
          ],
          "heatmap": [
           {
            "colorbar": {
             "outlinewidth": 0,
             "ticks": ""
            },
            "colorscale": [
             [
              0,
              "#0d0887"
             ],
             [
              0.1111111111111111,
              "#46039f"
             ],
             [
              0.2222222222222222,
              "#7201a8"
             ],
             [
              0.3333333333333333,
              "#9c179e"
             ],
             [
              0.4444444444444444,
              "#bd3786"
             ],
             [
              0.5555555555555556,
              "#d8576b"
             ],
             [
              0.6666666666666666,
              "#ed7953"
             ],
             [
              0.7777777777777778,
              "#fb9f3a"
             ],
             [
              0.8888888888888888,
              "#fdca26"
             ],
             [
              1,
              "#f0f921"
             ]
            ],
            "type": "heatmap"
           }
          ],
          "heatmapgl": [
           {
            "colorbar": {
             "outlinewidth": 0,
             "ticks": ""
            },
            "colorscale": [
             [
              0,
              "#0d0887"
             ],
             [
              0.1111111111111111,
              "#46039f"
             ],
             [
              0.2222222222222222,
              "#7201a8"
             ],
             [
              0.3333333333333333,
              "#9c179e"
             ],
             [
              0.4444444444444444,
              "#bd3786"
             ],
             [
              0.5555555555555556,
              "#d8576b"
             ],
             [
              0.6666666666666666,
              "#ed7953"
             ],
             [
              0.7777777777777778,
              "#fb9f3a"
             ],
             [
              0.8888888888888888,
              "#fdca26"
             ],
             [
              1,
              "#f0f921"
             ]
            ],
            "type": "heatmapgl"
           }
          ],
          "histogram": [
           {
            "marker": {
             "pattern": {
              "fillmode": "overlay",
              "size": 10,
              "solidity": 0.2
             }
            },
            "type": "histogram"
           }
          ],
          "histogram2d": [
           {
            "colorbar": {
             "outlinewidth": 0,
             "ticks": ""
            },
            "colorscale": [
             [
              0,
              "#0d0887"
             ],
             [
              0.1111111111111111,
              "#46039f"
             ],
             [
              0.2222222222222222,
              "#7201a8"
             ],
             [
              0.3333333333333333,
              "#9c179e"
             ],
             [
              0.4444444444444444,
              "#bd3786"
             ],
             [
              0.5555555555555556,
              "#d8576b"
             ],
             [
              0.6666666666666666,
              "#ed7953"
             ],
             [
              0.7777777777777778,
              "#fb9f3a"
             ],
             [
              0.8888888888888888,
              "#fdca26"
             ],
             [
              1,
              "#f0f921"
             ]
            ],
            "type": "histogram2d"
           }
          ],
          "histogram2dcontour": [
           {
            "colorbar": {
             "outlinewidth": 0,
             "ticks": ""
            },
            "colorscale": [
             [
              0,
              "#0d0887"
             ],
             [
              0.1111111111111111,
              "#46039f"
             ],
             [
              0.2222222222222222,
              "#7201a8"
             ],
             [
              0.3333333333333333,
              "#9c179e"
             ],
             [
              0.4444444444444444,
              "#bd3786"
             ],
             [
              0.5555555555555556,
              "#d8576b"
             ],
             [
              0.6666666666666666,
              "#ed7953"
             ],
             [
              0.7777777777777778,
              "#fb9f3a"
             ],
             [
              0.8888888888888888,
              "#fdca26"
             ],
             [
              1,
              "#f0f921"
             ]
            ],
            "type": "histogram2dcontour"
           }
          ],
          "mesh3d": [
           {
            "colorbar": {
             "outlinewidth": 0,
             "ticks": ""
            },
            "type": "mesh3d"
           }
          ],
          "parcoords": [
           {
            "line": {
             "colorbar": {
              "outlinewidth": 0,
              "ticks": ""
             }
            },
            "type": "parcoords"
           }
          ],
          "pie": [
           {
            "automargin": true,
            "type": "pie"
           }
          ],
          "scatter": [
           {
            "marker": {
             "line": {
              "color": "#283442"
             }
            },
            "type": "scatter"
           }
          ],
          "scatter3d": [
           {
            "line": {
             "colorbar": {
              "outlinewidth": 0,
              "ticks": ""
             }
            },
            "marker": {
             "colorbar": {
              "outlinewidth": 0,
              "ticks": ""
             }
            },
            "type": "scatter3d"
           }
          ],
          "scattercarpet": [
           {
            "marker": {
             "colorbar": {
              "outlinewidth": 0,
              "ticks": ""
             }
            },
            "type": "scattercarpet"
           }
          ],
          "scattergeo": [
           {
            "marker": {
             "colorbar": {
              "outlinewidth": 0,
              "ticks": ""
             }
            },
            "type": "scattergeo"
           }
          ],
          "scattergl": [
           {
            "marker": {
             "line": {
              "color": "#283442"
             }
            },
            "type": "scattergl"
           }
          ],
          "scattermapbox": [
           {
            "marker": {
             "colorbar": {
              "outlinewidth": 0,
              "ticks": ""
             }
            },
            "type": "scattermapbox"
           }
          ],
          "scatterpolar": [
           {
            "marker": {
             "colorbar": {
              "outlinewidth": 0,
              "ticks": ""
             }
            },
            "type": "scatterpolar"
           }
          ],
          "scatterpolargl": [
           {
            "marker": {
             "colorbar": {
              "outlinewidth": 0,
              "ticks": ""
             }
            },
            "type": "scatterpolargl"
           }
          ],
          "scatterternary": [
           {
            "marker": {
             "colorbar": {
              "outlinewidth": 0,
              "ticks": ""
             }
            },
            "type": "scatterternary"
           }
          ],
          "surface": [
           {
            "colorbar": {
             "outlinewidth": 0,
             "ticks": ""
            },
            "colorscale": [
             [
              0,
              "#0d0887"
             ],
             [
              0.1111111111111111,
              "#46039f"
             ],
             [
              0.2222222222222222,
              "#7201a8"
             ],
             [
              0.3333333333333333,
              "#9c179e"
             ],
             [
              0.4444444444444444,
              "#bd3786"
             ],
             [
              0.5555555555555556,
              "#d8576b"
             ],
             [
              0.6666666666666666,
              "#ed7953"
             ],
             [
              0.7777777777777778,
              "#fb9f3a"
             ],
             [
              0.8888888888888888,
              "#fdca26"
             ],
             [
              1,
              "#f0f921"
             ]
            ],
            "type": "surface"
           }
          ],
          "table": [
           {
            "cells": {
             "fill": {
              "color": "#506784"
             },
             "line": {
              "color": "rgb(17,17,17)"
             }
            },
            "header": {
             "fill": {
              "color": "#2a3f5f"
             },
             "line": {
              "color": "rgb(17,17,17)"
             }
            },
            "type": "table"
           }
          ]
         },
         "layout": {
          "annotationdefaults": {
           "arrowcolor": "#f2f5fa",
           "arrowhead": 0,
           "arrowwidth": 1
          },
          "autotypenumbers": "strict",
          "coloraxis": {
           "colorbar": {
            "outlinewidth": 0,
            "ticks": ""
           }
          },
          "colorscale": {
           "diverging": [
            [
             0,
             "#8e0152"
            ],
            [
             0.1,
             "#c51b7d"
            ],
            [
             0.2,
             "#de77ae"
            ],
            [
             0.3,
             "#f1b6da"
            ],
            [
             0.4,
             "#fde0ef"
            ],
            [
             0.5,
             "#f7f7f7"
            ],
            [
             0.6,
             "#e6f5d0"
            ],
            [
             0.7,
             "#b8e186"
            ],
            [
             0.8,
             "#7fbc41"
            ],
            [
             0.9,
             "#4d9221"
            ],
            [
             1,
             "#276419"
            ]
           ],
           "sequential": [
            [
             0,
             "#0d0887"
            ],
            [
             0.1111111111111111,
             "#46039f"
            ],
            [
             0.2222222222222222,
             "#7201a8"
            ],
            [
             0.3333333333333333,
             "#9c179e"
            ],
            [
             0.4444444444444444,
             "#bd3786"
            ],
            [
             0.5555555555555556,
             "#d8576b"
            ],
            [
             0.6666666666666666,
             "#ed7953"
            ],
            [
             0.7777777777777778,
             "#fb9f3a"
            ],
            [
             0.8888888888888888,
             "#fdca26"
            ],
            [
             1,
             "#f0f921"
            ]
           ],
           "sequentialminus": [
            [
             0,
             "#0d0887"
            ],
            [
             0.1111111111111111,
             "#46039f"
            ],
            [
             0.2222222222222222,
             "#7201a8"
            ],
            [
             0.3333333333333333,
             "#9c179e"
            ],
            [
             0.4444444444444444,
             "#bd3786"
            ],
            [
             0.5555555555555556,
             "#d8576b"
            ],
            [
             0.6666666666666666,
             "#ed7953"
            ],
            [
             0.7777777777777778,
             "#fb9f3a"
            ],
            [
             0.8888888888888888,
             "#fdca26"
            ],
            [
             1,
             "#f0f921"
            ]
           ]
          },
          "colorway": [
           "#636efa",
           "#EF553B",
           "#00cc96",
           "#ab63fa",
           "#FFA15A",
           "#19d3f3",
           "#FF6692",
           "#B6E880",
           "#FF97FF",
           "#FECB52"
          ],
          "font": {
           "color": "#f2f5fa"
          },
          "geo": {
           "bgcolor": "rgb(17,17,17)",
           "lakecolor": "rgb(17,17,17)",
           "landcolor": "rgb(17,17,17)",
           "showlakes": true,
           "showland": true,
           "subunitcolor": "#506784"
          },
          "hoverlabel": {
           "align": "left"
          },
          "hovermode": "closest",
          "mapbox": {
           "style": "dark"
          },
          "paper_bgcolor": "rgb(17,17,17)",
          "plot_bgcolor": "rgb(17,17,17)",
          "polar": {
           "angularaxis": {
            "gridcolor": "#506784",
            "linecolor": "#506784",
            "ticks": ""
           },
           "bgcolor": "rgb(17,17,17)",
           "radialaxis": {
            "gridcolor": "#506784",
            "linecolor": "#506784",
            "ticks": ""
           }
          },
          "scene": {
           "xaxis": {
            "backgroundcolor": "rgb(17,17,17)",
            "gridcolor": "#506784",
            "gridwidth": 2,
            "linecolor": "#506784",
            "showbackground": true,
            "ticks": "",
            "zerolinecolor": "#C8D4E3"
           },
           "yaxis": {
            "backgroundcolor": "rgb(17,17,17)",
            "gridcolor": "#506784",
            "gridwidth": 2,
            "linecolor": "#506784",
            "showbackground": true,
            "ticks": "",
            "zerolinecolor": "#C8D4E3"
           },
           "zaxis": {
            "backgroundcolor": "rgb(17,17,17)",
            "gridcolor": "#506784",
            "gridwidth": 2,
            "linecolor": "#506784",
            "showbackground": true,
            "ticks": "",
            "zerolinecolor": "#C8D4E3"
           }
          },
          "shapedefaults": {
           "line": {
            "color": "#f2f5fa"
           }
          },
          "sliderdefaults": {
           "bgcolor": "#C8D4E3",
           "bordercolor": "rgb(17,17,17)",
           "borderwidth": 1,
           "tickwidth": 0
          },
          "ternary": {
           "aaxis": {
            "gridcolor": "#506784",
            "linecolor": "#506784",
            "ticks": ""
           },
           "baxis": {
            "gridcolor": "#506784",
            "linecolor": "#506784",
            "ticks": ""
           },
           "bgcolor": "rgb(17,17,17)",
           "caxis": {
            "gridcolor": "#506784",
            "linecolor": "#506784",
            "ticks": ""
           }
          },
          "title": {
           "x": 0.05
          },
          "updatemenudefaults": {
           "bgcolor": "#506784",
           "borderwidth": 0
          },
          "xaxis": {
           "automargin": true,
           "gridcolor": "#283442",
           "linecolor": "#506784",
           "ticks": "",
           "title": {
            "standoff": 15
           },
           "zerolinecolor": "#283442",
           "zerolinewidth": 2
          },
          "yaxis": {
           "automargin": true,
           "gridcolor": "#283442",
           "linecolor": "#506784",
           "ticks": "",
           "title": {
            "standoff": 15
           },
           "zerolinecolor": "#283442",
           "zerolinewidth": 2
          }
         }
        },
        "title": {
         "text": "Ranking de aeropuertos de 2016 vs Cambio numérico de pasajeros entre 2015 y 2016"
        },
        "xaxis": {
         "anchor": "y",
         "domain": [
          0,
          1
         ],
         "title": {
          "text": "Rank2016"
         }
        },
        "yaxis": {
         "anchor": "x",
         "domain": [
          0,
          1
         ],
         "title": {
          "text": "Change 2016-2015-Num"
         }
        }
       }
      }
     },
     "metadata": {},
     "output_type": "display_data"
    }
   ],
   "source": [
    "px.scatter(df, x=\"Rank2016\", y=\"Change 2016-2015-Num\", title=\"Ranking de aeropuertos de 2016 vs Cambio numérico de pasajeros entre 2015 y 2016\", trendline=\"ols\", template=\"plotly_dark\", color=\"Change 2016-2015-Num\")"
   ]
  },
  {
   "cell_type": "code",
   "execution_count": 79,
   "metadata": {},
   "outputs": [],
   "source": [
    "fig=px.scatter(df, x=\"Rank2016\", y=\"Change 2016-2015-Num\", title=\"Ranking de aeropuertos de 2016 vs Cambio numérico de pasajeros entre 2015 y 2016\", trendline=\"ols\", template=\"plotly_dark\", color=\"Change 2016-2015-Num\")\n",
    "fig.write_html(\"Ranking de aeropuertos de 2016 vs Cambio numérico de pasajeros entre 2015 y 2016.html\")"
   ]
  },
  {
   "cell_type": "markdown",
   "metadata": {},
   "source": [
    "2.15- Diseña un gráfico de barras horizontales que muestre el cambio porcentual de pasajeros para cada aeropuerto entre 2015 y 2016."
   ]
  },
  {
   "cell_type": "code",
   "execution_count": 45,
   "metadata": {},
   "outputs": [
    {
     "data": {
      "application/vnd.plotly.v1+json": {
       "config": {
        "plotlyServerURL": "https://plot.ly"
       },
       "data": [
        {
         "alignmentgroup": "True",
         "hovertemplate": "Airport=%{y}<br>Change 2016-2015-%=%{x}<extra></extra>",
         "legendgroup": "Heathrow Airport",
         "marker": {
          "color": "#636efa",
          "pattern": {
           "shape": ""
          }
         },
         "name": "Heathrow Airport",
         "offsetgroup": "Heathrow Airport",
         "orientation": "h",
         "showlegend": true,
         "textposition": "auto",
         "type": "bar",
         "x": [
          0.97
         ],
         "xaxis": "x",
         "y": [
          "Heathrow Airport"
         ],
         "yaxis": "y"
        },
        {
         "alignmentgroup": "True",
         "hovertemplate": "Airport=%{y}<br>Change 2016-2015-%=%{x}<extra></extra>",
         "legendgroup": "Charles de Gaulle Airport",
         "marker": {
          "color": "#EF553B",
          "pattern": {
           "shape": ""
          }
         },
         "name": "Charles de Gaulle Airport",
         "offsetgroup": "Charles de Gaulle Airport",
         "orientation": "h",
         "showlegend": true,
         "textposition": "auto",
         "type": "bar",
         "x": [
          0.25
         ],
         "xaxis": "x",
         "y": [
          "Charles de Gaulle Airport"
         ],
         "yaxis": "y"
        },
        {
         "alignmentgroup": "True",
         "hovertemplate": "Airport=%{y}<br>Change 2016-2015-%=%{x}<extra></extra>",
         "legendgroup": "Amsterdam Airport Schiphol",
         "marker": {
          "color": "#00cc96",
          "pattern": {
           "shape": ""
          }
         },
         "name": "Amsterdam Airport Schiphol",
         "offsetgroup": "Amsterdam Airport Schiphol",
         "orientation": "h",
         "showlegend": true,
         "textposition": "auto",
         "type": "bar",
         "x": [
          9.16
         ],
         "xaxis": "x",
         "y": [
          "Amsterdam Airport Schiphol"
         ],
         "yaxis": "y"
        },
        {
         "alignmentgroup": "True",
         "hovertemplate": "Airport=%{y}<br>Change 2016-2015-%=%{x}<extra></extra>",
         "legendgroup": "Frankfurt Airport",
         "marker": {
          "color": "#ab63fa",
          "pattern": {
           "shape": ""
          }
         },
         "name": "Frankfurt Airport",
         "offsetgroup": "Frankfurt Airport",
         "orientation": "h",
         "showlegend": true,
         "textposition": "auto",
         "type": "bar",
         "x": [
          -0.4
         ],
         "xaxis": "x",
         "y": [
          "Frankfurt Airport"
         ],
         "yaxis": "y"
        },
        {
         "alignmentgroup": "True",
         "hovertemplate": "Airport=%{y}<br>Change 2016-2015-%=%{x}<extra></extra>",
         "legendgroup": "Istanbul Atatürk Airport",
         "marker": {
          "color": "#FFA15A",
          "pattern": {
           "shape": ""
          }
         },
         "name": "Istanbul Atatürk Airport",
         "offsetgroup": "Istanbul Atatürk Airport",
         "orientation": "h",
         "showlegend": true,
         "textposition": "auto",
         "type": "bar",
         "x": [
          -1.48
         ],
         "xaxis": "x",
         "y": [
          "Istanbul Atatürk Airport"
         ],
         "yaxis": "y"
        },
        {
         "alignmentgroup": "True",
         "hovertemplate": "Airport=%{y}<br>Change 2016-2015-%=%{x}<extra></extra>",
         "legendgroup": "Adolfo Suárez Madrid–Barajas Airport",
         "marker": {
          "color": "#19d3f3",
          "pattern": {
           "shape": ""
          }
         },
         "name": "Adolfo Suárez Madrid–Barajas Airport",
         "offsetgroup": "Adolfo Suárez Madrid–Barajas Airport",
         "orientation": "h",
         "showlegend": true,
         "textposition": "auto",
         "type": "bar",
         "x": [
          7.68
         ],
         "xaxis": "x",
         "y": [
          "Adolfo Suárez Madrid–Barajas Airport"
         ],
         "yaxis": "y"
        },
        {
         "alignmentgroup": "True",
         "hovertemplate": "Airport=%{y}<br>Change 2016-2015-%=%{x}<extra></extra>",
         "legendgroup": "Barcelona–El Prat Josep Tarradellas Airport",
         "marker": {
          "color": "#FF6692",
          "pattern": {
           "shape": ""
          }
         },
         "name": "Barcelona–El Prat Josep Tarradellas Airport",
         "offsetgroup": "Barcelona–El Prat Josep Tarradellas Airport",
         "orientation": "h",
         "showlegend": true,
         "textposition": "auto",
         "type": "bar",
         "x": [
          11.19
         ],
         "xaxis": "x",
         "y": [
          "Barcelona–El Prat Josep Tarradellas Airport"
         ],
         "yaxis": "y"
        },
        {
         "alignmentgroup": "True",
         "hovertemplate": "Airport=%{y}<br>Change 2016-2015-%=%{x}<extra></extra>",
         "legendgroup": "Gatwick Airport",
         "marker": {
          "color": "#B6E880",
          "pattern": {
           "shape": ""
          }
         },
         "name": "Gatwick Airport",
         "offsetgroup": "Gatwick Airport",
         "orientation": "h",
         "showlegend": true,
         "textposition": "auto",
         "type": "bar",
         "x": [
          7.08
         ],
         "xaxis": "x",
         "y": [
          "Gatwick Airport"
         ],
         "yaxis": "y"
        },
        {
         "alignmentgroup": "True",
         "hovertemplate": "Airport=%{y}<br>Change 2016-2015-%=%{x}<extra></extra>",
         "legendgroup": "Munich Airport",
         "marker": {
          "color": "#FF97FF",
          "pattern": {
           "shape": ""
          }
         },
         "name": "Munich Airport",
         "offsetgroup": "Munich Airport",
         "orientation": "h",
         "showlegend": true,
         "textposition": "auto",
         "type": "bar",
         "x": [
          3.12
         ],
         "xaxis": "x",
         "y": [
          "Munich Airport"
         ],
         "yaxis": "y"
        },
        {
         "alignmentgroup": "True",
         "hovertemplate": "Airport=%{y}<br>Change 2016-2015-%=%{x}<extra></extra>",
         "legendgroup": "Leonardo da Vinci–Fiumicino Airport",
         "marker": {
          "color": "#FECB52",
          "pattern": {
           "shape": ""
          }
         },
         "name": "Leonardo da Vinci–Fiumicino Airport",
         "offsetgroup": "Leonardo da Vinci–Fiumicino Airport",
         "orientation": "h",
         "showlegend": true,
         "textposition": "auto",
         "type": "bar",
         "x": [
          3.17
         ],
         "xaxis": "x",
         "y": [
          "Leonardo da Vinci–Fiumicino Airport"
         ],
         "yaxis": "y"
        },
        {
         "alignmentgroup": "True",
         "hovertemplate": "Airport=%{y}<br>Change 2016-2015-%=%{x}<extra></extra>",
         "legendgroup": "Sheremetyevo International Airport",
         "marker": {
          "color": "#636efa",
          "pattern": {
           "shape": ""
          }
         },
         "name": "Sheremetyevo International Airport",
         "offsetgroup": "Sheremetyevo International Airport",
         "orientation": "h",
         "showlegend": true,
         "textposition": "auto",
         "type": "bar",
         "x": [
          7.59
         ],
         "xaxis": "x",
         "y": [
          "Sheremetyevo International Airport"
         ],
         "yaxis": "y"
        },
        {
         "alignmentgroup": "True",
         "hovertemplate": "Airport=%{y}<br>Change 2016-2015-%=%{x}<extra></extra>",
         "legendgroup": "Orly Airport",
         "marker": {
          "color": "#EF553B",
          "pattern": {
           "shape": ""
          }
         },
         "name": "Orly Airport",
         "offsetgroup": "Orly Airport",
         "orientation": "h",
         "showlegend": true,
         "textposition": "auto",
         "type": "bar",
         "x": [
          5.3
         ],
         "xaxis": "x",
         "y": [
          "Orly Airport"
         ],
         "yaxis": "y"
        },
        {
         "alignmentgroup": "True",
         "hovertemplate": "Airport=%{y}<br>Change 2016-2015-%=%{x}<extra></extra>",
         "legendgroup": "Copenhagen Airport",
         "marker": {
          "color": "#00cc96",
          "pattern": {
           "shape": ""
          }
         },
         "name": "Copenhagen Airport",
         "offsetgroup": "Copenhagen Airport",
         "orientation": "h",
         "showlegend": true,
         "textposition": "auto",
         "type": "bar",
         "x": [
          9.14
         ],
         "xaxis": "x",
         "y": [
          "Copenhagen Airport"
         ],
         "yaxis": "y"
        },
        {
         "alignmentgroup": "True",
         "hovertemplate": "Airport=%{y}<br>Change 2016-2015-%=%{x}<extra></extra>",
         "legendgroup": "Domodedovo International Airport",
         "marker": {
          "color": "#ab63fa",
          "pattern": {
           "shape": ""
          }
         },
         "name": "Domodedovo International Airport",
         "offsetgroup": "Domodedovo International Airport",
         "orientation": "h",
         "showlegend": true,
         "textposition": "auto",
         "type": "bar",
         "x": [
          -6.57
         ],
         "xaxis": "x",
         "y": [
          "Domodedovo International Airport"
         ],
         "yaxis": "y"
        },
        {
         "alignmentgroup": "True",
         "hovertemplate": "Airport=%{y}<br>Change 2016-2015-%=%{x}<extra></extra>",
         "legendgroup": "Dublin Airport",
         "marker": {
          "color": "#FFA15A",
          "pattern": {
           "shape": ""
          }
         },
         "name": "Dublin Airport",
         "offsetgroup": "Dublin Airport",
         "orientation": "h",
         "showlegend": true,
         "textposition": "auto",
         "type": "bar",
         "x": [
          11.41
         ],
         "xaxis": "x",
         "y": [
          "Dublin Airport"
         ],
         "yaxis": "y"
        },
        {
         "alignmentgroup": "True",
         "hovertemplate": "Airport=%{y}<br>Change 2016-2015-%=%{x}<extra></extra>",
         "legendgroup": "Zurich Airport",
         "marker": {
          "color": "#19d3f3",
          "pattern": {
           "shape": ""
          }
         },
         "name": "Zurich Airport",
         "offsetgroup": "Zurich Airport",
         "orientation": "h",
         "showlegend": true,
         "textposition": "auto",
         "type": "bar",
         "x": [
          5.27
         ],
         "xaxis": "x",
         "y": [
          "Zurich Airport"
         ],
         "yaxis": "y"
        },
        {
         "alignmentgroup": "True",
         "hovertemplate": "Airport=%{y}<br>Change 2016-2015-%=%{x}<extra></extra>",
         "legendgroup": "Palma de Mallorca Airport",
         "marker": {
          "color": "#FF6692",
          "pattern": {
           "shape": ""
          }
         },
         "name": "Palma de Mallorca Airport",
         "offsetgroup": "Palma de Mallorca Airport",
         "orientation": "h",
         "showlegend": true,
         "textposition": "auto",
         "type": "bar",
         "x": [
          10.57
         ],
         "xaxis": "x",
         "y": [
          "Palma de Mallorca Airport"
         ],
         "yaxis": "y"
        },
        {
         "alignmentgroup": "True",
         "hovertemplate": "Airport=%{y}<br>Change 2016-2015-%=%{x}<extra></extra>",
         "legendgroup": "Oslo Airport",
         "marker": {
          "color": "#B6E880",
          "pattern": {
           "shape": ""
          }
         },
         "name": "Oslo Airport",
         "offsetgroup": "Oslo Airport",
         "orientation": "h",
         "showlegend": true,
         "textposition": "auto",
         "type": "bar",
         "x": [
          4.5
         ],
         "xaxis": "x",
         "y": [
          "Oslo Airport"
         ],
         "yaxis": "y"
        },
        {
         "alignmentgroup": "True",
         "hovertemplate": "Airport=%{y}<br>Change 2016-2015-%=%{x}<extra></extra>",
         "legendgroup": "Manchester Airport",
         "marker": {
          "color": "#FF97FF",
          "pattern": {
           "shape": ""
          }
         },
         "name": "Manchester Airport",
         "offsetgroup": "Manchester Airport",
         "orientation": "h",
         "showlegend": true,
         "textposition": "auto",
         "type": "bar",
         "x": [
          10.81
         ],
         "xaxis": "x",
         "y": [
          "Manchester Airport"
         ],
         "yaxis": "y"
        },
        {
         "alignmentgroup": "True",
         "hovertemplate": "Airport=%{y}<br>Change 2016-2015-%=%{x}<extra></extra>",
         "legendgroup": "Stockholm Arlanda Airport",
         "marker": {
          "color": "#FECB52",
          "pattern": {
           "shape": ""
          }
         },
         "name": "Stockholm Arlanda Airport",
         "offsetgroup": "Stockholm Arlanda Airport",
         "orientation": "h",
         "showlegend": true,
         "textposition": "auto",
         "type": "bar",
         "x": [
          6.65
         ],
         "xaxis": "x",
         "y": [
          "Stockholm Arlanda Airport"
         ],
         "yaxis": "y"
        },
        {
         "alignmentgroup": "True",
         "hovertemplate": "Airport=%{y}<br>Change 2016-2015-%=%{x}<extra></extra>",
         "legendgroup": "London Stansted Airport",
         "marker": {
          "color": "#636efa",
          "pattern": {
           "shape": ""
          }
         },
         "name": "London Stansted Airport",
         "offsetgroup": "London Stansted Airport",
         "orientation": "h",
         "showlegend": true,
         "textposition": "auto",
         "type": "bar",
         "x": [
          8
         ],
         "xaxis": "x",
         "y": [
          "London Stansted Airport"
         ],
         "yaxis": "y"
        },
        {
         "alignmentgroup": "True",
         "hovertemplate": "Airport=%{y}<br>Change 2016-2015-%=%{x}<extra></extra>",
         "legendgroup": "Düsseldorf Airport",
         "marker": {
          "color": "#EF553B",
          "pattern": {
           "shape": ""
          }
         },
         "name": "Düsseldorf Airport",
         "offsetgroup": "Düsseldorf Airport",
         "orientation": "h",
         "showlegend": true,
         "textposition": "auto",
         "type": "bar",
         "x": [
          4.65
         ],
         "xaxis": "x",
         "y": [
          "Düsseldorf Airport"
         ],
         "yaxis": "y"
        },
        {
         "alignmentgroup": "True",
         "hovertemplate": "Airport=%{y}<br>Change 2016-2015-%=%{x}<extra></extra>",
         "legendgroup": "Vienna International Airport",
         "marker": {
          "color": "#00cc96",
          "pattern": {
           "shape": ""
          }
         },
         "name": "Vienna International Airport",
         "offsetgroup": "Vienna International Airport",
         "orientation": "h",
         "showlegend": true,
         "textposition": "auto",
         "type": "bar",
         "x": [
          2.53
         ],
         "xaxis": "x",
         "y": [
          "Vienna International Airport"
         ],
         "yaxis": "y"
        },
        {
         "alignmentgroup": "True",
         "hovertemplate": "Airport=%{y}<br>Change 2016-2015-%=%{x}<extra></extra>",
         "legendgroup": "Lisbon Airport",
         "marker": {
          "color": "#ab63fa",
          "pattern": {
           "shape": ""
          }
         },
         "name": "Lisbon Airport",
         "offsetgroup": "Lisbon Airport",
         "orientation": "h",
         "showlegend": true,
         "textposition": "auto",
         "type": "bar",
         "x": [
          11.74
         ],
         "xaxis": "x",
         "y": [
          "Lisbon Airport"
         ],
         "yaxis": "y"
        },
        {
         "alignmentgroup": "True",
         "hovertemplate": "Airport=%{y}<br>Change 2016-2015-%=%{x}<extra></extra>",
         "legendgroup": "Brussels Airport",
         "marker": {
          "color": "#FFA15A",
          "pattern": {
           "shape": ""
          }
         },
         "name": "Brussels Airport",
         "offsetgroup": "Brussels Airport",
         "orientation": "h",
         "showlegend": true,
         "textposition": "auto",
         "type": "bar",
         "x": [
          -7
         ],
         "xaxis": "x",
         "y": [
          "Brussels Airport"
         ],
         "yaxis": "y"
        },
        {
         "alignmentgroup": "True",
         "hovertemplate": "Airport=%{y}<br>Change 2016-2015-%=%{x}<extra></extra>",
         "legendgroup": "Berlin Tegel Airport",
         "marker": {
          "color": "#19d3f3",
          "pattern": {
           "shape": ""
          }
         },
         "name": "Berlin Tegel Airport",
         "offsetgroup": "Berlin Tegel Airport",
         "orientation": "h",
         "showlegend": true,
         "textposition": "auto",
         "type": "bar",
         "x": [
          1.18
         ],
         "xaxis": "x",
         "y": [
          "Berlin Tegel Airport"
         ],
         "yaxis": "y"
        },
        {
         "alignmentgroup": "True",
         "hovertemplate": "Airport=%{y}<br>Change 2016-2015-%=%{x}<extra></extra>",
         "legendgroup": "Athens International Airport",
         "marker": {
          "color": "#FF6692",
          "pattern": {
           "shape": ""
          }
         },
         "name": "Athens International Airport",
         "offsetgroup": "Athens International Airport",
         "orientation": "h",
         "showlegend": true,
         "textposition": "auto",
         "type": "bar",
         "x": [
          10.67
         ],
         "xaxis": "x",
         "y": [
          "Athens International Airport"
         ],
         "yaxis": "y"
        },
        {
         "alignmentgroup": "True",
         "hovertemplate": "Airport=%{y}<br>Change 2016-2015-%=%{x}<extra></extra>",
         "legendgroup": "Malpensa Airport",
         "marker": {
          "color": "#B6E880",
          "pattern": {
           "shape": ""
          }
         },
         "name": "Malpensa Airport",
         "offsetgroup": "Malpensa Airport",
         "orientation": "h",
         "showlegend": true,
         "textposition": "auto",
         "type": "bar",
         "x": [
          4.51
         ],
         "xaxis": "x",
         "y": [
          "Malpensa Airport"
         ],
         "yaxis": "y"
        },
        {
         "alignmentgroup": "True",
         "hovertemplate": "Airport=%{y}<br>Change 2016-2015-%=%{x}<extra></extra>",
         "legendgroup": "Helsinki Airport",
         "marker": {
          "color": "#FF97FF",
          "pattern": {
           "shape": ""
          }
         },
         "name": "Helsinki Airport",
         "offsetgroup": "Helsinki Airport",
         "orientation": "h",
         "showlegend": true,
         "textposition": "auto",
         "type": "bar",
         "x": [
          4.64
         ],
         "xaxis": "x",
         "y": [
          "Helsinki Airport"
         ],
         "yaxis": "y"
        },
        {
         "alignmentgroup": "True",
         "hovertemplate": "Airport=%{y}<br>Change 2016-2015-%=%{x}<extra></extra>",
         "legendgroup": "Málaga Airport",
         "marker": {
          "color": "#FECB52",
          "pattern": {
           "shape": ""
          }
         },
         "name": "Málaga Airport",
         "offsetgroup": "Málaga Airport",
         "orientation": "h",
         "showlegend": true,
         "textposition": "auto",
         "type": "bar",
         "x": [
          15.75
         ],
         "xaxis": "x",
         "y": [
          "Málaga Airport"
         ],
         "yaxis": "y"
        },
        {
         "alignmentgroup": "True",
         "hovertemplate": "Airport=%{y}<br>Change 2016-2015-%=%{x}<extra></extra>",
         "legendgroup": "Geneva Airport",
         "marker": {
          "color": "#636efa",
          "pattern": {
           "shape": ""
          }
         },
         "name": "Geneva Airport",
         "offsetgroup": "Geneva Airport",
         "orientation": "h",
         "showlegend": true,
         "textposition": "auto",
         "type": "bar",
         "x": [
          4.82
         ],
         "xaxis": "x",
         "y": [
          "Geneva Airport"
         ],
         "yaxis": "y"
        },
        {
         "alignmentgroup": "True",
         "hovertemplate": "Airport=%{y}<br>Change 2016-2015-%=%{x}<extra></extra>",
         "legendgroup": "Hamburg Airport",
         "marker": {
          "color": "#EF553B",
          "pattern": {
           "shape": ""
          }
         },
         "name": "Hamburg Airport",
         "offsetgroup": "Hamburg Airport",
         "orientation": "h",
         "showlegend": true,
         "textposition": "auto",
         "type": "bar",
         "x": [
          3.93
         ],
         "xaxis": "x",
         "y": [
          "Hamburg Airport"
         ],
         "yaxis": "y"
        },
        {
         "alignmentgroup": "True",
         "hovertemplate": "Airport=%{y}<br>Change 2016-2015-%=%{x}<extra></extra>",
         "legendgroup": "Luton Airport",
         "marker": {
          "color": "#00cc96",
          "pattern": {
           "shape": ""
          }
         },
         "name": "Luton Airport",
         "offsetgroup": "Luton Airport",
         "orientation": "h",
         "showlegend": true,
         "textposition": "auto",
         "type": "bar",
         "x": [
          18.66
         ],
         "xaxis": "x",
         "y": [
          "Luton Airport"
         ],
         "yaxis": "y"
        },
        {
         "alignmentgroup": "True",
         "hovertemplate": "Airport=%{y}<br>Change 2016-2015-%=%{x}<extra></extra>",
         "legendgroup": "Vnukovo International Airport",
         "marker": {
          "color": "#ab63fa",
          "pattern": {
           "shape": ""
          }
         },
         "name": "Vnukovo International Airport",
         "offsetgroup": "Vnukovo International Airport",
         "orientation": "h",
         "showlegend": true,
         "textposition": "auto",
         "type": "bar",
         "x": [
          -11.81
         ],
         "xaxis": "x",
         "y": [
          "Vnukovo International Airport"
         ],
         "yaxis": "y"
        },
        {
         "alignmentgroup": "True",
         "hovertemplate": "Airport=%{y}<br>Change 2016-2015-%=%{x}<extra></extra>",
         "legendgroup": "Pulkovo Airport",
         "marker": {
          "color": "#FFA15A",
          "pattern": {
           "shape": ""
          }
         },
         "name": "Pulkovo Airport",
         "offsetgroup": "Pulkovo Airport",
         "orientation": "h",
         "showlegend": true,
         "textposition": "auto",
         "type": "bar",
         "x": [
          -1.75
         ],
         "xaxis": "x",
         "y": [
          "Pulkovo Airport"
         ],
         "yaxis": "y"
        },
        {
         "alignmentgroup": "True",
         "hovertemplate": "Airport=%{y}<br>Change 2016-2015-%=%{x}<extra></extra>",
         "legendgroup": "Václav Havel Airport Prague",
         "marker": {
          "color": "#19d3f3",
          "pattern": {
           "shape": ""
          }
         },
         "name": "Václav Havel Airport Prague",
         "offsetgroup": "Václav Havel Airport Prague",
         "orientation": "h",
         "showlegend": true,
         "textposition": "auto",
         "type": "bar",
         "x": [
          8.67
         ],
         "xaxis": "x",
         "y": [
          "Václav Havel Airport Prague"
         ],
         "yaxis": "y"
        },
        {
         "alignmentgroup": "True",
         "hovertemplate": "Airport=%{y}<br>Change 2016-2015-%=%{x}<extra></extra>",
         "legendgroup": "Warsaw Chopin Airport",
         "marker": {
          "color": "#FF6692",
          "pattern": {
           "shape": ""
          }
         },
         "name": "Warsaw Chopin Airport",
         "offsetgroup": "Warsaw Chopin Airport",
         "orientation": "h",
         "showlegend": true,
         "textposition": "auto",
         "type": "bar",
         "x": [
          14.38
         ],
         "xaxis": "x",
         "y": [
          "Warsaw Chopin Airport"
         ],
         "yaxis": "y"
        },
        {
         "alignmentgroup": "True",
         "hovertemplate": "Airport=%{y}<br>Change 2016-2015-%=%{x}<extra></extra>",
         "legendgroup": "Nice Côte d'Azur Airport",
         "marker": {
          "color": "#B6E880",
          "pattern": {
           "shape": ""
          }
         },
         "name": "Nice Côte d'Azur Airport",
         "offsetgroup": "Nice Côte d'Azur Airport",
         "orientation": "h",
         "showlegend": true,
         "textposition": "auto",
         "type": "bar",
         "x": [
          3.42
         ],
         "xaxis": "x",
         "y": [
          "Nice Côte d'Azur Airport"
         ],
         "yaxis": "y"
        },
        {
         "alignmentgroup": "True",
         "hovertemplate": "Airport=%{y}<br>Change 2016-2015-%=%{x}<extra></extra>",
         "legendgroup": "Edinburgh Airport",
         "marker": {
          "color": "#FF97FF",
          "pattern": {
           "shape": ""
          }
         },
         "name": "Edinburgh Airport",
         "offsetgroup": "Edinburgh Airport",
         "orientation": "h",
         "showlegend": true,
         "textposition": "auto",
         "type": "bar",
         "x": [
          11.1
         ],
         "xaxis": "x",
         "y": [
          "Edinburgh Airport"
         ],
         "yaxis": "y"
        },
        {
         "alignmentgroup": "True",
         "hovertemplate": "Airport=%{y}<br>Change 2016-2015-%=%{x}<extra></extra>",
         "legendgroup": "Alicante Airport",
         "marker": {
          "color": "#FECB52",
          "pattern": {
           "shape": ""
          }
         },
         "name": "Alicante Airport",
         "offsetgroup": "Alicante Airport",
         "orientation": "h",
         "showlegend": true,
         "textposition": "auto",
         "type": "bar",
         "x": [
          16.73
         ],
         "xaxis": "x",
         "y": [
          "Alicante Airport"
         ],
         "yaxis": "y"
        },
        {
         "alignmentgroup": "True",
         "hovertemplate": "Airport=%{y}<br>Change 2016-2015-%=%{x}<extra></extra>",
         "legendgroup": "Cologne Bonn Airport",
         "marker": {
          "color": "#636efa",
          "pattern": {
           "shape": ""
          }
         },
         "name": "Cologne Bonn Airport",
         "offsetgroup": "Cologne Bonn Airport",
         "orientation": "h",
         "showlegend": true,
         "textposition": "auto",
         "type": "bar",
         "x": [
          15.2
         ],
         "xaxis": "x",
         "y": [
          "Cologne Bonn Airport"
         ],
         "yaxis": "y"
        },
        {
         "alignmentgroup": "True",
         "hovertemplate": "Airport=%{y}<br>Change 2016-2015-%=%{x}<extra></extra>",
         "legendgroup": "Berlin Schönefeld Airport",
         "marker": {
          "color": "#EF553B",
          "pattern": {
           "shape": ""
          }
         },
         "name": "Berlin Schönefeld Airport",
         "offsetgroup": "Berlin Schönefeld Airport",
         "orientation": "h",
         "showlegend": true,
         "textposition": "auto",
         "type": "bar",
         "x": [
          36.67
         ],
         "xaxis": "x",
         "y": [
          "Berlin Schönefeld Airport"
         ],
         "yaxis": "y"
        },
        {
         "alignmentgroup": "True",
         "hovertemplate": "Airport=%{y}<br>Change 2016-2015-%=%{x}<extra></extra>",
         "legendgroup": "Birmingham Airport",
         "marker": {
          "color": "#00cc96",
          "pattern": {
           "shape": ""
          }
         },
         "name": "Birmingham Airport",
         "offsetgroup": "Birmingham Airport",
         "orientation": "h",
         "showlegend": true,
         "textposition": "auto",
         "type": "bar",
         "x": [
          14.31
         ],
         "xaxis": "x",
         "y": [
          "Birmingham Airport"
         ],
         "yaxis": "y"
        },
        {
         "alignmentgroup": "True",
         "hovertemplate": "Airport=%{y}<br>Change 2016-2015-%=%{x}<extra></extra>",
         "legendgroup": "Budapest Ferenc Liszt International Airport",
         "marker": {
          "color": "#ab63fa",
          "pattern": {
           "shape": ""
          }
         },
         "name": "Budapest Ferenc Liszt International Airport",
         "offsetgroup": "Budapest Ferenc Liszt International Airport",
         "orientation": "h",
         "showlegend": true,
         "textposition": "auto",
         "type": "bar",
         "x": [
          11.1
         ],
         "xaxis": "x",
         "y": [
          "Budapest Ferenc Liszt International Airport"
         ],
         "yaxis": "y"
        },
        {
         "alignmentgroup": "True",
         "hovertemplate": "Airport=%{y}<br>Change 2016-2015-%=%{x}<extra></extra>",
         "legendgroup": "Orio al Serio International Airport",
         "marker": {
          "color": "#FFA15A",
          "pattern": {
           "shape": ""
          }
         },
         "name": "Orio al Serio International Airport",
         "offsetgroup": "Orio al Serio International Airport",
         "orientation": "h",
         "showlegend": true,
         "textposition": "auto",
         "type": "bar",
         "x": [
          7.26
         ],
         "xaxis": "x",
         "y": [
          "Orio al Serio International Airport"
         ],
         "yaxis": "y"
        },
        {
         "alignmentgroup": "True",
         "hovertemplate": "Airport=%{y}<br>Change 2016-2015-%=%{x}<extra></extra>",
         "legendgroup": "Henri Coandă International Airport",
         "marker": {
          "color": "#19d3f3",
          "pattern": {
           "shape": ""
          }
         },
         "name": "Henri Coandă International Airport",
         "offsetgroup": "Henri Coandă International Airport",
         "orientation": "h",
         "showlegend": true,
         "textposition": "auto",
         "type": "bar",
         "x": [
          18.42
         ],
         "xaxis": "x",
         "y": [
          "Henri Coandă International Airport"
         ],
         "yaxis": "y"
        },
        {
         "alignmentgroup": "True",
         "hovertemplate": "Airport=%{y}<br>Change 2016-2015-%=%{x}<extra></extra>",
         "legendgroup": "Stuttgart Airport",
         "marker": {
          "color": "#FF6692",
          "pattern": {
           "shape": ""
          }
         },
         "name": "Stuttgart Airport",
         "offsetgroup": "Stuttgart Airport",
         "orientation": "h",
         "showlegend": true,
         "textposition": "auto",
         "type": "bar",
         "x": [
          1.09
         ],
         "xaxis": "x",
         "y": [
          "Stuttgart Airport"
         ],
         "yaxis": "y"
        },
        {
         "alignmentgroup": "True",
         "hovertemplate": "Airport=%{y}<br>Change 2016-2015-%=%{x}<extra></extra>",
         "legendgroup": "Linate Airport",
         "marker": {
          "color": "#B6E880",
          "pattern": {
           "shape": ""
          }
         },
         "name": "Linate Airport",
         "offsetgroup": "Linate Airport",
         "orientation": "h",
         "showlegend": true,
         "textposition": "auto",
         "type": "bar",
         "x": [
          -0.08
         ],
         "xaxis": "x",
         "y": [
          "Linate Airport"
         ],
         "yaxis": "y"
        },
        {
         "alignmentgroup": "True",
         "hovertemplate": "Airport=%{y}<br>Change 2016-2015-%=%{x}<extra></extra>",
         "legendgroup": "Venice Marco Polo Airport",
         "marker": {
          "color": "#FF97FF",
          "pattern": {
           "shape": ""
          }
         },
         "name": "Venice Marco Polo Airport",
         "offsetgroup": "Venice Marco Polo Airport",
         "orientation": "h",
         "showlegend": true,
         "textposition": "auto",
         "type": "bar",
         "x": [
          9.98
         ],
         "xaxis": "x",
         "y": [
          "Venice Marco Polo Airport"
         ],
         "yaxis": "y"
        },
        {
         "alignmentgroup": "True",
         "hovertemplate": "Airport=%{y}<br>Change 2016-2015-%=%{x}<extra></extra>",
         "legendgroup": "Lyon–Saint-Exupéry Airport",
         "marker": {
          "color": "#FECB52",
          "pattern": {
           "shape": ""
          }
         },
         "name": "Lyon–Saint-Exupéry Airport",
         "offsetgroup": "Lyon–Saint-Exupéry Airport",
         "orientation": "h",
         "showlegend": true,
         "textposition": "auto",
         "type": "bar",
         "x": [
          9.77
         ],
         "xaxis": "x",
         "y": [
          "Lyon–Saint-Exupéry Airport"
         ],
         "yaxis": "y"
        },
        {
         "alignmentgroup": "True",
         "hovertemplate": "Airport=%{y}<br>Change 2016-2015-%=%{x}<extra></extra>",
         "legendgroup": "Porto Airport",
         "marker": {
          "color": "#636efa",
          "pattern": {
           "shape": ""
          }
         },
         "name": "Porto Airport",
         "offsetgroup": "Porto Airport",
         "orientation": "h",
         "showlegend": true,
         "textposition": "auto",
         "type": "bar",
         "x": [
          15.95
         ],
         "xaxis": "x",
         "y": [
          "Porto Airport"
         ],
         "yaxis": "y"
        },
        {
         "alignmentgroup": "True",
         "hovertemplate": "Airport=%{y}<br>Change 2016-2015-%=%{x}<extra></extra>",
         "legendgroup": "Glasgow Airport",
         "marker": {
          "color": "#EF553B",
          "pattern": {
           "shape": ""
          }
         },
         "name": "Glasgow Airport",
         "offsetgroup": "Glasgow Airport",
         "orientation": "h",
         "showlegend": true,
         "textposition": "auto",
         "type": "bar",
         "x": [
          7.25
         ],
         "xaxis": "x",
         "y": [
          "Glasgow Airport"
         ],
         "yaxis": "y"
        },
        {
         "alignmentgroup": "True",
         "hovertemplate": "Airport=%{y}<br>Change 2016-2015-%=%{x}<extra></extra>",
         "legendgroup": "Boryspil International Airport",
         "marker": {
          "color": "#00cc96",
          "pattern": {
           "shape": ""
          }
         },
         "name": "Boryspil International Airport",
         "offsetgroup": "Boryspil International Airport",
         "orientation": "h",
         "showlegend": true,
         "textposition": "auto",
         "type": "bar",
         "x": [
          18.87
         ],
         "xaxis": "x",
         "y": [
          "Boryspil International Airport"
         ],
         "yaxis": "y"
        },
        {
         "alignmentgroup": "True",
         "hovertemplate": "Airport=%{y}<br>Change 2016-2015-%=%{x}<extra></extra>",
         "legendgroup": "Marseille Provence Airport",
         "marker": {
          "color": "#ab63fa",
          "pattern": {
           "shape": ""
          }
         },
         "name": "Marseille Provence Airport",
         "offsetgroup": "Marseille Provence Airport",
         "orientation": "h",
         "showlegend": true,
         "textposition": "auto",
         "type": "bar",
         "x": [
          2.59
         ],
         "xaxis": "x",
         "y": [
          "Marseille Provence Airport"
         ],
         "yaxis": "y"
        },
        {
         "alignmentgroup": "True",
         "hovertemplate": "Airport=%{y}<br>Change 2016-2015-%=%{x}<extra></extra>",
         "legendgroup": "Toulouse–Blagnac Airport",
         "marker": {
          "color": "#FFA15A",
          "pattern": {
           "shape": ""
          }
         },
         "name": "Toulouse–Blagnac Airport",
         "offsetgroup": "Toulouse–Blagnac Airport",
         "orientation": "h",
         "showlegend": true,
         "textposition": "auto",
         "type": "bar",
         "x": [
          5.37
         ],
         "xaxis": "x",
         "y": [
          "Toulouse–Blagnac Airport"
         ],
         "yaxis": "y"
        },
        {
         "alignmentgroup": "True",
         "hovertemplate": "Airport=%{y}<br>Change 2016-2015-%=%{x}<extra></extra>",
         "legendgroup": "Catania-Fontanarossa Airport",
         "marker": {
          "color": "#19d3f3",
          "pattern": {
           "shape": ""
          }
         },
         "name": "Catania-Fontanarossa Airport",
         "offsetgroup": "Catania-Fontanarossa Airport",
         "orientation": "h",
         "showlegend": true,
         "textposition": "auto",
         "type": "bar",
         "x": [
          11.38
         ],
         "xaxis": "x",
         "y": [
          "Catania-Fontanarossa Airport"
         ],
         "yaxis": "y"
        },
        {
         "alignmentgroup": "True",
         "hovertemplate": "Airport=%{y}<br>Change 2016-2015-%=%{x}<extra></extra>",
         "legendgroup": "Bologna Guglielmo Marconi Airport",
         "marker": {
          "color": "#FF6692",
          "pattern": {
           "shape": ""
          }
         },
         "name": "Bologna Guglielmo Marconi Airport",
         "offsetgroup": "Bologna Guglielmo Marconi Airport",
         "orientation": "h",
         "showlegend": true,
         "textposition": "auto",
         "type": "bar",
         "x": [
          11.48
         ],
         "xaxis": "x",
         "y": [
          "Bologna Guglielmo Marconi Airport"
         ],
         "yaxis": "y"
        },
        {
         "alignmentgroup": "True",
         "hovertemplate": "Airport=%{y}<br>Change 2016-2015-%=%{x}<extra></extra>",
         "legendgroup": "Faro Airport",
         "marker": {
          "color": "#B6E880",
          "pattern": {
           "shape": ""
          }
         },
         "name": "Faro Airport",
         "offsetgroup": "Faro Airport",
         "orientation": "h",
         "showlegend": true,
         "textposition": "auto",
         "type": "bar",
         "x": [
          18.55
         ],
         "xaxis": "x",
         "y": [
          "Faro Airport"
         ],
         "yaxis": "y"
        },
        {
         "alignmentgroup": "True",
         "hovertemplate": "Airport=%{y}<br>Change 2016-2015-%=%{x}<extra></extra>",
         "legendgroup": "Bristol Airport",
         "marker": {
          "color": "#FF97FF",
          "pattern": {
           "shape": ""
          }
         },
         "name": "Bristol Airport",
         "offsetgroup": "Bristol Airport",
         "orientation": "h",
         "showlegend": true,
         "textposition": "auto",
         "type": "bar",
         "x": [
          12.14
         ],
         "xaxis": "x",
         "y": [
          "Bristol Airport"
         ],
         "yaxis": "y"
        },
        {
         "alignmentgroup": "True",
         "hovertemplate": "Airport=%{y}<br>Change 2016-2015-%=%{x}<extra></extra>",
         "legendgroup": "Ibiza Airport",
         "marker": {
          "color": "#FECB52",
          "pattern": {
           "shape": ""
          }
         },
         "name": "Ibiza Airport",
         "offsetgroup": "Ibiza Airport",
         "orientation": "h",
         "showlegend": true,
         "textposition": "auto",
         "type": "bar",
         "x": [
          14.5
         ],
         "xaxis": "x",
         "y": [
          "Ibiza Airport"
         ],
         "yaxis": "y"
        },
        {
         "alignmentgroup": "True",
         "hovertemplate": "Airport=%{y}<br>Change 2016-2015-%=%{x}<extra></extra>",
         "legendgroup": "EuroAirport Basel Mulhouse Freiburg",
         "marker": {
          "color": "#636efa",
          "pattern": {
           "shape": ""
          }
         },
         "name": "EuroAirport Basel Mulhouse Freiburg",
         "offsetgroup": "EuroAirport Basel Mulhouse Freiburg",
         "orientation": "h",
         "showlegend": true,
         "textposition": "auto",
         "type": "bar",
         "x": [
          3.59
         ],
         "xaxis": "x",
         "y": [
          "EuroAirport Basel Mulhouse Freiburg"
         ],
         "yaxis": "y"
        },
        {
         "alignmentgroup": "True",
         "hovertemplate": "Airport=%{y}<br>Change 2016-2015-%=%{x}<extra></extra>",
         "legendgroup": "Brussels South Charleroi Airport",
         "marker": {
          "color": "#EF553B",
          "pattern": {
           "shape": ""
          }
         },
         "name": "Brussels South Charleroi Airport",
         "offsetgroup": "Brussels South Charleroi Airport",
         "orientation": "h",
         "showlegend": true,
         "textposition": "auto",
         "type": "bar",
         "x": [
          4.99
         ],
         "xaxis": "x",
         "y": [
          "Brussels South Charleroi Airport"
         ],
         "yaxis": "y"
        },
        {
         "alignmentgroup": "True",
         "hovertemplate": "Airport=%{y}<br>Change 2016-2015-%=%{x}<extra></extra>",
         "legendgroup": "Keflavík International Airport",
         "marker": {
          "color": "#00cc96",
          "pattern": {
           "shape": ""
          }
         },
         "name": "Keflavík International Airport",
         "offsetgroup": "Keflavík International Airport",
         "orientation": "h",
         "showlegend": true,
         "textposition": "auto",
         "type": "bar",
         "x": [
          40.49
         ],
         "xaxis": "x",
         "y": [
          "Keflavík International Airport"
         ],
         "yaxis": "y"
        },
        {
         "alignmentgroup": "True",
         "hovertemplate": "Airport=%{y}<br>Change 2016-2015-%=%{x}<extra></extra>",
         "legendgroup": "Naples Airport",
         "marker": {
          "color": "#ab63fa",
          "pattern": {
           "shape": ""
          }
         },
         "name": "Naples Airport",
         "offsetgroup": "Naples Airport",
         "orientation": "h",
         "showlegend": true,
         "textposition": "auto",
         "type": "bar",
         "x": [
          9.94
         ],
         "xaxis": "x",
         "y": [
          "Naples Airport"
         ],
         "yaxis": "y"
        },
        {
         "alignmentgroup": "True",
         "hovertemplate": "Airport=%{y}<br>Change 2016-2015-%=%{x}<extra></extra>",
         "legendgroup": "Heraklion International Airport",
         "marker": {
          "color": "#FFA15A",
          "pattern": {
           "shape": ""
          }
         },
         "name": "Heraklion International Airport",
         "offsetgroup": "Heraklion International Airport",
         "orientation": "h",
         "showlegend": true,
         "textposition": "auto",
         "type": "bar",
         "x": [
          11.32
         ],
         "xaxis": "x",
         "y": [
          "Heraklion International Airport"
         ],
         "yaxis": "y"
        },
        {
         "alignmentgroup": "True",
         "hovertemplate": "Airport=%{y}<br>Change 2016-2015-%=%{x}<extra></extra>",
         "legendgroup": "Göteborg Landvetter Airport",
         "marker": {
          "color": "#19d3f3",
          "pattern": {
           "shape": ""
          }
         },
         "name": "Göteborg Landvetter Airport",
         "offsetgroup": "Göteborg Landvetter Airport",
         "orientation": "h",
         "showlegend": true,
         "textposition": "auto",
         "type": "bar",
         "x": [
          3.43
         ],
         "xaxis": "x",
         "y": [
          "Göteborg Landvetter Airport"
         ],
         "yaxis": "y"
        },
        {
         "alignmentgroup": "True",
         "hovertemplate": "Airport=%{y}<br>Change 2016-2015-%=%{x}<extra></extra>",
         "legendgroup": "Bergen Airport, Flesland",
         "marker": {
          "color": "#FF6692",
          "pattern": {
           "shape": ""
          }
         },
         "name": "Bergen Airport, Flesland",
         "offsetgroup": "Bergen Airport, Flesland",
         "orientation": "h",
         "showlegend": true,
         "textposition": "auto",
         "type": "bar",
         "x": [
          -1.19
         ],
         "xaxis": "x",
         "y": [
          "Bergen Airport, Flesland"
         ],
         "yaxis": "y"
        },
        {
         "alignmentgroup": "True",
         "hovertemplate": "Airport=%{y}<br>Change 2016-2015-%=%{x}<extra></extra>",
         "legendgroup": "Valencia Airport",
         "marker": {
          "color": "#B6E880",
          "pattern": {
           "shape": ""
          }
         },
         "name": "Valencia Airport",
         "offsetgroup": "Valencia Airport",
         "orientation": "h",
         "showlegend": true,
         "textposition": "auto",
         "type": "bar",
         "x": [
          14.72
         ],
         "xaxis": "x",
         "y": [
          "Valencia Airport"
         ],
         "yaxis": "y"
        },
        {
         "alignmentgroup": "True",
         "hovertemplate": "Airport=%{y}<br>Change 2016-2015-%=%{x}<extra></extra>",
         "legendgroup": "Bordeaux – Mérignac Airport",
         "marker": {
          "color": "#FF97FF",
          "pattern": {
           "shape": ""
          }
         },
         "name": "Bordeaux – Mérignac Airport",
         "offsetgroup": "Bordeaux – Mérignac Airport",
         "orientation": "h",
         "showlegend": true,
         "textposition": "auto",
         "type": "bar",
         "x": [
          8.57
         ],
         "xaxis": "x",
         "y": [
          "Bordeaux – Mérignac Airport"
         ],
         "yaxis": "y"
        },
        {
         "alignmentgroup": "True",
         "hovertemplate": "Airport=%{y}<br>Change 2016-2015-%=%{x}<extra></extra>",
         "legendgroup": "Thessaloniki International Airport, \"Macedonia\"",
         "marker": {
          "color": "#FECB52",
          "pattern": {
           "shape": ""
          }
         },
         "name": "Thessaloniki International Airport, \"Macedonia\"",
         "offsetgroup": "Thessaloniki International Airport, \"Macedonia\"",
         "orientation": "h",
         "showlegend": true,
         "textposition": "auto",
         "type": "bar",
         "x": [
          6.48
         ],
         "xaxis": "x",
         "y": [
          "Thessaloniki International Airport, \"Macedonia\""
         ],
         "yaxis": "y"
        },
        {
         "alignmentgroup": "True",
         "hovertemplate": "Airport=%{y}<br>Change 2016-2015-%=%{x}<extra></extra>",
         "legendgroup": "Langenhagen Airport",
         "marker": {
          "color": "#636efa",
          "pattern": {
           "shape": ""
          }
         },
         "name": "Langenhagen Airport",
         "offsetgroup": "Langenhagen Airport",
         "orientation": "h",
         "showlegend": true,
         "textposition": "auto",
         "type": "bar",
         "x": [
          -0.8
         ],
         "xaxis": "x",
         "y": [
          "Langenhagen Airport"
         ],
         "yaxis": "y"
        },
        {
         "alignmentgroup": "True",
         "hovertemplate": "Airport=%{y}<br>Change 2016-2015-%=%{x}<extra></extra>",
         "legendgroup": "Riga International Airport",
         "marker": {
          "color": "#EF553B",
          "pattern": {
           "shape": ""
          }
         },
         "name": "Riga International Airport",
         "offsetgroup": "Riga International Airport",
         "orientation": "h",
         "showlegend": true,
         "textposition": "auto",
         "type": "bar",
         "x": [
          4.61
         ],
         "xaxis": "x",
         "y": [
          "Riga International Airport"
         ],
         "yaxis": "y"
        },
        {
         "alignmentgroup": "True",
         "hovertemplate": "Airport=%{y}<br>Change 2016-2015-%=%{x}<extra></extra>",
         "legendgroup": "Rome Ciampino Airport",
         "marker": {
          "color": "#00cc96",
          "pattern": {
           "shape": ""
          }
         },
         "name": "Rome Ciampino Airport",
         "offsetgroup": "Rome Ciampino Airport",
         "orientation": "h",
         "showlegend": true,
         "textposition": "auto",
         "type": "bar",
         "x": [
          -7.52
         ],
         "xaxis": "x",
         "y": [
          "Rome Ciampino Airport"
         ],
         "yaxis": "y"
        },
        {
         "alignmentgroup": "True",
         "hovertemplate": "Airport=%{y}<br>Change 2016-2015-%=%{x}<extra></extra>",
         "legendgroup": "Falcone–Borsellino Airport",
         "marker": {
          "color": "#ab63fa",
          "pattern": {
           "shape": ""
          }
         },
         "name": "Falcone–Borsellino Airport",
         "offsetgroup": "Falcone–Borsellino Airport",
         "orientation": "h",
         "showlegend": true,
         "textposition": "auto",
         "type": "bar",
         "x": [
          8.45
         ],
         "xaxis": "x",
         "y": [
          "Falcone–Borsellino Airport"
         ],
         "yaxis": "y"
        },
        {
         "alignmentgroup": "True",
         "hovertemplate": "Airport=%{y}<br>Change 2016-2015-%=%{x}<extra></extra>",
         "legendgroup": "Simferopol International Airport",
         "marker": {
          "color": "#FFA15A",
          "pattern": {
           "shape": ""
          }
         },
         "name": "Simferopol International Airport",
         "offsetgroup": "Simferopol International Airport",
         "orientation": "h",
         "showlegend": true,
         "textposition": "auto",
         "type": "bar",
         "x": [
          3.67
         ],
         "xaxis": "x",
         "y": [
          "Simferopol International Airport"
         ],
         "yaxis": "y"
        },
        {
         "alignmentgroup": "True",
         "hovertemplate": "Airport=%{y}<br>Change 2016-2015-%=%{x}<extra></extra>",
         "legendgroup": "Belfast International Airport",
         "marker": {
          "color": "#19d3f3",
          "pattern": {
           "shape": ""
          }
         },
         "name": "Belfast International Airport",
         "offsetgroup": "Belfast International Airport",
         "orientation": "h",
         "showlegend": true,
         "textposition": "auto",
         "type": "bar",
         "x": [
          17.22
         ],
         "xaxis": "x",
         "y": [
          "Belfast International Airport"
         ],
         "yaxis": "y"
        },
        {
         "alignmentgroup": "True",
         "hovertemplate": "Airport=%{y}<br>Change 2016-2015-%=%{x}<extra></extra>",
         "legendgroup": "Malta International Airport",
         "marker": {
          "color": "#FF6692",
          "pattern": {
           "shape": ""
          }
         },
         "name": "Malta International Airport",
         "offsetgroup": "Malta International Airport",
         "orientation": "h",
         "showlegend": true,
         "textposition": "auto",
         "type": "bar",
         "x": [
          9.99
         ],
         "xaxis": "x",
         "y": [
          "Malta International Airport"
         ],
         "yaxis": "y"
        },
        {
         "alignmentgroup": "True",
         "hovertemplate": "Airport=%{y}<br>Change 2016-2015-%=%{x}<extra></extra>",
         "legendgroup": "Galileo Galilei Airport",
         "marker": {
          "color": "#B6E880",
          "pattern": {
           "shape": ""
          }
         },
         "name": "Galileo Galilei Airport",
         "offsetgroup": "Galileo Galilei Airport",
         "orientation": "h",
         "showlegend": true,
         "textposition": "auto",
         "type": "bar",
         "x": [
          3.84
         ],
         "xaxis": "x",
         "y": [
          "Galileo Galilei Airport"
         ],
         "yaxis": "y"
        },
        {
         "alignmentgroup": "True",
         "hovertemplate": "Airport=%{y}<br>Change 2016-2015-%=%{x}<extra></extra>",
         "legendgroup": "John Paul II International Airport Kraków–Balice",
         "marker": {
          "color": "#FF97FF",
          "pattern": {
           "shape": ""
          }
         },
         "name": "John Paul II International Airport Kraków–Balice",
         "offsetgroup": "John Paul II International Airport Kraków–Balice",
         "orientation": "h",
         "showlegend": true,
         "textposition": "auto",
         "type": "bar",
         "x": [
          18.06
         ],
         "xaxis": "x",
         "y": [
          "John Paul II International Airport Kraków–Balice"
         ],
         "yaxis": "y"
        },
        {
         "alignmentgroup": "True",
         "hovertemplate": "Airport=%{y}<br>Change 2016-2015-%=%{x}<extra></extra>",
         "legendgroup": "Sofia Airport",
         "marker": {
          "color": "#FECB52",
          "pattern": {
           "shape": ""
          }
         },
         "name": "Sofia Airport",
         "offsetgroup": "Sofia Airport",
         "orientation": "h",
         "showlegend": true,
         "textposition": "auto",
         "type": "bar",
         "x": [
          21.8
         ],
         "xaxis": "x",
         "y": [
          "Sofia Airport"
         ],
         "yaxis": "y"
        },
        {
         "alignmentgroup": "True",
         "hovertemplate": "Airport=%{y}<br>Change 2016-2015-%=%{x}<extra></extra>",
         "legendgroup": "Rhodes International Airport",
         "marker": {
          "color": "#636efa",
          "pattern": {
           "shape": ""
          }
         },
         "name": "Rhodes International Airport",
         "offsetgroup": "Rhodes International Airport",
         "orientation": "h",
         "showlegend": true,
         "textposition": "auto",
         "type": "bar",
         "x": [
          7.94
         ],
         "xaxis": "x",
         "y": [
          "Rhodes International Airport"
         ],
         "yaxis": "y"
        },
        {
         "alignmentgroup": "True",
         "hovertemplate": "Airport=%{y}<br>Change 2016-2015-%=%{x}<extra></extra>",
         "legendgroup": "Belgrade Nikola Tesla Airport",
         "marker": {
          "color": "#EF553B",
          "pattern": {
           "shape": ""
          }
         },
         "name": "Belgrade Nikola Tesla Airport",
         "offsetgroup": "Belgrade Nikola Tesla Airport",
         "orientation": "h",
         "showlegend": true,
         "textposition": "auto",
         "type": "bar",
         "x": [
          3.12
         ],
         "xaxis": "x",
         "y": [
          "Belgrade Nikola Tesla Airport"
         ],
         "yaxis": "y"
        },
        {
         "alignmentgroup": "True",
         "hovertemplate": "Airport=%{y}<br>Change 2016-2015-%=%{x}<extra></extra>",
         "legendgroup": "Newcastle Airport",
         "marker": {
          "color": "#00cc96",
          "pattern": {
           "shape": ""
          }
         },
         "name": "Newcastle Airport",
         "offsetgroup": "Newcastle Airport",
         "orientation": "h",
         "showlegend": true,
         "textposition": "auto",
         "type": "bar",
         "x": [
          5.37
         ],
         "xaxis": "x",
         "y": [
          "Newcastle Airport"
         ],
         "yaxis": "y"
        },
        {
         "alignmentgroup": "True",
         "hovertemplate": "Airport=%{y}<br>Change 2016-2015-%=%{x}<extra></extra>",
         "legendgroup": "Eindhoven Airport",
         "marker": {
          "color": "#ab63fa",
          "pattern": {
           "shape": ""
          }
         },
         "name": "Eindhoven Airport",
         "offsetgroup": "Eindhoven Airport",
         "orientation": "h",
         "showlegend": true,
         "textposition": "auto",
         "type": "bar",
         "x": [
          9.29
         ],
         "xaxis": "x",
         "y": [
          "Eindhoven Airport"
         ],
         "yaxis": "y"
        },
        {
         "alignmentgroup": "True",
         "hovertemplate": "Airport=%{y}<br>Change 2016-2015-%=%{x}<extra></extra>",
         "legendgroup": "Nantes Atlantique Airport",
         "marker": {
          "color": "#FFA15A",
          "pattern": {
           "shape": ""
          }
         },
         "name": "Nantes Atlantique Airport",
         "offsetgroup": "Nantes Atlantique Airport",
         "orientation": "h",
         "showlegend": true,
         "textposition": "auto",
         "type": "bar",
         "x": [
          8.74
         ],
         "xaxis": "x",
         "y": [
          "Nantes Atlantique Airport"
         ],
         "yaxis": "y"
        },
        {
         "alignmentgroup": "True",
         "hovertemplate": "Airport=%{y}<br>Change 2016-2015-%=%{x}<extra></extra>",
         "legendgroup": "Liverpool John Lennon Airport",
         "marker": {
          "color": "#19d3f3",
          "pattern": {
           "shape": ""
          }
         },
         "name": "Liverpool John Lennon Airport",
         "offsetgroup": "Liverpool John Lennon Airport",
         "orientation": "h",
         "showlegend": true,
         "textposition": "auto",
         "type": "bar",
         "x": [
          11.1
         ],
         "xaxis": "x",
         "y": [
          "Liverpool John Lennon Airport"
         ],
         "yaxis": "y"
        },
        {
         "alignmentgroup": "True",
         "hovertemplate": "Airport=%{y}<br>Change 2016-2015-%=%{x}<extra></extra>",
         "legendgroup": "East Midlands Airport",
         "marker": {
          "color": "#FF6692",
          "pattern": {
           "shape": ""
          }
         },
         "name": "East Midlands Airport",
         "offsetgroup": "East Midlands Airport",
         "orientation": "h",
         "showlegend": true,
         "textposition": "auto",
         "type": "bar",
         "x": [
          4.56
         ],
         "xaxis": "x",
         "y": [
          "East Midlands Airport"
         ],
         "yaxis": "y"
        },
        {
         "alignmentgroup": "True",
         "hovertemplate": "Airport=%{y}<br>Change 2016-2015-%=%{x}<extra></extra>",
         "legendgroup": "San Pablo Airport",
         "marker": {
          "color": "#B6E880",
          "pattern": {
           "shape": ""
          }
         },
         "name": "San Pablo Airport",
         "offsetgroup": "San Pablo Airport",
         "orientation": "h",
         "showlegend": true,
         "textposition": "auto",
         "type": "bar",
         "x": [
          7.32
         ],
         "xaxis": "x",
         "y": [
          "San Pablo Airport"
         ],
         "yaxis": "y"
        },
        {
         "alignmentgroup": "True",
         "hovertemplate": "Airport=%{y}<br>Change 2016-2015-%=%{x}<extra></extra>",
         "legendgroup": "Bilbao Airport",
         "marker": {
          "color": "#FF97FF",
          "pattern": {
           "shape": ""
          }
         },
         "name": "Bilbao Airport",
         "offsetgroup": "Bilbao Airport",
         "orientation": "h",
         "showlegend": true,
         "textposition": "auto",
         "type": "bar",
         "x": [
          7.26
         ],
         "xaxis": "x",
         "y": [
          "Bilbao Airport"
         ],
         "yaxis": "y"
        },
        {
         "alignmentgroup": "True",
         "hovertemplate": "Airport=%{y}<br>Change 2016-2015-%=%{x}<extra></extra>",
         "legendgroup": "London City Airport",
         "marker": {
          "color": "#FECB52",
          "pattern": {
           "shape": ""
          }
         },
         "name": "London City Airport",
         "offsetgroup": "London City Airport",
         "orientation": "h",
         "showlegend": true,
         "textposition": "auto",
         "type": "bar",
         "x": [
          5.08
         ],
         "xaxis": "x",
         "y": [
          "London City Airport"
         ],
         "yaxis": "y"
        },
        {
         "alignmentgroup": "True",
         "hovertemplate": "Airport=%{y}<br>Change 2016-2015-%=%{x}<extra></extra>",
         "legendgroup": "Trondheim Airport",
         "marker": {
          "color": "#636efa",
          "pattern": {
           "shape": ""
          }
         },
         "name": "Trondheim Airport",
         "offsetgroup": "Trondheim Airport",
         "orientation": "h",
         "showlegend": true,
         "textposition": "auto",
         "type": "bar",
         "x": [
          1.49
         ],
         "xaxis": "x",
         "y": [
          "Trondheim Airport"
         ],
         "yaxis": "y"
        },
        {
         "alignmentgroup": "True",
         "hovertemplate": "Airport=%{y}<br>Change 2016-2015-%=%{x}<extra></extra>",
         "legendgroup": "Bari Airport",
         "marker": {
          "color": "#EF553B",
          "pattern": {
           "shape": ""
          }
         },
         "name": "Bari Airport",
         "offsetgroup": "Bari Airport",
         "orientation": "h",
         "showlegend": true,
         "textposition": "auto",
         "type": "bar",
         "x": [
          8.83
         ],
         "xaxis": "x",
         "y": [
          "Bari Airport"
         ],
         "yaxis": "y"
        },
        {
         "alignmentgroup": "True",
         "hovertemplate": "Airport=%{y}<br>Change 2016-2015-%=%{x}<extra></extra>",
         "legendgroup": "Stavanger Airport",
         "marker": {
          "color": "#00cc96",
          "pattern": {
           "shape": ""
          }
         },
         "name": "Stavanger Airport",
         "offsetgroup": "Stavanger Airport",
         "orientation": "h",
         "showlegend": true,
         "textposition": "auto",
         "type": "bar",
         "x": [
          -6.8
         ],
         "xaxis": "x",
         "y": [
          "Stavanger Airport"
         ],
         "yaxis": "y"
        },
        {
         "alignmentgroup": "True",
         "hovertemplate": "Airport=%{y}<br>Change 2016-2015-%=%{x}<extra></extra>",
         "legendgroup": "Gdańsk Lech Wałęsa Airport",
         "marker": {
          "color": "#ab63fa",
          "pattern": {
           "shape": ""
          }
         },
         "name": "Gdańsk Lech Wałęsa Airport",
         "offsetgroup": "Gdańsk Lech Wałęsa Airport",
         "orientation": "h",
         "showlegend": true,
         "textposition": "auto",
         "type": "bar",
         "x": [
          8.04
         ],
         "xaxis": "x",
         "y": [
          "Gdańsk Lech Wałęsa Airport"
         ],
         "yaxis": "y"
        },
        {
         "alignmentgroup": "True",
         "hovertemplate": "Airport=%{y}<br>Change 2016-2015-%=%{x}<extra></extra>",
         "legendgroup": "Beauvais Airport",
         "marker": {
          "color": "#FFA15A",
          "pattern": {
           "shape": ""
          }
         },
         "name": "Beauvais Airport",
         "offsetgroup": "Beauvais Airport",
         "orientation": "h",
         "showlegend": true,
         "textposition": "auto",
         "type": "bar",
         "x": [
          -7.67
         ],
         "xaxis": "x",
         "y": [
          "Beauvais Airport"
         ],
         "yaxis": "y"
        },
        {
         "alignmentgroup": "True",
         "hovertemplate": "Airport=%{y}<br>Change 2016-2015-%=%{x}<extra></extra>",
         "legendgroup": "Turin Airport",
         "marker": {
          "color": "#19d3f3",
          "pattern": {
           "shape": ""
          }
         },
         "name": "Turin Airport",
         "offsetgroup": "Turin Airport",
         "orientation": "h",
         "showlegend": true,
         "textposition": "auto",
         "type": "bar",
         "x": [
          7.76
         ],
         "xaxis": "x",
         "y": [
          "Turin Airport"
         ],
         "yaxis": "y"
        },
        {
         "alignmentgroup": "True",
         "hovertemplate": "Airport=%{y}<br>Change 2016-2015-%=%{x}<extra></extra>",
         "legendgroup": "Vilnius Airport",
         "marker": {
          "color": "#FF6692",
          "pattern": {
           "shape": ""
          }
         },
         "name": "Vilnius Airport",
         "offsetgroup": "Vilnius Airport",
         "orientation": "h",
         "showlegend": true,
         "textposition": "auto",
         "type": "bar",
         "x": [
          3.17
         ],
         "xaxis": "x",
         "y": [
          "Vilnius Airport"
         ],
         "yaxis": "y"
        },
        {
         "alignmentgroup": "True",
         "hovertemplate": "Airport=%{y}<br>Change 2016-2015-%=%{x}<extra></extra>",
         "legendgroup": "Cagliari Airport",
         "marker": {
          "color": "#B6E880",
          "pattern": {
           "shape": ""
          }
         },
         "name": "Cagliari Airport",
         "offsetgroup": "Cagliari Airport",
         "orientation": "h",
         "showlegend": true,
         "textposition": "auto",
         "type": "bar",
         "x": [
          -0.66
         ],
         "xaxis": "x",
         "y": [
          "Cagliari Airport"
         ],
         "yaxis": "y"
        },
        {
         "alignmentgroup": "True",
         "hovertemplate": "Airport=%{y}<br>Change 2016-2015-%=%{x}<extra></extra>",
         "legendgroup": "Leeds Bradford Airport",
         "marker": {
          "color": "#FF97FF",
          "pattern": {
           "shape": ""
          }
         },
         "name": "Leeds Bradford Airport",
         "offsetgroup": "Leeds Bradford Airport",
         "orientation": "h",
         "showlegend": true,
         "textposition": "auto",
         "type": "bar",
         "x": [
          4.79
         ],
         "xaxis": "x",
         "y": [
          "Leeds Bradford Airport"
         ],
         "yaxis": "y"
        },
        {
         "alignmentgroup": "True",
         "hovertemplate": "Airport=%{y}<br>Change 2016-2015-%=%{x}<extra></extra>",
         "legendgroup": "Nuremberg Airport",
         "marker": {
          "color": "#FECB52",
          "pattern": {
           "shape": ""
          }
         },
         "name": "Nuremberg Airport",
         "offsetgroup": "Nuremberg Airport",
         "orientation": "h",
         "showlegend": true,
         "textposition": "auto",
         "type": "bar",
         "x": [
          3.07
         ],
         "xaxis": "x",
         "y": [
          "Nuremberg Airport"
         ],
         "yaxis": "y"
        }
       ],
       "layout": {
        "barmode": "relative",
        "height": 600,
        "legend": {
         "title": {
          "text": "Airport"
         },
         "tracegroupgap": 0
        },
        "template": {
         "data": {
          "bar": [
           {
            "error_x": {
             "color": "#f2f5fa"
            },
            "error_y": {
             "color": "#f2f5fa"
            },
            "marker": {
             "line": {
              "color": "rgb(17,17,17)",
              "width": 0.5
             },
             "pattern": {
              "fillmode": "overlay",
              "size": 10,
              "solidity": 0.2
             }
            },
            "type": "bar"
           }
          ],
          "barpolar": [
           {
            "marker": {
             "line": {
              "color": "rgb(17,17,17)",
              "width": 0.5
             },
             "pattern": {
              "fillmode": "overlay",
              "size": 10,
              "solidity": 0.2
             }
            },
            "type": "barpolar"
           }
          ],
          "carpet": [
           {
            "aaxis": {
             "endlinecolor": "#A2B1C6",
             "gridcolor": "#506784",
             "linecolor": "#506784",
             "minorgridcolor": "#506784",
             "startlinecolor": "#A2B1C6"
            },
            "baxis": {
             "endlinecolor": "#A2B1C6",
             "gridcolor": "#506784",
             "linecolor": "#506784",
             "minorgridcolor": "#506784",
             "startlinecolor": "#A2B1C6"
            },
            "type": "carpet"
           }
          ],
          "choropleth": [
           {
            "colorbar": {
             "outlinewidth": 0,
             "ticks": ""
            },
            "type": "choropleth"
           }
          ],
          "contour": [
           {
            "colorbar": {
             "outlinewidth": 0,
             "ticks": ""
            },
            "colorscale": [
             [
              0,
              "#0d0887"
             ],
             [
              0.1111111111111111,
              "#46039f"
             ],
             [
              0.2222222222222222,
              "#7201a8"
             ],
             [
              0.3333333333333333,
              "#9c179e"
             ],
             [
              0.4444444444444444,
              "#bd3786"
             ],
             [
              0.5555555555555556,
              "#d8576b"
             ],
             [
              0.6666666666666666,
              "#ed7953"
             ],
             [
              0.7777777777777778,
              "#fb9f3a"
             ],
             [
              0.8888888888888888,
              "#fdca26"
             ],
             [
              1,
              "#f0f921"
             ]
            ],
            "type": "contour"
           }
          ],
          "contourcarpet": [
           {
            "colorbar": {
             "outlinewidth": 0,
             "ticks": ""
            },
            "type": "contourcarpet"
           }
          ],
          "heatmap": [
           {
            "colorbar": {
             "outlinewidth": 0,
             "ticks": ""
            },
            "colorscale": [
             [
              0,
              "#0d0887"
             ],
             [
              0.1111111111111111,
              "#46039f"
             ],
             [
              0.2222222222222222,
              "#7201a8"
             ],
             [
              0.3333333333333333,
              "#9c179e"
             ],
             [
              0.4444444444444444,
              "#bd3786"
             ],
             [
              0.5555555555555556,
              "#d8576b"
             ],
             [
              0.6666666666666666,
              "#ed7953"
             ],
             [
              0.7777777777777778,
              "#fb9f3a"
             ],
             [
              0.8888888888888888,
              "#fdca26"
             ],
             [
              1,
              "#f0f921"
             ]
            ],
            "type": "heatmap"
           }
          ],
          "heatmapgl": [
           {
            "colorbar": {
             "outlinewidth": 0,
             "ticks": ""
            },
            "colorscale": [
             [
              0,
              "#0d0887"
             ],
             [
              0.1111111111111111,
              "#46039f"
             ],
             [
              0.2222222222222222,
              "#7201a8"
             ],
             [
              0.3333333333333333,
              "#9c179e"
             ],
             [
              0.4444444444444444,
              "#bd3786"
             ],
             [
              0.5555555555555556,
              "#d8576b"
             ],
             [
              0.6666666666666666,
              "#ed7953"
             ],
             [
              0.7777777777777778,
              "#fb9f3a"
             ],
             [
              0.8888888888888888,
              "#fdca26"
             ],
             [
              1,
              "#f0f921"
             ]
            ],
            "type": "heatmapgl"
           }
          ],
          "histogram": [
           {
            "marker": {
             "pattern": {
              "fillmode": "overlay",
              "size": 10,
              "solidity": 0.2
             }
            },
            "type": "histogram"
           }
          ],
          "histogram2d": [
           {
            "colorbar": {
             "outlinewidth": 0,
             "ticks": ""
            },
            "colorscale": [
             [
              0,
              "#0d0887"
             ],
             [
              0.1111111111111111,
              "#46039f"
             ],
             [
              0.2222222222222222,
              "#7201a8"
             ],
             [
              0.3333333333333333,
              "#9c179e"
             ],
             [
              0.4444444444444444,
              "#bd3786"
             ],
             [
              0.5555555555555556,
              "#d8576b"
             ],
             [
              0.6666666666666666,
              "#ed7953"
             ],
             [
              0.7777777777777778,
              "#fb9f3a"
             ],
             [
              0.8888888888888888,
              "#fdca26"
             ],
             [
              1,
              "#f0f921"
             ]
            ],
            "type": "histogram2d"
           }
          ],
          "histogram2dcontour": [
           {
            "colorbar": {
             "outlinewidth": 0,
             "ticks": ""
            },
            "colorscale": [
             [
              0,
              "#0d0887"
             ],
             [
              0.1111111111111111,
              "#46039f"
             ],
             [
              0.2222222222222222,
              "#7201a8"
             ],
             [
              0.3333333333333333,
              "#9c179e"
             ],
             [
              0.4444444444444444,
              "#bd3786"
             ],
             [
              0.5555555555555556,
              "#d8576b"
             ],
             [
              0.6666666666666666,
              "#ed7953"
             ],
             [
              0.7777777777777778,
              "#fb9f3a"
             ],
             [
              0.8888888888888888,
              "#fdca26"
             ],
             [
              1,
              "#f0f921"
             ]
            ],
            "type": "histogram2dcontour"
           }
          ],
          "mesh3d": [
           {
            "colorbar": {
             "outlinewidth": 0,
             "ticks": ""
            },
            "type": "mesh3d"
           }
          ],
          "parcoords": [
           {
            "line": {
             "colorbar": {
              "outlinewidth": 0,
              "ticks": ""
             }
            },
            "type": "parcoords"
           }
          ],
          "pie": [
           {
            "automargin": true,
            "type": "pie"
           }
          ],
          "scatter": [
           {
            "marker": {
             "line": {
              "color": "#283442"
             }
            },
            "type": "scatter"
           }
          ],
          "scatter3d": [
           {
            "line": {
             "colorbar": {
              "outlinewidth": 0,
              "ticks": ""
             }
            },
            "marker": {
             "colorbar": {
              "outlinewidth": 0,
              "ticks": ""
             }
            },
            "type": "scatter3d"
           }
          ],
          "scattercarpet": [
           {
            "marker": {
             "colorbar": {
              "outlinewidth": 0,
              "ticks": ""
             }
            },
            "type": "scattercarpet"
           }
          ],
          "scattergeo": [
           {
            "marker": {
             "colorbar": {
              "outlinewidth": 0,
              "ticks": ""
             }
            },
            "type": "scattergeo"
           }
          ],
          "scattergl": [
           {
            "marker": {
             "line": {
              "color": "#283442"
             }
            },
            "type": "scattergl"
           }
          ],
          "scattermapbox": [
           {
            "marker": {
             "colorbar": {
              "outlinewidth": 0,
              "ticks": ""
             }
            },
            "type": "scattermapbox"
           }
          ],
          "scatterpolar": [
           {
            "marker": {
             "colorbar": {
              "outlinewidth": 0,
              "ticks": ""
             }
            },
            "type": "scatterpolar"
           }
          ],
          "scatterpolargl": [
           {
            "marker": {
             "colorbar": {
              "outlinewidth": 0,
              "ticks": ""
             }
            },
            "type": "scatterpolargl"
           }
          ],
          "scatterternary": [
           {
            "marker": {
             "colorbar": {
              "outlinewidth": 0,
              "ticks": ""
             }
            },
            "type": "scatterternary"
           }
          ],
          "surface": [
           {
            "colorbar": {
             "outlinewidth": 0,
             "ticks": ""
            },
            "colorscale": [
             [
              0,
              "#0d0887"
             ],
             [
              0.1111111111111111,
              "#46039f"
             ],
             [
              0.2222222222222222,
              "#7201a8"
             ],
             [
              0.3333333333333333,
              "#9c179e"
             ],
             [
              0.4444444444444444,
              "#bd3786"
             ],
             [
              0.5555555555555556,
              "#d8576b"
             ],
             [
              0.6666666666666666,
              "#ed7953"
             ],
             [
              0.7777777777777778,
              "#fb9f3a"
             ],
             [
              0.8888888888888888,
              "#fdca26"
             ],
             [
              1,
              "#f0f921"
             ]
            ],
            "type": "surface"
           }
          ],
          "table": [
           {
            "cells": {
             "fill": {
              "color": "#506784"
             },
             "line": {
              "color": "rgb(17,17,17)"
             }
            },
            "header": {
             "fill": {
              "color": "#2a3f5f"
             },
             "line": {
              "color": "rgb(17,17,17)"
             }
            },
            "type": "table"
           }
          ]
         },
         "layout": {
          "annotationdefaults": {
           "arrowcolor": "#f2f5fa",
           "arrowhead": 0,
           "arrowwidth": 1
          },
          "autotypenumbers": "strict",
          "coloraxis": {
           "colorbar": {
            "outlinewidth": 0,
            "ticks": ""
           }
          },
          "colorscale": {
           "diverging": [
            [
             0,
             "#8e0152"
            ],
            [
             0.1,
             "#c51b7d"
            ],
            [
             0.2,
             "#de77ae"
            ],
            [
             0.3,
             "#f1b6da"
            ],
            [
             0.4,
             "#fde0ef"
            ],
            [
             0.5,
             "#f7f7f7"
            ],
            [
             0.6,
             "#e6f5d0"
            ],
            [
             0.7,
             "#b8e186"
            ],
            [
             0.8,
             "#7fbc41"
            ],
            [
             0.9,
             "#4d9221"
            ],
            [
             1,
             "#276419"
            ]
           ],
           "sequential": [
            [
             0,
             "#0d0887"
            ],
            [
             0.1111111111111111,
             "#46039f"
            ],
            [
             0.2222222222222222,
             "#7201a8"
            ],
            [
             0.3333333333333333,
             "#9c179e"
            ],
            [
             0.4444444444444444,
             "#bd3786"
            ],
            [
             0.5555555555555556,
             "#d8576b"
            ],
            [
             0.6666666666666666,
             "#ed7953"
            ],
            [
             0.7777777777777778,
             "#fb9f3a"
            ],
            [
             0.8888888888888888,
             "#fdca26"
            ],
            [
             1,
             "#f0f921"
            ]
           ],
           "sequentialminus": [
            [
             0,
             "#0d0887"
            ],
            [
             0.1111111111111111,
             "#46039f"
            ],
            [
             0.2222222222222222,
             "#7201a8"
            ],
            [
             0.3333333333333333,
             "#9c179e"
            ],
            [
             0.4444444444444444,
             "#bd3786"
            ],
            [
             0.5555555555555556,
             "#d8576b"
            ],
            [
             0.6666666666666666,
             "#ed7953"
            ],
            [
             0.7777777777777778,
             "#fb9f3a"
            ],
            [
             0.8888888888888888,
             "#fdca26"
            ],
            [
             1,
             "#f0f921"
            ]
           ]
          },
          "colorway": [
           "#636efa",
           "#EF553B",
           "#00cc96",
           "#ab63fa",
           "#FFA15A",
           "#19d3f3",
           "#FF6692",
           "#B6E880",
           "#FF97FF",
           "#FECB52"
          ],
          "font": {
           "color": "#f2f5fa"
          },
          "geo": {
           "bgcolor": "rgb(17,17,17)",
           "lakecolor": "rgb(17,17,17)",
           "landcolor": "rgb(17,17,17)",
           "showlakes": true,
           "showland": true,
           "subunitcolor": "#506784"
          },
          "hoverlabel": {
           "align": "left"
          },
          "hovermode": "closest",
          "mapbox": {
           "style": "dark"
          },
          "paper_bgcolor": "rgb(17,17,17)",
          "plot_bgcolor": "rgb(17,17,17)",
          "polar": {
           "angularaxis": {
            "gridcolor": "#506784",
            "linecolor": "#506784",
            "ticks": ""
           },
           "bgcolor": "rgb(17,17,17)",
           "radialaxis": {
            "gridcolor": "#506784",
            "linecolor": "#506784",
            "ticks": ""
           }
          },
          "scene": {
           "xaxis": {
            "backgroundcolor": "rgb(17,17,17)",
            "gridcolor": "#506784",
            "gridwidth": 2,
            "linecolor": "#506784",
            "showbackground": true,
            "ticks": "",
            "zerolinecolor": "#C8D4E3"
           },
           "yaxis": {
            "backgroundcolor": "rgb(17,17,17)",
            "gridcolor": "#506784",
            "gridwidth": 2,
            "linecolor": "#506784",
            "showbackground": true,
            "ticks": "",
            "zerolinecolor": "#C8D4E3"
           },
           "zaxis": {
            "backgroundcolor": "rgb(17,17,17)",
            "gridcolor": "#506784",
            "gridwidth": 2,
            "linecolor": "#506784",
            "showbackground": true,
            "ticks": "",
            "zerolinecolor": "#C8D4E3"
           }
          },
          "shapedefaults": {
           "line": {
            "color": "#f2f5fa"
           }
          },
          "sliderdefaults": {
           "bgcolor": "#C8D4E3",
           "bordercolor": "rgb(17,17,17)",
           "borderwidth": 1,
           "tickwidth": 0
          },
          "ternary": {
           "aaxis": {
            "gridcolor": "#506784",
            "linecolor": "#506784",
            "ticks": ""
           },
           "baxis": {
            "gridcolor": "#506784",
            "linecolor": "#506784",
            "ticks": ""
           },
           "bgcolor": "rgb(17,17,17)",
           "caxis": {
            "gridcolor": "#506784",
            "linecolor": "#506784",
            "ticks": ""
           }
          },
          "title": {
           "x": 0.05
          },
          "updatemenudefaults": {
           "bgcolor": "#506784",
           "borderwidth": 0
          },
          "xaxis": {
           "automargin": true,
           "gridcolor": "#283442",
           "linecolor": "#506784",
           "ticks": "",
           "title": {
            "standoff": 15
           },
           "zerolinecolor": "#283442",
           "zerolinewidth": 2
          },
          "yaxis": {
           "automargin": true,
           "gridcolor": "#283442",
           "linecolor": "#506784",
           "ticks": "",
           "title": {
            "standoff": 15
           },
           "zerolinecolor": "#283442",
           "zerolinewidth": 2
          }
         }
        },
        "title": {
         "text": "Cambio porcentual entre 2015 y 2016"
        },
        "xaxis": {
         "anchor": "y",
         "domain": [
          0,
          1
         ],
         "title": {
          "text": "Change 2016-2015-%"
         }
        },
        "yaxis": {
         "anchor": "x",
         "categoryarray": [
          "Nuremberg Airport",
          "Leeds Bradford Airport",
          "Cagliari Airport",
          "Vilnius Airport",
          "Turin Airport",
          "Beauvais Airport",
          "Gdańsk Lech Wałęsa Airport",
          "Stavanger Airport",
          "Bari Airport",
          "Trondheim Airport",
          "London City Airport",
          "Bilbao Airport",
          "San Pablo Airport",
          "East Midlands Airport",
          "Liverpool John Lennon Airport",
          "Nantes Atlantique Airport",
          "Eindhoven Airport",
          "Newcastle Airport",
          "Belgrade Nikola Tesla Airport",
          "Rhodes International Airport",
          "Sofia Airport",
          "John Paul II International Airport Kraków–Balice",
          "Galileo Galilei Airport",
          "Malta International Airport",
          "Belfast International Airport",
          "Simferopol International Airport",
          "Falcone–Borsellino Airport",
          "Rome Ciampino Airport",
          "Riga International Airport",
          "Langenhagen Airport",
          "Thessaloniki International Airport, \"Macedonia\"",
          "Bordeaux – Mérignac Airport",
          "Valencia Airport",
          "Bergen Airport, Flesland",
          "Göteborg Landvetter Airport",
          "Heraklion International Airport",
          "Naples Airport",
          "Keflavík International Airport",
          "Brussels South Charleroi Airport",
          "EuroAirport Basel Mulhouse Freiburg",
          "Ibiza Airport",
          "Bristol Airport",
          "Faro Airport",
          "Bologna Guglielmo Marconi Airport",
          "Catania-Fontanarossa Airport",
          "Toulouse–Blagnac Airport",
          "Marseille Provence Airport",
          "Boryspil International Airport",
          "Glasgow Airport",
          "Porto Airport",
          "Lyon–Saint-Exupéry Airport",
          "Venice Marco Polo Airport",
          "Linate Airport",
          "Stuttgart Airport",
          "Henri Coandă International Airport",
          "Orio al Serio International Airport",
          "Budapest Ferenc Liszt International Airport",
          "Birmingham Airport",
          "Berlin Schönefeld Airport",
          "Cologne Bonn Airport",
          "Alicante Airport",
          "Edinburgh Airport",
          "Nice Côte d'Azur Airport",
          "Warsaw Chopin Airport",
          "Václav Havel Airport Prague",
          "Pulkovo Airport",
          "Vnukovo International Airport",
          "Luton Airport",
          "Hamburg Airport",
          "Geneva Airport",
          "Málaga Airport",
          "Helsinki Airport",
          "Malpensa Airport",
          "Athens International Airport",
          "Berlin Tegel Airport",
          "Brussels Airport",
          "Lisbon Airport",
          "Vienna International Airport",
          "Düsseldorf Airport",
          "London Stansted Airport",
          "Stockholm Arlanda Airport",
          "Manchester Airport",
          "Oslo Airport",
          "Palma de Mallorca Airport",
          "Zurich Airport",
          "Dublin Airport",
          "Domodedovo International Airport",
          "Copenhagen Airport",
          "Orly Airport",
          "Sheremetyevo International Airport",
          "Leonardo da Vinci–Fiumicino Airport",
          "Munich Airport",
          "Gatwick Airport",
          "Barcelona–El Prat Josep Tarradellas Airport",
          "Adolfo Suárez Madrid–Barajas Airport",
          "Istanbul Atatürk Airport",
          "Frankfurt Airport",
          "Amsterdam Airport Schiphol",
          "Charles de Gaulle Airport",
          "Heathrow Airport"
         ],
         "categoryorder": "array",
         "domain": [
          0,
          1
         ],
         "title": {
          "text": "Airport"
         }
        }
       }
      }
     },
     "metadata": {},
     "output_type": "display_data"
    }
   ],
   "source": [
    "px.bar(df, y=\"Airport\", x=\"Change 2016-2015-%\", template=\"plotly_dark\", title=\"Cambio porcentual entre 2015 y 2016\", color=\"Airport\", orientation=\"h\", height=600)"
   ]
  },
  {
   "cell_type": "code",
   "execution_count": 80,
   "metadata": {},
   "outputs": [],
   "source": [
    "fig=px.bar(df, y=\"Airport\", x=\"Change 2016-2015-%\", template=\"plotly_dark\", title=\"Cambio porcentual entre 2015 y 2016\", color=\"Airport\", orientation=\"h\", height=600)\n",
    "fig.write_html(\"Cambio porcentual entre 2015 y 2016.html\")"
   ]
  },
  {
   "cell_type": "markdown",
   "metadata": {},
   "source": []
  }
 ],
 "metadata": {
  "kernelspec": {
   "display_name": "Python 3",
   "language": "python",
   "name": "python3"
  },
  "language_info": {
   "codemirror_mode": {
    "name": "ipython",
    "version": 3
   },
   "file_extension": ".py",
   "mimetype": "text/x-python",
   "name": "python",
   "nbconvert_exporter": "python",
   "pygments_lexer": "ipython3",
   "version": "3.10.10"
  }
 },
 "nbformat": 4,
 "nbformat_minor": 2
}
